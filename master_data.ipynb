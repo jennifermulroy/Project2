{
 "cells": [
  {
   "cell_type": "code",
   "execution_count": 162,
   "metadata": {},
   "outputs": [],
   "source": [
    "##################################\n",
    "# IMPORTING BASE AND API LIBRARIES\n",
    "##################################\n",
    "from collections import Counter\n",
    "import pandas as pd\n",
    "from pandas import read_csv\n",
    "import pandas_datareader as pdr\n",
    "import datetime\n",
    "# from pandas.tools.plotting import scatter_matrix\n",
    "import numpy as np\n",
    "from numpy import set_printoptions\n",
    "import seaborn as sns\n",
    "from matplotlib import pyplot\n",
    "from pathlib import Path\n",
    "\n",
    "# Import the main functionality from the SimFin Python API.\n",
    "import simfin as sf\n",
    "# Import names used for easy access to SimFin's data-columns.\n",
    "from simfin.names import *\n",
    "\n",
    "# import warnings filter\n",
    "from warnings import simplefilter\n",
    "# ignore all future warnings\n",
    "simplefilter(action='ignore', category=FutureWarning)"
   ]
  },
  {
   "cell_type": "code",
   "execution_count": 163,
   "metadata": {},
   "outputs": [],
   "source": [
    "##############################\n",
    "# IMPORTING MODELING LIBRARIES\n",
    "##############################\n",
    "from sklearn import utils\n",
    "from sklearn import preprocessing\n",
    "from scipy.stats import uniform\n",
    "\n",
    "# Pre-processing\n",
    "from sklearn.preprocessing import MinMaxScaler\n",
    "from sklearn.preprocessing import StandardScaler\n",
    "from sklearn.preprocessing import Normalizer\n",
    "from sklearn.preprocessing import Binarizer\n",
    "\n",
    "# Feature selection\n",
    "from sklearn.feature_selection import SelectKBest\n",
    "from sklearn.feature_selection import chi2\n",
    "from sklearn.decomposition import PCA\n",
    "from sklearn.ensemble import ExtraTreesClassifier\n",
    "\n",
    "# Resample, model eval, & metrics and enhancements \n",
    "from sklearn.model_selection import train_test_split\n",
    "from sklearn.model_selection import KFold\n",
    "from sklearn.model_selection import LeaveOneOut\n",
    "from sklearn.model_selection import ShuffleSplit\n",
    "from sklearn.model_selection import cross_val_score\n",
    "from sklearn.metrics import classification_report\n",
    "from sklearn.metrics import confusion_matrix\n",
    "from sklearn.metrics import accuracy_score\n",
    "from imblearn.over_sampling import SMOTE\n",
    "from imblearn.under_sampling import ClusterCentroids\n",
    "from imblearn.metrics import classification_report_imbalanced\n",
    "from imblearn.combine import SMOTEENN\n",
    "from imblearn.metrics import classification_report_imbalanced\n",
    "from imblearn.ensemble import BalancedRandomForestClassifier\n",
    "from sklearn.metrics import precision_recall_curve\n",
    "\n",
    "# Regression models\n",
    "from sklearn.linear_model import LinearRegression, Ridge, Lasso, ElasticNet\n",
    "from sklearn.neighbors import KNeighborsRegressor\n",
    "from sklearn.tree import DecisionTreeRegressor\n",
    "from sklearn.svm import SVR\n",
    "\n",
    "# Classification models\n",
    "from sklearn.linear_model import LogisticRegression\n",
    "from sklearn.tree import DecisionTreeClassifier\n",
    "from sklearn.neighbors import KNeighborsClassifier\n",
    "from sklearn.discriminant_analysis import LinearDiscriminantAnalysis\n",
    "from sklearn.naive_bayes import GaussianNB\n",
    "from sklearn.svm import SVC\n",
    "\n",
    "# Ensemble for further improvements\n",
    "from sklearn.ensemble import BaggingClassifier\n",
    "from sklearn.ensemble import RandomForestClassifier\n",
    "from sklearn.ensemble import ExtraTreesClassifier\n",
    "from sklearn.ensemble import AdaBoostClassifier\n",
    "from sklearn.ensemble import GradientBoostingClassifier\n",
    "from sklearn.ensemble import VotingClassifier\n",
    "\n",
    "# Performance tuning\n",
    "from sklearn.model_selection import GridSearchCV\n",
    "from sklearn.model_selection import RandomizedSearchCV\n",
    "\n",
    "# Pipeline\n",
    "from sklearn.pipeline import Pipeline\n",
    "from sklearn.pipeline import FeatureUnion\n",
    "\n",
    "# Finalize model with Pickle and joblib\n",
    "from pickle import dump\n",
    "from pickle import load\n",
    "from sklearn.externals.joblib import dump\n",
    "from sklearn.externals.joblib import load"
   ]
  },
  {
   "cell_type": "markdown",
   "metadata": {},
   "source": [
    "# Getting SimFin data"
   ]
  },
  {
   "cell_type": "code",
   "execution_count": 164,
   "metadata": {},
   "outputs": [
    {
     "data": {
      "text/plain": [
       "'0.3.0'"
      ]
     },
     "execution_count": 164,
     "metadata": {},
     "output_type": "execute_result"
    }
   ],
   "source": [
    "sf.__version__"
   ]
  },
  {
   "cell_type": "code",
   "execution_count": 165,
   "metadata": {},
   "outputs": [],
   "source": [
    "data_path = r'C:\\Users\\Roland.Ferrao\\Desktop\\Data'\n",
    "sf.set_data_dir(data_path)"
   ]
  },
  {
   "cell_type": "code",
   "execution_count": 166,
   "metadata": {},
   "outputs": [],
   "source": [
    "sf.load_api_key(default_key='free')"
   ]
  },
  {
   "cell_type": "code",
   "execution_count": 167,
   "metadata": {},
   "outputs": [],
   "source": [
    "sns.set_style(\"whitegrid\")"
   ]
  },
  {
   "cell_type": "code",
   "execution_count": 168,
   "metadata": {},
   "outputs": [
    {
     "name": "stdout",
     "output_type": "stream",
     "text": [
      "Dataset \"us-income-ttm\" not on disk.\n",
      "- Downloading ... 100.0%\n",
      "- Extracting zip-file ... Done!\n",
      "- Loading from disk ... Done!\n",
      "Dataset \"us-income-quarterly\" not on disk.\n",
      "- Downloading ... 100.0%\n",
      "- Extracting zip-file ... Done!\n",
      "- Loading from disk ... Done!\n",
      "Dataset \"us-balance-ttm\" not on disk.\n",
      "- Downloading ... 100.0%\n",
      "- Extracting zip-file ... Done!\n",
      "- Loading from disk ... Done!\n",
      "Dataset \"us-cashflow-ttm\" not on disk.\n",
      "- Downloading ... 100.0%\n",
      "- Extracting zip-file ... Done!\n",
      "- Loading from disk ... Done!\n",
      "Dataset \"us-cashflow-quarterly\" not on disk.\n",
      "- Downloading ... 100.0%\n",
      "- Extracting zip-file ... Done!\n",
      "- Loading from disk ... Done!\n",
      "Dataset \"us-shareprices-daily\" not on disk.\n",
      "- Downloading ... 100.0%\n",
      "- Extracting zip-file ... Done!\n",
      "- Loading from disk ... Done!\n",
      "Dataset \"us-shareprices-latest\" not on disk.\n",
      "- Downloading ... 100.0%\n",
      "- Extracting zip-file ... Done!\n",
      "- Loading from disk ... Done!\n",
      "Wall time: 1min 20s\n"
     ]
    }
   ],
   "source": [
    "%%time\n",
    "# Data for USA.\n",
    "market = 'us'\n",
    "\n",
    "# TTM Income Statements.\n",
    "df_income_ttm = sf.load_income(variant='ttm', market=market)\n",
    "\n",
    "# Quarterly Income Statements.\n",
    "df_income_qrt = sf.load_income(variant='quarterly', market=market)\n",
    "\n",
    "# TTM Balance Sheets.\n",
    "df_balance_ttm = sf.load_balance(variant='ttm', market=market)\n",
    "\n",
    "# TTM Cash-Flow Statements.\n",
    "df_cashflow_ttm = sf.load_cashflow(variant='ttm', market=market)\n",
    "\n",
    "# Quarterly Cash-Flow Statements.\n",
    "df_cashflow_qrt = sf.load_cashflow(variant='quarterly', market=market)\n",
    "\n",
    "# Latest Share-Prices.\n",
    "# Use refresh_days=0 to always download the latest share-prices.\n",
    "df_prices = sf.load_shareprices(variant='daily', market=market)\n",
    "df_prices_latest = sf.load_shareprices(variant='latest', market=market,\n",
    "                                       refresh_days=30)"
   ]
  },
  {
   "cell_type": "code",
   "execution_count": 169,
   "metadata": {},
   "outputs": [],
   "source": [
    "tickers = ['MSFT','AAPL','V','MA','INTC','CSCO','ADBE','CRM','NVDA','ACN','AVGO','PYPL','ORCL','IBM','TXN','QCOM','FIS','ADP','INTU','FISV','GPN','AMAT','MU','NOW','ADI','AMD','ADSK','LRCX','CTSH','APH','TEL','HPQ','PAYX','MSI','FLT','KLAC','MCHP','XLNX','GLW','ANSS','HPE','SNPS','VRSN','CDW','KEYS','CDNS','SWKS','MXIM','FTNT','NLOK','NTAP','WDC','IT','AKAM','BR','CTXS','STX','QRVO','LDOS','JKHY','WU','ANET','DXC','JNPR','FFIV','FLIR','XRX','IPGP','ADS']\n",
    "\n",
    "df_income_qrt = df_income_qrt.loc[tickers].copy()\n",
    "df_income_ttm = df_income_ttm.loc[tickers].copy()\n",
    "df_balance_ttm = df_balance_ttm.loc[tickers].copy()\n",
    "df_cashflow_ttm = df_cashflow_ttm.loc[tickers].copy()\n",
    "df_cashflow_qrt = df_cashflow_qrt.loc[tickers].copy()\n",
    "# df_prices_latest = df_prices_latest.loc[tickers].copy()"
   ]
  },
  {
   "cell_type": "code",
   "execution_count": 170,
   "metadata": {},
   "outputs": [],
   "source": [
    "# df_prices_latest.tail()"
   ]
  },
  {
   "cell_type": "code",
   "execution_count": 171,
   "metadata": {},
   "outputs": [],
   "source": [
    "# Getting signals for last day of every year\n",
    "df_price_list = []\n",
    "df_fin_signals_list = []\n",
    "df_growth_signals_list = []\n",
    "df_val_signals_list = []\n",
    "\n",
    "# setting the price and signals data frames (not including latest year)\n",
    "shareprice_last_dates = [\"2011-12-30\", \"2012-12-31\", \"2013-12-31\", \"2014-12-31\", \"2015-12-31\",\"2016-12-30\", \"2017-12-29\", \"2018-12-31\"]\n",
    "\n",
    "for i in range(len(shareprice_last_dates)):\n",
    "    df_price_list.append(df_prices.loc[(df_prices.index.get_level_values('Date') == shareprice_last_dates[i])])\n",
    "    df_fin_signals_list.append(sf.fin_signals(df_prices=df_price_list[i],\n",
    "                                              df_income_ttm=df_income_ttm,\n",
    "                                              df_balance_ttm=df_balance_ttm,\n",
    "                                              fill_method='ffill'))\n",
    "    df_growth_signals_list.append(sf.growth_signals(df_prices=df_price_list[i],\n",
    "                                                    df_income_ttm=df_income_ttm,\n",
    "                                                    df_income_qrt=df_income_qrt,\n",
    "                                                    df_cashflow_ttm=df_cashflow_ttm,\n",
    "                                                    df_cashflow_qrt=df_cashflow_qrt,\n",
    "                                                    fill_method='ffill'))\n",
    "    df_val_signals_list.append(sf.val_signals(df_prices=df_price_list[i],\n",
    "                                              df_income_ttm=df_income_ttm,\n",
    "                                              df_balance_ttm=df_balance_ttm,\n",
    "                                              df_cashflow_ttm=df_cashflow_ttm,\n",
    "                                              fill_method='ffill'))"
   ]
  },
  {
   "cell_type": "code",
   "execution_count": 172,
   "metadata": {},
   "outputs": [],
   "source": [
    "# Latest year signals\n",
    "df_fin_signals = \\\n",
    "    sf.fin_signals(df_prices=df_prices_latest,\n",
    "                   df_income_ttm=df_income_ttm,\n",
    "                   df_balance_ttm=df_balance_ttm,\n",
    "                   fill_method='ffill')\n",
    "\n",
    "df_growth_signals = \\\n",
    "    sf.growth_signals(df_prices=df_prices_latest,\n",
    "                      df_income_ttm=df_income_ttm,\n",
    "                      df_income_qrt=df_income_qrt,\n",
    "                      df_cashflow_ttm=df_cashflow_ttm,\n",
    "                      df_cashflow_qrt=df_cashflow_qrt,\n",
    "                      fill_method='ffill')\n",
    "\n",
    "df_val_signals = \\\n",
    "    sf.val_signals(df_prices=df_prices_latest,\n",
    "                   df_income_ttm=df_income_ttm,\n",
    "                   df_balance_ttm=df_balance_ttm,\n",
    "                   df_cashflow_ttm=df_cashflow_ttm,\n",
    "                   fill_method='ffill')"
   ]
  },
  {
   "cell_type": "code",
   "execution_count": 173,
   "metadata": {
    "scrolled": true
   },
   "outputs": [
    {
     "name": "stdout",
     "output_type": "stream",
     "text": [
      "Signals\n"
     ]
    },
    {
     "data": {
      "text/plain": [
       "(66, 25)"
      ]
     },
     "execution_count": 173,
     "metadata": {},
     "output_type": "execute_result"
    }
   ],
   "source": [
    "# Combine the DataFrames (for latest)\n",
    "dfs = [df_fin_signals, df_growth_signals, df_val_signals]\n",
    "df_signals = pd.concat(dfs, axis=1)\n",
    "df_signals = df_signals.loc[tickers].copy()\n",
    "# Show the result.\n",
    "print(\"Signals\")\n",
    "df_signals.shape"
   ]
  },
  {
   "cell_type": "code",
   "execution_count": 174,
   "metadata": {},
   "outputs": [
    {
     "data": {
      "text/html": [
       "<div>\n",
       "<style scoped>\n",
       "    .dataframe tbody tr th:only-of-type {\n",
       "        vertical-align: middle;\n",
       "    }\n",
       "\n",
       "    .dataframe tbody tr th {\n",
       "        vertical-align: top;\n",
       "    }\n",
       "\n",
       "    .dataframe thead th {\n",
       "        text-align: right;\n",
       "    }\n",
       "</style>\n",
       "<table border=\"1\" class=\"dataframe\">\n",
       "  <thead>\n",
       "    <tr style=\"text-align: right;\">\n",
       "      <th></th>\n",
       "      <th></th>\n",
       "      <th>Current Ratio</th>\n",
       "      <th>Debt Ratio</th>\n",
       "      <th>Gross Profit Margin</th>\n",
       "      <th>Net Profit Margin</th>\n",
       "      <th>Return on Assets</th>\n",
       "      <th>Return on Equity</th>\n",
       "      <th>Earnings Growth</th>\n",
       "      <th>Earnings Growth QOQ</th>\n",
       "      <th>Earnings Growth YOY</th>\n",
       "      <th>FCF Growth</th>\n",
       "      <th>...</th>\n",
       "      <th>Dividend Yield</th>\n",
       "      <th>Earnings Yield</th>\n",
       "      <th>FCF Yield</th>\n",
       "      <th>Market-Cap</th>\n",
       "      <th>P/Book</th>\n",
       "      <th>P/E</th>\n",
       "      <th>P/FCF</th>\n",
       "      <th>P/NCAV</th>\n",
       "      <th>P/NetNet</th>\n",
       "      <th>P/Sales</th>\n",
       "    </tr>\n",
       "    <tr>\n",
       "      <th>Ticker</th>\n",
       "      <th>Date</th>\n",
       "      <th></th>\n",
       "      <th></th>\n",
       "      <th></th>\n",
       "      <th></th>\n",
       "      <th></th>\n",
       "      <th></th>\n",
       "      <th></th>\n",
       "      <th></th>\n",
       "      <th></th>\n",
       "      <th></th>\n",
       "      <th></th>\n",
       "      <th></th>\n",
       "      <th></th>\n",
       "      <th></th>\n",
       "      <th></th>\n",
       "      <th></th>\n",
       "      <th></th>\n",
       "      <th></th>\n",
       "      <th></th>\n",
       "      <th></th>\n",
       "      <th></th>\n",
       "    </tr>\n",
       "  </thead>\n",
       "  <tbody>\n",
       "    <tr>\n",
       "      <th>VRSN</th>\n",
       "      <th>2019-11-21</th>\n",
       "      <td>1.389877</td>\n",
       "      <td>0.932381</td>\n",
       "      <td>0.841861</td>\n",
       "      <td>0.479427</td>\n",
       "      <td>0.198045</td>\n",
       "      <td>-0.462193</td>\n",
       "      <td>0.273902</td>\n",
       "      <td>0.323322</td>\n",
       "      <td>0.771687</td>\n",
       "      <td>0.008291</td>\n",
       "      <td>...</td>\n",
       "      <td>NaN</td>\n",
       "      <td>0.025106</td>\n",
       "      <td>0.028390</td>\n",
       "      <td>2.320133e+10</td>\n",
       "      <td>-16.746130</td>\n",
       "      <td>39.831358</td>\n",
       "      <td>35.224082</td>\n",
       "      <td>-11.700445</td>\n",
       "      <td>-11.490243</td>\n",
       "      <td>19.096231</td>\n",
       "    </tr>\n",
       "    <tr>\n",
       "      <th>WDC</th>\n",
       "      <th>2019-11-21</th>\n",
       "      <td>2.220854</td>\n",
       "      <td>0.399014</td>\n",
       "      <td>0.226447</td>\n",
       "      <td>-0.045507</td>\n",
       "      <td>-0.025791</td>\n",
       "      <td>-0.065389</td>\n",
       "      <td>-2.117037</td>\n",
       "      <td>-0.660929</td>\n",
       "      <td>-1.260582</td>\n",
       "      <td>-0.767373</td>\n",
       "      <td>...</td>\n",
       "      <td>0.041806</td>\n",
       "      <td>-0.053976</td>\n",
       "      <td>0.056553</td>\n",
       "      <td>1.396928e+10</td>\n",
       "      <td>1.401553</td>\n",
       "      <td>-18.526897</td>\n",
       "      <td>17.682633</td>\n",
       "      <td>-1.762463</td>\n",
       "      <td>-1.342748</td>\n",
       "      <td>0.843097</td>\n",
       "    </tr>\n",
       "    <tr>\n",
       "      <th>WU</th>\n",
       "      <th>2019-11-21</th>\n",
       "      <td>0.170419</td>\n",
       "      <td>NaN</td>\n",
       "      <td>0.409506</td>\n",
       "      <td>0.152400</td>\n",
       "      <td>0.092283</td>\n",
       "      <td>-1.733618</td>\n",
       "      <td>-2.529169</td>\n",
       "      <td>0.016779</td>\n",
       "      <td>-1.189223</td>\n",
       "      <td>-0.136746</td>\n",
       "      <td>...</td>\n",
       "      <td>0.027820</td>\n",
       "      <td>0.069359</td>\n",
       "      <td>0.039267</td>\n",
       "      <td>1.228243e+10</td>\n",
       "      <td>-39.646327</td>\n",
       "      <td>14.417692</td>\n",
       "      <td>25.466374</td>\n",
       "      <td>-1.473915</td>\n",
       "      <td>-1.473915</td>\n",
       "      <td>2.197254</td>\n",
       "    </tr>\n",
       "    <tr>\n",
       "      <th>XLNX</th>\n",
       "      <th>2019-11-21</th>\n",
       "      <td>6.440925</td>\n",
       "      <td>0.321450</td>\n",
       "      <td>0.668651</td>\n",
       "      <td>0.287627</td>\n",
       "      <td>0.185031</td>\n",
       "      <td>0.389569</td>\n",
       "      <td>0.622200</td>\n",
       "      <td>-0.059911</td>\n",
       "      <td>0.052297</td>\n",
       "      <td>0.194007</td>\n",
       "      <td>...</td>\n",
       "      <td>0.015921</td>\n",
       "      <td>0.040990</td>\n",
       "      <td>0.043573</td>\n",
       "      <td>2.323637e+10</td>\n",
       "      <td>8.619135</td>\n",
       "      <td>24.396368</td>\n",
       "      <td>22.949954</td>\n",
       "      <td>24.878154</td>\n",
       "      <td>38.023640</td>\n",
       "      <td>7.017049</td>\n",
       "    </tr>\n",
       "    <tr>\n",
       "      <th>XRX</th>\n",
       "      <th>2019-11-21</th>\n",
       "      <td>1.444171</td>\n",
       "      <td>0.351620</td>\n",
       "      <td>0.412920</td>\n",
       "      <td>0.036724</td>\n",
       "      <td>0.022639</td>\n",
       "      <td>0.065553</td>\n",
       "      <td>0.851282</td>\n",
       "      <td>0.539326</td>\n",
       "      <td>-1.825301</td>\n",
       "      <td>-35.656250</td>\n",
       "      <td>...</td>\n",
       "      <td>0.029315</td>\n",
       "      <td>0.019644</td>\n",
       "      <td>-0.003224</td>\n",
       "      <td>9.926693e+09</td>\n",
       "      <td>1.802559</td>\n",
       "      <td>50.906119</td>\n",
       "      <td>-310.209166</td>\n",
       "      <td>-1.905681</td>\n",
       "      <td>-1.294097</td>\n",
       "      <td>0.967043</td>\n",
       "    </tr>\n",
       "  </tbody>\n",
       "</table>\n",
       "<p>5 rows × 25 columns</p>\n",
       "</div>"
      ],
      "text/plain": [
       "                   Current Ratio  Debt Ratio  Gross Profit Margin  \\\n",
       "Ticker Date                                                         \n",
       "VRSN   2019-11-21       1.389877    0.932381             0.841861   \n",
       "WDC    2019-11-21       2.220854    0.399014             0.226447   \n",
       "WU     2019-11-21       0.170419         NaN             0.409506   \n",
       "XLNX   2019-11-21       6.440925    0.321450             0.668651   \n",
       "XRX    2019-11-21       1.444171    0.351620             0.412920   \n",
       "\n",
       "                   Net Profit Margin  Return on Assets  Return on Equity  \\\n",
       "Ticker Date                                                                \n",
       "VRSN   2019-11-21           0.479427          0.198045         -0.462193   \n",
       "WDC    2019-11-21          -0.045507         -0.025791         -0.065389   \n",
       "WU     2019-11-21           0.152400          0.092283         -1.733618   \n",
       "XLNX   2019-11-21           0.287627          0.185031          0.389569   \n",
       "XRX    2019-11-21           0.036724          0.022639          0.065553   \n",
       "\n",
       "                   Earnings Growth  Earnings Growth QOQ  Earnings Growth YOY  \\\n",
       "Ticker Date                                                                    \n",
       "VRSN   2019-11-21         0.273902             0.323322             0.771687   \n",
       "WDC    2019-11-21        -2.117037            -0.660929            -1.260582   \n",
       "WU     2019-11-21        -2.529169             0.016779            -1.189223   \n",
       "XLNX   2019-11-21         0.622200            -0.059911             0.052297   \n",
       "XRX    2019-11-21         0.851282             0.539326            -1.825301   \n",
       "\n",
       "                   FCF Growth  ...  Dividend Yield  Earnings Yield  FCF Yield  \\\n",
       "Ticker Date                    ...                                              \n",
       "VRSN   2019-11-21    0.008291  ...             NaN        0.025106   0.028390   \n",
       "WDC    2019-11-21   -0.767373  ...        0.041806       -0.053976   0.056553   \n",
       "WU     2019-11-21   -0.136746  ...        0.027820        0.069359   0.039267   \n",
       "XLNX   2019-11-21    0.194007  ...        0.015921        0.040990   0.043573   \n",
       "XRX    2019-11-21  -35.656250  ...        0.029315        0.019644  -0.003224   \n",
       "\n",
       "                     Market-Cap     P/Book        P/E       P/FCF     P/NCAV  \\\n",
       "Ticker Date                                                                    \n",
       "VRSN   2019-11-21  2.320133e+10 -16.746130  39.831358   35.224082 -11.700445   \n",
       "WDC    2019-11-21  1.396928e+10   1.401553 -18.526897   17.682633  -1.762463   \n",
       "WU     2019-11-21  1.228243e+10 -39.646327  14.417692   25.466374  -1.473915   \n",
       "XLNX   2019-11-21  2.323637e+10   8.619135  24.396368   22.949954  24.878154   \n",
       "XRX    2019-11-21  9.926693e+09   1.802559  50.906119 -310.209166  -1.905681   \n",
       "\n",
       "                    P/NetNet    P/Sales  \n",
       "Ticker Date                              \n",
       "VRSN   2019-11-21 -11.490243  19.096231  \n",
       "WDC    2019-11-21  -1.342748   0.843097  \n",
       "WU     2019-11-21  -1.473915   2.197254  \n",
       "XLNX   2019-11-21  38.023640   7.017049  \n",
       "XRX    2019-11-21  -1.294097   0.967043  \n",
       "\n",
       "[5 rows x 25 columns]"
      ]
     },
     "execution_count": 174,
     "metadata": {},
     "output_type": "execute_result"
    }
   ],
   "source": [
    "df_signals.tail()"
   ]
  },
  {
   "cell_type": "code",
   "execution_count": 175,
   "metadata": {},
   "outputs": [],
   "source": [
    "# Combine the DataFrames (for the previous years.)\n",
    "dfs_list = [[df_fin_signals_list[i], df_growth_signals_list[i], df_val_signals_list[i]] for i in range(len(df_fin_signals_list))]\n",
    "df_signals_list = [pd.concat(e, axis=1) for e in dfs_list]\n",
    "df_signals_list = [e.loc[tickers].copy() for e in df_signals_list]"
   ]
  },
  {
   "cell_type": "code",
   "execution_count": 176,
   "metadata": {},
   "outputs": [
    {
     "name": "stdout",
     "output_type": "stream",
     "text": [
      "2018 Signals\n"
     ]
    },
    {
     "data": {
      "text/html": [
       "<div>\n",
       "<style scoped>\n",
       "    .dataframe tbody tr th:only-of-type {\n",
       "        vertical-align: middle;\n",
       "    }\n",
       "\n",
       "    .dataframe tbody tr th {\n",
       "        vertical-align: top;\n",
       "    }\n",
       "\n",
       "    .dataframe thead th {\n",
       "        text-align: right;\n",
       "    }\n",
       "</style>\n",
       "<table border=\"1\" class=\"dataframe\">\n",
       "  <thead>\n",
       "    <tr style=\"text-align: right;\">\n",
       "      <th></th>\n",
       "      <th></th>\n",
       "      <th>Current Ratio</th>\n",
       "      <th>Debt Ratio</th>\n",
       "      <th>Gross Profit Margin</th>\n",
       "      <th>Net Profit Margin</th>\n",
       "      <th>Return on Assets</th>\n",
       "      <th>Return on Equity</th>\n",
       "      <th>Earnings Growth</th>\n",
       "      <th>Earnings Growth QOQ</th>\n",
       "      <th>Earnings Growth YOY</th>\n",
       "      <th>FCF Growth</th>\n",
       "      <th>...</th>\n",
       "      <th>Dividend Yield</th>\n",
       "      <th>Earnings Yield</th>\n",
       "      <th>FCF Yield</th>\n",
       "      <th>Market-Cap</th>\n",
       "      <th>P/Book</th>\n",
       "      <th>P/E</th>\n",
       "      <th>P/FCF</th>\n",
       "      <th>P/NCAV</th>\n",
       "      <th>P/NetNet</th>\n",
       "      <th>P/Sales</th>\n",
       "    </tr>\n",
       "    <tr>\n",
       "      <th>Ticker</th>\n",
       "      <th>Date</th>\n",
       "      <th></th>\n",
       "      <th></th>\n",
       "      <th></th>\n",
       "      <th></th>\n",
       "      <th></th>\n",
       "      <th></th>\n",
       "      <th></th>\n",
       "      <th></th>\n",
       "      <th></th>\n",
       "      <th></th>\n",
       "      <th></th>\n",
       "      <th></th>\n",
       "      <th></th>\n",
       "      <th></th>\n",
       "      <th></th>\n",
       "      <th></th>\n",
       "      <th></th>\n",
       "      <th></th>\n",
       "      <th></th>\n",
       "      <th></th>\n",
       "      <th></th>\n",
       "    </tr>\n",
       "  </thead>\n",
       "  <tbody>\n",
       "    <tr>\n",
       "      <th>AAPL</th>\n",
       "      <th>2018-12-31</th>\n",
       "      <td>1.300555</td>\n",
       "      <td>0.306995</td>\n",
       "      <td>0.382085</td>\n",
       "      <td>0.227172</td>\n",
       "      <td>0.146096</td>\n",
       "      <td>0.423905</td>\n",
       "      <td>0.176269</td>\n",
       "      <td>0.413451</td>\n",
       "      <td>-0.004984</td>\n",
       "      <td>0.159609</td>\n",
       "      <td>...</td>\n",
       "      <td>0.018022</td>\n",
       "      <td>0.076829</td>\n",
       "      <td>0.080115</td>\n",
       "      <td>7.735531e+11</td>\n",
       "      <td>6.561540</td>\n",
       "      <td>13.015986</td>\n",
       "      <td>12.482098</td>\n",
       "      <td>-6.726607</td>\n",
       "      <td>-5.044420</td>\n",
       "      <td>2.956871</td>\n",
       "    </tr>\n",
       "    <tr>\n",
       "      <th>ACN</th>\n",
       "      <th>2018-12-31</th>\n",
       "      <td>1.330578</td>\n",
       "      <td>0.000922</td>\n",
       "      <td>0.300990</td>\n",
       "      <td>0.099894</td>\n",
       "      <td>0.183292</td>\n",
       "      <td>0.425632</td>\n",
       "      <td>0.181418</td>\n",
       "      <td>0.238164</td>\n",
       "      <td>0.134436</td>\n",
       "      <td>0.265707</td>\n",
       "      <td>...</td>\n",
       "      <td>0.019383</td>\n",
       "      <td>0.045650</td>\n",
       "      <td>0.059567</td>\n",
       "      <td>9.224397e+10</td>\n",
       "      <td>7.065489</td>\n",
       "      <td>21.905650</td>\n",
       "      <td>16.787882</td>\n",
       "      <td>-835.270835</td>\n",
       "      <td>-16.641346</td>\n",
       "      <td>2.188236</td>\n",
       "    </tr>\n",
       "    <tr>\n",
       "      <th>ADBE</th>\n",
       "      <th>2018-12-31</th>\n",
       "      <td>1.129248</td>\n",
       "      <td>0.165626</td>\n",
       "      <td>0.867664</td>\n",
       "      <td>0.286907</td>\n",
       "      <td>0.178237</td>\n",
       "      <td>0.306243</td>\n",
       "      <td>0.529424</td>\n",
       "      <td>0.017934</td>\n",
       "      <td>0.352291</td>\n",
       "      <td>0.377703</td>\n",
       "      <td>...</td>\n",
       "      <td>NaN</td>\n",
       "      <td>0.023002</td>\n",
       "      <td>0.033451</td>\n",
       "      <td>1.126320e+11</td>\n",
       "      <td>12.030616</td>\n",
       "      <td>43.474267</td>\n",
       "      <td>29.894513</td>\n",
       "      <td>-24.756849</td>\n",
       "      <td>-21.697877</td>\n",
       "      <td>12.473079</td>\n",
       "    </tr>\n",
       "    <tr>\n",
       "      <th>ADI</th>\n",
       "      <th>2018-12-31</th>\n",
       "      <td>1.502076</td>\n",
       "      <td>0.309670</td>\n",
       "      <td>0.682687</td>\n",
       "      <td>0.241162</td>\n",
       "      <td>0.070735</td>\n",
       "      <td>0.147166</td>\n",
       "      <td>1.056258</td>\n",
       "      <td>0.044638</td>\n",
       "      <td>0.245405</td>\n",
       "      <td>1.407814</td>\n",
       "      <td>...</td>\n",
       "      <td>0.021855</td>\n",
       "      <td>0.046470</td>\n",
       "      <td>0.067975</td>\n",
       "      <td>3.218093e+10</td>\n",
       "      <td>2.928590</td>\n",
       "      <td>21.519486</td>\n",
       "      <td>14.711382</td>\n",
       "      <td>-4.378886</td>\n",
       "      <td>-4.088294</td>\n",
       "      <td>5.189684</td>\n",
       "    </tr>\n",
       "    <tr>\n",
       "      <th>ADP</th>\n",
       "      <th>2018-12-31</th>\n",
       "      <td>1.045737</td>\n",
       "      <td>0.082675</td>\n",
       "      <td>0.422163</td>\n",
       "      <td>0.130347</td>\n",
       "      <td>0.040505</td>\n",
       "      <td>0.458969</td>\n",
       "      <td>0.040602</td>\n",
       "      <td>0.104472</td>\n",
       "      <td>0.194011</td>\n",
       "      <td>0.597720</td>\n",
       "      <td>...</td>\n",
       "      <td>0.020114</td>\n",
       "      <td>0.031232</td>\n",
       "      <td>0.040513</td>\n",
       "      <td>5.777147e+10</td>\n",
       "      <td>12.126928</td>\n",
       "      <td>32.018773</td>\n",
       "      <td>24.683389</td>\n",
       "      <td>-24.481512</td>\n",
       "      <td>-1.973189</td>\n",
       "      <td>4.173546</td>\n",
       "    </tr>\n",
       "  </tbody>\n",
       "</table>\n",
       "<p>5 rows × 25 columns</p>\n",
       "</div>"
      ],
      "text/plain": [
       "                   Current Ratio  Debt Ratio  Gross Profit Margin  \\\n",
       "Ticker Date                                                         \n",
       "AAPL   2018-12-31       1.300555    0.306995             0.382085   \n",
       "ACN    2018-12-31       1.330578    0.000922             0.300990   \n",
       "ADBE   2018-12-31       1.129248    0.165626             0.867664   \n",
       "ADI    2018-12-31       1.502076    0.309670             0.682687   \n",
       "ADP    2018-12-31       1.045737    0.082675             0.422163   \n",
       "\n",
       "                   Net Profit Margin  Return on Assets  Return on Equity  \\\n",
       "Ticker Date                                                                \n",
       "AAPL   2018-12-31           0.227172          0.146096          0.423905   \n",
       "ACN    2018-12-31           0.099894          0.183292          0.425632   \n",
       "ADBE   2018-12-31           0.286907          0.178237          0.306243   \n",
       "ADI    2018-12-31           0.241162          0.070735          0.147166   \n",
       "ADP    2018-12-31           0.130347          0.040505          0.458969   \n",
       "\n",
       "                   Earnings Growth  Earnings Growth QOQ  Earnings Growth YOY  \\\n",
       "Ticker Date                                                                    \n",
       "AAPL   2018-12-31         0.176269             0.413451            -0.004984   \n",
       "ACN    2018-12-31         0.181418             0.238164             0.134436   \n",
       "ADBE   2018-12-31         0.529424             0.017934             0.352291   \n",
       "ADI    2018-12-31         1.056258             0.044638             0.245405   \n",
       "ADP    2018-12-31         0.040602             0.104472             0.194011   \n",
       "\n",
       "                   FCF Growth  ...  Dividend Yield  Earnings Yield  FCF Yield  \\\n",
       "Ticker Date                    ...                                              \n",
       "AAPL   2018-12-31    0.159609  ...        0.018022        0.076829   0.080115   \n",
       "ACN    2018-12-31    0.265707  ...        0.019383        0.045650   0.059567   \n",
       "ADBE   2018-12-31    0.377703  ...             NaN        0.023002   0.033451   \n",
       "ADI    2018-12-31    1.407814  ...        0.021855        0.046470   0.067975   \n",
       "ADP    2018-12-31    0.597720  ...        0.020114        0.031232   0.040513   \n",
       "\n",
       "                     Market-Cap     P/Book        P/E      P/FCF      P/NCAV  \\\n",
       "Ticker Date                                                                    \n",
       "AAPL   2018-12-31  7.735531e+11   6.561540  13.015986  12.482098   -6.726607   \n",
       "ACN    2018-12-31  9.224397e+10   7.065489  21.905650  16.787882 -835.270835   \n",
       "ADBE   2018-12-31  1.126320e+11  12.030616  43.474267  29.894513  -24.756849   \n",
       "ADI    2018-12-31  3.218093e+10   2.928590  21.519486  14.711382   -4.378886   \n",
       "ADP    2018-12-31  5.777147e+10  12.126928  32.018773  24.683389  -24.481512   \n",
       "\n",
       "                    P/NetNet    P/Sales  \n",
       "Ticker Date                              \n",
       "AAPL   2018-12-31  -5.044420   2.956871  \n",
       "ACN    2018-12-31 -16.641346   2.188236  \n",
       "ADBE   2018-12-31 -21.697877  12.473079  \n",
       "ADI    2018-12-31  -4.088294   5.189684  \n",
       "ADP    2018-12-31  -1.973189   4.173546  \n",
       "\n",
       "[5 rows x 25 columns]"
      ]
     },
     "execution_count": 176,
     "metadata": {},
     "output_type": "execute_result"
    }
   ],
   "source": [
    "# Show an example.\n",
    "print(\"2018 Signals\")\n",
    "df_signals_list[7].head()"
   ]
  },
  {
   "cell_type": "code",
   "execution_count": 177,
   "metadata": {},
   "outputs": [
    {
     "data": {
      "text/plain": [
       "(66, 25)"
      ]
     },
     "execution_count": 177,
     "metadata": {},
     "output_type": "execute_result"
    }
   ],
   "source": [
    "df_signals_list[7].shape"
   ]
  },
  {
   "cell_type": "markdown",
   "metadata": {},
   "source": [
    "Output of the previous section are `df_signals` (Signals for latest year) `df_signals_list` (Signals for previous years)\n",
    "\n"
   ]
  },
  {
   "cell_type": "markdown",
   "metadata": {},
   "source": [
    "# Getting Data from Yahoo Finance"
   ]
  },
  {
   "cell_type": "code",
   "execution_count": 178,
   "metadata": {},
   "outputs": [],
   "source": [
    "start_sp = datetime.datetime(2011, 1, 1)\n",
    "end_sp = datetime.datetime(2019, 12, 31)"
   ]
  },
  {
   "cell_type": "code",
   "execution_count": 179,
   "metadata": {},
   "outputs": [],
   "source": [
    "ticker_symbols_list = ['XLK','MSFT','AAPL','V','MA','INTC','CSCO','ADBE','CRM','NVDA','ACN','AVGO','PYPL','ORCL','IBM','TXN','QCOM','FIS','ADP','INTU','FISV','GPN','AMAT','MU','NOW','ADI','AMD','ADSK','LRCX','CTSH','APH','TEL','HPQ','PAYX','MSI','FLT','KLAC','MCHP','XLNX','GLW','ANSS','HPE','SNPS','VRSN','CDW','KEYS','CDNS','SWKS','MXIM','FTNT','NLOK','NTAP','WDC','IT','AKAM','BR','CTXS','STX','QRVO','LDOS','JKHY','WU','ANET','DXC','JNPR','FFIV','FLIR','XRX','IPGP','ADS']\n",
    "# create a yearly dataframe with all features, returns (2), nlp, 3 years (2017-2018 on 2019)"
   ]
  },
  {
   "cell_type": "code",
   "execution_count": 180,
   "metadata": {},
   "outputs": [],
   "source": [
    "close_price_df = pdr.get_data_yahoo(ticker_symbols_list, start_sp, end_sp)['Close']"
   ]
  },
  {
   "cell_type": "code",
   "execution_count": 181,
   "metadata": {
    "scrolled": false
   },
   "outputs": [
    {
     "data": {
      "text/plain": [
       "(2253, 70)"
      ]
     },
     "execution_count": 181,
     "metadata": {},
     "output_type": "execute_result"
    }
   ],
   "source": [
    "close_price_df.shape"
   ]
  },
  {
   "cell_type": "code",
   "execution_count": 182,
   "metadata": {
    "scrolled": true
   },
   "outputs": [
    {
     "data": {
      "text/html": [
       "<div>\n",
       "<style scoped>\n",
       "    .dataframe tbody tr th:only-of-type {\n",
       "        vertical-align: middle;\n",
       "    }\n",
       "\n",
       "    .dataframe tbody tr th {\n",
       "        vertical-align: top;\n",
       "    }\n",
       "\n",
       "    .dataframe thead th {\n",
       "        text-align: right;\n",
       "    }\n",
       "</style>\n",
       "<table border=\"1\" class=\"dataframe\">\n",
       "  <thead>\n",
       "    <tr style=\"text-align: right;\">\n",
       "      <th>Symbols</th>\n",
       "      <th>AAPL</th>\n",
       "      <th>ACN</th>\n",
       "      <th>ADBE</th>\n",
       "      <th>ADI</th>\n",
       "      <th>ADP</th>\n",
       "      <th>ADS</th>\n",
       "      <th>ADSK</th>\n",
       "      <th>AKAM</th>\n",
       "      <th>AMAT</th>\n",
       "      <th>AMD</th>\n",
       "      <th>...</th>\n",
       "      <th>SWKS</th>\n",
       "      <th>TEL</th>\n",
       "      <th>TXN</th>\n",
       "      <th>V</th>\n",
       "      <th>VRSN</th>\n",
       "      <th>WDC</th>\n",
       "      <th>WU</th>\n",
       "      <th>XLK</th>\n",
       "      <th>XLNX</th>\n",
       "      <th>XRX</th>\n",
       "    </tr>\n",
       "    <tr>\n",
       "      <th>Date</th>\n",
       "      <th></th>\n",
       "      <th></th>\n",
       "      <th></th>\n",
       "      <th></th>\n",
       "      <th></th>\n",
       "      <th></th>\n",
       "      <th></th>\n",
       "      <th></th>\n",
       "      <th></th>\n",
       "      <th></th>\n",
       "      <th></th>\n",
       "      <th></th>\n",
       "      <th></th>\n",
       "      <th></th>\n",
       "      <th></th>\n",
       "      <th></th>\n",
       "      <th></th>\n",
       "      <th></th>\n",
       "      <th></th>\n",
       "      <th></th>\n",
       "      <th></th>\n",
       "    </tr>\n",
       "  </thead>\n",
       "  <tbody>\n",
       "    <tr>\n",
       "      <th>2011-12-31</th>\n",
       "      <td>NaN</td>\n",
       "      <td>NaN</td>\n",
       "      <td>NaN</td>\n",
       "      <td>NaN</td>\n",
       "      <td>NaN</td>\n",
       "      <td>NaN</td>\n",
       "      <td>NaN</td>\n",
       "      <td>NaN</td>\n",
       "      <td>NaN</td>\n",
       "      <td>NaN</td>\n",
       "      <td>...</td>\n",
       "      <td>NaN</td>\n",
       "      <td>NaN</td>\n",
       "      <td>NaN</td>\n",
       "      <td>NaN</td>\n",
       "      <td>NaN</td>\n",
       "      <td>NaN</td>\n",
       "      <td>NaN</td>\n",
       "      <td>NaN</td>\n",
       "      <td>NaN</td>\n",
       "      <td>NaN</td>\n",
       "    </tr>\n",
       "    <tr>\n",
       "      <th>2012-12-31</th>\n",
       "      <td>0.314000</td>\n",
       "      <td>0.249296</td>\n",
       "      <td>0.332862</td>\n",
       "      <td>0.175517</td>\n",
       "      <td>0.054064</td>\n",
       "      <td>0.394068</td>\n",
       "      <td>0.165513</td>\n",
       "      <td>0.267348</td>\n",
       "      <td>0.068161</td>\n",
       "      <td>-0.555556</td>\n",
       "      <td>...</td>\n",
       "      <td>0.251541</td>\n",
       "      <td>0.204804</td>\n",
       "      <td>0.061147</td>\n",
       "      <td>0.492958</td>\n",
       "      <td>0.086786</td>\n",
       "      <td>0.372859</td>\n",
       "      <td>-0.254655</td>\n",
       "      <td>0.133595</td>\n",
       "      <td>0.118528</td>\n",
       "      <td>-0.143216</td>\n",
       "    </tr>\n",
       "    <tr>\n",
       "      <th>2013-12-31</th>\n",
       "      <td>0.054212</td>\n",
       "      <td>0.236391</td>\n",
       "      <td>0.589172</td>\n",
       "      <td>0.210889</td>\n",
       "      <td>0.419287</td>\n",
       "      <td>0.816317</td>\n",
       "      <td>0.423480</td>\n",
       "      <td>0.153263</td>\n",
       "      <td>0.545455</td>\n",
       "      <td>0.612500</td>\n",
       "      <td>...</td>\n",
       "      <td>0.406897</td>\n",
       "      <td>0.484644</td>\n",
       "      <td>0.421496</td>\n",
       "      <td>0.469059</td>\n",
       "      <td>0.539928</td>\n",
       "      <td>0.974582</td>\n",
       "      <td>0.267450</td>\n",
       "      <td>0.238822</td>\n",
       "      <td>0.280535</td>\n",
       "      <td>0.784458</td>\n",
       "    </tr>\n",
       "    <tr>\n",
       "      <th>2014-12-31</th>\n",
       "      <td>0.377241</td>\n",
       "      <td>0.086232</td>\n",
       "      <td>0.214095</td>\n",
       "      <td>0.090124</td>\n",
       "      <td>0.175228</td>\n",
       "      <td>0.087932</td>\n",
       "      <td>0.193561</td>\n",
       "      <td>0.334464</td>\n",
       "      <td>0.409502</td>\n",
       "      <td>-0.310077</td>\n",
       "      <td>...</td>\n",
       "      <td>1.545868</td>\n",
       "      <td>0.147705</td>\n",
       "      <td>0.217718</td>\n",
       "      <td>0.177474</td>\n",
       "      <td>-0.046504</td>\n",
       "      <td>0.319428</td>\n",
       "      <td>0.038261</td>\n",
       "      <td>0.156967</td>\n",
       "      <td>-0.057273</td>\n",
       "      <td>0.138866</td>\n",
       "    </tr>\n",
       "    <tr>\n",
       "      <th>2015-12-31</th>\n",
       "      <td>-0.046385</td>\n",
       "      <td>0.170082</td>\n",
       "      <td>0.292160</td>\n",
       "      <td>-0.003602</td>\n",
       "      <td>0.016193</td>\n",
       "      <td>-0.033141</td>\n",
       "      <td>0.014485</td>\n",
       "      <td>-0.164072</td>\n",
       "      <td>-0.250803</td>\n",
       "      <td>0.074906</td>\n",
       "      <td>...</td>\n",
       "      <td>0.056663</td>\n",
       "      <td>0.021502</td>\n",
       "      <td>0.025061</td>\n",
       "      <td>0.183066</td>\n",
       "      <td>0.532632</td>\n",
       "      <td>-0.457543</td>\n",
       "      <td>0.000000</td>\n",
       "      <td>0.035792</td>\n",
       "      <td>0.085008</td>\n",
       "      <td>-0.233045</td>\n",
       "    </tr>\n",
       "  </tbody>\n",
       "</table>\n",
       "<p>5 rows × 70 columns</p>\n",
       "</div>"
      ],
      "text/plain": [
       "Symbols         AAPL       ACN      ADBE       ADI       ADP       ADS  \\\n",
       "Date                                                                     \n",
       "2011-12-31       NaN       NaN       NaN       NaN       NaN       NaN   \n",
       "2012-12-31  0.314000  0.249296  0.332862  0.175517  0.054064  0.394068   \n",
       "2013-12-31  0.054212  0.236391  0.589172  0.210889  0.419287  0.816317   \n",
       "2014-12-31  0.377241  0.086232  0.214095  0.090124  0.175228  0.087932   \n",
       "2015-12-31 -0.046385  0.170082  0.292160 -0.003602  0.016193 -0.033141   \n",
       "\n",
       "Symbols         ADSK      AKAM      AMAT       AMD  ...      SWKS       TEL  \\\n",
       "Date                                                ...                       \n",
       "2011-12-31       NaN       NaN       NaN       NaN  ...       NaN       NaN   \n",
       "2012-12-31  0.165513  0.267348  0.068161 -0.555556  ...  0.251541  0.204804   \n",
       "2013-12-31  0.423480  0.153263  0.545455  0.612500  ...  0.406897  0.484644   \n",
       "2014-12-31  0.193561  0.334464  0.409502 -0.310077  ...  1.545868  0.147705   \n",
       "2015-12-31  0.014485 -0.164072 -0.250803  0.074906  ...  0.056663  0.021502   \n",
       "\n",
       "Symbols          TXN         V      VRSN       WDC        WU       XLK  \\\n",
       "Date                                                                     \n",
       "2011-12-31       NaN       NaN       NaN       NaN       NaN       NaN   \n",
       "2012-12-31  0.061147  0.492958  0.086786  0.372859 -0.254655  0.133595   \n",
       "2013-12-31  0.421496  0.469059  0.539928  0.974582  0.267450  0.238822   \n",
       "2014-12-31  0.217718  0.177474 -0.046504  0.319428  0.038261  0.156967   \n",
       "2015-12-31  0.025061  0.183066  0.532632 -0.457543  0.000000  0.035792   \n",
       "\n",
       "Symbols         XLNX       XRX  \n",
       "Date                            \n",
       "2011-12-31       NaN       NaN  \n",
       "2012-12-31  0.118528 -0.143216  \n",
       "2013-12-31  0.280535  0.784458  \n",
       "2014-12-31 -0.057273  0.138866  \n",
       "2015-12-31  0.085008 -0.233045  \n",
       "\n",
       "[5 rows x 70 columns]"
      ]
     },
     "execution_count": 182,
     "metadata": {},
     "output_type": "execute_result"
    }
   ],
   "source": [
    "# Yearly returns\n",
    "multpl_stock_yearly_returns = close_price_df.resample('Y').ffill().pct_change()\n",
    "multpl_stock_yearly_returns.head()"
   ]
  },
  {
   "cell_type": "code",
   "execution_count": 183,
   "metadata": {},
   "outputs": [],
   "source": [
    "# Melting yearly returns\n",
    "multpl_stock_yearly_returns = multpl_stock_yearly_returns.reset_index(drop = False)\n",
    "multpl_stock_yearly_returns_melt = multpl_stock_yearly_returns.melt(id_vars=[\"Date\", \"XLK\"], \n",
    "        var_name=\"TickerSymbol\", \n",
    "        value_name=\"YearlyReturn\")"
   ]
  },
  {
   "cell_type": "code",
   "execution_count": 184,
   "metadata": {},
   "outputs": [
    {
     "data": {
      "text/html": [
       "<div>\n",
       "<style scoped>\n",
       "    .dataframe tbody tr th:only-of-type {\n",
       "        vertical-align: middle;\n",
       "    }\n",
       "\n",
       "    .dataframe tbody tr th {\n",
       "        vertical-align: top;\n",
       "    }\n",
       "\n",
       "    .dataframe thead th {\n",
       "        text-align: right;\n",
       "    }\n",
       "</style>\n",
       "<table border=\"1\" class=\"dataframe\">\n",
       "  <thead>\n",
       "    <tr style=\"text-align: right;\">\n",
       "      <th></th>\n",
       "      <th>Date</th>\n",
       "      <th>XLK</th>\n",
       "      <th>TickerSymbol</th>\n",
       "      <th>YearlyReturn</th>\n",
       "    </tr>\n",
       "  </thead>\n",
       "  <tbody>\n",
       "    <tr>\n",
       "      <th>0</th>\n",
       "      <td>2011-12-31</td>\n",
       "      <td>NaN</td>\n",
       "      <td>AAPL</td>\n",
       "      <td>NaN</td>\n",
       "    </tr>\n",
       "    <tr>\n",
       "      <th>1</th>\n",
       "      <td>2012-12-31</td>\n",
       "      <td>0.133595</td>\n",
       "      <td>AAPL</td>\n",
       "      <td>0.314000</td>\n",
       "    </tr>\n",
       "    <tr>\n",
       "      <th>2</th>\n",
       "      <td>2013-12-31</td>\n",
       "      <td>0.238822</td>\n",
       "      <td>AAPL</td>\n",
       "      <td>0.054212</td>\n",
       "    </tr>\n",
       "    <tr>\n",
       "      <th>3</th>\n",
       "      <td>2014-12-31</td>\n",
       "      <td>0.156967</td>\n",
       "      <td>AAPL</td>\n",
       "      <td>0.377241</td>\n",
       "    </tr>\n",
       "    <tr>\n",
       "      <th>4</th>\n",
       "      <td>2015-12-31</td>\n",
       "      <td>0.035792</td>\n",
       "      <td>AAPL</td>\n",
       "      <td>-0.046385</td>\n",
       "    </tr>\n",
       "  </tbody>\n",
       "</table>\n",
       "</div>"
      ],
      "text/plain": [
       "        Date       XLK TickerSymbol  YearlyReturn\n",
       "0 2011-12-31       NaN         AAPL           NaN\n",
       "1 2012-12-31  0.133595         AAPL      0.314000\n",
       "2 2013-12-31  0.238822         AAPL      0.054212\n",
       "3 2014-12-31  0.156967         AAPL      0.377241\n",
       "4 2015-12-31  0.035792         AAPL     -0.046385"
      ]
     },
     "execution_count": 184,
     "metadata": {},
     "output_type": "execute_result"
    }
   ],
   "source": [
    "multpl_stock_yearly_returns_melt.head()"
   ]
  },
  {
   "cell_type": "code",
   "execution_count": 185,
   "metadata": {
    "scrolled": false
   },
   "outputs": [],
   "source": [
    "# changing XLK returns column name\n",
    "multpl_stock_yearly_returns_melt.rename(columns = {'XLK':'XLK_Return'}, inplace = True)"
   ]
  },
  {
   "cell_type": "code",
   "execution_count": 186,
   "metadata": {},
   "outputs": [
    {
     "data": {
      "text/html": [
       "<div>\n",
       "<style scoped>\n",
       "    .dataframe tbody tr th:only-of-type {\n",
       "        vertical-align: middle;\n",
       "    }\n",
       "\n",
       "    .dataframe tbody tr th {\n",
       "        vertical-align: top;\n",
       "    }\n",
       "\n",
       "    .dataframe thead th {\n",
       "        text-align: right;\n",
       "    }\n",
       "</style>\n",
       "<table border=\"1\" class=\"dataframe\">\n",
       "  <thead>\n",
       "    <tr style=\"text-align: right;\">\n",
       "      <th></th>\n",
       "      <th>Date</th>\n",
       "      <th>XLK_Return</th>\n",
       "      <th>TickerSymbol</th>\n",
       "      <th>YearlyReturn</th>\n",
       "    </tr>\n",
       "  </thead>\n",
       "  <tbody>\n",
       "    <tr>\n",
       "      <th>0</th>\n",
       "      <td>2011-12-31</td>\n",
       "      <td>NaN</td>\n",
       "      <td>AAPL</td>\n",
       "      <td>NaN</td>\n",
       "    </tr>\n",
       "    <tr>\n",
       "      <th>1</th>\n",
       "      <td>2012-12-31</td>\n",
       "      <td>0.133595</td>\n",
       "      <td>AAPL</td>\n",
       "      <td>0.314000</td>\n",
       "    </tr>\n",
       "    <tr>\n",
       "      <th>2</th>\n",
       "      <td>2013-12-31</td>\n",
       "      <td>0.238822</td>\n",
       "      <td>AAPL</td>\n",
       "      <td>0.054212</td>\n",
       "    </tr>\n",
       "    <tr>\n",
       "      <th>3</th>\n",
       "      <td>2014-12-31</td>\n",
       "      <td>0.156967</td>\n",
       "      <td>AAPL</td>\n",
       "      <td>0.377241</td>\n",
       "    </tr>\n",
       "    <tr>\n",
       "      <th>4</th>\n",
       "      <td>2015-12-31</td>\n",
       "      <td>0.035792</td>\n",
       "      <td>AAPL</td>\n",
       "      <td>-0.046385</td>\n",
       "    </tr>\n",
       "  </tbody>\n",
       "</table>\n",
       "</div>"
      ],
      "text/plain": [
       "        Date  XLK_Return TickerSymbol  YearlyReturn\n",
       "0 2011-12-31         NaN         AAPL           NaN\n",
       "1 2012-12-31    0.133595         AAPL      0.314000\n",
       "2 2013-12-31    0.238822         AAPL      0.054212\n",
       "3 2014-12-31    0.156967         AAPL      0.377241\n",
       "4 2015-12-31    0.035792         AAPL     -0.046385"
      ]
     },
     "execution_count": 186,
     "metadata": {},
     "output_type": "execute_result"
    }
   ],
   "source": [
    "multpl_stock_yearly_returns_melt.head()"
   ]
  },
  {
   "cell_type": "code",
   "execution_count": 187,
   "metadata": {},
   "outputs": [],
   "source": [
    "threshold = 0.05 \n",
    "delta_value = threshold * multpl_stock_yearly_returns_melt['YearlyReturn']\n",
    "win = np.where(multpl_stock_yearly_returns_melt['XLK_Return'] - multpl_stock_yearly_returns_melt['YearlyReturn'] >= delta_value, 1, 0)"
   ]
  },
  {
   "cell_type": "code",
   "execution_count": 188,
   "metadata": {},
   "outputs": [],
   "source": [
    "multpl_stock_yearly_returns_melt['win'] = win"
   ]
  },
  {
   "cell_type": "code",
   "execution_count": 189,
   "metadata": {
    "scrolled": true
   },
   "outputs": [
    {
     "data": {
      "text/html": [
       "<div>\n",
       "<style scoped>\n",
       "    .dataframe tbody tr th:only-of-type {\n",
       "        vertical-align: middle;\n",
       "    }\n",
       "\n",
       "    .dataframe tbody tr th {\n",
       "        vertical-align: top;\n",
       "    }\n",
       "\n",
       "    .dataframe thead th {\n",
       "        text-align: right;\n",
       "    }\n",
       "</style>\n",
       "<table border=\"1\" class=\"dataframe\">\n",
       "  <thead>\n",
       "    <tr style=\"text-align: right;\">\n",
       "      <th></th>\n",
       "      <th>Date</th>\n",
       "      <th>XLK_Return</th>\n",
       "      <th>TickerSymbol</th>\n",
       "      <th>YearlyReturn</th>\n",
       "      <th>win</th>\n",
       "    </tr>\n",
       "  </thead>\n",
       "  <tbody>\n",
       "    <tr>\n",
       "      <th>0</th>\n",
       "      <td>2011-12-31</td>\n",
       "      <td>NaN</td>\n",
       "      <td>AAPL</td>\n",
       "      <td>NaN</td>\n",
       "      <td>0</td>\n",
       "    </tr>\n",
       "    <tr>\n",
       "      <th>9</th>\n",
       "      <td>2011-12-31</td>\n",
       "      <td>NaN</td>\n",
       "      <td>ACN</td>\n",
       "      <td>NaN</td>\n",
       "      <td>0</td>\n",
       "    </tr>\n",
       "    <tr>\n",
       "      <th>18</th>\n",
       "      <td>2011-12-31</td>\n",
       "      <td>NaN</td>\n",
       "      <td>ADBE</td>\n",
       "      <td>NaN</td>\n",
       "      <td>0</td>\n",
       "    </tr>\n",
       "    <tr>\n",
       "      <th>27</th>\n",
       "      <td>2011-12-31</td>\n",
       "      <td>NaN</td>\n",
       "      <td>ADI</td>\n",
       "      <td>NaN</td>\n",
       "      <td>0</td>\n",
       "    </tr>\n",
       "    <tr>\n",
       "      <th>36</th>\n",
       "      <td>2011-12-31</td>\n",
       "      <td>NaN</td>\n",
       "      <td>ADP</td>\n",
       "      <td>NaN</td>\n",
       "      <td>0</td>\n",
       "    </tr>\n",
       "  </tbody>\n",
       "</table>\n",
       "</div>"
      ],
      "text/plain": [
       "         Date  XLK_Return TickerSymbol  YearlyReturn  win\n",
       "0  2011-12-31         NaN         AAPL           NaN    0\n",
       "9  2011-12-31         NaN          ACN           NaN    0\n",
       "18 2011-12-31         NaN         ADBE           NaN    0\n",
       "27 2011-12-31         NaN          ADI           NaN    0\n",
       "36 2011-12-31         NaN          ADP           NaN    0"
      ]
     },
     "execution_count": 189,
     "metadata": {},
     "output_type": "execute_result"
    }
   ],
   "source": [
    "multpl_stock_yearly_returns_melt = multpl_stock_yearly_returns_melt.sort_values(by=['Date','TickerSymbol'])\n",
    "multpl_stock_yearly_returns_melt.head()"
   ]
  },
  {
   "cell_type": "code",
   "execution_count": 190,
   "metadata": {},
   "outputs": [
    {
     "data": {
      "text/html": [
       "<div>\n",
       "<style scoped>\n",
       "    .dataframe tbody tr th:only-of-type {\n",
       "        vertical-align: middle;\n",
       "    }\n",
       "\n",
       "    .dataframe tbody tr th {\n",
       "        vertical-align: top;\n",
       "    }\n",
       "\n",
       "    .dataframe thead th {\n",
       "        text-align: right;\n",
       "    }\n",
       "</style>\n",
       "<table border=\"1\" class=\"dataframe\">\n",
       "  <thead>\n",
       "    <tr style=\"text-align: right;\">\n",
       "      <th></th>\n",
       "      <th>Date</th>\n",
       "      <th>XLK_Return</th>\n",
       "      <th>TickerSymbol</th>\n",
       "      <th>YearlyReturn</th>\n",
       "      <th>win</th>\n",
       "    </tr>\n",
       "  </thead>\n",
       "  <tbody>\n",
       "    <tr>\n",
       "      <th>0</th>\n",
       "      <td>2011-12-31</td>\n",
       "      <td>NaN</td>\n",
       "      <td>AAPL</td>\n",
       "      <td>NaN</td>\n",
       "      <td>0</td>\n",
       "    </tr>\n",
       "    <tr>\n",
       "      <th>1</th>\n",
       "      <td>2011-12-31</td>\n",
       "      <td>NaN</td>\n",
       "      <td>ACN</td>\n",
       "      <td>NaN</td>\n",
       "      <td>0</td>\n",
       "    </tr>\n",
       "    <tr>\n",
       "      <th>2</th>\n",
       "      <td>2011-12-31</td>\n",
       "      <td>NaN</td>\n",
       "      <td>ADBE</td>\n",
       "      <td>NaN</td>\n",
       "      <td>0</td>\n",
       "    </tr>\n",
       "    <tr>\n",
       "      <th>3</th>\n",
       "      <td>2011-12-31</td>\n",
       "      <td>NaN</td>\n",
       "      <td>ADI</td>\n",
       "      <td>NaN</td>\n",
       "      <td>0</td>\n",
       "    </tr>\n",
       "    <tr>\n",
       "      <th>4</th>\n",
       "      <td>2011-12-31</td>\n",
       "      <td>NaN</td>\n",
       "      <td>ADP</td>\n",
       "      <td>NaN</td>\n",
       "      <td>0</td>\n",
       "    </tr>\n",
       "  </tbody>\n",
       "</table>\n",
       "</div>"
      ],
      "text/plain": [
       "        Date  XLK_Return TickerSymbol  YearlyReturn  win\n",
       "0 2011-12-31         NaN         AAPL           NaN    0\n",
       "1 2011-12-31         NaN          ACN           NaN    0\n",
       "2 2011-12-31         NaN         ADBE           NaN    0\n",
       "3 2011-12-31         NaN          ADI           NaN    0\n",
       "4 2011-12-31         NaN          ADP           NaN    0"
      ]
     },
     "execution_count": 190,
     "metadata": {},
     "output_type": "execute_result"
    }
   ],
   "source": [
    "multpl_stock_yearly_returns_melt = multpl_stock_yearly_returns_melt.reset_index(drop = True)\n",
    "multpl_stock_yearly_returns_melt.head()"
   ]
  },
  {
   "cell_type": "code",
   "execution_count": 191,
   "metadata": {},
   "outputs": [
    {
     "name": "stdout",
     "output_type": "stream",
     "text": [
      "(59, 25)\n",
      "(60, 25)\n",
      "(61, 25)\n",
      "(63, 25)\n",
      "(66, 25)\n",
      "(66, 25)\n",
      "(66, 25)\n",
      "(66, 25)\n"
     ]
    }
   ],
   "source": [
    "for e in df_signals_list:\n",
    "    print(e.shape)"
   ]
  },
  {
   "cell_type": "code",
   "execution_count": 192,
   "metadata": {},
   "outputs": [],
   "source": [
    "# Replacing NaNs with median of columns\n",
    "for e in df_signals_list:\n",
    "    for col in e:\n",
    "        e[col] = e[col].fillna(e[col].median())"
   ]
  },
  {
   "cell_type": "code",
   "execution_count": 193,
   "metadata": {},
   "outputs": [],
   "source": [
    "# appending signals dfs\n",
    "all_years_signals = df_signals_list[0]\n",
    "for i in range(1, len(df_signals_list)):\n",
    "    all_years_signals = all_years_signals.append(df_signals_list[i])"
   ]
  },
  {
   "cell_type": "code",
   "execution_count": 194,
   "metadata": {},
   "outputs": [
    {
     "data": {
      "text/html": [
       "<div>\n",
       "<style scoped>\n",
       "    .dataframe tbody tr th:only-of-type {\n",
       "        vertical-align: middle;\n",
       "    }\n",
       "\n",
       "    .dataframe tbody tr th {\n",
       "        vertical-align: top;\n",
       "    }\n",
       "\n",
       "    .dataframe thead th {\n",
       "        text-align: right;\n",
       "    }\n",
       "</style>\n",
       "<table border=\"1\" class=\"dataframe\">\n",
       "  <thead>\n",
       "    <tr style=\"text-align: right;\">\n",
       "      <th></th>\n",
       "      <th></th>\n",
       "      <th>Current Ratio</th>\n",
       "      <th>Debt Ratio</th>\n",
       "      <th>Gross Profit Margin</th>\n",
       "      <th>Net Profit Margin</th>\n",
       "      <th>Return on Assets</th>\n",
       "      <th>Return on Equity</th>\n",
       "      <th>Earnings Growth</th>\n",
       "      <th>Earnings Growth QOQ</th>\n",
       "      <th>Earnings Growth YOY</th>\n",
       "      <th>FCF Growth</th>\n",
       "      <th>...</th>\n",
       "      <th>Dividend Yield</th>\n",
       "      <th>Earnings Yield</th>\n",
       "      <th>FCF Yield</th>\n",
       "      <th>Market-Cap</th>\n",
       "      <th>P/Book</th>\n",
       "      <th>P/E</th>\n",
       "      <th>P/FCF</th>\n",
       "      <th>P/NCAV</th>\n",
       "      <th>P/NetNet</th>\n",
       "      <th>P/Sales</th>\n",
       "    </tr>\n",
       "    <tr>\n",
       "      <th>Ticker</th>\n",
       "      <th>Date</th>\n",
       "      <th></th>\n",
       "      <th></th>\n",
       "      <th></th>\n",
       "      <th></th>\n",
       "      <th></th>\n",
       "      <th></th>\n",
       "      <th></th>\n",
       "      <th></th>\n",
       "      <th></th>\n",
       "      <th></th>\n",
       "      <th></th>\n",
       "      <th></th>\n",
       "      <th></th>\n",
       "      <th></th>\n",
       "      <th></th>\n",
       "      <th></th>\n",
       "      <th></th>\n",
       "      <th></th>\n",
       "      <th></th>\n",
       "      <th></th>\n",
       "      <th></th>\n",
       "    </tr>\n",
       "  </thead>\n",
       "  <tbody>\n",
       "    <tr>\n",
       "      <th>VRSN</th>\n",
       "      <th>2018-12-31</th>\n",
       "      <td>1.389877</td>\n",
       "      <td>0.932381</td>\n",
       "      <td>0.841861</td>\n",
       "      <td>0.479427</td>\n",
       "      <td>0.198045</td>\n",
       "      <td>-0.462193</td>\n",
       "      <td>0.273902</td>\n",
       "      <td>0.323322</td>\n",
       "      <td>0.771687</td>\n",
       "      <td>0.008291</td>\n",
       "      <td>...</td>\n",
       "      <td>0.020114</td>\n",
       "      <td>0.032024</td>\n",
       "      <td>0.036212</td>\n",
       "      <td>1.818940e+10</td>\n",
       "      <td>-13.128647</td>\n",
       "      <td>31.227027</td>\n",
       "      <td>27.615010</td>\n",
       "      <td>-9.172927</td>\n",
       "      <td>-9.008132</td>\n",
       "      <td>14.971081</td>\n",
       "    </tr>\n",
       "    <tr>\n",
       "      <th>WDC</th>\n",
       "      <th>2018-12-31</th>\n",
       "      <td>2.239540</td>\n",
       "      <td>0.379899</td>\n",
       "      <td>0.334537</td>\n",
       "      <td>0.043371</td>\n",
       "      <td>0.028184</td>\n",
       "      <td>0.074610</td>\n",
       "      <td>1.178756</td>\n",
       "      <td>-1.953033</td>\n",
       "      <td>-0.408262</td>\n",
       "      <td>-0.401879</td>\n",
       "      <td>...</td>\n",
       "      <td>0.052583</td>\n",
       "      <td>0.074953</td>\n",
       "      <td>0.192863</td>\n",
       "      <td>1.122040e+10</td>\n",
       "      <td>1.028262</td>\n",
       "      <td>13.341730</td>\n",
       "      <td>5.185025</td>\n",
       "      <td>-1.540205</td>\n",
       "      <td>-1.120443</td>\n",
       "      <td>0.578639</td>\n",
       "    </tr>\n",
       "    <tr>\n",
       "      <th>WU</th>\n",
       "      <th>2018-12-31</th>\n",
       "      <td>0.170419</td>\n",
       "      <td>0.257605</td>\n",
       "      <td>0.409506</td>\n",
       "      <td>0.152400</td>\n",
       "      <td>0.092283</td>\n",
       "      <td>-1.733618</td>\n",
       "      <td>-2.529169</td>\n",
       "      <td>0.016779</td>\n",
       "      <td>-1.189223</td>\n",
       "      <td>-0.136746</td>\n",
       "      <td>...</td>\n",
       "      <td>0.044079</td>\n",
       "      <td>0.109893</td>\n",
       "      <td>0.062216</td>\n",
       "      <td>7.752064e+09</td>\n",
       "      <td>-25.022802</td>\n",
       "      <td>9.099735</td>\n",
       "      <td>16.073116</td>\n",
       "      <td>-0.930263</td>\n",
       "      <td>-0.930263</td>\n",
       "      <td>1.386798</td>\n",
       "    </tr>\n",
       "    <tr>\n",
       "      <th>XLNX</th>\n",
       "      <th>2018-12-31</th>\n",
       "      <td>4.378726</td>\n",
       "      <td>0.321450</td>\n",
       "      <td>0.695999</td>\n",
       "      <td>0.280082</td>\n",
       "      <td>0.159104</td>\n",
       "      <td>0.344472</td>\n",
       "      <td>0.641032</td>\n",
       "      <td>0.109628</td>\n",
       "      <td>19.038510</td>\n",
       "      <td>0.154313</td>\n",
       "      <td>...</td>\n",
       "      <td>0.016716</td>\n",
       "      <td>0.037596</td>\n",
       "      <td>0.044480</td>\n",
       "      <td>2.166616e+10</td>\n",
       "      <td>8.215609</td>\n",
       "      <td>26.598902</td>\n",
       "      <td>22.481802</td>\n",
       "      <td>14.893054</td>\n",
       "      <td>18.625178</td>\n",
       "      <td>7.449869</td>\n",
       "    </tr>\n",
       "    <tr>\n",
       "      <th>XRX</th>\n",
       "      <th>2018-12-31</th>\n",
       "      <td>1.444171</td>\n",
       "      <td>0.351620</td>\n",
       "      <td>0.412920</td>\n",
       "      <td>0.036724</td>\n",
       "      <td>0.022639</td>\n",
       "      <td>0.065553</td>\n",
       "      <td>0.851282</td>\n",
       "      <td>0.539326</td>\n",
       "      <td>-1.825301</td>\n",
       "      <td>-35.656250</td>\n",
       "      <td>...</td>\n",
       "      <td>0.057398</td>\n",
       "      <td>0.038463</td>\n",
       "      <td>-0.006312</td>\n",
       "      <td>5.069823e+09</td>\n",
       "      <td>0.920614</td>\n",
       "      <td>25.999093</td>\n",
       "      <td>-158.431975</td>\n",
       "      <td>-0.973281</td>\n",
       "      <td>-0.660929</td>\n",
       "      <td>0.493894</td>\n",
       "    </tr>\n",
       "  </tbody>\n",
       "</table>\n",
       "<p>5 rows × 25 columns</p>\n",
       "</div>"
      ],
      "text/plain": [
       "                   Current Ratio  Debt Ratio  Gross Profit Margin  \\\n",
       "Ticker Date                                                         \n",
       "VRSN   2018-12-31       1.389877    0.932381             0.841861   \n",
       "WDC    2018-12-31       2.239540    0.379899             0.334537   \n",
       "WU     2018-12-31       0.170419    0.257605             0.409506   \n",
       "XLNX   2018-12-31       4.378726    0.321450             0.695999   \n",
       "XRX    2018-12-31       1.444171    0.351620             0.412920   \n",
       "\n",
       "                   Net Profit Margin  Return on Assets  Return on Equity  \\\n",
       "Ticker Date                                                                \n",
       "VRSN   2018-12-31           0.479427          0.198045         -0.462193   \n",
       "WDC    2018-12-31           0.043371          0.028184          0.074610   \n",
       "WU     2018-12-31           0.152400          0.092283         -1.733618   \n",
       "XLNX   2018-12-31           0.280082          0.159104          0.344472   \n",
       "XRX    2018-12-31           0.036724          0.022639          0.065553   \n",
       "\n",
       "                   Earnings Growth  Earnings Growth QOQ  Earnings Growth YOY  \\\n",
       "Ticker Date                                                                    \n",
       "VRSN   2018-12-31         0.273902             0.323322             0.771687   \n",
       "WDC    2018-12-31         1.178756            -1.953033            -0.408262   \n",
       "WU     2018-12-31        -2.529169             0.016779            -1.189223   \n",
       "XLNX   2018-12-31         0.641032             0.109628            19.038510   \n",
       "XRX    2018-12-31         0.851282             0.539326            -1.825301   \n",
       "\n",
       "                   FCF Growth  ...  Dividend Yield  Earnings Yield  FCF Yield  \\\n",
       "Ticker Date                    ...                                              \n",
       "VRSN   2018-12-31    0.008291  ...        0.020114        0.032024   0.036212   \n",
       "WDC    2018-12-31   -0.401879  ...        0.052583        0.074953   0.192863   \n",
       "WU     2018-12-31   -0.136746  ...        0.044079        0.109893   0.062216   \n",
       "XLNX   2018-12-31    0.154313  ...        0.016716        0.037596   0.044480   \n",
       "XRX    2018-12-31  -35.656250  ...        0.057398        0.038463  -0.006312   \n",
       "\n",
       "                     Market-Cap     P/Book        P/E       P/FCF     P/NCAV  \\\n",
       "Ticker Date                                                                    \n",
       "VRSN   2018-12-31  1.818940e+10 -13.128647  31.227027   27.615010  -9.172927   \n",
       "WDC    2018-12-31  1.122040e+10   1.028262  13.341730    5.185025  -1.540205   \n",
       "WU     2018-12-31  7.752064e+09 -25.022802   9.099735   16.073116  -0.930263   \n",
       "XLNX   2018-12-31  2.166616e+10   8.215609  26.598902   22.481802  14.893054   \n",
       "XRX    2018-12-31  5.069823e+09   0.920614  25.999093 -158.431975  -0.973281   \n",
       "\n",
       "                    P/NetNet    P/Sales  \n",
       "Ticker Date                              \n",
       "VRSN   2018-12-31  -9.008132  14.971081  \n",
       "WDC    2018-12-31  -1.120443   0.578639  \n",
       "WU     2018-12-31  -0.930263   1.386798  \n",
       "XLNX   2018-12-31  18.625178   7.449869  \n",
       "XRX    2018-12-31  -0.660929   0.493894  \n",
       "\n",
       "[5 rows x 25 columns]"
      ]
     },
     "execution_count": 194,
     "metadata": {},
     "output_type": "execute_result"
    }
   ],
   "source": [
    "all_years_signals.tail()"
   ]
  },
  {
   "cell_type": "code",
   "execution_count": 195,
   "metadata": {},
   "outputs": [],
   "source": [
    "all_years_signals = all_years_signals.reset_index(drop = True)"
   ]
  },
  {
   "cell_type": "code",
   "execution_count": 196,
   "metadata": {
    "scrolled": false
   },
   "outputs": [
    {
     "data": {
      "text/html": [
       "<div>\n",
       "<style scoped>\n",
       "    .dataframe tbody tr th:only-of-type {\n",
       "        vertical-align: middle;\n",
       "    }\n",
       "\n",
       "    .dataframe tbody tr th {\n",
       "        vertical-align: top;\n",
       "    }\n",
       "\n",
       "    .dataframe thead th {\n",
       "        text-align: right;\n",
       "    }\n",
       "</style>\n",
       "<table border=\"1\" class=\"dataframe\">\n",
       "  <thead>\n",
       "    <tr style=\"text-align: right;\">\n",
       "      <th></th>\n",
       "      <th>Current Ratio</th>\n",
       "      <th>Debt Ratio</th>\n",
       "      <th>Gross Profit Margin</th>\n",
       "      <th>Net Profit Margin</th>\n",
       "      <th>Return on Assets</th>\n",
       "      <th>Return on Equity</th>\n",
       "      <th>Earnings Growth</th>\n",
       "      <th>Earnings Growth QOQ</th>\n",
       "      <th>Earnings Growth YOY</th>\n",
       "      <th>FCF Growth</th>\n",
       "      <th>...</th>\n",
       "      <th>Dividend Yield</th>\n",
       "      <th>Earnings Yield</th>\n",
       "      <th>FCF Yield</th>\n",
       "      <th>Market-Cap</th>\n",
       "      <th>P/Book</th>\n",
       "      <th>P/E</th>\n",
       "      <th>P/FCF</th>\n",
       "      <th>P/NCAV</th>\n",
       "      <th>P/NetNet</th>\n",
       "      <th>P/Sales</th>\n",
       "    </tr>\n",
       "  </thead>\n",
       "  <tbody>\n",
       "    <tr>\n",
       "      <th>502</th>\n",
       "      <td>1.389877</td>\n",
       "      <td>0.932381</td>\n",
       "      <td>0.841861</td>\n",
       "      <td>0.479427</td>\n",
       "      <td>0.198045</td>\n",
       "      <td>-0.462193</td>\n",
       "      <td>0.273902</td>\n",
       "      <td>0.323322</td>\n",
       "      <td>0.771687</td>\n",
       "      <td>0.008291</td>\n",
       "      <td>...</td>\n",
       "      <td>0.020114</td>\n",
       "      <td>0.032024</td>\n",
       "      <td>0.036212</td>\n",
       "      <td>1.818940e+10</td>\n",
       "      <td>-13.128647</td>\n",
       "      <td>31.227027</td>\n",
       "      <td>27.615010</td>\n",
       "      <td>-9.172927</td>\n",
       "      <td>-9.008132</td>\n",
       "      <td>14.971081</td>\n",
       "    </tr>\n",
       "    <tr>\n",
       "      <th>503</th>\n",
       "      <td>2.239540</td>\n",
       "      <td>0.379899</td>\n",
       "      <td>0.334537</td>\n",
       "      <td>0.043371</td>\n",
       "      <td>0.028184</td>\n",
       "      <td>0.074610</td>\n",
       "      <td>1.178756</td>\n",
       "      <td>-1.953033</td>\n",
       "      <td>-0.408262</td>\n",
       "      <td>-0.401879</td>\n",
       "      <td>...</td>\n",
       "      <td>0.052583</td>\n",
       "      <td>0.074953</td>\n",
       "      <td>0.192863</td>\n",
       "      <td>1.122040e+10</td>\n",
       "      <td>1.028262</td>\n",
       "      <td>13.341730</td>\n",
       "      <td>5.185025</td>\n",
       "      <td>-1.540205</td>\n",
       "      <td>-1.120443</td>\n",
       "      <td>0.578639</td>\n",
       "    </tr>\n",
       "    <tr>\n",
       "      <th>504</th>\n",
       "      <td>0.170419</td>\n",
       "      <td>0.257605</td>\n",
       "      <td>0.409506</td>\n",
       "      <td>0.152400</td>\n",
       "      <td>0.092283</td>\n",
       "      <td>-1.733618</td>\n",
       "      <td>-2.529169</td>\n",
       "      <td>0.016779</td>\n",
       "      <td>-1.189223</td>\n",
       "      <td>-0.136746</td>\n",
       "      <td>...</td>\n",
       "      <td>0.044079</td>\n",
       "      <td>0.109893</td>\n",
       "      <td>0.062216</td>\n",
       "      <td>7.752064e+09</td>\n",
       "      <td>-25.022802</td>\n",
       "      <td>9.099735</td>\n",
       "      <td>16.073116</td>\n",
       "      <td>-0.930263</td>\n",
       "      <td>-0.930263</td>\n",
       "      <td>1.386798</td>\n",
       "    </tr>\n",
       "    <tr>\n",
       "      <th>505</th>\n",
       "      <td>4.378726</td>\n",
       "      <td>0.321450</td>\n",
       "      <td>0.695999</td>\n",
       "      <td>0.280082</td>\n",
       "      <td>0.159104</td>\n",
       "      <td>0.344472</td>\n",
       "      <td>0.641032</td>\n",
       "      <td>0.109628</td>\n",
       "      <td>19.038510</td>\n",
       "      <td>0.154313</td>\n",
       "      <td>...</td>\n",
       "      <td>0.016716</td>\n",
       "      <td>0.037596</td>\n",
       "      <td>0.044480</td>\n",
       "      <td>2.166616e+10</td>\n",
       "      <td>8.215609</td>\n",
       "      <td>26.598902</td>\n",
       "      <td>22.481802</td>\n",
       "      <td>14.893054</td>\n",
       "      <td>18.625178</td>\n",
       "      <td>7.449869</td>\n",
       "    </tr>\n",
       "    <tr>\n",
       "      <th>506</th>\n",
       "      <td>1.444171</td>\n",
       "      <td>0.351620</td>\n",
       "      <td>0.412920</td>\n",
       "      <td>0.036724</td>\n",
       "      <td>0.022639</td>\n",
       "      <td>0.065553</td>\n",
       "      <td>0.851282</td>\n",
       "      <td>0.539326</td>\n",
       "      <td>-1.825301</td>\n",
       "      <td>-35.656250</td>\n",
       "      <td>...</td>\n",
       "      <td>0.057398</td>\n",
       "      <td>0.038463</td>\n",
       "      <td>-0.006312</td>\n",
       "      <td>5.069823e+09</td>\n",
       "      <td>0.920614</td>\n",
       "      <td>25.999093</td>\n",
       "      <td>-158.431975</td>\n",
       "      <td>-0.973281</td>\n",
       "      <td>-0.660929</td>\n",
       "      <td>0.493894</td>\n",
       "    </tr>\n",
       "  </tbody>\n",
       "</table>\n",
       "<p>5 rows × 25 columns</p>\n",
       "</div>"
      ],
      "text/plain": [
       "     Current Ratio  Debt Ratio  Gross Profit Margin  Net Profit Margin  \\\n",
       "502       1.389877    0.932381             0.841861           0.479427   \n",
       "503       2.239540    0.379899             0.334537           0.043371   \n",
       "504       0.170419    0.257605             0.409506           0.152400   \n",
       "505       4.378726    0.321450             0.695999           0.280082   \n",
       "506       1.444171    0.351620             0.412920           0.036724   \n",
       "\n",
       "     Return on Assets  Return on Equity  Earnings Growth  Earnings Growth QOQ  \\\n",
       "502          0.198045         -0.462193         0.273902             0.323322   \n",
       "503          0.028184          0.074610         1.178756            -1.953033   \n",
       "504          0.092283         -1.733618        -2.529169             0.016779   \n",
       "505          0.159104          0.344472         0.641032             0.109628   \n",
       "506          0.022639          0.065553         0.851282             0.539326   \n",
       "\n",
       "     Earnings Growth YOY  FCF Growth  ...  Dividend Yield  Earnings Yield  \\\n",
       "502             0.771687    0.008291  ...        0.020114        0.032024   \n",
       "503            -0.408262   -0.401879  ...        0.052583        0.074953   \n",
       "504            -1.189223   -0.136746  ...        0.044079        0.109893   \n",
       "505            19.038510    0.154313  ...        0.016716        0.037596   \n",
       "506            -1.825301  -35.656250  ...        0.057398        0.038463   \n",
       "\n",
       "     FCF Yield    Market-Cap     P/Book        P/E       P/FCF     P/NCAV  \\\n",
       "502   0.036212  1.818940e+10 -13.128647  31.227027   27.615010  -9.172927   \n",
       "503   0.192863  1.122040e+10   1.028262  13.341730    5.185025  -1.540205   \n",
       "504   0.062216  7.752064e+09 -25.022802   9.099735   16.073116  -0.930263   \n",
       "505   0.044480  2.166616e+10   8.215609  26.598902   22.481802  14.893054   \n",
       "506  -0.006312  5.069823e+09   0.920614  25.999093 -158.431975  -0.973281   \n",
       "\n",
       "      P/NetNet    P/Sales  \n",
       "502  -9.008132  14.971081  \n",
       "503  -1.120443   0.578639  \n",
       "504  -0.930263   1.386798  \n",
       "505  18.625178   7.449869  \n",
       "506  -0.660929   0.493894  \n",
       "\n",
       "[5 rows x 25 columns]"
      ]
     },
     "execution_count": 196,
     "metadata": {},
     "output_type": "execute_result"
    }
   ],
   "source": [
    "all_years_signals.tail()"
   ]
  },
  {
   "cell_type": "code",
   "execution_count": 197,
   "metadata": {},
   "outputs": [
    {
     "name": "stdout",
     "output_type": "stream",
     "text": [
      "(621, 5)\n",
      "(507, 25)\n"
     ]
    }
   ],
   "source": [
    "print(multpl_stock_yearly_returns_melt.shape)\n",
    "print(all_years_signals.shape)"
   ]
  },
  {
   "cell_type": "code",
   "execution_count": 198,
   "metadata": {},
   "outputs": [],
   "source": [
    "# Separating latest data\n",
    "# multpl_stock_yearly_returns_melt['Date'] = pd.to_datetime(multpl_stock_yearly_returns_melt['Date'])\n",
    "yearly_returns_latest_df = multpl_stock_yearly_returns_melt[multpl_stock_yearly_returns_melt['Date'].dt.year == 2019]\n",
    "yearly_returns_df = multpl_stock_yearly_returns_melt[multpl_stock_yearly_returns_melt['Date'].dt.year != 2019]"
   ]
  },
  {
   "cell_type": "code",
   "execution_count": 199,
   "metadata": {},
   "outputs": [
    {
     "name": "stdout",
     "output_type": "stream",
     "text": [
      "(552, 5)\n",
      "(69, 5)\n"
     ]
    }
   ],
   "source": [
    "print(yearly_returns_df.shape)\n",
    "print(yearly_returns_latest_df.shape)"
   ]
  },
  {
   "cell_type": "code",
   "execution_count": 200,
   "metadata": {},
   "outputs": [],
   "source": [
    "yearly_returns_df = yearly_returns_df.drop(columns = [\"TickerSymbol\", \"Date\"])\n",
    "yearly_returns_latest_df = yearly_returns_latest_df.drop(columns = [\"TickerSymbol\", \"Date\"])"
   ]
  },
  {
   "cell_type": "code",
   "execution_count": 201,
   "metadata": {},
   "outputs": [],
   "source": [
    "yearly_returns_df = yearly_returns_df.reset_index(drop = True)\n",
    "yearly_returns_latest_df = yearly_returns_latest_df.reset_index(drop = True)"
   ]
  },
  {
   "cell_type": "code",
   "execution_count": 202,
   "metadata": {
    "scrolled": true
   },
   "outputs": [
    {
     "name": "stdout",
     "output_type": "stream",
     "text": [
      "(552, 3)\n",
      "(507, 25)\n"
     ]
    }
   ],
   "source": [
    "print(yearly_returns_df.shape)\n",
    "print(all_years_signals.shape)"
   ]
  },
  {
   "cell_type": "code",
   "execution_count": 203,
   "metadata": {},
   "outputs": [],
   "source": [
    "final_df = pd.concat([yearly_returns_df, all_years_signals], axis=1)"
   ]
  },
  {
   "cell_type": "code",
   "execution_count": 204,
   "metadata": {
    "scrolled": false
   },
   "outputs": [
    {
     "data": {
      "text/html": [
       "<div>\n",
       "<style scoped>\n",
       "    .dataframe tbody tr th:only-of-type {\n",
       "        vertical-align: middle;\n",
       "    }\n",
       "\n",
       "    .dataframe tbody tr th {\n",
       "        vertical-align: top;\n",
       "    }\n",
       "\n",
       "    .dataframe thead th {\n",
       "        text-align: right;\n",
       "    }\n",
       "</style>\n",
       "<table border=\"1\" class=\"dataframe\">\n",
       "  <thead>\n",
       "    <tr style=\"text-align: right;\">\n",
       "      <th></th>\n",
       "      <th>XLK_Return</th>\n",
       "      <th>YearlyReturn</th>\n",
       "      <th>win</th>\n",
       "      <th>Current Ratio</th>\n",
       "      <th>Debt Ratio</th>\n",
       "      <th>Gross Profit Margin</th>\n",
       "      <th>Net Profit Margin</th>\n",
       "      <th>Return on Assets</th>\n",
       "      <th>Return on Equity</th>\n",
       "      <th>Earnings Growth</th>\n",
       "      <th>...</th>\n",
       "      <th>Dividend Yield</th>\n",
       "      <th>Earnings Yield</th>\n",
       "      <th>FCF Yield</th>\n",
       "      <th>Market-Cap</th>\n",
       "      <th>P/Book</th>\n",
       "      <th>P/E</th>\n",
       "      <th>P/FCF</th>\n",
       "      <th>P/NCAV</th>\n",
       "      <th>P/NetNet</th>\n",
       "      <th>P/Sales</th>\n",
       "    </tr>\n",
       "  </thead>\n",
       "  <tbody>\n",
       "    <tr>\n",
       "      <th>0</th>\n",
       "      <td>NaN</td>\n",
       "      <td>NaN</td>\n",
       "      <td>0</td>\n",
       "      <td>1.608438</td>\n",
       "      <td>0.149110</td>\n",
       "      <td>0.404789</td>\n",
       "      <td>0.239466</td>\n",
       "      <td>0.344785</td>\n",
       "      <td>0.542403</td>\n",
       "      <td>0.849854</td>\n",
       "      <td>...</td>\n",
       "      <td>0.016187</td>\n",
       "      <td>0.068334</td>\n",
       "      <td>0.079288</td>\n",
       "      <td>3.793409e+11</td>\n",
       "      <td>4.951262</td>\n",
       "      <td>14.633938</td>\n",
       "      <td>12.612326</td>\n",
       "      <td>72.504003</td>\n",
       "      <td>-40.401624</td>\n",
       "      <td>3.504337</td>\n",
       "    </tr>\n",
       "    <tr>\n",
       "      <th>1</th>\n",
       "      <td>NaN</td>\n",
       "      <td>NaN</td>\n",
       "      <td>0</td>\n",
       "      <td>1.451160</td>\n",
       "      <td>0.000417</td>\n",
       "      <td>0.305433</td>\n",
       "      <td>0.083792</td>\n",
       "      <td>0.185335</td>\n",
       "      <td>0.720317</td>\n",
       "      <td>0.275050</td>\n",
       "      <td>...</td>\n",
       "      <td>0.020256</td>\n",
       "      <td>0.060548</td>\n",
       "      <td>0.086530</td>\n",
       "      <td>3.939088e+10</td>\n",
       "      <td>9.336138</td>\n",
       "      <td>16.515754</td>\n",
       "      <td>11.556717</td>\n",
       "      <td>-498.985125</td>\n",
       "      <td>-11.316130</td>\n",
       "      <td>1.383893</td>\n",
       "    </tr>\n",
       "    <tr>\n",
       "      <th>2</th>\n",
       "      <td>NaN</td>\n",
       "      <td>NaN</td>\n",
       "      <td>0</td>\n",
       "      <td>3.360781</td>\n",
       "      <td>0.178550</td>\n",
       "      <td>0.894718</td>\n",
       "      <td>0.227890</td>\n",
       "      <td>0.116770</td>\n",
       "      <td>0.182498</td>\n",
       "      <td>0.958640</td>\n",
       "      <td>...</td>\n",
       "      <td>0.016187</td>\n",
       "      <td>0.064662</td>\n",
       "      <td>0.081273</td>\n",
       "      <td>1.435112e+10</td>\n",
       "      <td>2.579300</td>\n",
       "      <td>15.464932</td>\n",
       "      <td>12.304213</td>\n",
       "      <td>26.556668</td>\n",
       "      <td>68.349719</td>\n",
       "      <td>3.524304</td>\n",
       "    </tr>\n",
       "    <tr>\n",
       "      <th>3</th>\n",
       "      <td>NaN</td>\n",
       "      <td>NaN</td>\n",
       "      <td>0</td>\n",
       "      <td>8.354869</td>\n",
       "      <td>0.167949</td>\n",
       "      <td>0.663658</td>\n",
       "      <td>0.289777</td>\n",
       "      <td>0.200376</td>\n",
       "      <td>0.271085</td>\n",
       "      <td>0.218106</td>\n",
       "      <td>...</td>\n",
       "      <td>0.025536</td>\n",
       "      <td>0.078649</td>\n",
       "      <td>0.070501</td>\n",
       "      <td>1.102868e+10</td>\n",
       "      <td>2.905793</td>\n",
       "      <td>12.714734</td>\n",
       "      <td>14.184201</td>\n",
       "      <td>3.797591</td>\n",
       "      <td>4.378039</td>\n",
       "      <td>3.684432</td>\n",
       "    </tr>\n",
       "    <tr>\n",
       "      <th>4</th>\n",
       "      <td>NaN</td>\n",
       "      <td>NaN</td>\n",
       "      <td>0</td>\n",
       "      <td>1.094687</td>\n",
       "      <td>0.149110</td>\n",
       "      <td>0.416986</td>\n",
       "      <td>0.126393</td>\n",
       "      <td>0.041400</td>\n",
       "      <td>0.222072</td>\n",
       "      <td>0.060209</td>\n",
       "      <td>...</td>\n",
       "      <td>0.026109</td>\n",
       "      <td>0.047539</td>\n",
       "      <td>0.056627</td>\n",
       "      <td>2.689159e+10</td>\n",
       "      <td>4.467634</td>\n",
       "      <td>21.035345</td>\n",
       "      <td>17.659302</td>\n",
       "      <td>59.363324</td>\n",
       "      <td>-1.357796</td>\n",
       "      <td>2.658716</td>\n",
       "    </tr>\n",
       "  </tbody>\n",
       "</table>\n",
       "<p>5 rows × 28 columns</p>\n",
       "</div>"
      ],
      "text/plain": [
       "   XLK_Return  YearlyReturn  win  Current Ratio  Debt Ratio  \\\n",
       "0         NaN           NaN    0       1.608438    0.149110   \n",
       "1         NaN           NaN    0       1.451160    0.000417   \n",
       "2         NaN           NaN    0       3.360781    0.178550   \n",
       "3         NaN           NaN    0       8.354869    0.167949   \n",
       "4         NaN           NaN    0       1.094687    0.149110   \n",
       "\n",
       "   Gross Profit Margin  Net Profit Margin  Return on Assets  Return on Equity  \\\n",
       "0             0.404789           0.239466          0.344785          0.542403   \n",
       "1             0.305433           0.083792          0.185335          0.720317   \n",
       "2             0.894718           0.227890          0.116770          0.182498   \n",
       "3             0.663658           0.289777          0.200376          0.271085   \n",
       "4             0.416986           0.126393          0.041400          0.222072   \n",
       "\n",
       "   Earnings Growth  ...  Dividend Yield  Earnings Yield  FCF Yield  \\\n",
       "0         0.849854  ...        0.016187        0.068334   0.079288   \n",
       "1         0.275050  ...        0.020256        0.060548   0.086530   \n",
       "2         0.958640  ...        0.016187        0.064662   0.081273   \n",
       "3         0.218106  ...        0.025536        0.078649   0.070501   \n",
       "4         0.060209  ...        0.026109        0.047539   0.056627   \n",
       "\n",
       "     Market-Cap    P/Book        P/E      P/FCF      P/NCAV   P/NetNet  \\\n",
       "0  3.793409e+11  4.951262  14.633938  12.612326   72.504003 -40.401624   \n",
       "1  3.939088e+10  9.336138  16.515754  11.556717 -498.985125 -11.316130   \n",
       "2  1.435112e+10  2.579300  15.464932  12.304213   26.556668  68.349719   \n",
       "3  1.102868e+10  2.905793  12.714734  14.184201    3.797591   4.378039   \n",
       "4  2.689159e+10  4.467634  21.035345  17.659302   59.363324  -1.357796   \n",
       "\n",
       "    P/Sales  \n",
       "0  3.504337  \n",
       "1  1.383893  \n",
       "2  3.524304  \n",
       "3  3.684432  \n",
       "4  2.658716  \n",
       "\n",
       "[5 rows x 28 columns]"
      ]
     },
     "execution_count": 204,
     "metadata": {},
     "output_type": "execute_result"
    }
   ],
   "source": [
    "final_df.head()"
   ]
  },
  {
   "cell_type": "code",
   "execution_count": 205,
   "metadata": {},
   "outputs": [
    {
     "data": {
      "text/plain": [
       "(552, 28)"
      ]
     },
     "execution_count": 205,
     "metadata": {},
     "output_type": "execute_result"
    }
   ],
   "source": [
    "final_df.shape"
   ]
  },
  {
   "cell_type": "code",
   "execution_count": 206,
   "metadata": {},
   "outputs": [],
   "source": [
    "df_signals = df_signals.reset_index(drop = True)"
   ]
  },
  {
   "cell_type": "code",
   "execution_count": 207,
   "metadata": {
    "scrolled": true
   },
   "outputs": [
    {
     "name": "stdout",
     "output_type": "stream",
     "text": [
      "(69, 3)\n",
      "(66, 25)\n"
     ]
    }
   ],
   "source": [
    "print(yearly_returns_latest_df.shape)\n",
    "print(df_signals.shape)"
   ]
  },
  {
   "cell_type": "code",
   "execution_count": 208,
   "metadata": {},
   "outputs": [
    {
     "data": {
      "text/html": [
       "<div>\n",
       "<style scoped>\n",
       "    .dataframe tbody tr th:only-of-type {\n",
       "        vertical-align: middle;\n",
       "    }\n",
       "\n",
       "    .dataframe tbody tr th {\n",
       "        vertical-align: top;\n",
       "    }\n",
       "\n",
       "    .dataframe thead th {\n",
       "        text-align: right;\n",
       "    }\n",
       "</style>\n",
       "<table border=\"1\" class=\"dataframe\">\n",
       "  <thead>\n",
       "    <tr style=\"text-align: right;\">\n",
       "      <th></th>\n",
       "      <th>Current Ratio</th>\n",
       "      <th>Debt Ratio</th>\n",
       "      <th>Gross Profit Margin</th>\n",
       "      <th>Net Profit Margin</th>\n",
       "      <th>Return on Assets</th>\n",
       "      <th>Return on Equity</th>\n",
       "      <th>Earnings Growth</th>\n",
       "      <th>Earnings Growth QOQ</th>\n",
       "      <th>Earnings Growth YOY</th>\n",
       "      <th>FCF Growth</th>\n",
       "      <th>...</th>\n",
       "      <th>Dividend Yield</th>\n",
       "      <th>Earnings Yield</th>\n",
       "      <th>FCF Yield</th>\n",
       "      <th>Market-Cap</th>\n",
       "      <th>P/Book</th>\n",
       "      <th>P/E</th>\n",
       "      <th>P/FCF</th>\n",
       "      <th>P/NCAV</th>\n",
       "      <th>P/NetNet</th>\n",
       "      <th>P/Sales</th>\n",
       "    </tr>\n",
       "  </thead>\n",
       "  <tbody>\n",
       "    <tr>\n",
       "      <th>0</th>\n",
       "      <td>1.540126</td>\n",
       "      <td>0.319178</td>\n",
       "      <td>0.378178</td>\n",
       "      <td>0.212381</td>\n",
       "      <td>0.151086</td>\n",
       "      <td>0.515703</td>\n",
       "      <td>-0.071811</td>\n",
       "      <td>0.362605</td>\n",
       "      <td>-0.031080</td>\n",
       "      <td>-0.081487</td>\n",
       "      <td>...</td>\n",
       "      <td>0.011591</td>\n",
       "      <td>0.045364</td>\n",
       "      <td>0.048352</td>\n",
       "      <td>1.218062e+12</td>\n",
       "      <td>13.461030</td>\n",
       "      <td>22.043972</td>\n",
       "      <td>20.681569</td>\n",
       "      <td>-14.294989</td>\n",
       "      <td>-9.499520</td>\n",
       "      <td>4.681720</td>\n",
       "    </tr>\n",
       "    <tr>\n",
       "      <th>1</th>\n",
       "      <td>1.396741</td>\n",
       "      <td>0.000761</td>\n",
       "      <td>0.308103</td>\n",
       "      <td>0.110589</td>\n",
       "      <td>0.195472</td>\n",
       "      <td>0.445622</td>\n",
       "      <td>0.177148</td>\n",
       "      <td>-0.095308</td>\n",
       "      <td>0.098009</td>\n",
       "      <td>0.113310</td>\n",
       "      <td>...</td>\n",
       "      <td>0.014571</td>\n",
       "      <td>0.037352</td>\n",
       "      <td>0.047113</td>\n",
       "      <td>1.279473e+11</td>\n",
       "      <td>8.628944</td>\n",
       "      <td>26.772194</td>\n",
       "      <td>21.225697</td>\n",
       "      <td>261.965953</td>\n",
       "      <td>-25.020021</td>\n",
       "      <td>2.960714</td>\n",
       "    </tr>\n",
       "    <tr>\n",
       "      <th>2</th>\n",
       "      <td>0.966122</td>\n",
       "      <td>0.211714</td>\n",
       "      <td>0.860408</td>\n",
       "      <td>0.280772</td>\n",
       "      <td>0.179113</td>\n",
       "      <td>0.310624</td>\n",
       "      <td>0.427639</td>\n",
       "      <td>-0.005896</td>\n",
       "      <td>0.156352</td>\n",
       "      <td>0.304345</td>\n",
       "      <td>...</td>\n",
       "      <td>NaN</td>\n",
       "      <td>0.018077</td>\n",
       "      <td>0.025757</td>\n",
       "      <td>1.483637e+11</td>\n",
       "      <td>15.029521</td>\n",
       "      <td>55.319561</td>\n",
       "      <td>38.824748</td>\n",
       "      <td>-32.967247</td>\n",
       "      <td>-27.469483</td>\n",
       "      <td>15.532200</td>\n",
       "    </tr>\n",
       "    <tr>\n",
       "      <th>3</th>\n",
       "      <td>1.001142</td>\n",
       "      <td>0.263837</td>\n",
       "      <td>0.677884</td>\n",
       "      <td>0.247099</td>\n",
       "      <td>0.073887</td>\n",
       "      <td>0.139854</td>\n",
       "      <td>0.076706</td>\n",
       "      <td>-0.015119</td>\n",
       "      <td>-0.125680</td>\n",
       "      <td>-0.063434</td>\n",
       "      <td>...</td>\n",
       "      <td>0.018626</td>\n",
       "      <td>0.037372</td>\n",
       "      <td>0.049213</td>\n",
       "      <td>4.062647e+10</td>\n",
       "      <td>3.445773</td>\n",
       "      <td>26.758188</td>\n",
       "      <td>20.319983</td>\n",
       "      <td>-5.229067</td>\n",
       "      <td>-4.878525</td>\n",
       "      <td>6.611917</td>\n",
       "    </tr>\n",
       "    <tr>\n",
       "      <th>4</th>\n",
       "      <td>1.010534</td>\n",
       "      <td>0.053154</td>\n",
       "      <td>0.429114</td>\n",
       "      <td>0.165169</td>\n",
       "      <td>0.063335</td>\n",
       "      <td>0.506497</td>\n",
       "      <td>0.382937</td>\n",
       "      <td>0.224816</td>\n",
       "      <td>0.152355</td>\n",
       "      <td>0.219410</td>\n",
       "      <td>...</td>\n",
       "      <td>0.017989</td>\n",
       "      <td>0.031964</td>\n",
       "      <td>0.032489</td>\n",
       "      <td>7.413964e+10</td>\n",
       "      <td>13.830217</td>\n",
       "      <td>31.285190</td>\n",
       "      <td>30.779941</td>\n",
       "      <td>-26.055050</td>\n",
       "      <td>-2.903202</td>\n",
       "      <td>5.167354</td>\n",
       "    </tr>\n",
       "  </tbody>\n",
       "</table>\n",
       "<p>5 rows × 25 columns</p>\n",
       "</div>"
      ],
      "text/plain": [
       "   Current Ratio  Debt Ratio  Gross Profit Margin  Net Profit Margin  \\\n",
       "0       1.540126    0.319178             0.378178           0.212381   \n",
       "1       1.396741    0.000761             0.308103           0.110589   \n",
       "2       0.966122    0.211714             0.860408           0.280772   \n",
       "3       1.001142    0.263837             0.677884           0.247099   \n",
       "4       1.010534    0.053154             0.429114           0.165169   \n",
       "\n",
       "   Return on Assets  Return on Equity  Earnings Growth  Earnings Growth QOQ  \\\n",
       "0          0.151086          0.515703        -0.071811             0.362605   \n",
       "1          0.195472          0.445622         0.177148            -0.095308   \n",
       "2          0.179113          0.310624         0.427639            -0.005896   \n",
       "3          0.073887          0.139854         0.076706            -0.015119   \n",
       "4          0.063335          0.506497         0.382937             0.224816   \n",
       "\n",
       "   Earnings Growth YOY  FCF Growth  ...  Dividend Yield  Earnings Yield  \\\n",
       "0            -0.031080   -0.081487  ...        0.011591        0.045364   \n",
       "1             0.098009    0.113310  ...        0.014571        0.037352   \n",
       "2             0.156352    0.304345  ...             NaN        0.018077   \n",
       "3            -0.125680   -0.063434  ...        0.018626        0.037372   \n",
       "4             0.152355    0.219410  ...        0.017989        0.031964   \n",
       "\n",
       "   FCF Yield    Market-Cap     P/Book        P/E      P/FCF      P/NCAV  \\\n",
       "0   0.048352  1.218062e+12  13.461030  22.043972  20.681569  -14.294989   \n",
       "1   0.047113  1.279473e+11   8.628944  26.772194  21.225697  261.965953   \n",
       "2   0.025757  1.483637e+11  15.029521  55.319561  38.824748  -32.967247   \n",
       "3   0.049213  4.062647e+10   3.445773  26.758188  20.319983   -5.229067   \n",
       "4   0.032489  7.413964e+10  13.830217  31.285190  30.779941  -26.055050   \n",
       "\n",
       "    P/NetNet    P/Sales  \n",
       "0  -9.499520   4.681720  \n",
       "1 -25.020021   2.960714  \n",
       "2 -27.469483  15.532200  \n",
       "3  -4.878525   6.611917  \n",
       "4  -2.903202   5.167354  \n",
       "\n",
       "[5 rows x 25 columns]"
      ]
     },
     "execution_count": 208,
     "metadata": {},
     "output_type": "execute_result"
    }
   ],
   "source": [
    "df_signals.head()"
   ]
  },
  {
   "cell_type": "code",
   "execution_count": 209,
   "metadata": {
    "scrolled": true
   },
   "outputs": [
    {
     "data": {
      "text/plain": [
       "(69, 28)"
      ]
     },
     "execution_count": 209,
     "metadata": {},
     "output_type": "execute_result"
    }
   ],
   "source": [
    "final_test_df= pd.concat([yearly_returns_latest_df, df_signals], axis=1)\n",
    "final_test_df.shape\n",
    "# df_signals.head()"
   ]
  },
  {
   "cell_type": "markdown",
   "metadata": {},
   "source": [
    "Output of the previous section are `final_df` (for train data) `final_test_df` (for test data), both including `win` column"
   ]
  },
  {
   "cell_type": "code",
   "execution_count": 210,
   "metadata": {},
   "outputs": [],
   "source": [
    "# final_df.isnull().sum()"
   ]
  },
  {
   "cell_type": "code",
   "execution_count": 211,
   "metadata": {},
   "outputs": [],
   "source": [
    "# df_signals_list[5].isnull().sum()"
   ]
  },
  {
   "cell_type": "markdown",
   "metadata": {},
   "source": [
    "# Add additional features"
   ]
  },
  {
   "cell_type": "code",
   "execution_count": 212,
   "metadata": {},
   "outputs": [],
   "source": [
    "# NLP, FRED"
   ]
  },
  {
   "cell_type": "code",
   "execution_count": null,
   "metadata": {},
   "outputs": [],
   "source": []
  },
  {
   "cell_type": "markdown",
   "metadata": {},
   "source": [
    "# Data discovery and visualizations"
   ]
  },
  {
   "cell_type": "code",
   "execution_count": 213,
   "metadata": {},
   "outputs": [],
   "source": [
    "master_df = pd.concat([final_df, final_test_df], axis = 0)\n",
    "# master_df.shape"
   ]
  },
  {
   "cell_type": "code",
   "execution_count": 214,
   "metadata": {},
   "outputs": [
    {
     "data": {
      "text/plain": [
       "XLK_Return             69\n",
       "YearlyReturn           98\n",
       "win                     0\n",
       "Current Ratio          48\n",
       "Debt Ratio             52\n",
       "Gross Profit Margin    48\n",
       "Net Profit Margin      48\n",
       "Return on Assets       49\n",
       "Return on Equity       49\n",
       "Earnings Growth        49\n",
       "Earnings Growth QOQ    49\n",
       "Earnings Growth YOY    49\n",
       "FCF Growth             49\n",
       "FCF Growth QOQ         49\n",
       "FCF Growth YOY         49\n",
       "Sales Growth           49\n",
       "Sales Growth QOQ       49\n",
       "Sales Growth YOY       49\n",
       "Dividend Yield         68\n",
       "Earnings Yield         48\n",
       "FCF Yield              48\n",
       "Market-Cap             48\n",
       "P/Book                 48\n",
       "P/E                    48\n",
       "P/FCF                  48\n",
       "P/NCAV                 48\n",
       "P/NetNet               48\n",
       "P/Sales                48\n",
       "dtype: int64"
      ]
     },
     "execution_count": 214,
     "metadata": {},
     "output_type": "execute_result"
    }
   ],
   "source": [
    "master_df.isnull().sum()"
   ]
  },
  {
   "cell_type": "code",
   "execution_count": 215,
   "metadata": {},
   "outputs": [],
   "source": [
    "# master_df.describe()"
   ]
  },
  {
   "cell_type": "code",
   "execution_count": 216,
   "metadata": {},
   "outputs": [],
   "source": [
    "# correlations = master_df.corr()"
   ]
  },
  {
   "cell_type": "code",
   "execution_count": 217,
   "metadata": {},
   "outputs": [],
   "source": [
    "# fig = pyplot.figure()\n",
    "# ax = fig.add_subplot(111)\n",
    "# cax = ax.matshow(correlations, vmin=-1, vmax=1)\n",
    "# fig.colorbar(cax)\n",
    "# pyplot.show()"
   ]
  },
  {
   "cell_type": "markdown",
   "metadata": {},
   "source": [
    "# Feature Engineering  "
   ]
  },
  {
   "cell_type": "code",
   "execution_count": 218,
   "metadata": {},
   "outputs": [],
   "source": [
    "# Feature selection - Univariate, recursive feature elimination, PCA and feature importance"
   ]
  },
  {
   "cell_type": "code",
   "execution_count": 219,
   "metadata": {},
   "outputs": [],
   "source": [
    "# master_df = master_df[~master_df.isin([np.nan, np.inf, -np.inf]).any(1)]\n",
    "# master_df.shape # 550*25\n",
    "# X = master_df.iloc[:,1:]\n",
    "# Y = master_df['win']"
   ]
  },
  {
   "cell_type": "code",
   "execution_count": 220,
   "metadata": {},
   "outputs": [],
   "source": [
    "# from sklearn.ensemble import ExtraTreesClassifier\n",
    "# import matplotlib.pyplot as plt\n",
    "\n",
    "# model = ExtraTreesClassifier()\n",
    "# model.fit(X,Y)\n",
    "# print(model.feature_importances_) #use inbuilt class feature_importances of tree based classifiers\n",
    "# #plot graph of feature importances for better visualization\n",
    "# feat_importances = pd.Series(model.feature_importances_, index=X.columns)\n",
    "# feat_importances.nlargest(10).plot(kind='barh')\n",
    "# plt.show()"
   ]
  },
  {
   "cell_type": "code",
   "execution_count": 221,
   "metadata": {},
   "outputs": [],
   "source": [
    "# univariate - non-negative input\n",
    "# test = SelectKBest(score_func=chi2, k=4)\n",
    "# fit = test.fit(X, Y)\n",
    "# set_printoptions(precision=3)\n",
    "# print(fit.scores_)\n",
    "# features = fit.transform(X)\n",
    "# # summarize selected features\n",
    "# print(features[0:5,:])"
   ]
  },
  {
   "cell_type": "code",
   "execution_count": 222,
   "metadata": {},
   "outputs": [],
   "source": [
    "# PCA\n",
    "# pca = PCA(n_components=3)\n",
    "# fit = pca.fit(X)"
   ]
  },
  {
   "cell_type": "code",
   "execution_count": 223,
   "metadata": {},
   "outputs": [],
   "source": [
    "# feature extraction\n",
    "# model = LogisticRegression()\n",
    "# rfe = RFE(model, 3)\n",
    "# fit = rfe.fit(X, Y)\n",
    "# print(\"Num Features: %d\") % fit.n_features_\n",
    "# print(\"Selected Features: %s\") % fit.support_\n",
    "# print(\"Feature Ranking: %s\") % fit.ranking_"
   ]
  },
  {
   "cell_type": "markdown",
   "metadata": {},
   "source": [
    "# Create target and features for train and test"
   ]
  },
  {
   "cell_type": "code",
   "execution_count": 224,
   "metadata": {
    "scrolled": false
   },
   "outputs": [
    {
     "name": "stdout",
     "output_type": "stream",
     "text": [
      "(552, 28)\n",
      "(69, 28)\n"
     ]
    }
   ],
   "source": [
    "print(final_df.shape)\n",
    "print(final_test_df.shape)"
   ]
  },
  {
   "cell_type": "code",
   "execution_count": 225,
   "metadata": {},
   "outputs": [],
   "source": [
    "names = list(final_df.columns)\n",
    "names[0], names[2] = names[2], names[0]\n",
    "final_df = final_df.reindex(names, axis=1)\n",
    "\n",
    "names = list(final_test_df.columns)\n",
    "names[0], names[2] = names[2], names[0]\n",
    "final_test_df = final_test_df.reindex(names, axis=1)"
   ]
  },
  {
   "cell_type": "code",
   "execution_count": 226,
   "metadata": {
    "scrolled": true
   },
   "outputs": [
    {
     "data": {
      "text/html": [
       "<div>\n",
       "<style scoped>\n",
       "    .dataframe tbody tr th:only-of-type {\n",
       "        vertical-align: middle;\n",
       "    }\n",
       "\n",
       "    .dataframe tbody tr th {\n",
       "        vertical-align: top;\n",
       "    }\n",
       "\n",
       "    .dataframe thead th {\n",
       "        text-align: right;\n",
       "    }\n",
       "</style>\n",
       "<table border=\"1\" class=\"dataframe\">\n",
       "  <thead>\n",
       "    <tr style=\"text-align: right;\">\n",
       "      <th></th>\n",
       "      <th>win</th>\n",
       "      <th>YearlyReturn</th>\n",
       "      <th>XLK_Return</th>\n",
       "      <th>Current Ratio</th>\n",
       "      <th>Debt Ratio</th>\n",
       "      <th>Gross Profit Margin</th>\n",
       "      <th>Net Profit Margin</th>\n",
       "      <th>Return on Assets</th>\n",
       "      <th>Return on Equity</th>\n",
       "      <th>Earnings Growth</th>\n",
       "      <th>...</th>\n",
       "      <th>Dividend Yield</th>\n",
       "      <th>Earnings Yield</th>\n",
       "      <th>FCF Yield</th>\n",
       "      <th>Market-Cap</th>\n",
       "      <th>P/Book</th>\n",
       "      <th>P/E</th>\n",
       "      <th>P/FCF</th>\n",
       "      <th>P/NCAV</th>\n",
       "      <th>P/NetNet</th>\n",
       "      <th>P/Sales</th>\n",
       "    </tr>\n",
       "  </thead>\n",
       "  <tbody>\n",
       "    <tr>\n",
       "      <th>0</th>\n",
       "      <td>0</td>\n",
       "      <td>0.744326</td>\n",
       "      <td>0.443853</td>\n",
       "      <td>1.540126</td>\n",
       "      <td>0.319178</td>\n",
       "      <td>0.378178</td>\n",
       "      <td>0.212381</td>\n",
       "      <td>0.151086</td>\n",
       "      <td>0.515703</td>\n",
       "      <td>-0.071811</td>\n",
       "      <td>...</td>\n",
       "      <td>0.011591</td>\n",
       "      <td>0.045364</td>\n",
       "      <td>0.048352</td>\n",
       "      <td>1.218062e+12</td>\n",
       "      <td>13.461030</td>\n",
       "      <td>22.043972</td>\n",
       "      <td>20.681569</td>\n",
       "      <td>-14.294989</td>\n",
       "      <td>-9.499520</td>\n",
       "      <td>4.681720</td>\n",
       "    </tr>\n",
       "    <tr>\n",
       "      <th>1</th>\n",
       "      <td>0</td>\n",
       "      <td>0.465570</td>\n",
       "      <td>0.443853</td>\n",
       "      <td>1.396741</td>\n",
       "      <td>0.000761</td>\n",
       "      <td>0.308103</td>\n",
       "      <td>0.110589</td>\n",
       "      <td>0.195472</td>\n",
       "      <td>0.445622</td>\n",
       "      <td>0.177148</td>\n",
       "      <td>...</td>\n",
       "      <td>0.014571</td>\n",
       "      <td>0.037352</td>\n",
       "      <td>0.047113</td>\n",
       "      <td>1.279473e+11</td>\n",
       "      <td>8.628944</td>\n",
       "      <td>26.772194</td>\n",
       "      <td>21.225697</td>\n",
       "      <td>261.965953</td>\n",
       "      <td>-25.020021</td>\n",
       "      <td>2.960714</td>\n",
       "    </tr>\n",
       "    <tr>\n",
       "      <th>2</th>\n",
       "      <td>1</td>\n",
       "      <td>0.405322</td>\n",
       "      <td>0.443853</td>\n",
       "      <td>0.966122</td>\n",
       "      <td>0.211714</td>\n",
       "      <td>0.860408</td>\n",
       "      <td>0.280772</td>\n",
       "      <td>0.179113</td>\n",
       "      <td>0.310624</td>\n",
       "      <td>0.427639</td>\n",
       "      <td>...</td>\n",
       "      <td>NaN</td>\n",
       "      <td>0.018077</td>\n",
       "      <td>0.025757</td>\n",
       "      <td>1.483637e+11</td>\n",
       "      <td>15.029521</td>\n",
       "      <td>55.319561</td>\n",
       "      <td>38.824748</td>\n",
       "      <td>-32.967247</td>\n",
       "      <td>-27.469483</td>\n",
       "      <td>15.532200</td>\n",
       "    </tr>\n",
       "    <tr>\n",
       "      <th>3</th>\n",
       "      <td>1</td>\n",
       "      <td>0.383782</td>\n",
       "      <td>0.443853</td>\n",
       "      <td>1.001142</td>\n",
       "      <td>0.263837</td>\n",
       "      <td>0.677884</td>\n",
       "      <td>0.247099</td>\n",
       "      <td>0.073887</td>\n",
       "      <td>0.139854</td>\n",
       "      <td>0.076706</td>\n",
       "      <td>...</td>\n",
       "      <td>0.018626</td>\n",
       "      <td>0.037372</td>\n",
       "      <td>0.049213</td>\n",
       "      <td>4.062647e+10</td>\n",
       "      <td>3.445773</td>\n",
       "      <td>26.758188</td>\n",
       "      <td>20.319983</td>\n",
       "      <td>-5.229067</td>\n",
       "      <td>-4.878525</td>\n",
       "      <td>6.611917</td>\n",
       "    </tr>\n",
       "    <tr>\n",
       "      <th>4</th>\n",
       "      <td>1</td>\n",
       "      <td>0.283252</td>\n",
       "      <td>0.443853</td>\n",
       "      <td>1.010534</td>\n",
       "      <td>0.053154</td>\n",
       "      <td>0.429114</td>\n",
       "      <td>0.165169</td>\n",
       "      <td>0.063335</td>\n",
       "      <td>0.506497</td>\n",
       "      <td>0.382937</td>\n",
       "      <td>...</td>\n",
       "      <td>0.017989</td>\n",
       "      <td>0.031964</td>\n",
       "      <td>0.032489</td>\n",
       "      <td>7.413964e+10</td>\n",
       "      <td>13.830217</td>\n",
       "      <td>31.285190</td>\n",
       "      <td>30.779941</td>\n",
       "      <td>-26.055050</td>\n",
       "      <td>-2.903202</td>\n",
       "      <td>5.167354</td>\n",
       "    </tr>\n",
       "  </tbody>\n",
       "</table>\n",
       "<p>5 rows × 28 columns</p>\n",
       "</div>"
      ],
      "text/plain": [
       "   win  YearlyReturn  XLK_Return  Current Ratio  Debt Ratio  \\\n",
       "0    0      0.744326    0.443853       1.540126    0.319178   \n",
       "1    0      0.465570    0.443853       1.396741    0.000761   \n",
       "2    1      0.405322    0.443853       0.966122    0.211714   \n",
       "3    1      0.383782    0.443853       1.001142    0.263837   \n",
       "4    1      0.283252    0.443853       1.010534    0.053154   \n",
       "\n",
       "   Gross Profit Margin  Net Profit Margin  Return on Assets  Return on Equity  \\\n",
       "0             0.378178           0.212381          0.151086          0.515703   \n",
       "1             0.308103           0.110589          0.195472          0.445622   \n",
       "2             0.860408           0.280772          0.179113          0.310624   \n",
       "3             0.677884           0.247099          0.073887          0.139854   \n",
       "4             0.429114           0.165169          0.063335          0.506497   \n",
       "\n",
       "   Earnings Growth  ...  Dividend Yield  Earnings Yield  FCF Yield  \\\n",
       "0        -0.071811  ...        0.011591        0.045364   0.048352   \n",
       "1         0.177148  ...        0.014571        0.037352   0.047113   \n",
       "2         0.427639  ...             NaN        0.018077   0.025757   \n",
       "3         0.076706  ...        0.018626        0.037372   0.049213   \n",
       "4         0.382937  ...        0.017989        0.031964   0.032489   \n",
       "\n",
       "     Market-Cap     P/Book        P/E      P/FCF      P/NCAV   P/NetNet  \\\n",
       "0  1.218062e+12  13.461030  22.043972  20.681569  -14.294989  -9.499520   \n",
       "1  1.279473e+11   8.628944  26.772194  21.225697  261.965953 -25.020021   \n",
       "2  1.483637e+11  15.029521  55.319561  38.824748  -32.967247 -27.469483   \n",
       "3  4.062647e+10   3.445773  26.758188  20.319983   -5.229067  -4.878525   \n",
       "4  7.413964e+10  13.830217  31.285190  30.779941  -26.055050  -2.903202   \n",
       "\n",
       "     P/Sales  \n",
       "0   4.681720  \n",
       "1   2.960714  \n",
       "2  15.532200  \n",
       "3   6.611917  \n",
       "4   5.167354  \n",
       "\n",
       "[5 rows x 28 columns]"
      ]
     },
     "execution_count": 226,
     "metadata": {},
     "output_type": "execute_result"
    }
   ],
   "source": [
    "final_test_df.head()"
   ]
  },
  {
   "cell_type": "code",
   "execution_count": 227,
   "metadata": {},
   "outputs": [],
   "source": [
    "# drop the yearly returns and market-cap\n",
    "final_df = final_df.drop(columns = [\"YearlyReturn\", \"XLK_Return\", \"Market-Cap\"])\n",
    "final_test_df = final_test_df.drop(columns = [\"YearlyReturn\", \"XLK_Return\", \"Market-Cap\"])"
   ]
  },
  {
   "cell_type": "code",
   "execution_count": 228,
   "metadata": {},
   "outputs": [],
   "source": [
    "train_array = final_df.values\n",
    "test_array = final_test_df.values"
   ]
  },
  {
   "cell_type": "code",
   "execution_count": 229,
   "metadata": {},
   "outputs": [],
   "source": [
    "Y_train = train_array[0:,0]\n",
    "Y_test = test_array[0:,0]"
   ]
  },
  {
   "cell_type": "code",
   "execution_count": 230,
   "metadata": {},
   "outputs": [],
   "source": [
    "X_train = train_array[0:,1:]\n",
    "X_test = test_array[0:,1:]"
   ]
  },
  {
   "cell_type": "code",
   "execution_count": 231,
   "metadata": {
    "scrolled": true
   },
   "outputs": [
    {
     "name": "stdout",
     "output_type": "stream",
     "text": [
      "(552, 24)\n",
      "(69, 24)\n"
     ]
    }
   ],
   "source": [
    "# np.savetxt(\"foo.csv\", array, delimiter=\",\")\n",
    "print(X_train.shape)\n",
    "print(X_test.shape)"
   ]
  },
  {
   "cell_type": "code",
   "execution_count": 232,
   "metadata": {
    "scrolled": true
   },
   "outputs": [
    {
     "data": {
      "text/plain": [
       "array([0., 0., 1., 1., 1., 1., 1., 1., 0., 0., 1., 0., 1., 1., 1., 0., 0.,\n",
       "       1., 1., 1., 1., 1., 1., 1., 0., 1., 0., 0., 1., 0., 1., 1., 1., 1.,\n",
       "       1., 1., 1., 1., 1., 0., 0., 0., 0., 0., 1., 0., 1., 0., 1., 0., 0.,\n",
       "       1., 0., 1., 1., 1., 0., 0., 0., 0., 0., 1., 1., 1., 1., 0., 0., 1.,\n",
       "       0.])"
      ]
     },
     "execution_count": 232,
     "metadata": {},
     "output_type": "execute_result"
    }
   ],
   "source": [
    "Y_test"
   ]
  },
  {
   "cell_type": "code",
   "execution_count": 233,
   "metadata": {},
   "outputs": [],
   "source": [
    "# mask = ~np.any(np.isnan(X_train), axis=1)\n",
    "# mask_test = ~np.any(np.isnan(X_test), axis=1)\n",
    "\n",
    "# X_train = X_train[mask]\n",
    "# Y_train = Y_train[mask]\n",
    "\n",
    "# X_test = X_test[mask_test]\n",
    "# Y_test = Y_test[mask_test]"
   ]
  },
  {
   "cell_type": "code",
   "execution_count": 234,
   "metadata": {},
   "outputs": [],
   "source": [
    "## The one we use\n",
    "X_train[np.where(np.isnan(X_train))] = np.take(np.nanmedian(X_train, axis=0), np.where(np.isnan(X_train))[1])\n",
    "X_test[np.where(np.isnan(X_test))] = np.take(np.nanmedian(X_test, axis=0), np.where(np.isnan(X_test))[1])"
   ]
  },
  {
   "cell_type": "code",
   "execution_count": 235,
   "metadata": {},
   "outputs": [],
   "source": [
    "# replace posinf with max value\n",
    "X_train[np.where(np.isposinf(X_train))] = np.NINF\n",
    "X_train[np.where(np.isneginf(X_train))] = np.take(np.max(X_train, axis=0), np.where(np.isneginf(X_train))[1])"
   ]
  },
  {
   "cell_type": "code",
   "execution_count": 236,
   "metadata": {},
   "outputs": [
    {
     "data": {
      "text/plain": [
       "False"
      ]
     },
     "execution_count": 236,
     "metadata": {},
     "output_type": "execute_result"
    }
   ],
   "source": [
    "np.any(np.isnan(X_train))"
   ]
  },
  {
   "cell_type": "code",
   "execution_count": 237,
   "metadata": {},
   "outputs": [
    {
     "data": {
      "text/plain": [
       "False"
      ]
     },
     "execution_count": 237,
     "metadata": {},
     "output_type": "execute_result"
    }
   ],
   "source": [
    "np.any(np.isinf(X_train))"
   ]
  },
  {
   "cell_type": "code",
   "execution_count": 238,
   "metadata": {},
   "outputs": [],
   "source": [
    "# X_train= preprocessing.normalize(X_train, norm='l2')\n",
    "# X_test = preprocessing.normalize(X_test, norm='l2')"
   ]
  },
  {
   "cell_type": "code",
   "execution_count": 239,
   "metadata": {
    "scrolled": true
   },
   "outputs": [
    {
     "name": "stdout",
     "output_type": "stream",
     "text": [
      "(552, 24)\n",
      "(69, 24)\n"
     ]
    }
   ],
   "source": [
    "print(X_train.shape)\n",
    "print(X_test.shape)"
   ]
  },
  {
   "cell_type": "code",
   "execution_count": 240,
   "metadata": {},
   "outputs": [],
   "source": [
    "# Creating X and Y \n",
    "# X = np.append(X_train, X_test, axis=0)\n",
    "# Y = np.append(Y_train, Y_test, axis=0)\n",
    "X = X_train\n",
    "Y = Y_train"
   ]
  },
  {
   "cell_type": "markdown",
   "metadata": {},
   "source": [
    "# Model Pre-processing: Scale, standardize, normalize or binarize"
   ]
  },
  {
   "cell_type": "code",
   "execution_count": 241,
   "metadata": {},
   "outputs": [],
   "source": [
    "# Scale\n",
    "# scaler = MinMaxScaler(feature_range=(0, 1))\n",
    "# rescaledX = scaler.fit_transform(X)\n",
    "# # summarize transformed data\n",
    "# set_printoptions(precision=3)"
   ]
  },
  {
   "cell_type": "code",
   "execution_count": 242,
   "metadata": {},
   "outputs": [
    {
     "name": "stdout",
     "output_type": "stream",
     "text": [
      "[[-5.183e-01 -5.552e-01 -8.240e-01  7.915e-01  3.304e+00  1.818e-01\n",
      "   1.268e-01 -3.769e-02  1.092e-01  2.865e-01 -5.049e-02  6.399e-02\n",
      "   4.172e+00 -3.827e-01  2.217e-02 -2.856e-01  4.200e-01  3.638e-01\n",
      "   3.316e-02 -5.025e-02 -1.518e-01  2.462e-01 -2.361e-01 -2.286e-01]\n",
      " [-6.128e-01 -1.616e+00 -1.344e+00 -6.469e-01  1.159e+00  2.522e-01\n",
      "   4.254e-02  2.172e-02  3.376e-02  7.908e-02 -8.890e-02  3.087e+00\n",
      "   7.543e-01  6.078e-02 -2.789e-02 -4.176e-02  2.845e-01  5.025e-01\n",
      "   1.692e-01 -4.648e-02 -1.702e-01 -1.231e+00 -1.178e-02 -9.455e-01]\n",
      " [ 5.339e-01 -3.451e-01  1.738e+00  6.846e-01  2.373e-01  3.933e-02\n",
      "   1.428e-01 -6.092e-02 -4.534e-02  7.218e-02 -2.680e-02 -1.373e-02\n",
      "   4.055e-01 -3.775e-01 -6.193e-02 -2.856e-01  3.561e-01  4.019e-01\n",
      "  -4.041e-02 -4.858e-02 -1.572e-01  1.274e-01  6.027e-01 -2.219e-01]\n",
      " [ 3.533e+00 -4.207e-01  5.296e-01  1.256e+00  1.362e+00  7.439e-02\n",
      "   3.419e-02 -6.752e-02 -5.258e-02 -5.918e-02  9.877e-04 -2.731e-02\n",
      "  -6.005e-02 -6.718e-01 -8.329e-02  2.746e-01  5.996e-01  1.956e-01\n",
      "  -3.028e-02 -5.409e-02 -1.244e-01  6.860e-02  1.093e-01 -1.677e-01]\n",
      " [-8.268e-01 -5.552e-01 -7.602e-01 -2.533e-01 -7.764e-01  5.499e-02\n",
      "   1.104e-02  1.059e-01  8.222e-03  4.521e-03 -3.743e-02  1.329e-01\n",
      "   1.776e-01 -1.818e-01 -3.827e-02  3.090e-01  5.805e-02 -6.999e-02\n",
      "   1.816e-02 -3.743e-02 -6.386e-02  2.122e-01  6.503e-02 -5.145e-01]]\n"
     ]
    }
   ],
   "source": [
    "# Standardize\n",
    "scaler = StandardScaler().fit(X)\n",
    "rescaledX = scaler.transform(X)\n",
    "# summarize transformed data\n",
    "set_printoptions(precision=3)\n",
    "print(rescaledX[0:5,:])"
   ]
  },
  {
   "cell_type": "code",
   "execution_count": 243,
   "metadata": {},
   "outputs": [],
   "source": [
    "# Normalize\n",
    "# scaler = Normalizer().fit(X)\n",
    "# normalizedX = scaler.transform(X)\n",
    "# # summarize transformed data\n",
    "# set_printoptions(precision=3)\n",
    "# print(normalizedX[0:5,:])"
   ]
  },
  {
   "cell_type": "code",
   "execution_count": 244,
   "metadata": {},
   "outputs": [],
   "source": [
    "# Binarize\n",
    "# binarizer = Binarizer(threshold=0.0).fit(X)\n",
    "# binaryX = binarizer.transform(X)\n",
    "# # summarize transformed data\n",
    "# set_printoptions(precision=3)\n",
    "# print(binaryX[0:5,:])"
   ]
  },
  {
   "cell_type": "code",
   "execution_count": 245,
   "metadata": {},
   "outputs": [],
   "source": [
    "X = rescaledX"
   ]
  },
  {
   "cell_type": "markdown",
   "metadata": {},
   "source": [
    "# Classification algorithms"
   ]
  },
  {
   "cell_type": "code",
   "execution_count": 246,
   "metadata": {},
   "outputs": [],
   "source": [
    "# Classification: Logisitc, LDA, k-nearest neighbors, Naive bayes, classification and regression trees, & SVM"
   ]
  },
  {
   "cell_type": "code",
   "execution_count": 247,
   "metadata": {
    "scrolled": true
   },
   "outputs": [
    {
     "name": "stdout",
     "output_type": "stream",
     "text": [
      "LR: 0.595552 (0.109636)\n",
      "LDA: 0.599123 (0.113529)\n",
      "KNN: 0.564708 (0.106459)\n",
      "CART: 0.516266 (0.052908)\n",
      "NB: 0.617143 (0.138432)\n",
      "SVM: 0.615195 (0.149110)\n"
     ]
    }
   ],
   "source": [
    "models = []\n",
    "models.append(('LR', LogisticRegression()))\n",
    "models.append(('LDA', LinearDiscriminantAnalysis()))\n",
    "models.append(('KNN', KNeighborsClassifier()))\n",
    "models.append(('CART', DecisionTreeClassifier()))\n",
    "models.append(('NB', GaussianNB()))\n",
    "models.append(('SVM', SVC()))\n",
    "# evaluate each model in turn\n",
    "results = []\n",
    "names = []\n",
    "scoring = 'accuracy'\n",
    "best = -np.inf\n",
    "best_model = None\n",
    "for name, model in models:\n",
    "    kfold = KFold(n_splits=10, random_state=7)\n",
    "    cv_results = cross_val_score(model, X, Y, cv=kfold, scoring=scoring)\n",
    "    results.append(cv_results)\n",
    "    names.append(name)\n",
    "    if cv_results.mean() > best:\n",
    "        best = cv_results.mean()\n",
    "        best_model = model\n",
    "    msg = \"%s: %f (%f)\" % (name, cv_results.mean(), cv_results.std())\n",
    "    print(msg)"
   ]
  },
  {
   "cell_type": "code",
   "execution_count": 248,
   "metadata": {},
   "outputs": [
    {
     "data": {
      "text/plain": [
       "0.6171428571428571"
      ]
     },
     "execution_count": 248,
     "metadata": {},
     "output_type": "execute_result"
    }
   ],
   "source": [
    "best"
   ]
  },
  {
   "cell_type": "code",
   "execution_count": 249,
   "metadata": {},
   "outputs": [
    {
     "data": {
      "image/png": "[encoded data removed]",
      "text/plain": [
       "<Figure size 432x288 with 1 Axes>"
      ]
     },
     "metadata": {},
     "output_type": "display_data"
    }
   ],
   "source": [
    "# boxplot algorithm comparison\n",
    "fig = pyplot.figure()\n",
    "fig.suptitle('Algorithm Comparison')\n",
    "ax = fig.add_subplot(111)\n",
    "pyplot.boxplot(results)\n",
    "ax.set_xticklabels(names)\n",
    "pyplot.show()"
   ]
  },
  {
   "cell_type": "markdown",
   "metadata": {},
   "source": [
    "# Improve performance with Ensemble models"
   ]
  },
  {
   "cell_type": "code",
   "execution_count": 250,
   "metadata": {},
   "outputs": [],
   "source": [
    "# bagging (bag decision trees, random forest, extra trees), boosting (adaBoost, gradient), voting (combine multiple)"
   ]
  },
  {
   "cell_type": "code",
   "execution_count": 251,
   "metadata": {},
   "outputs": [
    {
     "name": "stdout",
     "output_type": "stream",
     "text": [
      "0.6298376623376624\n"
     ]
    }
   ],
   "source": [
    "# Bagged decision trees\n",
    "seed = 7\n",
    "kfold = KFold(n_splits=10, random_state=seed)\n",
    "cart = best_model\n",
    "num_trees = 100\n",
    "model = BaggingClassifier(base_estimator=cart, n_estimators=num_trees, random_state=seed)\n",
    "results = cross_val_score(model, X, Y, cv=kfold)\n",
    "print(results.mean())"
   ]
  },
  {
   "cell_type": "code",
   "execution_count": 252,
   "metadata": {},
   "outputs": [
    {
     "name": "stdout",
     "output_type": "stream",
     "text": [
      "0.5824999999999999\n"
     ]
    }
   ],
   "source": [
    "# Random forest\n",
    "num_trees = 100\n",
    "max_features = 3\n",
    "kfold = KFold(n_splits=10, random_state=7)\n",
    "model = RandomForestClassifier(n_estimators=num_trees, max_features=max_features)\n",
    "results = cross_val_score(model, X, Y, cv=kfold)\n",
    "print(results.mean())"
   ]
  },
  {
   "cell_type": "code",
   "execution_count": 253,
   "metadata": {},
   "outputs": [
    {
     "name": "stdout",
     "output_type": "stream",
     "text": [
      "0.5773376623376623\n"
     ]
    }
   ],
   "source": [
    "# Extra trees\n",
    "num_trees = 100\n",
    "max_features = 7\n",
    "kfold = KFold(n_splits=10, random_state=7)\n",
    "model = ExtraTreesClassifier(n_estimators=num_trees, max_features=max_features)\n",
    "results = cross_val_score(model, X, Y, cv=kfold)\n",
    "print(results.mean())"
   ]
  },
  {
   "cell_type": "code",
   "execution_count": 254,
   "metadata": {},
   "outputs": [
    {
     "name": "stdout",
     "output_type": "stream",
     "text": [
      "0.5684090909090909\n"
     ]
    }
   ],
   "source": [
    "# AdaBoost\n",
    "num_trees = 30\n",
    "seed=7\n",
    "kfold = KFold(n_splits=10, random_state=seed)\n",
    "model = AdaBoostClassifier(n_estimators=num_trees, random_state=seed)\n",
    "results = cross_val_score(model, X, Y, cv=kfold)\n",
    "print(results.mean())"
   ]
  },
  {
   "cell_type": "code",
   "execution_count": 255,
   "metadata": {},
   "outputs": [
    {
     "name": "stdout",
     "output_type": "stream",
     "text": [
      "0.5845454545454546\n"
     ]
    }
   ],
   "source": [
    "# Stochastic gradient\n",
    "seed = 7\n",
    "num_trees = 100\n",
    "kfold = KFold(n_splits=10, random_state=seed)\n",
    "model = GradientBoostingClassifier(n_estimators=num_trees, random_state=seed)\n",
    "results = cross_val_score(model, X, Y, cv=kfold)\n",
    "print(results.mean())"
   ]
  },
  {
   "cell_type": "code",
   "execution_count": 256,
   "metadata": {},
   "outputs": [
    {
     "name": "stdout",
     "output_type": "stream",
     "text": [
      "0.6115909090909091\n"
     ]
    }
   ],
   "source": [
    "# Voting\n",
    "kfold = KFold(n_splits=10, random_state=7)\n",
    "# create the sub models\n",
    "estimators = []\n",
    "model1 = LogisticRegression()\n",
    "estimators.append(('logistic', model1))\n",
    "model2 = GaussianNB()\n",
    "estimators.append(('cart', model2))\n",
    "model3 = SVC()\n",
    "estimators.append(('svm', model3))\n",
    "# create the ensemble model\n",
    "ensemble = VotingClassifier(estimators)\n",
    "results = cross_val_score(ensemble, X, Y, cv=kfold)\n",
    "print(results.mean())"
   ]
  },
  {
   "cell_type": "markdown",
   "metadata": {},
   "source": [
    "# Improve performance with Algorithm tunning"
   ]
  },
  {
   "cell_type": "code",
   "execution_count": 257,
   "metadata": {},
   "outputs": [],
   "source": [
    "# Using grid search and random search"
   ]
  },
  {
   "cell_type": "code",
   "execution_count": 258,
   "metadata": {},
   "outputs": [],
   "source": [
    "# param_grid = {\n",
    "#     'base_estimator__max_depth' : [1, 2, 3, 4, 5],\n",
    "#     'max_samples' : [0.05, 0.1, 0.2, 0.5]\n",
    "# }\n",
    "\n",
    "# clf = GridSearchCV(BaggingClassifier(DecisionTreeClassifier(),\n",
    "#                                      n_estimators = 100, max_features = 0.5),\n",
    "#                    param_grid, scoring = 'accuracy')\n",
    "# clf.fit(X_train, Y_train)"
   ]
  },
  {
   "cell_type": "code",
   "execution_count": 259,
   "metadata": {},
   "outputs": [],
   "source": [
    "# # Grid Search for Algorithm Tuning\n",
    "# alphas = numpy.array([1,0.1,0.01,0.001,0.0001,0])\n",
    "# param_grid = dict(alpha=alphas)\n",
    "# model = Ridge()\n",
    "# grid = GridSearchCV(estimator=model, param_grid=param_grid)\n",
    "# grid.fit(X, Y)\n",
    "# print(grid.best_score_)\n",
    "# print(grid.best_estimator_.alpha)"
   ]
  },
  {
   "cell_type": "markdown",
   "metadata": {},
   "source": [
    "# Save, load and score"
   ]
  },
  {
   "cell_type": "code",
   "execution_count": 260,
   "metadata": {
    "scrolled": true
   },
   "outputs": [
    {
     "name": "stdout",
     "output_type": "stream",
     "text": [
      "0.36231884057971014\n"
     ]
    }
   ],
   "source": [
    "model = best_model\n",
    "model.fit(X_train, Y_train)\n",
    "\n",
    "# save the model to disk\n",
    "filename = 'finalized_model.sav'\n",
    "dump(model, open(filename, 'wb'))\n",
    "\n",
    "# load the model from disk and score\n",
    "loaded_model = load(open(filename, 'rb'))\n",
    "result = loaded_model.score(X_test, Y_test)\n",
    "print(result)"
   ]
  },
  {
   "cell_type": "markdown",
   "metadata": {},
   "source": [
    "# Predictions"
   ]
  },
  {
   "cell_type": "code",
   "execution_count": 261,
   "metadata": {},
   "outputs": [],
   "source": [
    "# Make predictions from the x test dataset\n",
    "predictions = loaded_model.predict(X_test)"
   ]
  },
  {
   "cell_type": "code",
   "execution_count": 262,
   "metadata": {},
   "outputs": [
    {
     "data": {
      "text/plain": [
       "array([0., 0., 0., 0., 0., 0., 0., 0., 0., 1., 0., 0., 0., 0., 0., 0., 0.,\n",
       "       0., 0., 1., 0., 0., 0., 0., 0., 0., 1., 1., 0., 0., 0., 0., 0., 0.,\n",
       "       0., 0., 0., 1., 0., 1., 0., 1., 0., 0., 0., 0., 0., 1., 0., 0., 0.,\n",
       "       0., 0., 0., 0., 0., 0., 0., 0., 0., 0., 1., 0., 0., 0., 1., 0., 0.,\n",
       "       0.])"
      ]
     },
     "execution_count": 262,
     "metadata": {},
     "output_type": "execute_result"
    }
   ],
   "source": [
    "predictions"
   ]
  },
  {
   "cell_type": "code",
   "execution_count": 263,
   "metadata": {},
   "outputs": [
    {
     "data": {
      "text/plain": [
       "69"
      ]
     },
     "execution_count": 263,
     "metadata": {},
     "output_type": "execute_result"
    }
   ],
   "source": [
    "len(predictions)"
   ]
  },
  {
   "cell_type": "code",
   "execution_count": null,
   "metadata": {},
   "outputs": [],
   "source": []
  }
 ],
 "metadata": {
  "kernelspec": {
   "display_name": "Python 3",
   "language": "python",
   "name": "python3"
  },
  "language_info": {
   "codemirror_mode": {
    "name": "ipython",
    "version": 3
   },
   "file_extension": ".py",
   "mimetype": "text/x-python",
   "name": "python",
   "nbconvert_exporter": "python",
   "pygments_lexer": "ipython3",
   "version": "3.7.3"
  }
 },
 "nbformat": 4,
 "nbformat_minor": 4
}
