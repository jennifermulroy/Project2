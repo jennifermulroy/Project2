{
 "cells": [
  {
   "cell_type": "code",
   "execution_count": 1,
   "metadata": {},
   "outputs": [],
   "source": [
    "##################################\n",
    "# IMPORTING BASE AND API LIBRARIES\n",
    "##################################\n",
    "from collections import Counter\n",
    "import pandas as pd\n",
    "from pandas import read_csv\n",
    "import pandas_datareader as pdr\n",
    "import datetime\n",
    "# from pandas.tools.plotting import scatter_matrix\n",
    "import numpy as np\n",
    "from numpy import set_printoptions\n",
    "import seaborn as sns\n",
    "from matplotlib import pyplot\n",
    "from pathlib import Path\n",
    "\n",
    "# Import the main functionality from the SimFin Python API.\n",
    "import simfin as sf\n",
    "# Import names used for easy access to SimFin's data-columns.\n",
    "from simfin.names import *\n",
    "\n",
    "# import warnings filter\n",
    "from warnings import simplefilter\n",
    "# ignore all future warnings\n",
    "simplefilter(action='ignore', category=FutureWarning)"
   ]
  },
  {
   "cell_type": "code",
   "execution_count": 2,
   "metadata": {},
   "outputs": [
    {
     "name": "stderr",
     "output_type": "stream",
     "text": [
      "C:\\Users\\jenni\\Anaconda3\\lib\\site-packages\\sklearn\\externals\\joblib\\__init__.py:15: DeprecationWarning: sklearn.externals.joblib is deprecated in 0.21 and will be removed in 0.23. Please import this functionality directly from joblib, which can be installed with: pip install joblib. If this warning is raised when loading pickled models, you may need to re-serialize those models with scikit-learn 0.21+.\n",
      "  warnings.warn(msg, category=DeprecationWarning)\n"
     ]
    }
   ],
   "source": [
    "##############################\n",
    "# IMPORTING MODELING LIBRARIES\n",
    "##############################\n",
    "from sklearn import utils\n",
    "from sklearn import preprocessing\n",
    "from scipy.stats import uniform\n",
    "\n",
    "# Pre-processing\n",
    "from sklearn.preprocessing import MinMaxScaler\n",
    "from sklearn.preprocessing import StandardScaler\n",
    "from sklearn.preprocessing import Normalizer\n",
    "from sklearn.preprocessing import Binarizer\n",
    "\n",
    "# Feature selection\n",
    "from sklearn.feature_selection import SelectKBest\n",
    "from sklearn.feature_selection import chi2\n",
    "from sklearn.decomposition import PCA\n",
    "from sklearn.ensemble import ExtraTreesClassifier\n",
    "\n",
    "# Resample, model eval, & metrics and enhancements \n",
    "from sklearn.model_selection import train_test_split\n",
    "from sklearn.model_selection import KFold\n",
    "from sklearn.model_selection import LeaveOneOut\n",
    "from sklearn.model_selection import ShuffleSplit\n",
    "from sklearn.model_selection import cross_val_score\n",
    "from sklearn.metrics import classification_report\n",
    "from sklearn.metrics import confusion_matrix\n",
    "from sklearn.metrics import accuracy_score\n",
    "from imblearn.over_sampling import SMOTE\n",
    "from imblearn.under_sampling import ClusterCentroids\n",
    "from imblearn.metrics import classification_report_imbalanced\n",
    "from imblearn.combine import SMOTEENN\n",
    "from imblearn.metrics import classification_report_imbalanced\n",
    "from imblearn.ensemble import BalancedRandomForestClassifier\n",
    "from sklearn.metrics import precision_recall_curve\n",
    "\n",
    "# Regression models\n",
    "from sklearn.linear_model import LinearRegression, Ridge, Lasso, ElasticNet\n",
    "from sklearn.neighbors import KNeighborsRegressor\n",
    "from sklearn.tree import DecisionTreeRegressor\n",
    "from sklearn.svm import SVR\n",
    "\n",
    "# Classification models\n",
    "from sklearn.linear_model import LogisticRegression\n",
    "from sklearn.tree import DecisionTreeClassifier\n",
    "from sklearn.neighbors import KNeighborsClassifier\n",
    "from sklearn.discriminant_analysis import LinearDiscriminantAnalysis\n",
    "from sklearn.naive_bayes import GaussianNB\n",
    "from sklearn.svm import SVC\n",
    "\n",
    "# Ensemble for further improvements\n",
    "from sklearn.ensemble import BaggingClassifier\n",
    "from sklearn.ensemble import RandomForestClassifier\n",
    "from sklearn.ensemble import ExtraTreesClassifier\n",
    "from sklearn.ensemble import AdaBoostClassifier\n",
    "from sklearn.ensemble import GradientBoostingClassifier\n",
    "from sklearn.ensemble import VotingClassifier\n",
    "\n",
    "# Performance tuning\n",
    "from sklearn.model_selection import GridSearchCV\n",
    "from sklearn.model_selection import RandomizedSearchCV\n",
    "\n",
    "# Pipeline\n",
    "from sklearn.pipeline import Pipeline\n",
    "from sklearn.pipeline import FeatureUnion\n",
    "\n",
    "# Finalize model with Pickle and joblib\n",
    "from pickle import dump\n",
    "from pickle import load\n",
    "from sklearn.externals.joblib import dump\n",
    "from sklearn.externals.joblib import load"
   ]
  },
  {
   "cell_type": "markdown",
   "metadata": {},
   "source": [
    "# Getting SimFin data"
   ]
  },
  {
   "cell_type": "code",
   "execution_count": 3,
   "metadata": {},
   "outputs": [
    {
     "data": {
      "text/plain": [
       "'0.3.0'"
      ]
     },
     "execution_count": 3,
     "metadata": {},
     "output_type": "execute_result"
    }
   ],
   "source": [
    "sf.__version__"
   ]
  },
  {
   "cell_type": "code",
   "execution_count": 4,
   "metadata": {},
   "outputs": [],
   "source": [
    "sf.set_data_dir('~/simfin_data/')\n",
    "\n",
    "# SimFin load API key or use free data.\n",
    "sf.load_api_key(path='~/simfin_api_key.txt', default_key='free')"
   ]
  },
  {
   "cell_type": "code",
   "execution_count": 5,
   "metadata": {},
   "outputs": [],
   "source": [
    "sns.set_style(\"whitegrid\")"
   ]
  },
  {
   "cell_type": "code",
   "execution_count": 6,
   "metadata": {},
   "outputs": [
    {
     "name": "stdout",
     "output_type": "stream",
     "text": [
      "Dataset \"us-income-ttm\" on disk (9 days old).\n",
      "- Loading from disk ... Done!\n",
      "Dataset \"us-income-quarterly\" on disk (9 days old).\n",
      "- Loading from disk ... Done!\n",
      "Dataset \"us-balance-ttm\" on disk (9 days old).\n",
      "- Loading from disk ... Done!\n",
      "Dataset \"us-cashflow-ttm\" on disk (9 days old).\n",
      "- Loading from disk ... Done!\n",
      "Dataset \"us-cashflow-quarterly\" on disk (9 days old).\n",
      "- Loading from disk ... Done!\n",
      "Dataset \"us-shareprices-daily\" on disk (8 days old).\n",
      "- Loading from disk ... Done!\n",
      "Dataset \"us-shareprices-latest\" on disk (9 days old).\n",
      "- Loading from disk ... Done!\n",
      "Wall time: 16.8 s\n"
     ]
    }
   ],
   "source": [
    "%%time\n",
    "# Data for USA.\n",
    "market = 'us'\n",
    "\n",
    "# TTM Income Statements.\n",
    "df_income_ttm = sf.load_income(variant='ttm', market=market)\n",
    "\n",
    "# Quarterly Income Statements.\n",
    "df_income_qrt = sf.load_income(variant='quarterly', market=market)\n",
    "\n",
    "# TTM Balance Sheets.\n",
    "df_balance_ttm = sf.load_balance(variant='ttm', market=market)\n",
    "\n",
    "# TTM Cash-Flow Statements.\n",
    "df_cashflow_ttm = sf.load_cashflow(variant='ttm', market=market)\n",
    "\n",
    "# Quarterly Cash-Flow Statements.\n",
    "df_cashflow_qrt = sf.load_cashflow(variant='quarterly', market=market)\n",
    "\n",
    "# Latest Share-Prices.\n",
    "# Use refresh_days=0 to always download the latest share-prices.\n",
    "df_prices = sf.load_shareprices(variant='daily', market=market)\n",
    "df_prices_latest = sf.load_shareprices(variant='latest', market=market,\n",
    "                                       refresh_days=30)"
   ]
  },
  {
   "cell_type": "code",
   "execution_count": 7,
   "metadata": {},
   "outputs": [],
   "source": [
    "tickers = ['PG','KO','PEP','WMT','MO','PM','COST','MDLZ','CL','KMB','WBA','EL','SYY','GIS','STZ','TSN','ADM','MNST','HSY','KR','MKC','KHC','CLX','CHD','K','CAG','BF.B','HRL','LW','SJM','TAP','CPB','COTY']\n",
    "\n",
    "df_income_qrt = df_income_qrt.loc[tickers].copy()\n",
    "df_income_ttm = df_income_ttm.loc[tickers].copy()\n",
    "df_balance_ttm = df_balance_ttm.loc[tickers].copy()\n",
    "df_cashflow_ttm = df_cashflow_ttm.loc[tickers].copy()\n",
    "df_cashflow_qrt = df_cashflow_qrt.loc[tickers].copy()\n",
    "# df_prices_latest = df_prices_latest.loc[tickers].copy()"
   ]
  },
  {
   "cell_type": "code",
   "execution_count": 8,
   "metadata": {},
   "outputs": [],
   "source": [
    "# df_prices_latest.tail()"
   ]
  },
  {
   "cell_type": "code",
   "execution_count": 9,
   "metadata": {},
   "outputs": [],
   "source": [
    "# Getting signals for last day of every year\n",
    "df_price_list = []\n",
    "df_fin_signals_list = []\n",
    "df_growth_signals_list = []\n",
    "df_val_signals_list = []\n",
    "\n",
    "# setting the price and signals data frames (not including latest year)\n",
    "shareprice_last_dates = [\"2011-12-30\", \"2012-12-31\", \"2013-12-31\", \"2014-12-31\", \"2015-12-31\",\"2016-12-30\", \"2017-12-29\", \"2018-12-31\"]\n",
    "\n",
    "for i in range(len(shareprice_last_dates)):\n",
    "    df_price_list.append(df_prices.loc[(df_prices.index.get_level_values('Date') == shareprice_last_dates[i])])\n",
    "    df_fin_signals_list.append(sf.fin_signals(df_prices=df_price_list[i],\n",
    "                                              df_income_ttm=df_income_ttm,\n",
    "                                              df_balance_ttm=df_balance_ttm,\n",
    "                                              fill_method='ffill'))\n",
    "    df_growth_signals_list.append(sf.growth_signals(df_prices=df_price_list[i],\n",
    "                                                    df_income_ttm=df_income_ttm,\n",
    "                                                    df_income_qrt=df_income_qrt,\n",
    "                                                    df_cashflow_ttm=df_cashflow_ttm,\n",
    "                                                    df_cashflow_qrt=df_cashflow_qrt,\n",
    "                                                    fill_method='ffill'))\n",
    "    df_val_signals_list.append(sf.val_signals(df_prices=df_price_list[i],\n",
    "                                              df_income_ttm=df_income_ttm,\n",
    "                                              df_balance_ttm=df_balance_ttm,\n",
    "                                              df_cashflow_ttm=df_cashflow_ttm,\n",
    "                                              fill_method='ffill'))"
   ]
  },
  {
   "cell_type": "code",
   "execution_count": 10,
   "metadata": {},
   "outputs": [],
   "source": [
    "# Latest year signals\n",
    "df_fin_signals = \\\n",
    "    sf.fin_signals(df_prices=df_prices_latest,\n",
    "                   df_income_ttm=df_income_ttm,\n",
    "                   df_balance_ttm=df_balance_ttm,\n",
    "                   fill_method='ffill')\n",
    "\n",
    "df_growth_signals = \\\n",
    "    sf.growth_signals(df_prices=df_prices_latest,\n",
    "                      df_income_ttm=df_income_ttm,\n",
    "                      df_income_qrt=df_income_qrt,\n",
    "                      df_cashflow_ttm=df_cashflow_ttm,\n",
    "                      df_cashflow_qrt=df_cashflow_qrt,\n",
    "                      fill_method='ffill')\n",
    "\n",
    "df_val_signals = \\\n",
    "    sf.val_signals(df_prices=df_prices_latest,\n",
    "                   df_income_ttm=df_income_ttm,\n",
    "                   df_balance_ttm=df_balance_ttm,\n",
    "                   df_cashflow_ttm=df_cashflow_ttm,\n",
    "                   fill_method='ffill')"
   ]
  },
  {
   "cell_type": "code",
   "execution_count": 11,
   "metadata": {
    "scrolled": true
   },
   "outputs": [
    {
     "name": "stdout",
     "output_type": "stream",
     "text": [
      "Signals\n"
     ]
    },
    {
     "data": {
      "text/plain": [
       "(30, 25)"
      ]
     },
     "execution_count": 11,
     "metadata": {},
     "output_type": "execute_result"
    }
   ],
   "source": [
    "# Combine the DataFrames (for latest)\n",
    "dfs = [df_fin_signals, df_growth_signals, df_val_signals]\n",
    "df_signals = pd.concat(dfs, axis=1)\n",
    "df_signals = df_signals.loc[tickers].copy()\n",
    "# Show the result.\n",
    "print(\"Signals\")\n",
    "df_signals.shape"
   ]
  },
  {
   "cell_type": "code",
   "execution_count": 12,
   "metadata": {},
   "outputs": [
    {
     "data": {
      "text/html": [
       "<div>\n",
       "<style scoped>\n",
       "    .dataframe tbody tr th:only-of-type {\n",
       "        vertical-align: middle;\n",
       "    }\n",
       "\n",
       "    .dataframe tbody tr th {\n",
       "        vertical-align: top;\n",
       "    }\n",
       "\n",
       "    .dataframe thead th {\n",
       "        text-align: right;\n",
       "    }\n",
       "</style>\n",
       "<table border=\"1\" class=\"dataframe\">\n",
       "  <thead>\n",
       "    <tr style=\"text-align: right;\">\n",
       "      <th></th>\n",
       "      <th></th>\n",
       "      <th>Current Ratio</th>\n",
       "      <th>Debt Ratio</th>\n",
       "      <th>Gross Profit Margin</th>\n",
       "      <th>Net Profit Margin</th>\n",
       "      <th>Return on Assets</th>\n",
       "      <th>Return on Equity</th>\n",
       "      <th>Earnings Growth</th>\n",
       "      <th>Earnings Growth QOQ</th>\n",
       "      <th>Earnings Growth YOY</th>\n",
       "      <th>FCF Growth</th>\n",
       "      <th>...</th>\n",
       "      <th>Dividend Yield</th>\n",
       "      <th>Earnings Yield</th>\n",
       "      <th>FCF Yield</th>\n",
       "      <th>Market-Cap</th>\n",
       "      <th>P/Book</th>\n",
       "      <th>P/E</th>\n",
       "      <th>P/FCF</th>\n",
       "      <th>P/NCAV</th>\n",
       "      <th>P/NetNet</th>\n",
       "      <th>P/Sales</th>\n",
       "    </tr>\n",
       "    <tr>\n",
       "      <th>Ticker</th>\n",
       "      <th>Date</th>\n",
       "      <th></th>\n",
       "      <th></th>\n",
       "      <th></th>\n",
       "      <th></th>\n",
       "      <th></th>\n",
       "      <th></th>\n",
       "      <th></th>\n",
       "      <th></th>\n",
       "      <th></th>\n",
       "      <th></th>\n",
       "      <th></th>\n",
       "      <th></th>\n",
       "      <th></th>\n",
       "      <th></th>\n",
       "      <th></th>\n",
       "      <th></th>\n",
       "      <th></th>\n",
       "      <th></th>\n",
       "      <th></th>\n",
       "      <th></th>\n",
       "      <th></th>\n",
       "    </tr>\n",
       "  </thead>\n",
       "  <tbody>\n",
       "    <tr>\n",
       "      <td>SYY</td>\n",
       "      <td>2019-11-21</td>\n",
       "      <td>1.300822</td>\n",
       "      <td>0.476761</td>\n",
       "      <td>0.189250</td>\n",
       "      <td>0.026477</td>\n",
       "      <td>0.085212</td>\n",
       "      <td>0.664999</td>\n",
       "      <td>0.233428</td>\n",
       "      <td>0.645908</td>\n",
       "      <td>0.333241</td>\n",
       "      <td>0.039732</td>\n",
       "      <td>...</td>\n",
       "      <td>0.018320</td>\n",
       "      <td>0.038141</td>\n",
       "      <td>0.041405</td>\n",
       "      <td>4.162045e+10</td>\n",
       "      <td>17.363869</td>\n",
       "      <td>26.218711</td>\n",
       "      <td>24.151738</td>\n",
       "      <td>-5.663961</td>\n",
       "      <td>-4.016191</td>\n",
       "      <td>0.694195</td>\n",
       "    </tr>\n",
       "    <tr>\n",
       "      <td>TAP</td>\n",
       "      <td>2019-11-21</td>\n",
       "      <td>0.348035</td>\n",
       "      <td>0.321801</td>\n",
       "      <td>0.386010</td>\n",
       "      <td>0.014669</td>\n",
       "      <td>0.005061</td>\n",
       "      <td>0.010944</td>\n",
       "      <td>-0.906540</td>\n",
       "      <td>-2.222829</td>\n",
       "      <td>-2.191364</td>\n",
       "      <td>-0.296345</td>\n",
       "      <td>...</td>\n",
       "      <td>0.034192</td>\n",
       "      <td>0.013536</td>\n",
       "      <td>0.117289</td>\n",
       "      <td>1.139153e+10</td>\n",
       "      <td>0.849702</td>\n",
       "      <td>73.875008</td>\n",
       "      <td>8.525953</td>\n",
       "      <td>-0.872366</td>\n",
       "      <td>-0.819502</td>\n",
       "      <td>1.083679</td>\n",
       "    </tr>\n",
       "    <tr>\n",
       "      <td>TSN</td>\n",
       "      <td>2019-11-21</td>\n",
       "      <td>1.328033</td>\n",
       "      <td>0.373860</td>\n",
       "      <td>0.126012</td>\n",
       "      <td>0.052746</td>\n",
       "      <td>0.076472</td>\n",
       "      <td>0.176087</td>\n",
       "      <td>-0.239847</td>\n",
       "      <td>0.586854</td>\n",
       "      <td>0.249538</td>\n",
       "      <td>-0.321053</td>\n",
       "      <td>...</td>\n",
       "      <td>0.015729</td>\n",
       "      <td>0.067542</td>\n",
       "      <td>0.039785</td>\n",
       "      <td>3.242411e+10</td>\n",
       "      <td>2.292915</td>\n",
       "      <td>14.805531</td>\n",
       "      <td>25.134971</td>\n",
       "      <td>-2.681673</td>\n",
       "      <td>-2.132534</td>\n",
       "      <td>0.780928</td>\n",
       "    </tr>\n",
       "    <tr>\n",
       "      <td>WBA</td>\n",
       "      <td>2019-11-21</td>\n",
       "      <td>0.784492</td>\n",
       "      <td>0.256141</td>\n",
       "      <td>0.225949</td>\n",
       "      <td>0.037723</td>\n",
       "      <td>0.072498</td>\n",
       "      <td>0.182199</td>\n",
       "      <td>0.241896</td>\n",
       "      <td>0.030276</td>\n",
       "      <td>-0.142328</td>\n",
       "      <td>-0.042293</td>\n",
       "      <td>...</td>\n",
       "      <td>0.030207</td>\n",
       "      <td>0.087866</td>\n",
       "      <td>0.093787</td>\n",
       "      <td>5.843010e+10</td>\n",
       "      <td>2.299221</td>\n",
       "      <td>11.381009</td>\n",
       "      <td>10.662427</td>\n",
       "      <td>-2.321142</td>\n",
       "      <td>-1.757825</td>\n",
       "      <td>0.429327</td>\n",
       "    </tr>\n",
       "    <tr>\n",
       "      <td>WMT</td>\n",
       "      <td>2019-11-21</td>\n",
       "      <td>0.772819</td>\n",
       "      <td>0.229027</td>\n",
       "      <td>0.250198</td>\n",
       "      <td>0.016248</td>\n",
       "      <td>0.040883</td>\n",
       "      <td>0.106966</td>\n",
       "      <td>-0.064642</td>\n",
       "      <td>0.042040</td>\n",
       "      <td>0.800375</td>\n",
       "      <td>-0.151875</td>\n",
       "      <td>...</td>\n",
       "      <td>0.017369</td>\n",
       "      <td>0.023899</td>\n",
       "      <td>0.045034</td>\n",
       "      <td>3.505605e+11</td>\n",
       "      <td>4.679756</td>\n",
       "      <td>41.842986</td>\n",
       "      <td>22.205646</td>\n",
       "      <td>-3.580985</td>\n",
       "      <td>-2.827169</td>\n",
       "      <td>0.679855</td>\n",
       "    </tr>\n",
       "  </tbody>\n",
       "</table>\n",
       "<p>5 rows × 25 columns</p>\n",
       "</div>"
      ],
      "text/plain": [
       "                   Current Ratio  Debt Ratio  Gross Profit Margin  \\\n",
       "Ticker Date                                                         \n",
       "SYY    2019-11-21       1.300822    0.476761             0.189250   \n",
       "TAP    2019-11-21       0.348035    0.321801             0.386010   \n",
       "TSN    2019-11-21       1.328033    0.373860             0.126012   \n",
       "WBA    2019-11-21       0.784492    0.256141             0.225949   \n",
       "WMT    2019-11-21       0.772819    0.229027             0.250198   \n",
       "\n",
       "                   Net Profit Margin  Return on Assets  Return on Equity  \\\n",
       "Ticker Date                                                                \n",
       "SYY    2019-11-21           0.026477          0.085212          0.664999   \n",
       "TAP    2019-11-21           0.014669          0.005061          0.010944   \n",
       "TSN    2019-11-21           0.052746          0.076472          0.176087   \n",
       "WBA    2019-11-21           0.037723          0.072498          0.182199   \n",
       "WMT    2019-11-21           0.016248          0.040883          0.106966   \n",
       "\n",
       "                   Earnings Growth  Earnings Growth QOQ  Earnings Growth YOY  \\\n",
       "Ticker Date                                                                    \n",
       "SYY    2019-11-21         0.233428             0.645908             0.333241   \n",
       "TAP    2019-11-21        -0.906540            -2.222829            -2.191364   \n",
       "TSN    2019-11-21        -0.239847             0.586854             0.249538   \n",
       "WBA    2019-11-21         0.241896             0.030276            -0.142328   \n",
       "WMT    2019-11-21        -0.064642             0.042040             0.800375   \n",
       "\n",
       "                   FCF Growth  ...  Dividend Yield  Earnings Yield  FCF Yield  \\\n",
       "Ticker Date                    ...                                              \n",
       "SYY    2019-11-21    0.039732  ...        0.018320        0.038141   0.041405   \n",
       "TAP    2019-11-21   -0.296345  ...        0.034192        0.013536   0.117289   \n",
       "TSN    2019-11-21   -0.321053  ...        0.015729        0.067542   0.039785   \n",
       "WBA    2019-11-21   -0.042293  ...        0.030207        0.087866   0.093787   \n",
       "WMT    2019-11-21   -0.151875  ...        0.017369        0.023899   0.045034   \n",
       "\n",
       "                     Market-Cap     P/Book        P/E      P/FCF    P/NCAV  \\\n",
       "Ticker Date                                                                  \n",
       "SYY    2019-11-21  4.162045e+10  17.363869  26.218711  24.151738 -5.663961   \n",
       "TAP    2019-11-21  1.139153e+10   0.849702  73.875008   8.525953 -0.872366   \n",
       "TSN    2019-11-21  3.242411e+10   2.292915  14.805531  25.134971 -2.681673   \n",
       "WBA    2019-11-21  5.843010e+10   2.299221  11.381009  10.662427 -2.321142   \n",
       "WMT    2019-11-21  3.505605e+11   4.679756  41.842986  22.205646 -3.580985   \n",
       "\n",
       "                   P/NetNet   P/Sales  \n",
       "Ticker Date                            \n",
       "SYY    2019-11-21 -4.016191  0.694195  \n",
       "TAP    2019-11-21 -0.819502  1.083679  \n",
       "TSN    2019-11-21 -2.132534  0.780928  \n",
       "WBA    2019-11-21 -1.757825  0.429327  \n",
       "WMT    2019-11-21 -2.827169  0.679855  \n",
       "\n",
       "[5 rows x 25 columns]"
      ]
     },
     "execution_count": 12,
     "metadata": {},
     "output_type": "execute_result"
    }
   ],
   "source": [
    "df_signals.tail()"
   ]
  },
  {
   "cell_type": "code",
   "execution_count": 13,
   "metadata": {},
   "outputs": [],
   "source": [
    "# Combine the DataFrames (for the previous years.)\n",
    "dfs_list = [[df_fin_signals_list[i], df_growth_signals_list[i], df_val_signals_list[i]] for i in range(len(df_fin_signals_list))]\n",
    "df_signals_list = [pd.concat(e, axis=1) for e in dfs_list]\n",
    "df_signals_list = [e.loc[tickers].copy() for e in df_signals_list]"
   ]
  },
  {
   "cell_type": "code",
   "execution_count": 14,
   "metadata": {},
   "outputs": [
    {
     "name": "stdout",
     "output_type": "stream",
     "text": [
      "2018 Signals\n"
     ]
    },
    {
     "data": {
      "text/html": [
       "<div>\n",
       "<style scoped>\n",
       "    .dataframe tbody tr th:only-of-type {\n",
       "        vertical-align: middle;\n",
       "    }\n",
       "\n",
       "    .dataframe tbody tr th {\n",
       "        vertical-align: top;\n",
       "    }\n",
       "\n",
       "    .dataframe thead th {\n",
       "        text-align: right;\n",
       "    }\n",
       "</style>\n",
       "<table border=\"1\" class=\"dataframe\">\n",
       "  <thead>\n",
       "    <tr style=\"text-align: right;\">\n",
       "      <th></th>\n",
       "      <th></th>\n",
       "      <th>Current Ratio</th>\n",
       "      <th>Debt Ratio</th>\n",
       "      <th>Gross Profit Margin</th>\n",
       "      <th>Net Profit Margin</th>\n",
       "      <th>Return on Assets</th>\n",
       "      <th>Return on Equity</th>\n",
       "      <th>Earnings Growth</th>\n",
       "      <th>Earnings Growth QOQ</th>\n",
       "      <th>Earnings Growth YOY</th>\n",
       "      <th>FCF Growth</th>\n",
       "      <th>...</th>\n",
       "      <th>Dividend Yield</th>\n",
       "      <th>Earnings Yield</th>\n",
       "      <th>FCF Yield</th>\n",
       "      <th>Market-Cap</th>\n",
       "      <th>P/Book</th>\n",
       "      <th>P/E</th>\n",
       "      <th>P/FCF</th>\n",
       "      <th>P/NCAV</th>\n",
       "      <th>P/NetNet</th>\n",
       "      <th>P/Sales</th>\n",
       "    </tr>\n",
       "    <tr>\n",
       "      <th>Ticker</th>\n",
       "      <th>Date</th>\n",
       "      <th></th>\n",
       "      <th></th>\n",
       "      <th></th>\n",
       "      <th></th>\n",
       "      <th></th>\n",
       "      <th></th>\n",
       "      <th></th>\n",
       "      <th></th>\n",
       "      <th></th>\n",
       "      <th></th>\n",
       "      <th></th>\n",
       "      <th></th>\n",
       "      <th></th>\n",
       "      <th></th>\n",
       "      <th></th>\n",
       "      <th></th>\n",
       "      <th></th>\n",
       "      <th></th>\n",
       "      <th></th>\n",
       "      <th></th>\n",
       "      <th></th>\n",
       "    </tr>\n",
       "  </thead>\n",
       "  <tbody>\n",
       "    <tr>\n",
       "      <td>ADM</td>\n",
       "      <td>2018-12-31</td>\n",
       "      <td>1.748302</td>\n",
       "      <td>0.205422</td>\n",
       "      <td>0.064982</td>\n",
       "      <td>0.028131</td>\n",
       "      <td>0.045292</td>\n",
       "      <td>0.098503</td>\n",
       "      <td>0.134796</td>\n",
       "      <td>-0.412313</td>\n",
       "      <td>-0.600254</td>\n",
       "      <td>-5.005158</td>\n",
       "      <td>...</td>\n",
       "      <td>0.032630</td>\n",
       "      <td>0.077917</td>\n",
       "      <td>-0.233965</td>\n",
       "      <td>2.322999e+10</td>\n",
       "      <td>1.219742</td>\n",
       "      <td>12.834249</td>\n",
       "      <td>-4.274147</td>\n",
       "      <td>-19.358325</td>\n",
       "      <td>-1.695156</td>\n",
       "      <td>0.361045</td>\n",
       "    </tr>\n",
       "    <tr>\n",
       "      <td>CAG</td>\n",
       "      <td>2018-12-31</td>\n",
       "      <td>1.465831</td>\n",
       "      <td>0.502612</td>\n",
       "      <td>0.289395</td>\n",
       "      <td>0.090747</td>\n",
       "      <td>0.071365</td>\n",
       "      <td>0.196012</td>\n",
       "      <td>0.049788</td>\n",
       "      <td>-0.261504</td>\n",
       "      <td>-0.411186</td>\n",
       "      <td>-0.380579</td>\n",
       "      <td>...</td>\n",
       "      <td>0.039055</td>\n",
       "      <td>0.086013</td>\n",
       "      <td>0.058547</td>\n",
       "      <td>8.628906e+09</td>\n",
       "      <td>1.181508</td>\n",
       "      <td>11.626120</td>\n",
       "      <td>17.080178</td>\n",
       "      <td>-0.694306</td>\n",
       "      <td>-0.630871</td>\n",
       "      <td>1.055033</td>\n",
       "    </tr>\n",
       "    <tr>\n",
       "      <td>CHD</td>\n",
       "      <td>2018-12-31</td>\n",
       "      <td>0.812938</td>\n",
       "      <td>0.347179</td>\n",
       "      <td>0.444005</td>\n",
       "      <td>0.137148</td>\n",
       "      <td>0.094533</td>\n",
       "      <td>0.256357</td>\n",
       "      <td>-0.235136</td>\n",
       "      <td>-0.023923</td>\n",
       "      <td>-0.647929</td>\n",
       "      <td>0.104792</td>\n",
       "      <td>...</td>\n",
       "      <td>0.012938</td>\n",
       "      <td>0.034490</td>\n",
       "      <td>0.042654</td>\n",
       "      <td>1.648603e+10</td>\n",
       "      <td>6.718572</td>\n",
       "      <td>28.994077</td>\n",
       "      <td>23.444300</td>\n",
       "      <td>-6.497727</td>\n",
       "      <td>-5.787974</td>\n",
       "      <td>3.976466</td>\n",
       "    </tr>\n",
       "    <tr>\n",
       "      <td>CL</td>\n",
       "      <td>2018-12-31</td>\n",
       "      <td>1.135289</td>\n",
       "      <td>0.523477</td>\n",
       "      <td>0.593863</td>\n",
       "      <td>0.154400</td>\n",
       "      <td>0.189334</td>\n",
       "      <td>9.876543</td>\n",
       "      <td>0.185771</td>\n",
       "      <td>0.158700</td>\n",
       "      <td>0.876161</td>\n",
       "      <td>0.047581</td>\n",
       "      <td>...</td>\n",
       "      <td>0.030619</td>\n",
       "      <td>0.046189</td>\n",
       "      <td>0.050422</td>\n",
       "      <td>5.196096e+10</td>\n",
       "      <td>263.761218</td>\n",
       "      <td>21.650400</td>\n",
       "      <td>19.832427</td>\n",
       "      <td>-6.359192</td>\n",
       "      <td>-5.433542</td>\n",
       "      <td>3.342831</td>\n",
       "    </tr>\n",
       "    <tr>\n",
       "      <td>CLX</td>\n",
       "      <td>2018-12-31</td>\n",
       "      <td>1.150927</td>\n",
       "      <td>0.496747</td>\n",
       "      <td>0.434657</td>\n",
       "      <td>0.126521</td>\n",
       "      <td>0.166036</td>\n",
       "      <td>1.039474</td>\n",
       "      <td>-0.010025</td>\n",
       "      <td>-0.133333</td>\n",
       "      <td>-0.218884</td>\n",
       "      <td>0.269177</td>\n",
       "      <td>...</td>\n",
       "      <td>0.023709</td>\n",
       "      <td>0.039184</td>\n",
       "      <td>0.045136</td>\n",
       "      <td>2.016151e+10</td>\n",
       "      <td>27.171849</td>\n",
       "      <td>25.520901</td>\n",
       "      <td>22.155508</td>\n",
       "      <td>-6.797543</td>\n",
       "      <td>-5.786886</td>\n",
       "      <td>3.228942</td>\n",
       "    </tr>\n",
       "  </tbody>\n",
       "</table>\n",
       "<p>5 rows × 25 columns</p>\n",
       "</div>"
      ],
      "text/plain": [
       "                   Current Ratio  Debt Ratio  Gross Profit Margin  \\\n",
       "Ticker Date                                                         \n",
       "ADM    2018-12-31       1.748302    0.205422             0.064982   \n",
       "CAG    2018-12-31       1.465831    0.502612             0.289395   \n",
       "CHD    2018-12-31       0.812938    0.347179             0.444005   \n",
       "CL     2018-12-31       1.135289    0.523477             0.593863   \n",
       "CLX    2018-12-31       1.150927    0.496747             0.434657   \n",
       "\n",
       "                   Net Profit Margin  Return on Assets  Return on Equity  \\\n",
       "Ticker Date                                                                \n",
       "ADM    2018-12-31           0.028131          0.045292          0.098503   \n",
       "CAG    2018-12-31           0.090747          0.071365          0.196012   \n",
       "CHD    2018-12-31           0.137148          0.094533          0.256357   \n",
       "CL     2018-12-31           0.154400          0.189334          9.876543   \n",
       "CLX    2018-12-31           0.126521          0.166036          1.039474   \n",
       "\n",
       "                   Earnings Growth  Earnings Growth QOQ  Earnings Growth YOY  \\\n",
       "Ticker Date                                                                    \n",
       "ADM    2018-12-31         0.134796            -0.412313            -0.600254   \n",
       "CAG    2018-12-31         0.049788            -0.261504            -0.411186   \n",
       "CHD    2018-12-31        -0.235136            -0.023923            -0.647929   \n",
       "CL     2018-12-31         0.185771             0.158700             0.876161   \n",
       "CLX    2018-12-31        -0.010025            -0.133333            -0.218884   \n",
       "\n",
       "                   FCF Growth  ...  Dividend Yield  Earnings Yield  FCF Yield  \\\n",
       "Ticker Date                    ...                                              \n",
       "ADM    2018-12-31   -5.005158  ...        0.032630        0.077917  -0.233965   \n",
       "CAG    2018-12-31   -0.380579  ...        0.039055        0.086013   0.058547   \n",
       "CHD    2018-12-31    0.104792  ...        0.012938        0.034490   0.042654   \n",
       "CL     2018-12-31    0.047581  ...        0.030619        0.046189   0.050422   \n",
       "CLX    2018-12-31    0.269177  ...        0.023709        0.039184   0.045136   \n",
       "\n",
       "                     Market-Cap      P/Book        P/E      P/FCF     P/NCAV  \\\n",
       "Ticker Date                                                                    \n",
       "ADM    2018-12-31  2.322999e+10    1.219742  12.834249  -4.274147 -19.358325   \n",
       "CAG    2018-12-31  8.628906e+09    1.181508  11.626120  17.080178  -0.694306   \n",
       "CHD    2018-12-31  1.648603e+10    6.718572  28.994077  23.444300  -6.497727   \n",
       "CL     2018-12-31  5.196096e+10  263.761218  21.650400  19.832427  -6.359192   \n",
       "CLX    2018-12-31  2.016151e+10   27.171849  25.520901  22.155508  -6.797543   \n",
       "\n",
       "                   P/NetNet   P/Sales  \n",
       "Ticker Date                            \n",
       "ADM    2018-12-31 -1.695156  0.361045  \n",
       "CAG    2018-12-31 -0.630871  1.055033  \n",
       "CHD    2018-12-31 -5.787974  3.976466  \n",
       "CL     2018-12-31 -5.433542  3.342831  \n",
       "CLX    2018-12-31 -5.786886  3.228942  \n",
       "\n",
       "[5 rows x 25 columns]"
      ]
     },
     "execution_count": 14,
     "metadata": {},
     "output_type": "execute_result"
    }
   ],
   "source": [
    "# Show an example.\n",
    "print(\"2018 Signals\")\n",
    "df_signals_list[7].head()"
   ]
  },
  {
   "cell_type": "code",
   "execution_count": 15,
   "metadata": {},
   "outputs": [
    {
     "data": {
      "text/plain": [
       "(30, 25)"
      ]
     },
     "execution_count": 15,
     "metadata": {},
     "output_type": "execute_result"
    }
   ],
   "source": [
    "df_signals_list[7].shape"
   ]
  },
  {
   "cell_type": "markdown",
   "metadata": {},
   "source": [
    "Output of the previous section are `df_signals` (Signals for latest year) `df_signals_list` (Signals for previous years)\n",
    "\n"
   ]
  },
  {
   "cell_type": "markdown",
   "metadata": {},
   "source": [
    "# Getting Data from Yahoo Finance"
   ]
  },
  {
   "cell_type": "code",
   "execution_count": 16,
   "metadata": {},
   "outputs": [],
   "source": [
    "start_sp = datetime.datetime(2011, 1, 1)\n",
    "end_sp = datetime.datetime(2019, 12, 31)"
   ]
  },
  {
   "cell_type": "code",
   "execution_count": 17,
   "metadata": {},
   "outputs": [],
   "source": [
    "ticker_symbols_list = ['XLP','PG','KO','PEP','WMT','MO','PM','COST','MDLZ','CL','KMB','WBA','EL','SYY','GIS','STZ','TSN','ADM','MNST','HSY','KR','MKC','KHC','CLX','CHD','K','CAG','BF.B','HRL','LW','SJM','TAP','CPB','COTY']\n",
    "# create a yearly dataframe with all features, returns (2), nlp, 3 years (2017-2018 on 2019)"
   ]
  },
  {
   "cell_type": "code",
   "execution_count": 18,
   "metadata": {},
   "outputs": [
    {
     "name": "stderr",
     "output_type": "stream",
     "text": [
      "C:\\Users\\jenni\\Anaconda3\\lib\\site-packages\\pandas_datareader\\base.py:270: SymbolWarning: Failed to read symbol: 'BF.B', replacing with NaN.\n",
      "  warnings.warn(msg.format(sym), SymbolWarning)\n"
     ]
    }
   ],
   "source": [
    "close_price_df = pdr.get_data_yahoo(ticker_symbols_list, start_sp, end_sp)['Close']"
   ]
  },
  {
   "cell_type": "code",
   "execution_count": 19,
   "metadata": {},
   "outputs": [
    {
     "data": {
      "text/plain": [
       "(2257, 34)"
      ]
     },
     "execution_count": 19,
     "metadata": {},
     "output_type": "execute_result"
    }
   ],
   "source": [
    "close_price_df.shape"
   ]
  },
  {
   "cell_type": "code",
   "execution_count": 20,
   "metadata": {
    "scrolled": true
   },
   "outputs": [
    {
     "data": {
      "text/html": [
       "<div>\n",
       "<style scoped>\n",
       "    .dataframe tbody tr th:only-of-type {\n",
       "        vertical-align: middle;\n",
       "    }\n",
       "\n",
       "    .dataframe tbody tr th {\n",
       "        vertical-align: top;\n",
       "    }\n",
       "\n",
       "    .dataframe thead th {\n",
       "        text-align: right;\n",
       "    }\n",
       "</style>\n",
       "<table border=\"1\" class=\"dataframe\">\n",
       "  <thead>\n",
       "    <tr style=\"text-align: right;\">\n",
       "      <th>Symbols</th>\n",
       "      <th>XLP</th>\n",
       "      <th>PG</th>\n",
       "      <th>KO</th>\n",
       "      <th>PEP</th>\n",
       "      <th>WMT</th>\n",
       "      <th>MO</th>\n",
       "      <th>PM</th>\n",
       "      <th>COST</th>\n",
       "      <th>MDLZ</th>\n",
       "      <th>CL</th>\n",
       "      <th>...</th>\n",
       "      <th>CHD</th>\n",
       "      <th>K</th>\n",
       "      <th>CAG</th>\n",
       "      <th>HRL</th>\n",
       "      <th>LW</th>\n",
       "      <th>SJM</th>\n",
       "      <th>TAP</th>\n",
       "      <th>CPB</th>\n",
       "      <th>COTY</th>\n",
       "      <th>BF.B</th>\n",
       "    </tr>\n",
       "    <tr>\n",
       "      <th>Date</th>\n",
       "      <th></th>\n",
       "      <th></th>\n",
       "      <th></th>\n",
       "      <th></th>\n",
       "      <th></th>\n",
       "      <th></th>\n",
       "      <th></th>\n",
       "      <th></th>\n",
       "      <th></th>\n",
       "      <th></th>\n",
       "      <th></th>\n",
       "      <th></th>\n",
       "      <th></th>\n",
       "      <th></th>\n",
       "      <th></th>\n",
       "      <th></th>\n",
       "      <th></th>\n",
       "      <th></th>\n",
       "      <th></th>\n",
       "      <th></th>\n",
       "      <th></th>\n",
       "    </tr>\n",
       "  </thead>\n",
       "  <tbody>\n",
       "    <tr>\n",
       "      <td>2011-12-31</td>\n",
       "      <td>NaN</td>\n",
       "      <td>NaN</td>\n",
       "      <td>NaN</td>\n",
       "      <td>NaN</td>\n",
       "      <td>NaN</td>\n",
       "      <td>NaN</td>\n",
       "      <td>NaN</td>\n",
       "      <td>NaN</td>\n",
       "      <td>NaN</td>\n",
       "      <td>NaN</td>\n",
       "      <td>...</td>\n",
       "      <td>NaN</td>\n",
       "      <td>NaN</td>\n",
       "      <td>NaN</td>\n",
       "      <td>NaN</td>\n",
       "      <td>NaN</td>\n",
       "      <td>NaN</td>\n",
       "      <td>NaN</td>\n",
       "      <td>NaN</td>\n",
       "      <td>NaN</td>\n",
       "      <td>NaN</td>\n",
       "    </tr>\n",
       "    <tr>\n",
       "      <td>2012-12-31</td>\n",
       "      <td>0.074177</td>\n",
       "      <td>0.017689</td>\n",
       "      <td>0.036158</td>\n",
       "      <td>0.031349</td>\n",
       "      <td>0.141734</td>\n",
       "      <td>0.060371</td>\n",
       "      <td>0.065749</td>\n",
       "      <td>0.184950</td>\n",
       "      <td>-0.318790</td>\n",
       "      <td>0.131508</td>\n",
       "      <td>...</td>\n",
       "      <td>0.170673</td>\n",
       "      <td>0.104410</td>\n",
       "      <td>0.117424</td>\n",
       "      <td>0.065551</td>\n",
       "      <td>NaN</td>\n",
       "      <td>0.103237</td>\n",
       "      <td>-0.017226</td>\n",
       "      <td>0.049639</td>\n",
       "      <td>NaN</td>\n",
       "      <td>NaN</td>\n",
       "    </tr>\n",
       "    <tr>\n",
       "      <td>2013-12-31</td>\n",
       "      <td>0.231519</td>\n",
       "      <td>0.199146</td>\n",
       "      <td>0.139586</td>\n",
       "      <td>0.212042</td>\n",
       "      <td>0.153305</td>\n",
       "      <td>0.221056</td>\n",
       "      <td>0.041726</td>\n",
       "      <td>0.205510</td>\n",
       "      <td>0.387033</td>\n",
       "      <td>0.247561</td>\n",
       "      <td>...</td>\n",
       "      <td>0.237260</td>\n",
       "      <td>0.093465</td>\n",
       "      <td>0.142373</td>\n",
       "      <td>0.447293</td>\n",
       "      <td>NaN</td>\n",
       "      <td>0.201531</td>\n",
       "      <td>0.312222</td>\n",
       "      <td>0.240470</td>\n",
       "      <td>NaN</td>\n",
       "      <td>NaN</td>\n",
       "    </tr>\n",
       "    <tr>\n",
       "      <td>2014-12-31</td>\n",
       "      <td>0.128199</td>\n",
       "      <td>0.118904</td>\n",
       "      <td>0.022029</td>\n",
       "      <td>0.140101</td>\n",
       "      <td>0.091371</td>\n",
       "      <td>0.283407</td>\n",
       "      <td>-0.065190</td>\n",
       "      <td>0.190976</td>\n",
       "      <td>0.029179</td>\n",
       "      <td>0.061034</td>\n",
       "      <td>...</td>\n",
       "      <td>0.189046</td>\n",
       "      <td>0.071557</td>\n",
       "      <td>0.076558</td>\n",
       "      <td>0.153420</td>\n",
       "      <td>NaN</td>\n",
       "      <td>-0.025478</td>\n",
       "      <td>0.327159</td>\n",
       "      <td>0.016636</td>\n",
       "      <td>0.354754</td>\n",
       "      <td>NaN</td>\n",
       "    </tr>\n",
       "    <tr>\n",
       "      <td>2015-12-31</td>\n",
       "      <td>0.041246</td>\n",
       "      <td>-0.128225</td>\n",
       "      <td>0.017527</td>\n",
       "      <td>0.056684</td>\n",
       "      <td>-0.286213</td>\n",
       "      <td>0.181449</td>\n",
       "      <td>0.079313</td>\n",
       "      <td>0.139330</td>\n",
       "      <td>0.234242</td>\n",
       "      <td>-0.037144</td>\n",
       "      <td>...</td>\n",
       "      <td>0.077021</td>\n",
       "      <td>0.104370</td>\n",
       "      <td>0.162073</td>\n",
       "      <td>0.517850</td>\n",
       "      <td>NaN</td>\n",
       "      <td>0.221430</td>\n",
       "      <td>0.260333</td>\n",
       "      <td>0.194318</td>\n",
       "      <td>0.240561</td>\n",
       "      <td>NaN</td>\n",
       "    </tr>\n",
       "  </tbody>\n",
       "</table>\n",
       "<p>5 rows × 34 columns</p>\n",
       "</div>"
      ],
      "text/plain": [
       "Symbols          XLP        PG        KO       PEP       WMT        MO  \\\n",
       "Date                                                                     \n",
       "2011-12-31       NaN       NaN       NaN       NaN       NaN       NaN   \n",
       "2012-12-31  0.074177  0.017689  0.036158  0.031349  0.141734  0.060371   \n",
       "2013-12-31  0.231519  0.199146  0.139586  0.212042  0.153305  0.221056   \n",
       "2014-12-31  0.128199  0.118904  0.022029  0.140101  0.091371  0.283407   \n",
       "2015-12-31  0.041246 -0.128225  0.017527  0.056684 -0.286213  0.181449   \n",
       "\n",
       "Symbols           PM      COST      MDLZ        CL  ...       CHD         K  \\\n",
       "Date                                                ...                       \n",
       "2011-12-31       NaN       NaN       NaN       NaN  ...       NaN       NaN   \n",
       "2012-12-31  0.065749  0.184950 -0.318790  0.131508  ...  0.170673  0.104410   \n",
       "2013-12-31  0.041726  0.205510  0.387033  0.247561  ...  0.237260  0.093465   \n",
       "2014-12-31 -0.065190  0.190976  0.029179  0.061034  ...  0.189046  0.071557   \n",
       "2015-12-31  0.079313  0.139330  0.234242 -0.037144  ...  0.077021  0.104370   \n",
       "\n",
       "Symbols          CAG       HRL  LW       SJM       TAP       CPB      COTY  \\\n",
       "Date                                                                         \n",
       "2011-12-31       NaN       NaN NaN       NaN       NaN       NaN       NaN   \n",
       "2012-12-31  0.117424  0.065551 NaN  0.103237 -0.017226  0.049639       NaN   \n",
       "2013-12-31  0.142373  0.447293 NaN  0.201531  0.312222  0.240470       NaN   \n",
       "2014-12-31  0.076558  0.153420 NaN -0.025478  0.327159  0.016636  0.354754   \n",
       "2015-12-31  0.162073  0.517850 NaN  0.221430  0.260333  0.194318  0.240561   \n",
       "\n",
       "Symbols     BF.B  \n",
       "Date              \n",
       "2011-12-31   NaN  \n",
       "2012-12-31   NaN  \n",
       "2013-12-31   NaN  \n",
       "2014-12-31   NaN  \n",
       "2015-12-31   NaN  \n",
       "\n",
       "[5 rows x 34 columns]"
      ]
     },
     "execution_count": 20,
     "metadata": {},
     "output_type": "execute_result"
    }
   ],
   "source": [
    "# Yearly returns\n",
    "multpl_stock_yearly_returns = close_price_df.resample('Y').ffill().pct_change()\n",
    "multpl_stock_yearly_returns.head()"
   ]
  },
  {
   "cell_type": "code",
   "execution_count": 21,
   "metadata": {},
   "outputs": [],
   "source": [
    "# Melting yearly returns\n",
    "multpl_stock_yearly_returns = multpl_stock_yearly_returns.reset_index(drop = False)\n",
    "multpl_stock_yearly_returns_melt = multpl_stock_yearly_returns.melt(id_vars=[\"Date\", \"XLP\"], \n",
    "        var_name=\"TickerSymbol\", \n",
    "        value_name=\"YearlyReturn\")"
   ]
  },
  {
   "cell_type": "code",
   "execution_count": 22,
   "metadata": {},
   "outputs": [
    {
     "data": {
      "text/html": [
       "<div>\n",
       "<style scoped>\n",
       "    .dataframe tbody tr th:only-of-type {\n",
       "        vertical-align: middle;\n",
       "    }\n",
       "\n",
       "    .dataframe tbody tr th {\n",
       "        vertical-align: top;\n",
       "    }\n",
       "\n",
       "    .dataframe thead th {\n",
       "        text-align: right;\n",
       "    }\n",
       "</style>\n",
       "<table border=\"1\" class=\"dataframe\">\n",
       "  <thead>\n",
       "    <tr style=\"text-align: right;\">\n",
       "      <th></th>\n",
       "      <th>Date</th>\n",
       "      <th>XLP</th>\n",
       "      <th>TickerSymbol</th>\n",
       "      <th>YearlyReturn</th>\n",
       "    </tr>\n",
       "  </thead>\n",
       "  <tbody>\n",
       "    <tr>\n",
       "      <td>292</td>\n",
       "      <td>2015-12-31</td>\n",
       "      <td>0.041246</td>\n",
       "      <td>BF.B</td>\n",
       "      <td>NaN</td>\n",
       "    </tr>\n",
       "    <tr>\n",
       "      <td>293</td>\n",
       "      <td>2016-12-31</td>\n",
       "      <td>0.024163</td>\n",
       "      <td>BF.B</td>\n",
       "      <td>NaN</td>\n",
       "    </tr>\n",
       "    <tr>\n",
       "      <td>294</td>\n",
       "      <td>2017-12-31</td>\n",
       "      <td>0.100174</td>\n",
       "      <td>BF.B</td>\n",
       "      <td>NaN</td>\n",
       "    </tr>\n",
       "    <tr>\n",
       "      <td>295</td>\n",
       "      <td>2018-12-31</td>\n",
       "      <td>-0.107400</td>\n",
       "      <td>BF.B</td>\n",
       "      <td>NaN</td>\n",
       "    </tr>\n",
       "    <tr>\n",
       "      <td>296</td>\n",
       "      <td>2019-12-31</td>\n",
       "      <td>0.243403</td>\n",
       "      <td>BF.B</td>\n",
       "      <td>NaN</td>\n",
       "    </tr>\n",
       "  </tbody>\n",
       "</table>\n",
       "</div>"
      ],
      "text/plain": [
       "          Date       XLP TickerSymbol  YearlyReturn\n",
       "292 2015-12-31  0.041246         BF.B           NaN\n",
       "293 2016-12-31  0.024163         BF.B           NaN\n",
       "294 2017-12-31  0.100174         BF.B           NaN\n",
       "295 2018-12-31 -0.107400         BF.B           NaN\n",
       "296 2019-12-31  0.243403         BF.B           NaN"
      ]
     },
     "execution_count": 22,
     "metadata": {},
     "output_type": "execute_result"
    }
   ],
   "source": [
    "multpl_stock_yearly_returns_melt.tail()"
   ]
  },
  {
   "cell_type": "code",
   "execution_count": 23,
   "metadata": {},
   "outputs": [],
   "source": [
    "# changing XLP returns column name\n",
    "multpl_stock_yearly_returns_melt.rename(columns = {'XLP':'XLP_Return'}, inplace = True)"
   ]
  },
  {
   "cell_type": "code",
   "execution_count": 24,
   "metadata": {},
   "outputs": [
    {
     "data": {
      "text/html": [
       "<div>\n",
       "<style scoped>\n",
       "    .dataframe tbody tr th:only-of-type {\n",
       "        vertical-align: middle;\n",
       "    }\n",
       "\n",
       "    .dataframe tbody tr th {\n",
       "        vertical-align: top;\n",
       "    }\n",
       "\n",
       "    .dataframe thead th {\n",
       "        text-align: right;\n",
       "    }\n",
       "</style>\n",
       "<table border=\"1\" class=\"dataframe\">\n",
       "  <thead>\n",
       "    <tr style=\"text-align: right;\">\n",
       "      <th></th>\n",
       "      <th>Date</th>\n",
       "      <th>XLP_Return</th>\n",
       "      <th>TickerSymbol</th>\n",
       "      <th>YearlyReturn</th>\n",
       "    </tr>\n",
       "  </thead>\n",
       "  <tbody>\n",
       "    <tr>\n",
       "      <td>0</td>\n",
       "      <td>2011-12-31</td>\n",
       "      <td>NaN</td>\n",
       "      <td>PG</td>\n",
       "      <td>NaN</td>\n",
       "    </tr>\n",
       "    <tr>\n",
       "      <td>1</td>\n",
       "      <td>2012-12-31</td>\n",
       "      <td>0.074177</td>\n",
       "      <td>PG</td>\n",
       "      <td>0.017689</td>\n",
       "    </tr>\n",
       "    <tr>\n",
       "      <td>2</td>\n",
       "      <td>2013-12-31</td>\n",
       "      <td>0.231519</td>\n",
       "      <td>PG</td>\n",
       "      <td>0.199146</td>\n",
       "    </tr>\n",
       "    <tr>\n",
       "      <td>3</td>\n",
       "      <td>2014-12-31</td>\n",
       "      <td>0.128199</td>\n",
       "      <td>PG</td>\n",
       "      <td>0.118904</td>\n",
       "    </tr>\n",
       "    <tr>\n",
       "      <td>4</td>\n",
       "      <td>2015-12-31</td>\n",
       "      <td>0.041246</td>\n",
       "      <td>PG</td>\n",
       "      <td>-0.128225</td>\n",
       "    </tr>\n",
       "  </tbody>\n",
       "</table>\n",
       "</div>"
      ],
      "text/plain": [
       "        Date  XLP_Return TickerSymbol  YearlyReturn\n",
       "0 2011-12-31         NaN           PG           NaN\n",
       "1 2012-12-31    0.074177           PG      0.017689\n",
       "2 2013-12-31    0.231519           PG      0.199146\n",
       "3 2014-12-31    0.128199           PG      0.118904\n",
       "4 2015-12-31    0.041246           PG     -0.128225"
      ]
     },
     "execution_count": 24,
     "metadata": {},
     "output_type": "execute_result"
    }
   ],
   "source": [
    "multpl_stock_yearly_returns_melt.head()"
   ]
  },
  {
   "cell_type": "code",
   "execution_count": 25,
   "metadata": {},
   "outputs": [],
   "source": [
    "threshold = 0.05 \n",
    "delta_value = threshold * multpl_stock_yearly_returns_melt['YearlyReturn']\n",
    "win = np.where(multpl_stock_yearly_returns_melt['XLP_Return'] - multpl_stock_yearly_returns_melt['YearlyReturn'] >= delta_value, 0, 1)"
   ]
  },
  {
   "cell_type": "code",
   "execution_count": 26,
   "metadata": {},
   "outputs": [],
   "source": [
    "multpl_stock_yearly_returns_melt['win'] = win"
   ]
  },
  {
   "cell_type": "code",
   "execution_count": 27,
   "metadata": {
    "scrolled": true
   },
   "outputs": [
    {
     "data": {
      "text/html": [
       "<div>\n",
       "<style scoped>\n",
       "    .dataframe tbody tr th:only-of-type {\n",
       "        vertical-align: middle;\n",
       "    }\n",
       "\n",
       "    .dataframe tbody tr th {\n",
       "        vertical-align: top;\n",
       "    }\n",
       "\n",
       "    .dataframe thead th {\n",
       "        text-align: right;\n",
       "    }\n",
       "</style>\n",
       "<table border=\"1\" class=\"dataframe\">\n",
       "  <thead>\n",
       "    <tr style=\"text-align: right;\">\n",
       "      <th></th>\n",
       "      <th>Date</th>\n",
       "      <th>XLP_Return</th>\n",
       "      <th>TickerSymbol</th>\n",
       "      <th>YearlyReturn</th>\n",
       "      <th>win</th>\n",
       "    </tr>\n",
       "  </thead>\n",
       "  <tbody>\n",
       "    <tr>\n",
       "      <td>116</td>\n",
       "      <td>2019-12-31</td>\n",
       "      <td>0.243403</td>\n",
       "      <td>SYY</td>\n",
       "      <td>0.348388</td>\n",
       "      <td>1</td>\n",
       "    </tr>\n",
       "    <tr>\n",
       "      <td>269</td>\n",
       "      <td>2019-12-31</td>\n",
       "      <td>0.243403</td>\n",
       "      <td>TAP</td>\n",
       "      <td>-0.051816</td>\n",
       "      <td>0</td>\n",
       "    </tr>\n",
       "    <tr>\n",
       "      <td>143</td>\n",
       "      <td>2019-12-31</td>\n",
       "      <td>0.243403</td>\n",
       "      <td>TSN</td>\n",
       "      <td>0.680524</td>\n",
       "      <td>1</td>\n",
       "    </tr>\n",
       "    <tr>\n",
       "      <td>98</td>\n",
       "      <td>2019-12-31</td>\n",
       "      <td>0.243403</td>\n",
       "      <td>WBA</td>\n",
       "      <td>-0.154837</td>\n",
       "      <td>0</td>\n",
       "    </tr>\n",
       "    <tr>\n",
       "      <td>35</td>\n",
       "      <td>2019-12-31</td>\n",
       "      <td>0.243403</td>\n",
       "      <td>WMT</td>\n",
       "      <td>0.289104</td>\n",
       "      <td>1</td>\n",
       "    </tr>\n",
       "  </tbody>\n",
       "</table>\n",
       "</div>"
      ],
      "text/plain": [
       "          Date  XLP_Return TickerSymbol  YearlyReturn  win\n",
       "116 2019-12-31    0.243403          SYY      0.348388    1\n",
       "269 2019-12-31    0.243403          TAP     -0.051816    0\n",
       "143 2019-12-31    0.243403          TSN      0.680524    1\n",
       "98  2019-12-31    0.243403          WBA     -0.154837    0\n",
       "35  2019-12-31    0.243403          WMT      0.289104    1"
      ]
     },
     "execution_count": 27,
     "metadata": {},
     "output_type": "execute_result"
    }
   ],
   "source": [
    "multpl_stock_yearly_returns_melt = multpl_stock_yearly_returns_melt.sort_values(by=['Date','TickerSymbol'])\n",
    "multpl_stock_yearly_returns_melt.tail()"
   ]
  },
  {
   "cell_type": "code",
   "execution_count": 28,
   "metadata": {},
   "outputs": [
    {
     "data": {
      "text/html": [
       "<div>\n",
       "<style scoped>\n",
       "    .dataframe tbody tr th:only-of-type {\n",
       "        vertical-align: middle;\n",
       "    }\n",
       "\n",
       "    .dataframe tbody tr th {\n",
       "        vertical-align: top;\n",
       "    }\n",
       "\n",
       "    .dataframe thead th {\n",
       "        text-align: right;\n",
       "    }\n",
       "</style>\n",
       "<table border=\"1\" class=\"dataframe\">\n",
       "  <thead>\n",
       "    <tr style=\"text-align: right;\">\n",
       "      <th></th>\n",
       "      <th>Date</th>\n",
       "      <th>XLP_Return</th>\n",
       "      <th>TickerSymbol</th>\n",
       "      <th>YearlyReturn</th>\n",
       "      <th>win</th>\n",
       "    </tr>\n",
       "  </thead>\n",
       "  <tbody>\n",
       "    <tr>\n",
       "      <td>0</td>\n",
       "      <td>2011-12-31</td>\n",
       "      <td>NaN</td>\n",
       "      <td>ADM</td>\n",
       "      <td>NaN</td>\n",
       "      <td>1</td>\n",
       "    </tr>\n",
       "    <tr>\n",
       "      <td>1</td>\n",
       "      <td>2011-12-31</td>\n",
       "      <td>NaN</td>\n",
       "      <td>BF.B</td>\n",
       "      <td>NaN</td>\n",
       "      <td>1</td>\n",
       "    </tr>\n",
       "    <tr>\n",
       "      <td>2</td>\n",
       "      <td>2011-12-31</td>\n",
       "      <td>NaN</td>\n",
       "      <td>CAG</td>\n",
       "      <td>NaN</td>\n",
       "      <td>1</td>\n",
       "    </tr>\n",
       "    <tr>\n",
       "      <td>3</td>\n",
       "      <td>2011-12-31</td>\n",
       "      <td>NaN</td>\n",
       "      <td>CHD</td>\n",
       "      <td>NaN</td>\n",
       "      <td>1</td>\n",
       "    </tr>\n",
       "    <tr>\n",
       "      <td>4</td>\n",
       "      <td>2011-12-31</td>\n",
       "      <td>NaN</td>\n",
       "      <td>CL</td>\n",
       "      <td>NaN</td>\n",
       "      <td>1</td>\n",
       "    </tr>\n",
       "  </tbody>\n",
       "</table>\n",
       "</div>"
      ],
      "text/plain": [
       "        Date  XLP_Return TickerSymbol  YearlyReturn  win\n",
       "0 2011-12-31         NaN          ADM           NaN    1\n",
       "1 2011-12-31         NaN         BF.B           NaN    1\n",
       "2 2011-12-31         NaN          CAG           NaN    1\n",
       "3 2011-12-31         NaN          CHD           NaN    1\n",
       "4 2011-12-31         NaN           CL           NaN    1"
      ]
     },
     "execution_count": 28,
     "metadata": {},
     "output_type": "execute_result"
    }
   ],
   "source": [
    "multpl_stock_yearly_returns_melt = multpl_stock_yearly_returns_melt.reset_index(drop = True)\n",
    "multpl_stock_yearly_returns_melt.head()"
   ]
  },
  {
   "cell_type": "code",
   "execution_count": 29,
   "metadata": {},
   "outputs": [
    {
     "name": "stdout",
     "output_type": "stream",
     "text": [
      "(28, 25)\n",
      "(28, 25)\n",
      "(29, 25)\n",
      "(29, 25)\n",
      "(30, 25)\n",
      "(30, 25)\n",
      "(30, 25)\n",
      "(30, 25)\n"
     ]
    }
   ],
   "source": [
    "for e in df_signals_list:\n",
    "    print(e.shape)"
   ]
  },
  {
   "cell_type": "code",
   "execution_count": 30,
   "metadata": {},
   "outputs": [],
   "source": [
    "# Replacing NaNs with median of columns\n",
    "for e in df_signals_list:\n",
    "    for col in e:\n",
    "        e[col] = e[col].fillna(e[col].median())"
   ]
  },
  {
   "cell_type": "code",
   "execution_count": 31,
   "metadata": {},
   "outputs": [],
   "source": [
    "# appending signals dfs\n",
    "all_years_signals = df_signals_list[0]\n",
    "for i in range(1, len(df_signals_list)):\n",
    "    all_years_signals = all_years_signals.append(df_signals_list[i])"
   ]
  },
  {
   "cell_type": "code",
   "execution_count": 32,
   "metadata": {},
   "outputs": [
    {
     "data": {
      "text/html": [
       "<div>\n",
       "<style scoped>\n",
       "    .dataframe tbody tr th:only-of-type {\n",
       "        vertical-align: middle;\n",
       "    }\n",
       "\n",
       "    .dataframe tbody tr th {\n",
       "        vertical-align: top;\n",
       "    }\n",
       "\n",
       "    .dataframe thead th {\n",
       "        text-align: right;\n",
       "    }\n",
       "</style>\n",
       "<table border=\"1\" class=\"dataframe\">\n",
       "  <thead>\n",
       "    <tr style=\"text-align: right;\">\n",
       "      <th></th>\n",
       "      <th></th>\n",
       "      <th>Current Ratio</th>\n",
       "      <th>Debt Ratio</th>\n",
       "      <th>Gross Profit Margin</th>\n",
       "      <th>Net Profit Margin</th>\n",
       "      <th>Return on Assets</th>\n",
       "      <th>Return on Equity</th>\n",
       "      <th>Earnings Growth</th>\n",
       "      <th>Earnings Growth QOQ</th>\n",
       "      <th>Earnings Growth YOY</th>\n",
       "      <th>FCF Growth</th>\n",
       "      <th>...</th>\n",
       "      <th>Dividend Yield</th>\n",
       "      <th>Earnings Yield</th>\n",
       "      <th>FCF Yield</th>\n",
       "      <th>Market-Cap</th>\n",
       "      <th>P/Book</th>\n",
       "      <th>P/E</th>\n",
       "      <th>P/FCF</th>\n",
       "      <th>P/NCAV</th>\n",
       "      <th>P/NetNet</th>\n",
       "      <th>P/Sales</th>\n",
       "    </tr>\n",
       "    <tr>\n",
       "      <th>Ticker</th>\n",
       "      <th>Date</th>\n",
       "      <th></th>\n",
       "      <th></th>\n",
       "      <th></th>\n",
       "      <th></th>\n",
       "      <th></th>\n",
       "      <th></th>\n",
       "      <th></th>\n",
       "      <th></th>\n",
       "      <th></th>\n",
       "      <th></th>\n",
       "      <th></th>\n",
       "      <th></th>\n",
       "      <th></th>\n",
       "      <th></th>\n",
       "      <th></th>\n",
       "      <th></th>\n",
       "      <th></th>\n",
       "      <th></th>\n",
       "      <th></th>\n",
       "      <th></th>\n",
       "      <th></th>\n",
       "    </tr>\n",
       "  </thead>\n",
       "  <tbody>\n",
       "    <tr>\n",
       "      <td>SYY</td>\n",
       "      <td>2018-12-31</td>\n",
       "      <td>1.250010</td>\n",
       "      <td>0.484330</td>\n",
       "      <td>0.188911</td>\n",
       "      <td>0.024770</td>\n",
       "      <td>0.081091</td>\n",
       "      <td>0.641770</td>\n",
       "      <td>0.236138</td>\n",
       "      <td>-0.379689</td>\n",
       "      <td>-0.058896</td>\n",
       "      <td>-0.198119</td>\n",
       "      <td>...</td>\n",
       "      <td>0.022829</td>\n",
       "      <td>0.044706</td>\n",
       "      <td>0.045855</td>\n",
       "      <td>3.304816e+10</td>\n",
       "      <td>15.001482</td>\n",
       "      <td>22.368604</td>\n",
       "      <td>21.807733</td>\n",
       "      <td>-4.375269</td>\n",
       "      <td>-3.153242</td>\n",
       "      <td>0.554068</td>\n",
       "    </tr>\n",
       "    <tr>\n",
       "      <td>TAP</td>\n",
       "      <td>2018-12-31</td>\n",
       "      <td>0.643191</td>\n",
       "      <td>0.348335</td>\n",
       "      <td>0.388575</td>\n",
       "      <td>0.103671</td>\n",
       "      <td>0.036913</td>\n",
       "      <td>0.083104</td>\n",
       "      <td>-0.210508</td>\n",
       "      <td>-0.774623</td>\n",
       "      <td>-0.875000</td>\n",
       "      <td>0.290009</td>\n",
       "      <td>...</td>\n",
       "      <td>0.029118</td>\n",
       "      <td>0.091785</td>\n",
       "      <td>0.140748</td>\n",
       "      <td>1.216426e+10</td>\n",
       "      <td>0.885588</td>\n",
       "      <td>10.894990</td>\n",
       "      <td>7.104875</td>\n",
       "      <td>-0.893924</td>\n",
       "      <td>-0.840758</td>\n",
       "      <td>1.129499</td>\n",
       "    </tr>\n",
       "    <tr>\n",
       "      <td>TSN</td>\n",
       "      <td>2018-12-31</td>\n",
       "      <td>0.848048</td>\n",
       "      <td>0.370867</td>\n",
       "      <td>0.125700</td>\n",
       "      <td>0.048581</td>\n",
       "      <td>0.069315</td>\n",
       "      <td>0.162352</td>\n",
       "      <td>-0.308677</td>\n",
       "      <td>0.026071</td>\n",
       "      <td>-0.662170</td>\n",
       "      <td>0.039972</td>\n",
       "      <td>...</td>\n",
       "      <td>0.023271</td>\n",
       "      <td>0.098993</td>\n",
       "      <td>0.075517</td>\n",
       "      <td>1.963785e+10</td>\n",
       "      <td>1.481096</td>\n",
       "      <td>10.101775</td>\n",
       "      <td>13.241976</td>\n",
       "      <td>-1.537209</td>\n",
       "      <td>-1.277799</td>\n",
       "      <td>0.490750</td>\n",
       "    </tr>\n",
       "    <tr>\n",
       "      <td>WBA</td>\n",
       "      <td>2018-12-31</td>\n",
       "      <td>0.800151</td>\n",
       "      <td>0.228621</td>\n",
       "      <td>0.231013</td>\n",
       "      <td>0.039572</td>\n",
       "      <td>0.079948</td>\n",
       "      <td>0.199058</td>\n",
       "      <td>0.385176</td>\n",
       "      <td>-0.257275</td>\n",
       "      <td>0.367844</td>\n",
       "      <td>0.092918</td>\n",
       "      <td>...</td>\n",
       "      <td>0.026102</td>\n",
       "      <td>0.079530</td>\n",
       "      <td>0.104153</td>\n",
       "      <td>6.696852e+10</td>\n",
       "      <td>2.549919</td>\n",
       "      <td>12.573887</td>\n",
       "      <td>9.601222</td>\n",
       "      <td>-2.838251</td>\n",
       "      <td>-2.102490</td>\n",
       "      <td>0.497574</td>\n",
       "    </tr>\n",
       "    <tr>\n",
       "      <td>WMT</td>\n",
       "      <td>2018-12-31</td>\n",
       "      <td>0.809856</td>\n",
       "      <td>0.269177</td>\n",
       "      <td>0.251710</td>\n",
       "      <td>0.010077</td>\n",
       "      <td>0.024631</td>\n",
       "      <td>0.065369</td>\n",
       "      <td>-0.549283</td>\n",
       "      <td>-2.986063</td>\n",
       "      <td>-0.022298</td>\n",
       "      <td>-0.002386</td>\n",
       "      <td>...</td>\n",
       "      <td>0.022168</td>\n",
       "      <td>0.018723</td>\n",
       "      <td>0.068289</td>\n",
       "      <td>2.754911e+11</td>\n",
       "      <td>3.466649</td>\n",
       "      <td>53.410455</td>\n",
       "      <td>14.643657</td>\n",
       "      <td>-3.547035</td>\n",
       "      <td>-2.541167</td>\n",
       "      <td>0.538196</td>\n",
       "    </tr>\n",
       "  </tbody>\n",
       "</table>\n",
       "<p>5 rows × 25 columns</p>\n",
       "</div>"
      ],
      "text/plain": [
       "                   Current Ratio  Debt Ratio  Gross Profit Margin  \\\n",
       "Ticker Date                                                         \n",
       "SYY    2018-12-31       1.250010    0.484330             0.188911   \n",
       "TAP    2018-12-31       0.643191    0.348335             0.388575   \n",
       "TSN    2018-12-31       0.848048    0.370867             0.125700   \n",
       "WBA    2018-12-31       0.800151    0.228621             0.231013   \n",
       "WMT    2018-12-31       0.809856    0.269177             0.251710   \n",
       "\n",
       "                   Net Profit Margin  Return on Assets  Return on Equity  \\\n",
       "Ticker Date                                                                \n",
       "SYY    2018-12-31           0.024770          0.081091          0.641770   \n",
       "TAP    2018-12-31           0.103671          0.036913          0.083104   \n",
       "TSN    2018-12-31           0.048581          0.069315          0.162352   \n",
       "WBA    2018-12-31           0.039572          0.079948          0.199058   \n",
       "WMT    2018-12-31           0.010077          0.024631          0.065369   \n",
       "\n",
       "                   Earnings Growth  Earnings Growth QOQ  Earnings Growth YOY  \\\n",
       "Ticker Date                                                                    \n",
       "SYY    2018-12-31         0.236138            -0.379689            -0.058896   \n",
       "TAP    2018-12-31        -0.210508            -0.774623            -0.875000   \n",
       "TSN    2018-12-31        -0.308677             0.026071            -0.662170   \n",
       "WBA    2018-12-31         0.385176            -0.257275             0.367844   \n",
       "WMT    2018-12-31        -0.549283            -2.986063            -0.022298   \n",
       "\n",
       "                   FCF Growth  ...  Dividend Yield  Earnings Yield  FCF Yield  \\\n",
       "Ticker Date                    ...                                              \n",
       "SYY    2018-12-31   -0.198119  ...        0.022829        0.044706   0.045855   \n",
       "TAP    2018-12-31    0.290009  ...        0.029118        0.091785   0.140748   \n",
       "TSN    2018-12-31    0.039972  ...        0.023271        0.098993   0.075517   \n",
       "WBA    2018-12-31    0.092918  ...        0.026102        0.079530   0.104153   \n",
       "WMT    2018-12-31   -0.002386  ...        0.022168        0.018723   0.068289   \n",
       "\n",
       "                     Market-Cap     P/Book        P/E      P/FCF    P/NCAV  \\\n",
       "Ticker Date                                                                  \n",
       "SYY    2018-12-31  3.304816e+10  15.001482  22.368604  21.807733 -4.375269   \n",
       "TAP    2018-12-31  1.216426e+10   0.885588  10.894990   7.104875 -0.893924   \n",
       "TSN    2018-12-31  1.963785e+10   1.481096  10.101775  13.241976 -1.537209   \n",
       "WBA    2018-12-31  6.696852e+10   2.549919  12.573887   9.601222 -2.838251   \n",
       "WMT    2018-12-31  2.754911e+11   3.466649  53.410455  14.643657 -3.547035   \n",
       "\n",
       "                   P/NetNet   P/Sales  \n",
       "Ticker Date                            \n",
       "SYY    2018-12-31 -3.153242  0.554068  \n",
       "TAP    2018-12-31 -0.840758  1.129499  \n",
       "TSN    2018-12-31 -1.277799  0.490750  \n",
       "WBA    2018-12-31 -2.102490  0.497574  \n",
       "WMT    2018-12-31 -2.541167  0.538196  \n",
       "\n",
       "[5 rows x 25 columns]"
      ]
     },
     "execution_count": 32,
     "metadata": {},
     "output_type": "execute_result"
    }
   ],
   "source": [
    "all_years_signals.tail()"
   ]
  },
  {
   "cell_type": "code",
   "execution_count": 33,
   "metadata": {},
   "outputs": [],
   "source": [
    "all_years_signals = all_years_signals.reset_index(drop = True)"
   ]
  },
  {
   "cell_type": "code",
   "execution_count": 34,
   "metadata": {},
   "outputs": [
    {
     "data": {
      "text/html": [
       "<div>\n",
       "<style scoped>\n",
       "    .dataframe tbody tr th:only-of-type {\n",
       "        vertical-align: middle;\n",
       "    }\n",
       "\n",
       "    .dataframe tbody tr th {\n",
       "        vertical-align: top;\n",
       "    }\n",
       "\n",
       "    .dataframe thead th {\n",
       "        text-align: right;\n",
       "    }\n",
       "</style>\n",
       "<table border=\"1\" class=\"dataframe\">\n",
       "  <thead>\n",
       "    <tr style=\"text-align: right;\">\n",
       "      <th></th>\n",
       "      <th>Current Ratio</th>\n",
       "      <th>Debt Ratio</th>\n",
       "      <th>Gross Profit Margin</th>\n",
       "      <th>Net Profit Margin</th>\n",
       "      <th>Return on Assets</th>\n",
       "      <th>Return on Equity</th>\n",
       "      <th>Earnings Growth</th>\n",
       "      <th>Earnings Growth QOQ</th>\n",
       "      <th>Earnings Growth YOY</th>\n",
       "      <th>FCF Growth</th>\n",
       "      <th>...</th>\n",
       "      <th>Dividend Yield</th>\n",
       "      <th>Earnings Yield</th>\n",
       "      <th>FCF Yield</th>\n",
       "      <th>Market-Cap</th>\n",
       "      <th>P/Book</th>\n",
       "      <th>P/E</th>\n",
       "      <th>P/FCF</th>\n",
       "      <th>P/NCAV</th>\n",
       "      <th>P/NetNet</th>\n",
       "      <th>P/Sales</th>\n",
       "    </tr>\n",
       "  </thead>\n",
       "  <tbody>\n",
       "    <tr>\n",
       "      <td>229</td>\n",
       "      <td>1.250010</td>\n",
       "      <td>0.484330</td>\n",
       "      <td>0.188911</td>\n",
       "      <td>0.024770</td>\n",
       "      <td>0.081091</td>\n",
       "      <td>0.641770</td>\n",
       "      <td>0.236138</td>\n",
       "      <td>-0.379689</td>\n",
       "      <td>-0.058896</td>\n",
       "      <td>-0.198119</td>\n",
       "      <td>...</td>\n",
       "      <td>0.022829</td>\n",
       "      <td>0.044706</td>\n",
       "      <td>0.045855</td>\n",
       "      <td>3.304816e+10</td>\n",
       "      <td>15.001482</td>\n",
       "      <td>22.368604</td>\n",
       "      <td>21.807733</td>\n",
       "      <td>-4.375269</td>\n",
       "      <td>-3.153242</td>\n",
       "      <td>0.554068</td>\n",
       "    </tr>\n",
       "    <tr>\n",
       "      <td>230</td>\n",
       "      <td>0.643191</td>\n",
       "      <td>0.348335</td>\n",
       "      <td>0.388575</td>\n",
       "      <td>0.103671</td>\n",
       "      <td>0.036913</td>\n",
       "      <td>0.083104</td>\n",
       "      <td>-0.210508</td>\n",
       "      <td>-0.774623</td>\n",
       "      <td>-0.875000</td>\n",
       "      <td>0.290009</td>\n",
       "      <td>...</td>\n",
       "      <td>0.029118</td>\n",
       "      <td>0.091785</td>\n",
       "      <td>0.140748</td>\n",
       "      <td>1.216426e+10</td>\n",
       "      <td>0.885588</td>\n",
       "      <td>10.894990</td>\n",
       "      <td>7.104875</td>\n",
       "      <td>-0.893924</td>\n",
       "      <td>-0.840758</td>\n",
       "      <td>1.129499</td>\n",
       "    </tr>\n",
       "    <tr>\n",
       "      <td>231</td>\n",
       "      <td>0.848048</td>\n",
       "      <td>0.370867</td>\n",
       "      <td>0.125700</td>\n",
       "      <td>0.048581</td>\n",
       "      <td>0.069315</td>\n",
       "      <td>0.162352</td>\n",
       "      <td>-0.308677</td>\n",
       "      <td>0.026071</td>\n",
       "      <td>-0.662170</td>\n",
       "      <td>0.039972</td>\n",
       "      <td>...</td>\n",
       "      <td>0.023271</td>\n",
       "      <td>0.098993</td>\n",
       "      <td>0.075517</td>\n",
       "      <td>1.963785e+10</td>\n",
       "      <td>1.481096</td>\n",
       "      <td>10.101775</td>\n",
       "      <td>13.241976</td>\n",
       "      <td>-1.537209</td>\n",
       "      <td>-1.277799</td>\n",
       "      <td>0.490750</td>\n",
       "    </tr>\n",
       "    <tr>\n",
       "      <td>232</td>\n",
       "      <td>0.800151</td>\n",
       "      <td>0.228621</td>\n",
       "      <td>0.231013</td>\n",
       "      <td>0.039572</td>\n",
       "      <td>0.079948</td>\n",
       "      <td>0.199058</td>\n",
       "      <td>0.385176</td>\n",
       "      <td>-0.257275</td>\n",
       "      <td>0.367844</td>\n",
       "      <td>0.092918</td>\n",
       "      <td>...</td>\n",
       "      <td>0.026102</td>\n",
       "      <td>0.079530</td>\n",
       "      <td>0.104153</td>\n",
       "      <td>6.696852e+10</td>\n",
       "      <td>2.549919</td>\n",
       "      <td>12.573887</td>\n",
       "      <td>9.601222</td>\n",
       "      <td>-2.838251</td>\n",
       "      <td>-2.102490</td>\n",
       "      <td>0.497574</td>\n",
       "    </tr>\n",
       "    <tr>\n",
       "      <td>233</td>\n",
       "      <td>0.809856</td>\n",
       "      <td>0.269177</td>\n",
       "      <td>0.251710</td>\n",
       "      <td>0.010077</td>\n",
       "      <td>0.024631</td>\n",
       "      <td>0.065369</td>\n",
       "      <td>-0.549283</td>\n",
       "      <td>-2.986063</td>\n",
       "      <td>-0.022298</td>\n",
       "      <td>-0.002386</td>\n",
       "      <td>...</td>\n",
       "      <td>0.022168</td>\n",
       "      <td>0.018723</td>\n",
       "      <td>0.068289</td>\n",
       "      <td>2.754911e+11</td>\n",
       "      <td>3.466649</td>\n",
       "      <td>53.410455</td>\n",
       "      <td>14.643657</td>\n",
       "      <td>-3.547035</td>\n",
       "      <td>-2.541167</td>\n",
       "      <td>0.538196</td>\n",
       "    </tr>\n",
       "  </tbody>\n",
       "</table>\n",
       "<p>5 rows × 25 columns</p>\n",
       "</div>"
      ],
      "text/plain": [
       "     Current Ratio  Debt Ratio  Gross Profit Margin  Net Profit Margin  \\\n",
       "229       1.250010    0.484330             0.188911           0.024770   \n",
       "230       0.643191    0.348335             0.388575           0.103671   \n",
       "231       0.848048    0.370867             0.125700           0.048581   \n",
       "232       0.800151    0.228621             0.231013           0.039572   \n",
       "233       0.809856    0.269177             0.251710           0.010077   \n",
       "\n",
       "     Return on Assets  Return on Equity  Earnings Growth  Earnings Growth QOQ  \\\n",
       "229          0.081091          0.641770         0.236138            -0.379689   \n",
       "230          0.036913          0.083104        -0.210508            -0.774623   \n",
       "231          0.069315          0.162352        -0.308677             0.026071   \n",
       "232          0.079948          0.199058         0.385176            -0.257275   \n",
       "233          0.024631          0.065369        -0.549283            -2.986063   \n",
       "\n",
       "     Earnings Growth YOY  FCF Growth  ...  Dividend Yield  Earnings Yield  \\\n",
       "229            -0.058896   -0.198119  ...        0.022829        0.044706   \n",
       "230            -0.875000    0.290009  ...        0.029118        0.091785   \n",
       "231            -0.662170    0.039972  ...        0.023271        0.098993   \n",
       "232             0.367844    0.092918  ...        0.026102        0.079530   \n",
       "233            -0.022298   -0.002386  ...        0.022168        0.018723   \n",
       "\n",
       "     FCF Yield    Market-Cap     P/Book        P/E      P/FCF    P/NCAV  \\\n",
       "229   0.045855  3.304816e+10  15.001482  22.368604  21.807733 -4.375269   \n",
       "230   0.140748  1.216426e+10   0.885588  10.894990   7.104875 -0.893924   \n",
       "231   0.075517  1.963785e+10   1.481096  10.101775  13.241976 -1.537209   \n",
       "232   0.104153  6.696852e+10   2.549919  12.573887   9.601222 -2.838251   \n",
       "233   0.068289  2.754911e+11   3.466649  53.410455  14.643657 -3.547035   \n",
       "\n",
       "     P/NetNet   P/Sales  \n",
       "229 -3.153242  0.554068  \n",
       "230 -0.840758  1.129499  \n",
       "231 -1.277799  0.490750  \n",
       "232 -2.102490  0.497574  \n",
       "233 -2.541167  0.538196  \n",
       "\n",
       "[5 rows x 25 columns]"
      ]
     },
     "execution_count": 34,
     "metadata": {},
     "output_type": "execute_result"
    }
   ],
   "source": [
    "all_years_signals.tail()"
   ]
  },
  {
   "cell_type": "code",
   "execution_count": 35,
   "metadata": {},
   "outputs": [
    {
     "name": "stdout",
     "output_type": "stream",
     "text": [
      "(297, 5)\n",
      "(234, 25)\n"
     ]
    }
   ],
   "source": [
    "print(multpl_stock_yearly_returns_melt.shape)\n",
    "print(all_years_signals.shape)"
   ]
  },
  {
   "cell_type": "code",
   "execution_count": 36,
   "metadata": {},
   "outputs": [],
   "source": [
    "# Separating latest data\n",
    "# multpl_stock_yearly_returns_melt['Date'] = pd.to_datetime(multpl_stock_yearly_returns_melt['Date'])\n",
    "yearly_returns_latest_df = multpl_stock_yearly_returns_melt[multpl_stock_yearly_returns_melt['Date'].dt.year == 2019]\n",
    "yearly_returns_df = multpl_stock_yearly_returns_melt[multpl_stock_yearly_returns_melt['Date'].dt.year != 2019]"
   ]
  },
  {
   "cell_type": "code",
   "execution_count": 37,
   "metadata": {},
   "outputs": [
    {
     "name": "stdout",
     "output_type": "stream",
     "text": [
      "(264, 5)\n",
      "(33, 5)\n"
     ]
    }
   ],
   "source": [
    "print(yearly_returns_df.shape)\n",
    "print(yearly_returns_latest_df.shape)"
   ]
  },
  {
   "cell_type": "code",
   "execution_count": 38,
   "metadata": {},
   "outputs": [],
   "source": [
    "yearly_returns_df = yearly_returns_df.drop(columns = [\"TickerSymbol\", \"Date\"])\n",
    "yearly_returns_latest_df = yearly_returns_latest_df.drop(columns = [\"TickerSymbol\", \"Date\"])"
   ]
  },
  {
   "cell_type": "code",
   "execution_count": 39,
   "metadata": {},
   "outputs": [],
   "source": [
    "yearly_returns_df = yearly_returns_df.reset_index(drop = True)\n",
    "yearly_returns_latest_df = yearly_returns_latest_df.reset_index(drop = True)"
   ]
  },
  {
   "cell_type": "code",
   "execution_count": 40,
   "metadata": {
    "scrolled": true
   },
   "outputs": [
    {
     "name": "stdout",
     "output_type": "stream",
     "text": [
      "(264, 3)\n",
      "(234, 25)\n"
     ]
    }
   ],
   "source": [
    "print(yearly_returns_df.shape)\n",
    "print(all_years_signals.shape)"
   ]
  },
  {
   "cell_type": "code",
   "execution_count": 41,
   "metadata": {},
   "outputs": [],
   "source": [
    "final_df = pd.concat([yearly_returns_df, all_years_signals], axis=1)"
   ]
  },
  {
   "cell_type": "code",
   "execution_count": 42,
   "metadata": {},
   "outputs": [
    {
     "data": {
      "text/html": [
       "<div>\n",
       "<style scoped>\n",
       "    .dataframe tbody tr th:only-of-type {\n",
       "        vertical-align: middle;\n",
       "    }\n",
       "\n",
       "    .dataframe tbody tr th {\n",
       "        vertical-align: top;\n",
       "    }\n",
       "\n",
       "    .dataframe thead th {\n",
       "        text-align: right;\n",
       "    }\n",
       "</style>\n",
       "<table border=\"1\" class=\"dataframe\">\n",
       "  <thead>\n",
       "    <tr style=\"text-align: right;\">\n",
       "      <th></th>\n",
       "      <th>XLP_Return</th>\n",
       "      <th>YearlyReturn</th>\n",
       "      <th>win</th>\n",
       "      <th>Current Ratio</th>\n",
       "      <th>Debt Ratio</th>\n",
       "      <th>Gross Profit Margin</th>\n",
       "      <th>Net Profit Margin</th>\n",
       "      <th>Return on Assets</th>\n",
       "      <th>Return on Equity</th>\n",
       "      <th>Earnings Growth</th>\n",
       "      <th>...</th>\n",
       "      <th>Dividend Yield</th>\n",
       "      <th>Earnings Yield</th>\n",
       "      <th>FCF Yield</th>\n",
       "      <th>Market-Cap</th>\n",
       "      <th>P/Book</th>\n",
       "      <th>P/E</th>\n",
       "      <th>P/FCF</th>\n",
       "      <th>P/NCAV</th>\n",
       "      <th>P/NetNet</th>\n",
       "      <th>P/Sales</th>\n",
       "    </tr>\n",
       "  </thead>\n",
       "  <tbody>\n",
       "    <tr>\n",
       "      <td>249</td>\n",
       "      <td>-0.1074</td>\n",
       "      <td>0.303100</td>\n",
       "      <td>1</td>\n",
       "      <td>NaN</td>\n",
       "      <td>NaN</td>\n",
       "      <td>NaN</td>\n",
       "      <td>NaN</td>\n",
       "      <td>NaN</td>\n",
       "      <td>NaN</td>\n",
       "      <td>NaN</td>\n",
       "      <td>...</td>\n",
       "      <td>NaN</td>\n",
       "      <td>NaN</td>\n",
       "      <td>NaN</td>\n",
       "      <td>NaN</td>\n",
       "      <td>NaN</td>\n",
       "      <td>NaN</td>\n",
       "      <td>NaN</td>\n",
       "      <td>NaN</td>\n",
       "      <td>NaN</td>\n",
       "      <td>NaN</td>\n",
       "    </tr>\n",
       "    <tr>\n",
       "      <td>250</td>\n",
       "      <td>-0.1074</td>\n",
       "      <td>-0.064720</td>\n",
       "      <td>1</td>\n",
       "      <td>NaN</td>\n",
       "      <td>NaN</td>\n",
       "      <td>NaN</td>\n",
       "      <td>NaN</td>\n",
       "      <td>NaN</td>\n",
       "      <td>NaN</td>\n",
       "      <td>NaN</td>\n",
       "      <td>...</td>\n",
       "      <td>NaN</td>\n",
       "      <td>NaN</td>\n",
       "      <td>NaN</td>\n",
       "      <td>NaN</td>\n",
       "      <td>NaN</td>\n",
       "      <td>NaN</td>\n",
       "      <td>NaN</td>\n",
       "      <td>NaN</td>\n",
       "      <td>NaN</td>\n",
       "      <td>NaN</td>\n",
       "    </tr>\n",
       "    <tr>\n",
       "      <td>251</td>\n",
       "      <td>-0.1074</td>\n",
       "      <td>0.366304</td>\n",
       "      <td>1</td>\n",
       "      <td>NaN</td>\n",
       "      <td>NaN</td>\n",
       "      <td>NaN</td>\n",
       "      <td>NaN</td>\n",
       "      <td>NaN</td>\n",
       "      <td>NaN</td>\n",
       "      <td>NaN</td>\n",
       "      <td>...</td>\n",
       "      <td>NaN</td>\n",
       "      <td>NaN</td>\n",
       "      <td>NaN</td>\n",
       "      <td>NaN</td>\n",
       "      <td>NaN</td>\n",
       "      <td>NaN</td>\n",
       "      <td>NaN</td>\n",
       "      <td>NaN</td>\n",
       "      <td>NaN</td>\n",
       "      <td>NaN</td>\n",
       "    </tr>\n",
       "    <tr>\n",
       "      <td>252</td>\n",
       "      <td>-0.1074</td>\n",
       "      <td>-0.222310</td>\n",
       "      <td>0</td>\n",
       "      <td>NaN</td>\n",
       "      <td>NaN</td>\n",
       "      <td>NaN</td>\n",
       "      <td>NaN</td>\n",
       "      <td>NaN</td>\n",
       "      <td>NaN</td>\n",
       "      <td>NaN</td>\n",
       "      <td>...</td>\n",
       "      <td>NaN</td>\n",
       "      <td>NaN</td>\n",
       "      <td>NaN</td>\n",
       "      <td>NaN</td>\n",
       "      <td>NaN</td>\n",
       "      <td>NaN</td>\n",
       "      <td>NaN</td>\n",
       "      <td>NaN</td>\n",
       "      <td>NaN</td>\n",
       "      <td>NaN</td>\n",
       "    </tr>\n",
       "    <tr>\n",
       "      <td>253</td>\n",
       "      <td>-0.1074</td>\n",
       "      <td>-0.308360</td>\n",
       "      <td>0</td>\n",
       "      <td>NaN</td>\n",
       "      <td>NaN</td>\n",
       "      <td>NaN</td>\n",
       "      <td>NaN</td>\n",
       "      <td>NaN</td>\n",
       "      <td>NaN</td>\n",
       "      <td>NaN</td>\n",
       "      <td>...</td>\n",
       "      <td>NaN</td>\n",
       "      <td>NaN</td>\n",
       "      <td>NaN</td>\n",
       "      <td>NaN</td>\n",
       "      <td>NaN</td>\n",
       "      <td>NaN</td>\n",
       "      <td>NaN</td>\n",
       "      <td>NaN</td>\n",
       "      <td>NaN</td>\n",
       "      <td>NaN</td>\n",
       "    </tr>\n",
       "    <tr>\n",
       "      <td>254</td>\n",
       "      <td>-0.1074</td>\n",
       "      <td>-0.078719</td>\n",
       "      <td>1</td>\n",
       "      <td>NaN</td>\n",
       "      <td>NaN</td>\n",
       "      <td>NaN</td>\n",
       "      <td>NaN</td>\n",
       "      <td>NaN</td>\n",
       "      <td>NaN</td>\n",
       "      <td>NaN</td>\n",
       "      <td>...</td>\n",
       "      <td>NaN</td>\n",
       "      <td>NaN</td>\n",
       "      <td>NaN</td>\n",
       "      <td>NaN</td>\n",
       "      <td>NaN</td>\n",
       "      <td>NaN</td>\n",
       "      <td>NaN</td>\n",
       "      <td>NaN</td>\n",
       "      <td>NaN</td>\n",
       "      <td>NaN</td>\n",
       "    </tr>\n",
       "    <tr>\n",
       "      <td>255</td>\n",
       "      <td>-0.1074</td>\n",
       "      <td>0.000435</td>\n",
       "      <td>1</td>\n",
       "      <td>NaN</td>\n",
       "      <td>NaN</td>\n",
       "      <td>NaN</td>\n",
       "      <td>NaN</td>\n",
       "      <td>NaN</td>\n",
       "      <td>NaN</td>\n",
       "      <td>NaN</td>\n",
       "      <td>...</td>\n",
       "      <td>NaN</td>\n",
       "      <td>NaN</td>\n",
       "      <td>NaN</td>\n",
       "      <td>NaN</td>\n",
       "      <td>NaN</td>\n",
       "      <td>NaN</td>\n",
       "      <td>NaN</td>\n",
       "      <td>NaN</td>\n",
       "      <td>NaN</td>\n",
       "      <td>NaN</td>\n",
       "    </tr>\n",
       "    <tr>\n",
       "      <td>256</td>\n",
       "      <td>-0.1074</td>\n",
       "      <td>-0.368102</td>\n",
       "      <td>0</td>\n",
       "      <td>NaN</td>\n",
       "      <td>NaN</td>\n",
       "      <td>NaN</td>\n",
       "      <td>NaN</td>\n",
       "      <td>NaN</td>\n",
       "      <td>NaN</td>\n",
       "      <td>NaN</td>\n",
       "      <td>...</td>\n",
       "      <td>NaN</td>\n",
       "      <td>NaN</td>\n",
       "      <td>NaN</td>\n",
       "      <td>NaN</td>\n",
       "      <td>NaN</td>\n",
       "      <td>NaN</td>\n",
       "      <td>NaN</td>\n",
       "      <td>NaN</td>\n",
       "      <td>NaN</td>\n",
       "      <td>NaN</td>\n",
       "    </tr>\n",
       "    <tr>\n",
       "      <td>257</td>\n",
       "      <td>-0.1074</td>\n",
       "      <td>-0.247505</td>\n",
       "      <td>0</td>\n",
       "      <td>NaN</td>\n",
       "      <td>NaN</td>\n",
       "      <td>NaN</td>\n",
       "      <td>NaN</td>\n",
       "      <td>NaN</td>\n",
       "      <td>NaN</td>\n",
       "      <td>NaN</td>\n",
       "      <td>...</td>\n",
       "      <td>NaN</td>\n",
       "      <td>NaN</td>\n",
       "      <td>NaN</td>\n",
       "      <td>NaN</td>\n",
       "      <td>NaN</td>\n",
       "      <td>NaN</td>\n",
       "      <td>NaN</td>\n",
       "      <td>NaN</td>\n",
       "      <td>NaN</td>\n",
       "      <td>NaN</td>\n",
       "    </tr>\n",
       "    <tr>\n",
       "      <td>258</td>\n",
       "      <td>-0.1074</td>\n",
       "      <td>-0.296408</td>\n",
       "      <td>0</td>\n",
       "      <td>NaN</td>\n",
       "      <td>NaN</td>\n",
       "      <td>NaN</td>\n",
       "      <td>NaN</td>\n",
       "      <td>NaN</td>\n",
       "      <td>NaN</td>\n",
       "      <td>NaN</td>\n",
       "      <td>...</td>\n",
       "      <td>NaN</td>\n",
       "      <td>NaN</td>\n",
       "      <td>NaN</td>\n",
       "      <td>NaN</td>\n",
       "      <td>NaN</td>\n",
       "      <td>NaN</td>\n",
       "      <td>NaN</td>\n",
       "      <td>NaN</td>\n",
       "      <td>NaN</td>\n",
       "      <td>NaN</td>\n",
       "    </tr>\n",
       "    <tr>\n",
       "      <td>259</td>\n",
       "      <td>-0.1074</td>\n",
       "      <td>0.031780</td>\n",
       "      <td>1</td>\n",
       "      <td>NaN</td>\n",
       "      <td>NaN</td>\n",
       "      <td>NaN</td>\n",
       "      <td>NaN</td>\n",
       "      <td>NaN</td>\n",
       "      <td>NaN</td>\n",
       "      <td>NaN</td>\n",
       "      <td>...</td>\n",
       "      <td>NaN</td>\n",
       "      <td>NaN</td>\n",
       "      <td>NaN</td>\n",
       "      <td>NaN</td>\n",
       "      <td>NaN</td>\n",
       "      <td>NaN</td>\n",
       "      <td>NaN</td>\n",
       "      <td>NaN</td>\n",
       "      <td>NaN</td>\n",
       "      <td>NaN</td>\n",
       "    </tr>\n",
       "    <tr>\n",
       "      <td>260</td>\n",
       "      <td>-0.1074</td>\n",
       "      <td>-0.315706</td>\n",
       "      <td>0</td>\n",
       "      <td>NaN</td>\n",
       "      <td>NaN</td>\n",
       "      <td>NaN</td>\n",
       "      <td>NaN</td>\n",
       "      <td>NaN</td>\n",
       "      <td>NaN</td>\n",
       "      <td>NaN</td>\n",
       "      <td>...</td>\n",
       "      <td>NaN</td>\n",
       "      <td>NaN</td>\n",
       "      <td>NaN</td>\n",
       "      <td>NaN</td>\n",
       "      <td>NaN</td>\n",
       "      <td>NaN</td>\n",
       "      <td>NaN</td>\n",
       "      <td>NaN</td>\n",
       "      <td>NaN</td>\n",
       "      <td>NaN</td>\n",
       "    </tr>\n",
       "    <tr>\n",
       "      <td>261</td>\n",
       "      <td>-0.1074</td>\n",
       "      <td>-0.341310</td>\n",
       "      <td>0</td>\n",
       "      <td>NaN</td>\n",
       "      <td>NaN</td>\n",
       "      <td>NaN</td>\n",
       "      <td>NaN</td>\n",
       "      <td>NaN</td>\n",
       "      <td>NaN</td>\n",
       "      <td>NaN</td>\n",
       "      <td>...</td>\n",
       "      <td>NaN</td>\n",
       "      <td>NaN</td>\n",
       "      <td>NaN</td>\n",
       "      <td>NaN</td>\n",
       "      <td>NaN</td>\n",
       "      <td>NaN</td>\n",
       "      <td>NaN</td>\n",
       "      <td>NaN</td>\n",
       "      <td>NaN</td>\n",
       "      <td>NaN</td>\n",
       "    </tr>\n",
       "    <tr>\n",
       "      <td>262</td>\n",
       "      <td>-0.1074</td>\n",
       "      <td>-0.059075</td>\n",
       "      <td>1</td>\n",
       "      <td>NaN</td>\n",
       "      <td>NaN</td>\n",
       "      <td>NaN</td>\n",
       "      <td>NaN</td>\n",
       "      <td>NaN</td>\n",
       "      <td>NaN</td>\n",
       "      <td>NaN</td>\n",
       "      <td>...</td>\n",
       "      <td>NaN</td>\n",
       "      <td>NaN</td>\n",
       "      <td>NaN</td>\n",
       "      <td>NaN</td>\n",
       "      <td>NaN</td>\n",
       "      <td>NaN</td>\n",
       "      <td>NaN</td>\n",
       "      <td>NaN</td>\n",
       "      <td>NaN</td>\n",
       "      <td>NaN</td>\n",
       "    </tr>\n",
       "    <tr>\n",
       "      <td>263</td>\n",
       "      <td>-0.1074</td>\n",
       "      <td>-0.056709</td>\n",
       "      <td>1</td>\n",
       "      <td>NaN</td>\n",
       "      <td>NaN</td>\n",
       "      <td>NaN</td>\n",
       "      <td>NaN</td>\n",
       "      <td>NaN</td>\n",
       "      <td>NaN</td>\n",
       "      <td>NaN</td>\n",
       "      <td>...</td>\n",
       "      <td>NaN</td>\n",
       "      <td>NaN</td>\n",
       "      <td>NaN</td>\n",
       "      <td>NaN</td>\n",
       "      <td>NaN</td>\n",
       "      <td>NaN</td>\n",
       "      <td>NaN</td>\n",
       "      <td>NaN</td>\n",
       "      <td>NaN</td>\n",
       "      <td>NaN</td>\n",
       "    </tr>\n",
       "  </tbody>\n",
       "</table>\n",
       "<p>15 rows × 28 columns</p>\n",
       "</div>"
      ],
      "text/plain": [
       "     XLP_Return  YearlyReturn  win  Current Ratio  Debt Ratio  \\\n",
       "249     -0.1074      0.303100    1            NaN         NaN   \n",
       "250     -0.1074     -0.064720    1            NaN         NaN   \n",
       "251     -0.1074      0.366304    1            NaN         NaN   \n",
       "252     -0.1074     -0.222310    0            NaN         NaN   \n",
       "253     -0.1074     -0.308360    0            NaN         NaN   \n",
       "254     -0.1074     -0.078719    1            NaN         NaN   \n",
       "255     -0.1074      0.000435    1            NaN         NaN   \n",
       "256     -0.1074     -0.368102    0            NaN         NaN   \n",
       "257     -0.1074     -0.247505    0            NaN         NaN   \n",
       "258     -0.1074     -0.296408    0            NaN         NaN   \n",
       "259     -0.1074      0.031780    1            NaN         NaN   \n",
       "260     -0.1074     -0.315706    0            NaN         NaN   \n",
       "261     -0.1074     -0.341310    0            NaN         NaN   \n",
       "262     -0.1074     -0.059075    1            NaN         NaN   \n",
       "263     -0.1074     -0.056709    1            NaN         NaN   \n",
       "\n",
       "     Gross Profit Margin  Net Profit Margin  Return on Assets  \\\n",
       "249                  NaN                NaN               NaN   \n",
       "250                  NaN                NaN               NaN   \n",
       "251                  NaN                NaN               NaN   \n",
       "252                  NaN                NaN               NaN   \n",
       "253                  NaN                NaN               NaN   \n",
       "254                  NaN                NaN               NaN   \n",
       "255                  NaN                NaN               NaN   \n",
       "256                  NaN                NaN               NaN   \n",
       "257                  NaN                NaN               NaN   \n",
       "258                  NaN                NaN               NaN   \n",
       "259                  NaN                NaN               NaN   \n",
       "260                  NaN                NaN               NaN   \n",
       "261                  NaN                NaN               NaN   \n",
       "262                  NaN                NaN               NaN   \n",
       "263                  NaN                NaN               NaN   \n",
       "\n",
       "     Return on Equity  Earnings Growth  ...  Dividend Yield  Earnings Yield  \\\n",
       "249               NaN              NaN  ...             NaN             NaN   \n",
       "250               NaN              NaN  ...             NaN             NaN   \n",
       "251               NaN              NaN  ...             NaN             NaN   \n",
       "252               NaN              NaN  ...             NaN             NaN   \n",
       "253               NaN              NaN  ...             NaN             NaN   \n",
       "254               NaN              NaN  ...             NaN             NaN   \n",
       "255               NaN              NaN  ...             NaN             NaN   \n",
       "256               NaN              NaN  ...             NaN             NaN   \n",
       "257               NaN              NaN  ...             NaN             NaN   \n",
       "258               NaN              NaN  ...             NaN             NaN   \n",
       "259               NaN              NaN  ...             NaN             NaN   \n",
       "260               NaN              NaN  ...             NaN             NaN   \n",
       "261               NaN              NaN  ...             NaN             NaN   \n",
       "262               NaN              NaN  ...             NaN             NaN   \n",
       "263               NaN              NaN  ...             NaN             NaN   \n",
       "\n",
       "     FCF Yield  Market-Cap  P/Book  P/E  P/FCF  P/NCAV  P/NetNet  P/Sales  \n",
       "249        NaN         NaN     NaN  NaN    NaN     NaN       NaN      NaN  \n",
       "250        NaN         NaN     NaN  NaN    NaN     NaN       NaN      NaN  \n",
       "251        NaN         NaN     NaN  NaN    NaN     NaN       NaN      NaN  \n",
       "252        NaN         NaN     NaN  NaN    NaN     NaN       NaN      NaN  \n",
       "253        NaN         NaN     NaN  NaN    NaN     NaN       NaN      NaN  \n",
       "254        NaN         NaN     NaN  NaN    NaN     NaN       NaN      NaN  \n",
       "255        NaN         NaN     NaN  NaN    NaN     NaN       NaN      NaN  \n",
       "256        NaN         NaN     NaN  NaN    NaN     NaN       NaN      NaN  \n",
       "257        NaN         NaN     NaN  NaN    NaN     NaN       NaN      NaN  \n",
       "258        NaN         NaN     NaN  NaN    NaN     NaN       NaN      NaN  \n",
       "259        NaN         NaN     NaN  NaN    NaN     NaN       NaN      NaN  \n",
       "260        NaN         NaN     NaN  NaN    NaN     NaN       NaN      NaN  \n",
       "261        NaN         NaN     NaN  NaN    NaN     NaN       NaN      NaN  \n",
       "262        NaN         NaN     NaN  NaN    NaN     NaN       NaN      NaN  \n",
       "263        NaN         NaN     NaN  NaN    NaN     NaN       NaN      NaN  \n",
       "\n",
       "[15 rows x 28 columns]"
      ]
     },
     "execution_count": 42,
     "metadata": {},
     "output_type": "execute_result"
    }
   ],
   "source": [
    "final_df.tail(15)"
   ]
  },
  {
   "cell_type": "code",
   "execution_count": 43,
   "metadata": {},
   "outputs": [
    {
     "data": {
      "text/plain": [
       "(264, 28)"
      ]
     },
     "execution_count": 43,
     "metadata": {},
     "output_type": "execute_result"
    }
   ],
   "source": [
    "final_df.shape"
   ]
  },
  {
   "cell_type": "code",
   "execution_count": 44,
   "metadata": {},
   "outputs": [],
   "source": [
    "df_signals = df_signals.reset_index(drop = True)"
   ]
  },
  {
   "cell_type": "code",
   "execution_count": 45,
   "metadata": {
    "scrolled": true
   },
   "outputs": [
    {
     "name": "stdout",
     "output_type": "stream",
     "text": [
      "(33, 3)\n",
      "(30, 25)\n"
     ]
    }
   ],
   "source": [
    "print(yearly_returns_latest_df.shape)\n",
    "print(df_signals.shape)"
   ]
  },
  {
   "cell_type": "code",
   "execution_count": 46,
   "metadata": {},
   "outputs": [
    {
     "data": {
      "text/html": [
       "<div>\n",
       "<style scoped>\n",
       "    .dataframe tbody tr th:only-of-type {\n",
       "        vertical-align: middle;\n",
       "    }\n",
       "\n",
       "    .dataframe tbody tr th {\n",
       "        vertical-align: top;\n",
       "    }\n",
       "\n",
       "    .dataframe thead th {\n",
       "        text-align: right;\n",
       "    }\n",
       "</style>\n",
       "<table border=\"1\" class=\"dataframe\">\n",
       "  <thead>\n",
       "    <tr style=\"text-align: right;\">\n",
       "      <th></th>\n",
       "      <th>Current Ratio</th>\n",
       "      <th>Debt Ratio</th>\n",
       "      <th>Gross Profit Margin</th>\n",
       "      <th>Net Profit Margin</th>\n",
       "      <th>Return on Assets</th>\n",
       "      <th>Return on Equity</th>\n",
       "      <th>Earnings Growth</th>\n",
       "      <th>Earnings Growth QOQ</th>\n",
       "      <th>Earnings Growth YOY</th>\n",
       "      <th>FCF Growth</th>\n",
       "      <th>...</th>\n",
       "      <th>Dividend Yield</th>\n",
       "      <th>Earnings Yield</th>\n",
       "      <th>FCF Yield</th>\n",
       "      <th>Market-Cap</th>\n",
       "      <th>P/Book</th>\n",
       "      <th>P/E</th>\n",
       "      <th>P/FCF</th>\n",
       "      <th>P/NCAV</th>\n",
       "      <th>P/NetNet</th>\n",
       "      <th>P/Sales</th>\n",
       "    </tr>\n",
       "  </thead>\n",
       "  <tbody>\n",
       "    <tr>\n",
       "      <td>0</td>\n",
       "      <td>1.516503</td>\n",
       "      <td>0.229056</td>\n",
       "      <td>0.065815</td>\n",
       "      <td>0.025733</td>\n",
       "      <td>0.040146</td>\n",
       "      <td>0.087785</td>\n",
       "      <td>0.000606</td>\n",
       "      <td>-0.260317</td>\n",
       "      <td>-0.407125</td>\n",
       "      <td>0.478921</td>\n",
       "      <td>...</td>\n",
       "      <td>0.031536</td>\n",
       "      <td>0.067930</td>\n",
       "      <td>-0.160315</td>\n",
       "      <td>2.428964e+10</td>\n",
       "      <td>1.281167</td>\n",
       "      <td>14.720997</td>\n",
       "      <td>-6.237711</td>\n",
       "      <td>-6.180571</td>\n",
       "      <td>-1.437448</td>\n",
       "      <td>0.378821</td>\n",
       "    </tr>\n",
       "    <tr>\n",
       "      <td>1</td>\n",
       "      <td>1.113515</td>\n",
       "      <td>0.471024</td>\n",
       "      <td>0.277571</td>\n",
       "      <td>0.066758</td>\n",
       "      <td>0.064273</td>\n",
       "      <td>0.176645</td>\n",
       "      <td>-0.192063</td>\n",
       "      <td>0.373913</td>\n",
       "      <td>-0.024691</td>\n",
       "      <td>0.362285</td>\n",
       "      <td>...</td>\n",
       "      <td>0.028444</td>\n",
       "      <td>0.050912</td>\n",
       "      <td>0.065765</td>\n",
       "      <td>1.323659e+10</td>\n",
       "      <td>1.760934</td>\n",
       "      <td>19.641773</td>\n",
       "      <td>15.205733</td>\n",
       "      <td>-1.093057</td>\n",
       "      <td>-0.994266</td>\n",
       "      <td>1.311242</td>\n",
       "    </tr>\n",
       "    <tr>\n",
       "      <td>2</td>\n",
       "      <td>0.812938</td>\n",
       "      <td>0.347179</td>\n",
       "      <td>0.444005</td>\n",
       "      <td>0.137148</td>\n",
       "      <td>0.094533</td>\n",
       "      <td>0.256357</td>\n",
       "      <td>-0.235136</td>\n",
       "      <td>-0.023923</td>\n",
       "      <td>-0.647929</td>\n",
       "      <td>0.104792</td>\n",
       "      <td>...</td>\n",
       "      <td>0.012338</td>\n",
       "      <td>0.032889</td>\n",
       "      <td>0.040675</td>\n",
       "      <td>1.728827e+10</td>\n",
       "      <td>7.045510</td>\n",
       "      <td>30.404981</td>\n",
       "      <td>24.585142</td>\n",
       "      <td>-6.813918</td>\n",
       "      <td>-6.069628</td>\n",
       "      <td>4.169968</td>\n",
       "    </tr>\n",
       "    <tr>\n",
       "      <td>3</td>\n",
       "      <td>1.027889</td>\n",
       "      <td>0.542460</td>\n",
       "      <td>0.591646</td>\n",
       "      <td>0.150429</td>\n",
       "      <td>0.185347</td>\n",
       "      <td>-34.264706</td>\n",
       "      <td>0.100614</td>\n",
       "      <td>-0.013652</td>\n",
       "      <td>0.105163</td>\n",
       "      <td>0.090614</td>\n",
       "      <td>...</td>\n",
       "      <td>0.027921</td>\n",
       "      <td>0.040432</td>\n",
       "      <td>0.046575</td>\n",
       "      <td>5.762694e+10</td>\n",
       "      <td>331.189332</td>\n",
       "      <td>24.732594</td>\n",
       "      <td>21.470545</td>\n",
       "      <td>-5.486713</td>\n",
       "      <td>-4.763640</td>\n",
       "      <td>3.720508</td>\n",
       "    </tr>\n",
       "    <tr>\n",
       "      <td>4</td>\n",
       "      <td>1.104679</td>\n",
       "      <td>0.505037</td>\n",
       "      <td>0.436126</td>\n",
       "      <td>0.126792</td>\n",
       "      <td>0.146216</td>\n",
       "      <td>0.951016</td>\n",
       "      <td>-0.013631</td>\n",
       "      <td>0.027473</td>\n",
       "      <td>0.033149</td>\n",
       "      <td>0.047120</td>\n",
       "      <td>...</td>\n",
       "      <td>0.026019</td>\n",
       "      <td>0.042096</td>\n",
       "      <td>0.042307</td>\n",
       "      <td>1.890938e+10</td>\n",
       "      <td>24.211748</td>\n",
       "      <td>23.755497</td>\n",
       "      <td>23.636719</td>\n",
       "      <td>-6.328439</td>\n",
       "      <td>-5.426322</td>\n",
       "      <td>3.012006</td>\n",
       "    </tr>\n",
       "  </tbody>\n",
       "</table>\n",
       "<p>5 rows × 25 columns</p>\n",
       "</div>"
      ],
      "text/plain": [
       "   Current Ratio  Debt Ratio  Gross Profit Margin  Net Profit Margin  \\\n",
       "0       1.516503    0.229056             0.065815           0.025733   \n",
       "1       1.113515    0.471024             0.277571           0.066758   \n",
       "2       0.812938    0.347179             0.444005           0.137148   \n",
       "3       1.027889    0.542460             0.591646           0.150429   \n",
       "4       1.104679    0.505037             0.436126           0.126792   \n",
       "\n",
       "   Return on Assets  Return on Equity  Earnings Growth  Earnings Growth QOQ  \\\n",
       "0          0.040146          0.087785         0.000606            -0.260317   \n",
       "1          0.064273          0.176645        -0.192063             0.373913   \n",
       "2          0.094533          0.256357        -0.235136            -0.023923   \n",
       "3          0.185347        -34.264706         0.100614            -0.013652   \n",
       "4          0.146216          0.951016        -0.013631             0.027473   \n",
       "\n",
       "   Earnings Growth YOY  FCF Growth  ...  Dividend Yield  Earnings Yield  \\\n",
       "0            -0.407125    0.478921  ...        0.031536        0.067930   \n",
       "1            -0.024691    0.362285  ...        0.028444        0.050912   \n",
       "2            -0.647929    0.104792  ...        0.012338        0.032889   \n",
       "3             0.105163    0.090614  ...        0.027921        0.040432   \n",
       "4             0.033149    0.047120  ...        0.026019        0.042096   \n",
       "\n",
       "   FCF Yield    Market-Cap      P/Book        P/E      P/FCF    P/NCAV  \\\n",
       "0  -0.160315  2.428964e+10    1.281167  14.720997  -6.237711 -6.180571   \n",
       "1   0.065765  1.323659e+10    1.760934  19.641773  15.205733 -1.093057   \n",
       "2   0.040675  1.728827e+10    7.045510  30.404981  24.585142 -6.813918   \n",
       "3   0.046575  5.762694e+10  331.189332  24.732594  21.470545 -5.486713   \n",
       "4   0.042307  1.890938e+10   24.211748  23.755497  23.636719 -6.328439   \n",
       "\n",
       "   P/NetNet   P/Sales  \n",
       "0 -1.437448  0.378821  \n",
       "1 -0.994266  1.311242  \n",
       "2 -6.069628  4.169968  \n",
       "3 -4.763640  3.720508  \n",
       "4 -5.426322  3.012006  \n",
       "\n",
       "[5 rows x 25 columns]"
      ]
     },
     "execution_count": 46,
     "metadata": {},
     "output_type": "execute_result"
    }
   ],
   "source": [
    "df_signals.head()"
   ]
  },
  {
   "cell_type": "code",
   "execution_count": 47,
   "metadata": {
    "scrolled": true
   },
   "outputs": [
    {
     "data": {
      "text/plain": [
       "(33, 28)"
      ]
     },
     "execution_count": 47,
     "metadata": {},
     "output_type": "execute_result"
    }
   ],
   "source": [
    "final_test_df= pd.concat([yearly_returns_latest_df, df_signals], axis=1)\n",
    "final_test_df.shape\n",
    "# df_signals.head()"
   ]
  },
  {
   "cell_type": "markdown",
   "metadata": {},
   "source": [
    "Output of the previous section are `final_df` (for train data) `final_test_df` (for test data), both including `win` column"
   ]
  },
  {
   "cell_type": "code",
   "execution_count": 48,
   "metadata": {},
   "outputs": [],
   "source": [
    "# final_df.isnull().sum()"
   ]
  },
  {
   "cell_type": "code",
   "execution_count": 49,
   "metadata": {},
   "outputs": [],
   "source": [
    "# df_signals_list[5].isnull().sum()"
   ]
  },
  {
   "cell_type": "markdown",
   "metadata": {},
   "source": [
    "# Add additional features"
   ]
  },
  {
   "cell_type": "code",
   "execution_count": 50,
   "metadata": {},
   "outputs": [],
   "source": [
    "# NLP, FRED"
   ]
  },
  {
   "cell_type": "code",
   "execution_count": null,
   "metadata": {},
   "outputs": [],
   "source": []
  },
  {
   "cell_type": "markdown",
   "metadata": {},
   "source": [
    "# Data discovery and visualizations"
   ]
  },
  {
   "cell_type": "code",
   "execution_count": 51,
   "metadata": {},
   "outputs": [],
   "source": [
    "master_df = pd.concat([final_df, final_test_df], axis = 0)\n",
    "# master_df.shape"
   ]
  },
  {
   "cell_type": "code",
   "execution_count": 52,
   "metadata": {},
   "outputs": [
    {
     "data": {
      "text/plain": [
       "XLP_Return             33\n",
       "YearlyReturn           52\n",
       "win                     0\n",
       "Current Ratio          34\n",
       "Debt Ratio             35\n",
       "Gross Profit Margin    34\n",
       "Net Profit Margin      34\n",
       "Return on Assets       34\n",
       "Return on Equity       34\n",
       "Earnings Growth        34\n",
       "Earnings Growth QOQ    34\n",
       "Earnings Growth YOY    35\n",
       "FCF Growth             34\n",
       "FCF Growth QOQ         34\n",
       "FCF Growth YOY         35\n",
       "Sales Growth           34\n",
       "Sales Growth QOQ       34\n",
       "Sales Growth YOY       35\n",
       "Dividend Yield         35\n",
       "Earnings Yield         34\n",
       "FCF Yield              34\n",
       "Market-Cap             34\n",
       "P/Book                 34\n",
       "P/E                    34\n",
       "P/FCF                  34\n",
       "P/NCAV                 34\n",
       "P/NetNet               34\n",
       "P/Sales                34\n",
       "dtype: int64"
      ]
     },
     "execution_count": 52,
     "metadata": {},
     "output_type": "execute_result"
    }
   ],
   "source": [
    "master_df.isnull().sum()"
   ]
  },
  {
   "cell_type": "code",
   "execution_count": 53,
   "metadata": {},
   "outputs": [],
   "source": [
    "# master_df.describe()"
   ]
  },
  {
   "cell_type": "code",
   "execution_count": 54,
   "metadata": {},
   "outputs": [],
   "source": [
    "# correlations = master_df.corr()"
   ]
  },
  {
   "cell_type": "code",
   "execution_count": 55,
   "metadata": {},
   "outputs": [],
   "source": [
    "# fig = pyplot.figure()\n",
    "# ax = fig.add_subplot(111)\n",
    "# cax = ax.matshow(correlations, vmin=-1, vmax=1)\n",
    "# fig.colorbar(cax)\n",
    "# pyplot.show()"
   ]
  },
  {
   "cell_type": "markdown",
   "metadata": {},
   "source": [
    "# Feature Engineering  "
   ]
  },
  {
   "cell_type": "code",
   "execution_count": 56,
   "metadata": {},
   "outputs": [],
   "source": [
    "# Feature selection - Univariate, recursive feature elimination, PCA and feature importance"
   ]
  },
  {
   "cell_type": "code",
   "execution_count": 57,
   "metadata": {},
   "outputs": [],
   "source": [
    "# master_df = master_df[~master_df.isin([np.nan, np.inf, -np.inf]).any(1)]\n",
    "# master_df.shape # 550*25\n",
    "# X = master_df.iloc[:,1:]\n",
    "# Y = master_df['win']"
   ]
  },
  {
   "cell_type": "code",
   "execution_count": 58,
   "metadata": {},
   "outputs": [],
   "source": [
    "# from sklearn.ensemble import ExtraTreesClassifier\n",
    "# import matplotlib.pyplot as plt\n",
    "\n",
    "# model = ExtraTreesClassifier()\n",
    "# model.fit(X,Y)\n",
    "# print(model.feature_importances_) #use inbuilt class feature_importances of tree based classifiers\n",
    "# #plot graph of feature importances for better visualization\n",
    "# feat_importances = pd.Series(model.feature_importances_, index=X.columns)\n",
    "# feat_importances.nlargest(10).plot(kind='barh')\n",
    "# plt.show()"
   ]
  },
  {
   "cell_type": "code",
   "execution_count": 59,
   "metadata": {},
   "outputs": [],
   "source": [
    "# univariate - non-negative input\n",
    "# test = SelectKBest(score_func=chi2, k=4)\n",
    "# fit = test.fit(X, Y)\n",
    "# set_printoptions(precision=3)\n",
    "# print(fit.scores_)\n",
    "# features = fit.transform(X)\n",
    "# # summarize selected features\n",
    "# print(features[0:5,:])"
   ]
  },
  {
   "cell_type": "code",
   "execution_count": 60,
   "metadata": {},
   "outputs": [],
   "source": [
    "# PCA\n",
    "# pca = PCA(n_components=3)\n",
    "# fit = pca.fit(X)"
   ]
  },
  {
   "cell_type": "code",
   "execution_count": 61,
   "metadata": {},
   "outputs": [],
   "source": [
    "# feature extraction\n",
    "# model = LogisticRegression()\n",
    "# rfe = RFE(model, 3)\n",
    "# fit = rfe.fit(X, Y)\n",
    "# print(\"Num Features: %d\") % fit.n_features_\n",
    "# print(\"Selected Features: %s\") % fit.support_\n",
    "# print(\"Feature Ranking: %s\") % fit.ranking_"
   ]
  },
  {
   "cell_type": "markdown",
   "metadata": {},
   "source": [
    "# Create target and features for train and test"
   ]
  },
  {
   "cell_type": "code",
   "execution_count": 62,
   "metadata": {},
   "outputs": [
    {
     "name": "stdout",
     "output_type": "stream",
     "text": [
      "(264, 28)\n",
      "(33, 28)\n"
     ]
    }
   ],
   "source": [
    "print(final_df.shape)\n",
    "print(final_test_df.shape)"
   ]
  },
  {
   "cell_type": "code",
   "execution_count": 63,
   "metadata": {},
   "outputs": [],
   "source": [
    "names = list(final_df.columns)\n",
    "names[0], names[2] = names[2], names[0]\n",
    "final_df = final_df.reindex(names, axis=1)\n",
    "\n",
    "names = list(final_test_df.columns)\n",
    "names[0], names[2] = names[2], names[0]\n",
    "final_test_df = final_test_df.reindex(names, axis=1)"
   ]
  },
  {
   "cell_type": "code",
   "execution_count": 64,
   "metadata": {
    "scrolled": true
   },
   "outputs": [
    {
     "data": {
      "text/html": [
       "<div>\n",
       "<style scoped>\n",
       "    .dataframe tbody tr th:only-of-type {\n",
       "        vertical-align: middle;\n",
       "    }\n",
       "\n",
       "    .dataframe tbody tr th {\n",
       "        vertical-align: top;\n",
       "    }\n",
       "\n",
       "    .dataframe thead th {\n",
       "        text-align: right;\n",
       "    }\n",
       "</style>\n",
       "<table border=\"1\" class=\"dataframe\">\n",
       "  <thead>\n",
       "    <tr style=\"text-align: right;\">\n",
       "      <th></th>\n",
       "      <th>win</th>\n",
       "      <th>YearlyReturn</th>\n",
       "      <th>XLP_Return</th>\n",
       "      <th>Current Ratio</th>\n",
       "      <th>Debt Ratio</th>\n",
       "      <th>Gross Profit Margin</th>\n",
       "      <th>Net Profit Margin</th>\n",
       "      <th>Return on Assets</th>\n",
       "      <th>Return on Equity</th>\n",
       "      <th>Earnings Growth</th>\n",
       "      <th>...</th>\n",
       "      <th>Dividend Yield</th>\n",
       "      <th>Earnings Yield</th>\n",
       "      <th>FCF Yield</th>\n",
       "      <th>Market-Cap</th>\n",
       "      <th>P/Book</th>\n",
       "      <th>P/E</th>\n",
       "      <th>P/FCF</th>\n",
       "      <th>P/NCAV</th>\n",
       "      <th>P/NetNet</th>\n",
       "      <th>P/Sales</th>\n",
       "    </tr>\n",
       "  </thead>\n",
       "  <tbody>\n",
       "    <tr>\n",
       "      <td>0</td>\n",
       "      <td>0</td>\n",
       "      <td>0.113986</td>\n",
       "      <td>0.243403</td>\n",
       "      <td>1.516503</td>\n",
       "      <td>0.229056</td>\n",
       "      <td>0.065815</td>\n",
       "      <td>0.025733</td>\n",
       "      <td>0.040146</td>\n",
       "      <td>0.087785</td>\n",
       "      <td>0.000606</td>\n",
       "      <td>...</td>\n",
       "      <td>0.031536</td>\n",
       "      <td>0.067930</td>\n",
       "      <td>-0.160315</td>\n",
       "      <td>2.428964e+10</td>\n",
       "      <td>1.281167</td>\n",
       "      <td>14.720997</td>\n",
       "      <td>-6.237711</td>\n",
       "      <td>-6.180571</td>\n",
       "      <td>-1.437448</td>\n",
       "      <td>0.378821</td>\n",
       "    </tr>\n",
       "    <tr>\n",
       "      <td>1</td>\n",
       "      <td>1</td>\n",
       "      <td>NaN</td>\n",
       "      <td>0.243403</td>\n",
       "      <td>1.113515</td>\n",
       "      <td>0.471024</td>\n",
       "      <td>0.277571</td>\n",
       "      <td>0.066758</td>\n",
       "      <td>0.064273</td>\n",
       "      <td>0.176645</td>\n",
       "      <td>-0.192063</td>\n",
       "      <td>...</td>\n",
       "      <td>0.028444</td>\n",
       "      <td>0.050912</td>\n",
       "      <td>0.065765</td>\n",
       "      <td>1.323659e+10</td>\n",
       "      <td>1.760934</td>\n",
       "      <td>19.641773</td>\n",
       "      <td>15.205733</td>\n",
       "      <td>-1.093057</td>\n",
       "      <td>-0.994266</td>\n",
       "      <td>1.311242</td>\n",
       "    </tr>\n",
       "    <tr>\n",
       "      <td>2</td>\n",
       "      <td>1</td>\n",
       "      <td>0.575843</td>\n",
       "      <td>0.243403</td>\n",
       "      <td>0.812938</td>\n",
       "      <td>0.347179</td>\n",
       "      <td>0.444005</td>\n",
       "      <td>0.137148</td>\n",
       "      <td>0.094533</td>\n",
       "      <td>0.256357</td>\n",
       "      <td>-0.235136</td>\n",
       "      <td>...</td>\n",
       "      <td>0.012338</td>\n",
       "      <td>0.032889</td>\n",
       "      <td>0.040675</td>\n",
       "      <td>1.728827e+10</td>\n",
       "      <td>7.045510</td>\n",
       "      <td>30.404981</td>\n",
       "      <td>24.585142</td>\n",
       "      <td>-6.813918</td>\n",
       "      <td>-6.069628</td>\n",
       "      <td>4.169968</td>\n",
       "    </tr>\n",
       "    <tr>\n",
       "      <td>3</td>\n",
       "      <td>0</td>\n",
       "      <td>0.056721</td>\n",
       "      <td>0.243403</td>\n",
       "      <td>1.027889</td>\n",
       "      <td>0.542460</td>\n",
       "      <td>0.591646</td>\n",
       "      <td>0.150429</td>\n",
       "      <td>0.185347</td>\n",
       "      <td>-34.264706</td>\n",
       "      <td>0.100614</td>\n",
       "      <td>...</td>\n",
       "      <td>0.027921</td>\n",
       "      <td>0.040432</td>\n",
       "      <td>0.046575</td>\n",
       "      <td>5.762694e+10</td>\n",
       "      <td>331.189332</td>\n",
       "      <td>24.732594</td>\n",
       "      <td>21.470545</td>\n",
       "      <td>-5.486713</td>\n",
       "      <td>-4.763640</td>\n",
       "      <td>3.720508</td>\n",
       "    </tr>\n",
       "    <tr>\n",
       "      <td>4</td>\n",
       "      <td>0</td>\n",
       "      <td>0.148185</td>\n",
       "      <td>0.243403</td>\n",
       "      <td>1.104679</td>\n",
       "      <td>0.505037</td>\n",
       "      <td>0.436126</td>\n",
       "      <td>0.126792</td>\n",
       "      <td>0.146216</td>\n",
       "      <td>0.951016</td>\n",
       "      <td>-0.013631</td>\n",
       "      <td>...</td>\n",
       "      <td>0.026019</td>\n",
       "      <td>0.042096</td>\n",
       "      <td>0.042307</td>\n",
       "      <td>1.890938e+10</td>\n",
       "      <td>24.211748</td>\n",
       "      <td>23.755497</td>\n",
       "      <td>23.636719</td>\n",
       "      <td>-6.328439</td>\n",
       "      <td>-5.426322</td>\n",
       "      <td>3.012006</td>\n",
       "    </tr>\n",
       "  </tbody>\n",
       "</table>\n",
       "<p>5 rows × 28 columns</p>\n",
       "</div>"
      ],
      "text/plain": [
       "   win  YearlyReturn  XLP_Return  Current Ratio  Debt Ratio  \\\n",
       "0    0      0.113986    0.243403       1.516503    0.229056   \n",
       "1    1           NaN    0.243403       1.113515    0.471024   \n",
       "2    1      0.575843    0.243403       0.812938    0.347179   \n",
       "3    0      0.056721    0.243403       1.027889    0.542460   \n",
       "4    0      0.148185    0.243403       1.104679    0.505037   \n",
       "\n",
       "   Gross Profit Margin  Net Profit Margin  Return on Assets  Return on Equity  \\\n",
       "0             0.065815           0.025733          0.040146          0.087785   \n",
       "1             0.277571           0.066758          0.064273          0.176645   \n",
       "2             0.444005           0.137148          0.094533          0.256357   \n",
       "3             0.591646           0.150429          0.185347        -34.264706   \n",
       "4             0.436126           0.126792          0.146216          0.951016   \n",
       "\n",
       "   Earnings Growth  ...  Dividend Yield  Earnings Yield  FCF Yield  \\\n",
       "0         0.000606  ...        0.031536        0.067930  -0.160315   \n",
       "1        -0.192063  ...        0.028444        0.050912   0.065765   \n",
       "2        -0.235136  ...        0.012338        0.032889   0.040675   \n",
       "3         0.100614  ...        0.027921        0.040432   0.046575   \n",
       "4        -0.013631  ...        0.026019        0.042096   0.042307   \n",
       "\n",
       "     Market-Cap      P/Book        P/E      P/FCF    P/NCAV  P/NetNet  \\\n",
       "0  2.428964e+10    1.281167  14.720997  -6.237711 -6.180571 -1.437448   \n",
       "1  1.323659e+10    1.760934  19.641773  15.205733 -1.093057 -0.994266   \n",
       "2  1.728827e+10    7.045510  30.404981  24.585142 -6.813918 -6.069628   \n",
       "3  5.762694e+10  331.189332  24.732594  21.470545 -5.486713 -4.763640   \n",
       "4  1.890938e+10   24.211748  23.755497  23.636719 -6.328439 -5.426322   \n",
       "\n",
       "    P/Sales  \n",
       "0  0.378821  \n",
       "1  1.311242  \n",
       "2  4.169968  \n",
       "3  3.720508  \n",
       "4  3.012006  \n",
       "\n",
       "[5 rows x 28 columns]"
      ]
     },
     "execution_count": 64,
     "metadata": {},
     "output_type": "execute_result"
    }
   ],
   "source": [
    "final_test_df.head()"
   ]
  },
  {
   "cell_type": "code",
   "execution_count": 65,
   "metadata": {},
   "outputs": [],
   "source": [
    "# drop the yearly returns and market-cap\n",
    "final_df = final_df.drop(columns = [\"YearlyReturn\", \"XLP_Return\", \"Market-Cap\"])\n",
    "final_test_df = final_test_df.drop(columns = [\"YearlyReturn\", \"XLP_Return\", \"Market-Cap\"])"
   ]
  },
  {
   "cell_type": "code",
   "execution_count": 66,
   "metadata": {},
   "outputs": [],
   "source": [
    "train_array = final_df.values\n",
    "test_array = final_test_df.values"
   ]
  },
  {
   "cell_type": "code",
   "execution_count": 67,
   "metadata": {},
   "outputs": [],
   "source": [
    "Y_train = train_array[0:,0]\n",
    "Y_test = test_array[0:,0]"
   ]
  },
  {
   "cell_type": "code",
   "execution_count": 68,
   "metadata": {},
   "outputs": [],
   "source": [
    "X_train = train_array[0:,1:]\n",
    "X_test = test_array[0:,1:]"
   ]
  },
  {
   "cell_type": "code",
   "execution_count": 69,
   "metadata": {
    "scrolled": true
   },
   "outputs": [
    {
     "name": "stdout",
     "output_type": "stream",
     "text": [
      "(264, 24)\n",
      "(33, 24)\n"
     ]
    }
   ],
   "source": [
    "# np.savetxt(\"foo.csv\", array, delimiter=\",\")\n",
    "print(X_train.shape)\n",
    "print(X_test.shape)"
   ]
  },
  {
   "cell_type": "code",
   "execution_count": 70,
   "metadata": {
    "scrolled": true
   },
   "outputs": [
    {
     "data": {
      "text/plain": [
       "array([0., 1., 1., 0., 0., 0., 1., 1., 1., 1., 1., 0., 1., 0., 0., 0., 0.,\n",
       "       0., 0., 1., 0., 1., 0., 1., 1., 1., 0., 0., 1., 0., 1., 0., 1.])"
      ]
     },
     "execution_count": 70,
     "metadata": {},
     "output_type": "execute_result"
    }
   ],
   "source": [
    "Y_test"
   ]
  },
  {
   "cell_type": "code",
   "execution_count": 71,
   "metadata": {},
   "outputs": [],
   "source": [
    "# mask = ~np.any(np.isnan(X_train), axis=1)\n",
    "# mask_test = ~np.any(np.isnan(X_test), axis=1)\n",
    "\n",
    "# X_train = X_train[mask]\n",
    "# Y_train = Y_train[mask]\n",
    "\n",
    "# X_test = X_test[mask_test]\n",
    "# Y_test = Y_test[mask_test]"
   ]
  },
  {
   "cell_type": "code",
   "execution_count": 72,
   "metadata": {},
   "outputs": [],
   "source": [
    "## The one we use\n",
    "X_train[np.where(np.isnan(X_train))] = np.take(np.nanmedian(X_train, axis=0), np.where(np.isnan(X_train))[1])\n",
    "X_test[np.where(np.isnan(X_test))] = np.take(np.nanmedian(X_test, axis=0), np.where(np.isnan(X_test))[1])"
   ]
  },
  {
   "cell_type": "code",
   "execution_count": 73,
   "metadata": {},
   "outputs": [],
   "source": [
    "# replace posinf with max value\n",
    "X_train[np.where(np.isposinf(X_train))] = np.NINF\n",
    "X_train[np.where(np.isneginf(X_train))] = np.take(np.max(X_train, axis=0), np.where(np.isneginf(X_train))[1])"
   ]
  },
  {
   "cell_type": "code",
   "execution_count": 74,
   "metadata": {},
   "outputs": [
    {
     "data": {
      "text/plain": [
       "False"
      ]
     },
     "execution_count": 74,
     "metadata": {},
     "output_type": "execute_result"
    }
   ],
   "source": [
    "np.any(np.isnan(X_train))"
   ]
  },
  {
   "cell_type": "code",
   "execution_count": 75,
   "metadata": {},
   "outputs": [
    {
     "data": {
      "text/plain": [
       "False"
      ]
     },
     "execution_count": 75,
     "metadata": {},
     "output_type": "execute_result"
    }
   ],
   "source": [
    "np.any(np.isinf(X_train))"
   ]
  },
  {
   "cell_type": "code",
   "execution_count": 76,
   "metadata": {},
   "outputs": [],
   "source": [
    "# X_train= preprocessing.normalize(X_train, norm='l2')\n",
    "# X_test = preprocessing.normalize(X_test, norm='l2')"
   ]
  },
  {
   "cell_type": "code",
   "execution_count": 77,
   "metadata": {
    "scrolled": true
   },
   "outputs": [
    {
     "name": "stdout",
     "output_type": "stream",
     "text": [
      "(264, 24)\n",
      "(33, 24)\n"
     ]
    }
   ],
   "source": [
    "print(X_train.shape)\n",
    "print(X_test.shape)"
   ]
  },
  {
   "cell_type": "code",
   "execution_count": 78,
   "metadata": {},
   "outputs": [],
   "source": [
    "# Creating X and Y \n",
    "# X = np.append(X_train, X_test, axis=0)\n",
    "# Y = np.append(Y_train, Y_test, axis=0)\n",
    "X = X_train\n",
    "Y = Y_train"
   ]
  },
  {
   "cell_type": "markdown",
   "metadata": {},
   "source": [
    "# Model Pre-processing: Scale, standardize, normalize or binarize"
   ]
  },
  {
   "cell_type": "code",
   "execution_count": 79,
   "metadata": {},
   "outputs": [],
   "source": [
    "# Scale\n",
    "# scaler = MinMaxScaler(feature_range=(0, 1))\n",
    "# rescaledX = scaler.fit_transform(X)\n",
    "# # summarize transformed data\n",
    "# set_printoptions(precision=3)"
   ]
  },
  {
   "cell_type": "code",
   "execution_count": 80,
   "metadata": {},
   "outputs": [
    {
     "name": "stdout",
     "output_type": "stream",
     "text": [
      "[[ 5.401e-01 -3.019e-01 -2.368e+00 -1.007e+00 -6.196e-01 -2.651e-01\n",
      "   2.263e-01 -1.374e-01  5.316e-02 -9.184e+00 -4.047e-01  1.153e-01\n",
      "   1.038e+00  1.608e-01  2.328e+00 -3.442e-01  1.591e+00 -6.138e+00\n",
      "  -4.032e-02 -8.068e-01 -1.066e+00  1.638e-01  1.321e-01 -1.365e+00]\n",
      " [ 5.094e-01 -8.471e-01 -1.224e+00 -6.062e-01 -5.726e-01 -2.534e-01\n",
      "   2.733e-01 -7.507e-02  1.004e-02  4.848e-01 -7.841e-02 -1.045e-01\n",
      "   2.905e-01  7.624e-02  2.989e-01  6.282e-01  5.407e-01  1.232e+00\n",
      "  -3.049e-02 -4.515e-01 -4.793e-01  6.495e-02  6.691e-02 -9.671e-01]\n",
      " [ 9.132e-01 -2.116e+00  3.348e-01  6.562e-02 -7.854e-02 -1.563e-01\n",
      "  -1.084e-02 -7.908e-02  7.442e-02 -2.446e-01  9.424e-02 -1.817e-01\n",
      "   1.484e-01  7.624e-02  1.641e-01 -9.415e-01 -6.976e-02  2.268e-01\n",
      "  -2.408e-02  4.821e-02 -2.245e-01 -1.051e-01 -8.047e-01  9.612e-02]\n",
      " [-3.528e-01  4.379e-02  1.247e+00  5.770e-01  1.983e+00  2.686e-01\n",
      "   7.927e-02 -6.688e-02  3.142e-02 -1.336e-01  2.603e-01 -1.366e-01\n",
      "   1.256e-01  1.703e-01  4.179e-01  1.844e+00  1.629e+00  1.496e+00\n",
      "   1.330e-02 -8.147e-01 -5.159e-01  6.342e-02  1.453e-02 -6.251e-01]\n",
      " [-4.197e-01  1.938e+00  2.207e-01 -1.932e-01  3.170e-05  8.679e-01\n",
      "  -2.688e-01 -1.129e-01 -1.449e-01 -5.244e-01 -2.027e-01 -2.091e-01\n",
      "  -1.290e-01 -1.644e+00 -4.336e-02  1.318e+00  5.910e-01  4.047e-01\n",
      "  -7.543e-01 -4.779e-01 -2.916e-01  7.789e-02  1.064e-01 -6.794e-01]]\n"
     ]
    }
   ],
   "source": [
    "# Standardize\n",
    "scaler = StandardScaler().fit(X)\n",
    "rescaledX = scaler.transform(X)\n",
    "# summarize transformed data\n",
    "set_printoptions(precision=3)\n",
    "print(rescaledX[0:5,:])"
   ]
  },
  {
   "cell_type": "code",
   "execution_count": 81,
   "metadata": {},
   "outputs": [],
   "source": [
    "# Normalize\n",
    "# scaler = Normalizer().fit(X)\n",
    "# normalizedX = scaler.transform(X)\n",
    "# # summarize transformed data\n",
    "# set_printoptions(precision=3)\n",
    "# print(normalizedX[0:5,:])"
   ]
  },
  {
   "cell_type": "code",
   "execution_count": 82,
   "metadata": {},
   "outputs": [],
   "source": [
    "# Binarize\n",
    "# binarizer = Binarizer(threshold=0.0).fit(X)\n",
    "# binaryX = binarizer.transform(X)\n",
    "# # summarize transformed data\n",
    "# set_printoptions(precision=3)\n",
    "# print(binaryX[0:5,:])"
   ]
  },
  {
   "cell_type": "code",
   "execution_count": 83,
   "metadata": {},
   "outputs": [],
   "source": [
    "X = rescaledX"
   ]
  },
  {
   "cell_type": "markdown",
   "metadata": {},
   "source": [
    "# Classification algorithms"
   ]
  },
  {
   "cell_type": "code",
   "execution_count": 84,
   "metadata": {},
   "outputs": [],
   "source": [
    "# Classification: Logisitc, LDA, k-nearest neighbors, Naive bayes, classification and regression trees, & SVM"
   ]
  },
  {
   "cell_type": "code",
   "execution_count": 85,
   "metadata": {
    "scrolled": true
   },
   "outputs": [
    {
     "name": "stdout",
     "output_type": "stream",
     "text": [
      "LR: 0.611966 (0.127375)\n",
      "LDA: 0.620085 (0.109262)\n",
      "KNN: 0.582336 (0.159111)\n",
      "CART: 0.537037 (0.107005)\n",
      "NB: 0.608262 (0.118325)\n",
      "SVM: 0.661538 (0.160598)\n"
     ]
    }
   ],
   "source": [
    "models = []\n",
    "models.append(('LR', LogisticRegression()))\n",
    "models.append(('LDA', LinearDiscriminantAnalysis()))\n",
    "models.append(('KNN', KNeighborsClassifier()))\n",
    "models.append(('CART', DecisionTreeClassifier()))\n",
    "models.append(('NB', GaussianNB()))\n",
    "models.append(('SVM', SVC()))\n",
    "# evaluate each model in turn\n",
    "results = []\n",
    "names = []\n",
    "scoring = 'accuracy'\n",
    "best = -np.inf\n",
    "best_model = None\n",
    "for name, model in models:\n",
    "    kfold = KFold(n_splits=10, random_state=7)\n",
    "    cv_results = cross_val_score(model, X, Y, cv=kfold, scoring=scoring)\n",
    "    results.append(cv_results)\n",
    "    names.append(name)\n",
    "    if cv_results.mean() > best:\n",
    "        best = cv_results.mean()\n",
    "        best_model = model\n",
    "    msg = \"%s: %f (%f)\" % (name, cv_results.mean(), cv_results.std())\n",
    "    print(msg)"
   ]
  },
  {
   "cell_type": "code",
   "execution_count": 86,
   "metadata": {},
   "outputs": [
    {
     "data": {
      "text/plain": [
       "0.6615384615384615"
      ]
     },
     "execution_count": 86,
     "metadata": {},
     "output_type": "execute_result"
    }
   ],
   "source": [
    "best"
   ]
  },
  {
   "cell_type": "code",
   "execution_count": 87,
   "metadata": {},
   "outputs": [
    {
     "data": {
      "image/png": "[encoded data removed]",
      "text/plain": [
       "<Figure size 432x288 with 1 Axes>"
      ]
     },
     "metadata": {},
     "output_type": "display_data"
    }
   ],
   "source": [
    "# boxplot algorithm comparison\n",
    "fig = pyplot.figure()\n",
    "fig.suptitle('Algorithm Comparison')\n",
    "ax = fig.add_subplot(111)\n",
    "pyplot.boxplot(results)\n",
    "ax.set_xticklabels(names)\n",
    "pyplot.show()"
   ]
  },
  {
   "cell_type": "markdown",
   "metadata": {},
   "source": [
    "# Improve performance with Ensemble models"
   ]
  },
  {
   "cell_type": "code",
   "execution_count": 88,
   "metadata": {},
   "outputs": [],
   "source": [
    "# bagging (bag decision trees, random forest, extra trees), boosting (adaBoost, gradient), voting (combine multiple)"
   ]
  },
  {
   "cell_type": "code",
   "execution_count": 89,
   "metadata": {},
   "outputs": [
    {
     "name": "stdout",
     "output_type": "stream",
     "text": [
      "0.6615384615384615\n"
     ]
    }
   ],
   "source": [
    "# Bagged decision trees\n",
    "seed = 7\n",
    "kfold = KFold(n_splits=10, random_state=seed)\n",
    "cart = best_model\n",
    "num_trees = 100\n",
    "model = BaggingClassifier(base_estimator=cart, n_estimators=num_trees, random_state=seed)\n",
    "results = cross_val_score(model, X, Y, cv=kfold)\n",
    "print(results.mean())"
   ]
  },
  {
   "cell_type": "code",
   "execution_count": 90,
   "metadata": {},
   "outputs": [
    {
     "name": "stdout",
     "output_type": "stream",
     "text": [
      "0.5897435897435898\n"
     ]
    }
   ],
   "source": [
    "# Random forest\n",
    "num_trees = 100\n",
    "max_features = 3\n",
    "kfold = KFold(n_splits=10, random_state=7)\n",
    "model = RandomForestClassifier(n_estimators=num_trees, max_features=max_features)\n",
    "results = cross_val_score(model, X, Y, cv=kfold)\n",
    "print(results.mean())"
   ]
  },
  {
   "cell_type": "code",
   "execution_count": 91,
   "metadata": {},
   "outputs": [
    {
     "name": "stdout",
     "output_type": "stream",
     "text": [
      "0.6085470085470085\n"
     ]
    }
   ],
   "source": [
    "# Extra trees\n",
    "num_trees = 100\n",
    "max_features = 7\n",
    "kfold = KFold(n_splits=10, random_state=7)\n",
    "model = ExtraTreesClassifier(n_estimators=num_trees, max_features=max_features)\n",
    "results = cross_val_score(model, X, Y, cv=kfold)\n",
    "print(results.mean())"
   ]
  },
  {
   "cell_type": "code",
   "execution_count": 92,
   "metadata": {},
   "outputs": [
    {
     "name": "stdout",
     "output_type": "stream",
     "text": [
      "0.5588319088319088\n"
     ]
    }
   ],
   "source": [
    "# AdaBoost\n",
    "num_trees = 30\n",
    "seed=7\n",
    "kfold = KFold(n_splits=10, random_state=seed)\n",
    "model = AdaBoostClassifier(n_estimators=num_trees, random_state=seed)\n",
    "results = cross_val_score(model, X, Y, cv=kfold)\n",
    "print(results.mean())"
   ]
  },
  {
   "cell_type": "code",
   "execution_count": 93,
   "metadata": {},
   "outputs": [
    {
     "name": "stdout",
     "output_type": "stream",
     "text": [
      "0.5891737891737892\n"
     ]
    }
   ],
   "source": [
    "# Stochastic gradient\n",
    "seed = 7\n",
    "num_trees = 100\n",
    "kfold = KFold(n_splits=10, random_state=seed)\n",
    "model = GradientBoostingClassifier(n_estimators=num_trees, random_state=seed)\n",
    "results = cross_val_score(model, X, Y, cv=kfold)\n",
    "print(results.mean())"
   ]
  },
  {
   "cell_type": "code",
   "execution_count": 94,
   "metadata": {},
   "outputs": [
    {
     "name": "stdout",
     "output_type": "stream",
     "text": [
      "0.6462962962962963\n"
     ]
    }
   ],
   "source": [
    "# Voting\n",
    "kfold = KFold(n_splits=10, random_state=7)\n",
    "# create the sub models\n",
    "estimators = []\n",
    "model1 = LogisticRegression()\n",
    "estimators.append(('logistic', model1))\n",
    "model2 = GaussianNB()\n",
    "estimators.append(('cart', model2))\n",
    "model3 = SVC()\n",
    "estimators.append(('svm', model3))\n",
    "# create the ensemble model\n",
    "ensemble = VotingClassifier(estimators)\n",
    "results = cross_val_score(ensemble, X, Y, cv=kfold)\n",
    "print(results.mean())"
   ]
  },
  {
   "cell_type": "markdown",
   "metadata": {},
   "source": [
    "# Improve performance with Algorithm tunning"
   ]
  },
  {
   "cell_type": "code",
   "execution_count": 95,
   "metadata": {},
   "outputs": [],
   "source": [
    "# Using grid search and random search"
   ]
  },
  {
   "cell_type": "code",
   "execution_count": 96,
   "metadata": {},
   "outputs": [],
   "source": [
    "# param_grid = {\n",
    "#     'base_estimator__max_depth' : [1, 2, 3, 4, 5],\n",
    "#     'max_samples' : [0.05, 0.1, 0.2, 0.5]\n",
    "# }\n",
    "\n",
    "# clf = GridSearchCV(BaggingClassifier(DecisionTreeClassifier(),\n",
    "#                                      n_estimators = 100, max_features = 0.5),\n",
    "#                    param_grid, scoring = 'accuracy')\n",
    "# clf.fit(X_train, Y_train)"
   ]
  },
  {
   "cell_type": "code",
   "execution_count": 97,
   "metadata": {},
   "outputs": [],
   "source": [
    "# # Grid Search for Algorithm Tuning\n",
    "# alphas = numpy.array([1,0.1,0.01,0.001,0.0001,0])\n",
    "# param_grid = dict(alpha=alphas)\n",
    "# model = Ridge()\n",
    "# grid = GridSearchCV(estimator=model, param_grid=param_grid)\n",
    "# grid.fit(X, Y)\n",
    "# print(grid.best_score_)\n",
    "# print(grid.best_estimator_.alpha)"
   ]
  },
  {
   "cell_type": "markdown",
   "metadata": {},
   "source": [
    "# Save, load and score"
   ]
  },
  {
   "cell_type": "code",
   "execution_count": 98,
   "metadata": {
    "scrolled": true
   },
   "outputs": [
    {
     "name": "stdout",
     "output_type": "stream",
     "text": [
      "0.45454545454545453\n"
     ]
    }
   ],
   "source": [
    "model = best_model\n",
    "model.fit(X_train, Y_train)\n",
    "\n",
    "# save the model to disk\n",
    "filename = 'finalized_model.sav'\n",
    "dump(model, open(filename, 'wb'))\n",
    "\n",
    "# load the model from disk and score\n",
    "loaded_model = load(open(filename, 'rb'))\n",
    "result = loaded_model.score(X_test, Y_test)\n",
    "print(result)"
   ]
  },
  {
   "cell_type": "markdown",
   "metadata": {},
   "source": [
    "# Predictions"
   ]
  },
  {
   "cell_type": "code",
   "execution_count": 99,
   "metadata": {},
   "outputs": [],
   "source": [
    "# Make predictions from the x test dataset\n",
    "predictions = loaded_model.predict(X_test)"
   ]
  },
  {
   "cell_type": "code",
   "execution_count": 100,
   "metadata": {},
   "outputs": [
    {
     "data": {
      "text/plain": [
       "array([1., 1., 0., 1., 1., 1., 1., 1., 1., 1., 1., 1., 1., 1., 1., 1., 1.,\n",
       "       1., 1., 1., 1., 1., 1., 1., 1., 1., 1., 1., 1., 1., 1., 1., 1.])"
      ]
     },
     "execution_count": 100,
     "metadata": {},
     "output_type": "execute_result"
    }
   ],
   "source": [
    "predictions"
   ]
  },
  {
   "cell_type": "code",
   "execution_count": 101,
   "metadata": {},
   "outputs": [
    {
     "data": {
      "text/plain": [
       "33"
      ]
     },
     "execution_count": 101,
     "metadata": {},
     "output_type": "execute_result"
    }
   ],
   "source": [
    "len(predictions)"
   ]
  },
  {
   "cell_type": "code",
   "execution_count": 102,
   "metadata": {},
   "outputs": [
    {
     "name": "stdout",
     "output_type": "stream",
     "text": [
      "Classification Report\n",
      "              precision    recall  f1-score   support\n",
      "\n",
      "         0.0       0.00      0.00      0.00        17\n",
      "         1.0       0.47      0.94      0.62        16\n",
      "\n",
      "    accuracy                           0.45        33\n",
      "   macro avg       0.23      0.47      0.31        33\n",
      "weighted avg       0.23      0.45      0.30        33\n",
      "\n"
     ]
    }
   ],
   "source": [
    "# Print the classification report\n",
    "results = (classification_report(Y_test, predictions))\n",
    "print(\"Classification Report\")\n",
    "print(results)"
   ]
  },
  {
   "cell_type": "code",
   "execution_count": 107,
   "metadata": {},
   "outputs": [],
   "source": [
    "# Calculating the confusion matrix\n",
    "cm = confusion_matrix(Y_test, predictions)\n",
    "cm_df = pd.DataFrame(\n",
    "    cm, index=[\"Actual 0\", \"Actual 1\"], columns=[\"Predicted 0\", \"Predicted 1\"]\n",
    ")\n",
    "\n",
    "# Calculating the accuracy score\n",
    "acc_score = round(accuracy_score(Y_test, predictions),2)*100"
   ]
  },
  {
   "cell_type": "code",
   "execution_count": 104,
   "metadata": {},
   "outputs": [
    {
     "data": {
      "text/html": [
       "<div>\n",
       "<style scoped>\n",
       "    .dataframe tbody tr th:only-of-type {\n",
       "        vertical-align: middle;\n",
       "    }\n",
       "\n",
       "    .dataframe tbody tr th {\n",
       "        vertical-align: top;\n",
       "    }\n",
       "\n",
       "    .dataframe thead th {\n",
       "        text-align: right;\n",
       "    }\n",
       "</style>\n",
       "<table border=\"1\" class=\"dataframe\">\n",
       "  <thead>\n",
       "    <tr style=\"text-align: right;\">\n",
       "      <th></th>\n",
       "      <th>Predicted 0</th>\n",
       "      <th>Predicted 1</th>\n",
       "    </tr>\n",
       "  </thead>\n",
       "  <tbody>\n",
       "    <tr>\n",
       "      <td>Actual 0</td>\n",
       "      <td>0</td>\n",
       "      <td>17</td>\n",
       "    </tr>\n",
       "    <tr>\n",
       "      <td>Actual 1</td>\n",
       "      <td>1</td>\n",
       "      <td>15</td>\n",
       "    </tr>\n",
       "  </tbody>\n",
       "</table>\n",
       "</div>"
      ],
      "text/plain": [
       "          Predicted 0  Predicted 1\n",
       "Actual 0            0           17\n",
       "Actual 1            1           15"
      ]
     },
     "execution_count": 104,
     "metadata": {},
     "output_type": "execute_result"
    }
   ],
   "source": [
    "cm_df"
   ]
  },
  {
   "cell_type": "code",
   "execution_count": 108,
   "metadata": {},
   "outputs": [
    {
     "name": "stdout",
     "output_type": "stream",
     "text": [
      "Accuracy Score: 45.0%\n"
     ]
    }
   ],
   "source": [
    "print(f\"Accuracy Score: {acc_score}%\")"
   ]
  },
  {
   "cell_type": "code",
   "execution_count": null,
   "metadata": {},
   "outputs": [],
   "source": []
  }
 ],
 "metadata": {
  "kernelspec": {
   "display_name": "Python 3",
   "language": "python",
   "name": "python3"
  },
  "language_info": {
   "codemirror_mode": {
    "name": "ipython",
    "version": 3
   },
   "file_extension": ".py",
   "mimetype": "text/x-python",
   "name": "python",
   "nbconvert_exporter": "python",
   "pygments_lexer": "ipython3",
   "version": "3.7.3"
  }
 },
 "nbformat": 4,
 "nbformat_minor": 4
}
