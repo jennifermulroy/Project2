{
 "cells": [
  {
   "cell_type": "code",
   "execution_count": 107,
   "metadata": {},
   "outputs": [],
   "source": [
    "##################################\n",
    "# IMPORTING BASE AND API LIBRARIES\n",
    "##################################\n",
    "from collections import Counter\n",
    "import pandas as pd\n",
    "from pandas import read_csv\n",
    "import pandas_datareader as pdr\n",
    "import datetime\n",
    "# from pandas.tools.plotting import scatter_matrix\n",
    "import numpy as np\n",
    "from numpy import set_printoptions\n",
    "import seaborn as sns\n",
    "from matplotlib import pyplot\n",
    "from pathlib import Path\n",
    "\n",
    "# Import the main functionality from the SimFin Python API.\n",
    "import simfin as sf\n",
    "# Import names used for easy access to SimFin's data-columns.\n",
    "from simfin.names import *\n",
    "\n",
    "# import warnings filter\n",
    "from warnings import simplefilter\n",
    "# ignore all future warnings\n",
    "simplefilter(action='ignore', category=FutureWarning)"
   ]
  },
  {
   "cell_type": "code",
   "execution_count": 108,
   "metadata": {},
   "outputs": [],
   "source": [
    "##############################\n",
    "# IMPORTING MODELING LIBRARIES\n",
    "##############################\n",
    "from sklearn import utils\n",
    "from sklearn import preprocessing\n",
    "from scipy.stats import uniform\n",
    "\n",
    "# Pre-processing\n",
    "from sklearn.preprocessing import MinMaxScaler\n",
    "from sklearn.preprocessing import StandardScaler\n",
    "from sklearn.preprocessing import Normalizer\n",
    "from sklearn.preprocessing import Binarizer\n",
    "\n",
    "# Feature selection\n",
    "from sklearn.feature_selection import SelectKBest\n",
    "from sklearn.feature_selection import chi2\n",
    "from sklearn.decomposition import PCA\n",
    "from sklearn.ensemble import ExtraTreesClassifier\n",
    "\n",
    "# Resample, model eval, & metrics and enhancements \n",
    "from sklearn.model_selection import train_test_split\n",
    "from sklearn.model_selection import KFold\n",
    "from sklearn.model_selection import LeaveOneOut\n",
    "from sklearn.model_selection import ShuffleSplit\n",
    "from sklearn.model_selection import cross_val_score\n",
    "from sklearn.metrics import classification_report\n",
    "from sklearn.metrics import confusion_matrix\n",
    "from sklearn.metrics import accuracy_score\n",
    "from imblearn.over_sampling import SMOTE\n",
    "from imblearn.under_sampling import ClusterCentroids\n",
    "from imblearn.metrics import classification_report_imbalanced\n",
    "from imblearn.combine import SMOTEENN\n",
    "from imblearn.metrics import classification_report_imbalanced\n",
    "from imblearn.ensemble import BalancedRandomForestClassifier\n",
    "from sklearn.metrics import precision_recall_curve\n",
    "\n",
    "# Regression models\n",
    "from sklearn.linear_model import LinearRegression, Ridge, Lasso, ElasticNet\n",
    "from sklearn.neighbors import KNeighborsRegressor\n",
    "from sklearn.tree import DecisionTreeRegressor\n",
    "from sklearn.svm import SVR\n",
    "\n",
    "# Classification models\n",
    "from sklearn.linear_model import LogisticRegression\n",
    "from sklearn.tree import DecisionTreeClassifier\n",
    "from sklearn.neighbors import KNeighborsClassifier\n",
    "from sklearn.discriminant_analysis import LinearDiscriminantAnalysis\n",
    "from sklearn.naive_bayes import GaussianNB\n",
    "from sklearn.svm import SVC\n",
    "\n",
    "# Ensemble for further improvements\n",
    "from sklearn.ensemble import BaggingClassifier\n",
    "from sklearn.ensemble import RandomForestClassifier\n",
    "from sklearn.ensemble import ExtraTreesClassifier\n",
    "from sklearn.ensemble import AdaBoostClassifier\n",
    "from sklearn.ensemble import GradientBoostingClassifier\n",
    "from sklearn.ensemble import VotingClassifier\n",
    "\n",
    "# Performance tuning\n",
    "from sklearn.model_selection import GridSearchCV\n",
    "from sklearn.model_selection import RandomizedSearchCV\n",
    "\n",
    "# Pipeline\n",
    "from sklearn.pipeline import Pipeline\n",
    "from sklearn.pipeline import FeatureUnion\n",
    "\n",
    "# Finalize model with Pickle and joblib\n",
    "from pickle import dump\n",
    "from pickle import load\n",
    "from sklearn.externals.joblib import dump\n",
    "from sklearn.externals.joblib import load"
   ]
  },
  {
   "cell_type": "markdown",
   "metadata": {},
   "source": [
    "# Getting SimFin data"
   ]
  },
  {
   "cell_type": "code",
   "execution_count": 109,
   "metadata": {},
   "outputs": [
    {
     "data": {
      "text/plain": [
       "'0.3.0'"
      ]
     },
     "execution_count": 109,
     "metadata": {},
     "output_type": "execute_result"
    }
   ],
   "source": [
    "sf.__version__"
   ]
  },
  {
   "cell_type": "code",
   "execution_count": 110,
   "metadata": {},
   "outputs": [],
   "source": [
    "sf.set_data_dir('~/simfin_data/')\n",
    "\n",
    "# SimFin load API key or use free data.\n",
    "sf.load_api_key(path='~/simfin_api_key.txt', default_key='free')"
   ]
  },
  {
   "cell_type": "code",
   "execution_count": 111,
   "metadata": {},
   "outputs": [],
   "source": [
    "sns.set_style(\"whitegrid\")"
   ]
  },
  {
   "cell_type": "code",
   "execution_count": 112,
   "metadata": {},
   "outputs": [
    {
     "name": "stdout",
     "output_type": "stream",
     "text": [
      "Dataset \"us-income-ttm\" on disk (9 days old).\n",
      "- Loading from disk ... Done!\n",
      "Dataset \"us-income-quarterly\" on disk (9 days old).\n",
      "- Loading from disk ... Done!\n",
      "Dataset \"us-balance-ttm\" on disk (9 days old).\n",
      "- Loading from disk ... Done!\n",
      "Dataset \"us-cashflow-ttm\" on disk (9 days old).\n",
      "- Loading from disk ... Done!\n",
      "Dataset \"us-cashflow-quarterly\" on disk (9 days old).\n",
      "- Loading from disk ... Done!\n",
      "Dataset \"us-shareprices-daily\" on disk (8 days old).\n",
      "- Loading from disk ... Done!\n",
      "Dataset \"us-shareprices-latest\" on disk (9 days old).\n",
      "- Loading from disk ... Done!\n",
      "Wall time: 16 s\n"
     ]
    }
   ],
   "source": [
    "%%time\n",
    "# Data for USA.\n",
    "market = 'us'\n",
    "\n",
    "# TTM Income Statements.\n",
    "df_income_ttm = sf.load_income(variant='ttm', market=market)\n",
    "\n",
    "# Quarterly Income Statements.\n",
    "df_income_qrt = sf.load_income(variant='quarterly', market=market)\n",
    "\n",
    "# TTM Balance Sheets.\n",
    "df_balance_ttm = sf.load_balance(variant='ttm', market=market)\n",
    "\n",
    "# TTM Cash-Flow Statements.\n",
    "df_cashflow_ttm = sf.load_cashflow(variant='ttm', market=market)\n",
    "\n",
    "# Quarterly Cash-Flow Statements.\n",
    "df_cashflow_qrt = sf.load_cashflow(variant='quarterly', market=market)\n",
    "\n",
    "# Latest Share-Prices.\n",
    "# Use refresh_days=0 to always download the latest share-prices.\n",
    "df_prices = sf.load_shareprices(variant='daily', market=market)\n",
    "df_prices_latest = sf.load_shareprices(variant='latest', market=market,\n",
    "                                       refresh_days=30)"
   ]
  },
  {
   "cell_type": "code",
   "execution_count": 113,
   "metadata": {},
   "outputs": [],
   "source": [
    "tickers = ['JNJ','UNH','MRK','PFE','ABT','MDT','AMGN','BMY','ABBV','TMO','LLY','CVS','DHR','GILD','CI','ANTM','BDX','ISRG','SYK','AGN','BSX','ZTS','VRTX','BIIB','EW','ILMN','HUM','BAX','HCA','ZBH','REGN','MCK','IQV','ALXN','A','CNC','CERN','RMD','IDXX','ALGN','MTD','LH','INCY','CAH','TFX','WCG','COO','WAT','DGX','HOLX','ABC','XRAY','VAR','UHS','PKI','HSIC','MYL','ABMD','PRGO','DVA','BMY.RT']\n",
    "\n",
    "df_income_qrt = df_income_qrt.loc[tickers].copy()\n",
    "df_income_ttm = df_income_ttm.loc[tickers].copy()\n",
    "df_balance_ttm = df_balance_ttm.loc[tickers].copy()\n",
    "df_cashflow_ttm = df_cashflow_ttm.loc[tickers].copy()\n",
    "df_cashflow_qrt = df_cashflow_qrt.loc[tickers].copy()\n",
    "# df_prices_latest = df_prices_latest.loc[tickers].copy()"
   ]
  },
  {
   "cell_type": "code",
   "execution_count": 114,
   "metadata": {},
   "outputs": [],
   "source": [
    "# df_prices_latest.tail()"
   ]
  },
  {
   "cell_type": "code",
   "execution_count": 115,
   "metadata": {},
   "outputs": [],
   "source": [
    "# Getting signals for last day of every year\n",
    "df_price_list = []\n",
    "df_fin_signals_list = []\n",
    "df_growth_signals_list = []\n",
    "df_val_signals_list = []\n",
    "\n",
    "# setting the price and signals data frames (not including latest year)\n",
    "shareprice_last_dates = [\"2011-12-30\", \"2012-12-31\", \"2013-12-31\", \"2014-12-31\", \"2015-12-31\",\"2016-12-30\", \"2017-12-29\", \"2018-12-31\"]\n",
    "\n",
    "for i in range(len(shareprice_last_dates)):\n",
    "    df_price_list.append(df_prices.loc[(df_prices.index.get_level_values('Date') == shareprice_last_dates[i])])\n",
    "    df_fin_signals_list.append(sf.fin_signals(df_prices=df_price_list[i],\n",
    "                                              df_income_ttm=df_income_ttm,\n",
    "                                              df_balance_ttm=df_balance_ttm,\n",
    "                                              fill_method='ffill'))\n",
    "    df_growth_signals_list.append(sf.growth_signals(df_prices=df_price_list[i],\n",
    "                                                    df_income_ttm=df_income_ttm,\n",
    "                                                    df_income_qrt=df_income_qrt,\n",
    "                                                    df_cashflow_ttm=df_cashflow_ttm,\n",
    "                                                    df_cashflow_qrt=df_cashflow_qrt,\n",
    "                                                    fill_method='ffill'))\n",
    "    df_val_signals_list.append(sf.val_signals(df_prices=df_price_list[i],\n",
    "                                              df_income_ttm=df_income_ttm,\n",
    "                                              df_balance_ttm=df_balance_ttm,\n",
    "                                              df_cashflow_ttm=df_cashflow_ttm,\n",
    "                                              fill_method='ffill'))"
   ]
  },
  {
   "cell_type": "code",
   "execution_count": 116,
   "metadata": {},
   "outputs": [],
   "source": [
    "# Latest year signals\n",
    "df_fin_signals = \\\n",
    "    sf.fin_signals(df_prices=df_prices_latest,\n",
    "                   df_income_ttm=df_income_ttm,\n",
    "                   df_balance_ttm=df_balance_ttm,\n",
    "                   fill_method='ffill')\n",
    "\n",
    "df_growth_signals = \\\n",
    "    sf.growth_signals(df_prices=df_prices_latest,\n",
    "                      df_income_ttm=df_income_ttm,\n",
    "                      df_income_qrt=df_income_qrt,\n",
    "                      df_cashflow_ttm=df_cashflow_ttm,\n",
    "                      df_cashflow_qrt=df_cashflow_qrt,\n",
    "                      fill_method='ffill')\n",
    "\n",
    "df_val_signals = \\\n",
    "    sf.val_signals(df_prices=df_prices_latest,\n",
    "                   df_income_ttm=df_income_ttm,\n",
    "                   df_balance_ttm=df_balance_ttm,\n",
    "                   df_cashflow_ttm=df_cashflow_ttm,\n",
    "                   fill_method='ffill')"
   ]
  },
  {
   "cell_type": "code",
   "execution_count": 117,
   "metadata": {
    "scrolled": true
   },
   "outputs": [
    {
     "name": "stdout",
     "output_type": "stream",
     "text": [
      "Signals\n"
     ]
    },
    {
     "data": {
      "text/plain": [
       "(58, 25)"
      ]
     },
     "execution_count": 117,
     "metadata": {},
     "output_type": "execute_result"
    }
   ],
   "source": [
    "# Combine the DataFrames (for latest)\n",
    "dfs = [df_fin_signals, df_growth_signals, df_val_signals]\n",
    "df_signals = pd.concat(dfs, axis=1)\n",
    "df_signals = df_signals.loc[tickers].copy()\n",
    "# Show the result.\n",
    "print(\"Signals\")\n",
    "df_signals.shape"
   ]
  },
  {
   "cell_type": "code",
   "execution_count": 118,
   "metadata": {},
   "outputs": [
    {
     "data": {
      "text/html": [
       "<div>\n",
       "<style scoped>\n",
       "    .dataframe tbody tr th:only-of-type {\n",
       "        vertical-align: middle;\n",
       "    }\n",
       "\n",
       "    .dataframe tbody tr th {\n",
       "        vertical-align: top;\n",
       "    }\n",
       "\n",
       "    .dataframe thead th {\n",
       "        text-align: right;\n",
       "    }\n",
       "</style>\n",
       "<table border=\"1\" class=\"dataframe\">\n",
       "  <thead>\n",
       "    <tr style=\"text-align: right;\">\n",
       "      <th></th>\n",
       "      <th></th>\n",
       "      <th>Current Ratio</th>\n",
       "      <th>Debt Ratio</th>\n",
       "      <th>Gross Profit Margin</th>\n",
       "      <th>Net Profit Margin</th>\n",
       "      <th>Return on Assets</th>\n",
       "      <th>Return on Equity</th>\n",
       "      <th>Earnings Growth</th>\n",
       "      <th>Earnings Growth QOQ</th>\n",
       "      <th>Earnings Growth YOY</th>\n",
       "      <th>FCF Growth</th>\n",
       "      <th>...</th>\n",
       "      <th>Dividend Yield</th>\n",
       "      <th>Earnings Yield</th>\n",
       "      <th>FCF Yield</th>\n",
       "      <th>Market-Cap</th>\n",
       "      <th>P/Book</th>\n",
       "      <th>P/E</th>\n",
       "      <th>P/FCF</th>\n",
       "      <th>P/NCAV</th>\n",
       "      <th>P/NetNet</th>\n",
       "      <th>P/Sales</th>\n",
       "    </tr>\n",
       "    <tr>\n",
       "      <th>Ticker</th>\n",
       "      <th>Date</th>\n",
       "      <th></th>\n",
       "      <th></th>\n",
       "      <th></th>\n",
       "      <th></th>\n",
       "      <th></th>\n",
       "      <th></th>\n",
       "      <th></th>\n",
       "      <th></th>\n",
       "      <th></th>\n",
       "      <th></th>\n",
       "      <th></th>\n",
       "      <th></th>\n",
       "      <th></th>\n",
       "      <th></th>\n",
       "      <th></th>\n",
       "      <th></th>\n",
       "      <th></th>\n",
       "      <th></th>\n",
       "      <th></th>\n",
       "      <th></th>\n",
       "      <th></th>\n",
       "    </tr>\n",
       "  </thead>\n",
       "  <tbody>\n",
       "    <tr>\n",
       "      <td>VRTX</td>\n",
       "      <td>2019-11-21</td>\n",
       "      <td>3.439495</td>\n",
       "      <td>0.004719</td>\n",
       "      <td>0.866000</td>\n",
       "      <td>0.592349</td>\n",
       "      <td>0.464007</td>\n",
       "      <td>0.730658</td>\n",
       "      <td>2.313644</td>\n",
       "      <td>-0.784921</td>\n",
       "      <td>-0.553244</td>\n",
       "      <td>0.285786</td>\n",
       "      <td>...</td>\n",
       "      <td>NaN</td>\n",
       "      <td>0.038256</td>\n",
       "      <td>0.024328</td>\n",
       "      <td>5.604681e+10</td>\n",
       "      <td>10.668686</td>\n",
       "      <td>26.139980</td>\n",
       "      <td>41.105435</td>\n",
       "      <td>22.276732</td>\n",
       "      <td>26.082705</td>\n",
       "      <td>15.483990</td>\n",
       "    </tr>\n",
       "    <tr>\n",
       "      <td>WAT</td>\n",
       "      <td>2019-11-21</td>\n",
       "      <td>3.444163</td>\n",
       "      <td>0.353428</td>\n",
       "      <td>0.587131</td>\n",
       "      <td>0.245859</td>\n",
       "      <td>0.131604</td>\n",
       "      <td>0.279366</td>\n",
       "      <td>21.124284</td>\n",
       "      <td>-0.411370</td>\n",
       "      <td>-0.026485</td>\n",
       "      <td>-0.183266</td>\n",
       "      <td>...</td>\n",
       "      <td>NaN</td>\n",
       "      <td>0.035804</td>\n",
       "      <td>0.030217</td>\n",
       "      <td>1.650165e+10</td>\n",
       "      <td>17.051706</td>\n",
       "      <td>27.929658</td>\n",
       "      <td>33.093915</td>\n",
       "      <td>-80.813203</td>\n",
       "      <td>-29.110874</td>\n",
       "      <td>6.866759</td>\n",
       "    </tr>\n",
       "    <tr>\n",
       "      <td>WCG</td>\n",
       "      <td>2019-11-21</td>\n",
       "      <td>1.155606</td>\n",
       "      <td>0.249335</td>\n",
       "      <td>0.130255</td>\n",
       "      <td>0.023389</td>\n",
       "      <td>0.050656</td>\n",
       "      <td>0.151619</td>\n",
       "      <td>0.419478</td>\n",
       "      <td>0.318381</td>\n",
       "      <td>0.845329</td>\n",
       "      <td>-7.331954</td>\n",
       "      <td>...</td>\n",
       "      <td>NaN</td>\n",
       "      <td>0.038924</td>\n",
       "      <td>0.047177</td>\n",
       "      <td>1.621350e+10</td>\n",
       "      <td>3.338584</td>\n",
       "      <td>25.690855</td>\n",
       "      <td>21.196887</td>\n",
       "      <td>-10.103127</td>\n",
       "      <td>-3.027053</td>\n",
       "      <td>0.600872</td>\n",
       "    </tr>\n",
       "    <tr>\n",
       "      <td>XRAY</td>\n",
       "      <td>2019-11-21</td>\n",
       "      <td>2.075727</td>\n",
       "      <td>0.188553</td>\n",
       "      <td>0.517636</td>\n",
       "      <td>0.026726</td>\n",
       "      <td>0.011947</td>\n",
       "      <td>0.020505</td>\n",
       "      <td>-1.065850</td>\n",
       "      <td>-0.071429</td>\n",
       "      <td>-1.032442</td>\n",
       "      <td>-0.158411</td>\n",
       "      <td>...</td>\n",
       "      <td>0.006120</td>\n",
       "      <td>0.008270</td>\n",
       "      <td>0.026929</td>\n",
       "      <td>1.274472e+10</td>\n",
       "      <td>2.458994</td>\n",
       "      <td>120.917647</td>\n",
       "      <td>37.134965</td>\n",
       "      <td>-8.148277</td>\n",
       "      <td>-5.509860</td>\n",
       "      <td>3.231666</td>\n",
       "    </tr>\n",
       "    <tr>\n",
       "      <td>ZTS</td>\n",
       "      <td>2019-11-21</td>\n",
       "      <td>4.389734</td>\n",
       "      <td>0.571948</td>\n",
       "      <td>0.673821</td>\n",
       "      <td>0.237561</td>\n",
       "      <td>0.139688</td>\n",
       "      <td>0.689802</td>\n",
       "      <td>0.255155</td>\n",
       "      <td>0.167116</td>\n",
       "      <td>0.247839</td>\n",
       "      <td>-0.090159</td>\n",
       "      <td>...</td>\n",
       "      <td>0.005082</td>\n",
       "      <td>0.025169</td>\n",
       "      <td>0.024686</td>\n",
       "      <td>5.804799e+10</td>\n",
       "      <td>21.675873</td>\n",
       "      <td>39.731681</td>\n",
       "      <td>40.508016</td>\n",
       "      <td>-14.599594</td>\n",
       "      <td>-11.004358</td>\n",
       "      <td>9.438697</td>\n",
       "    </tr>\n",
       "  </tbody>\n",
       "</table>\n",
       "<p>5 rows × 25 columns</p>\n",
       "</div>"
      ],
      "text/plain": [
       "                   Current Ratio  Debt Ratio  Gross Profit Margin  \\\n",
       "Ticker Date                                                         \n",
       "VRTX   2019-11-21       3.439495    0.004719             0.866000   \n",
       "WAT    2019-11-21       3.444163    0.353428             0.587131   \n",
       "WCG    2019-11-21       1.155606    0.249335             0.130255   \n",
       "XRAY   2019-11-21       2.075727    0.188553             0.517636   \n",
       "ZTS    2019-11-21       4.389734    0.571948             0.673821   \n",
       "\n",
       "                   Net Profit Margin  Return on Assets  Return on Equity  \\\n",
       "Ticker Date                                                                \n",
       "VRTX   2019-11-21           0.592349          0.464007          0.730658   \n",
       "WAT    2019-11-21           0.245859          0.131604          0.279366   \n",
       "WCG    2019-11-21           0.023389          0.050656          0.151619   \n",
       "XRAY   2019-11-21           0.026726          0.011947          0.020505   \n",
       "ZTS    2019-11-21           0.237561          0.139688          0.689802   \n",
       "\n",
       "                   Earnings Growth  Earnings Growth QOQ  Earnings Growth YOY  \\\n",
       "Ticker Date                                                                    \n",
       "VRTX   2019-11-21         2.313644            -0.784921            -0.553244   \n",
       "WAT    2019-11-21        21.124284            -0.411370            -0.026485   \n",
       "WCG    2019-11-21         0.419478             0.318381             0.845329   \n",
       "XRAY   2019-11-21        -1.065850            -0.071429            -1.032442   \n",
       "ZTS    2019-11-21         0.255155             0.167116             0.247839   \n",
       "\n",
       "                   FCF Growth  ...  Dividend Yield  Earnings Yield  FCF Yield  \\\n",
       "Ticker Date                    ...                                              \n",
       "VRTX   2019-11-21    0.285786  ...             NaN        0.038256   0.024328   \n",
       "WAT    2019-11-21   -0.183266  ...             NaN        0.035804   0.030217   \n",
       "WCG    2019-11-21   -7.331954  ...             NaN        0.038924   0.047177   \n",
       "XRAY   2019-11-21   -0.158411  ...        0.006120        0.008270   0.026929   \n",
       "ZTS    2019-11-21   -0.090159  ...        0.005082        0.025169   0.024686   \n",
       "\n",
       "                     Market-Cap     P/Book         P/E      P/FCF     P/NCAV  \\\n",
       "Ticker Date                                                                    \n",
       "VRTX   2019-11-21  5.604681e+10  10.668686   26.139980  41.105435  22.276732   \n",
       "WAT    2019-11-21  1.650165e+10  17.051706   27.929658  33.093915 -80.813203   \n",
       "WCG    2019-11-21  1.621350e+10   3.338584   25.690855  21.196887 -10.103127   \n",
       "XRAY   2019-11-21  1.274472e+10   2.458994  120.917647  37.134965  -8.148277   \n",
       "ZTS    2019-11-21  5.804799e+10  21.675873   39.731681  40.508016 -14.599594   \n",
       "\n",
       "                    P/NetNet    P/Sales  \n",
       "Ticker Date                              \n",
       "VRTX   2019-11-21  26.082705  15.483990  \n",
       "WAT    2019-11-21 -29.110874   6.866759  \n",
       "WCG    2019-11-21  -3.027053   0.600872  \n",
       "XRAY   2019-11-21  -5.509860   3.231666  \n",
       "ZTS    2019-11-21 -11.004358   9.438697  \n",
       "\n",
       "[5 rows x 25 columns]"
      ]
     },
     "execution_count": 118,
     "metadata": {},
     "output_type": "execute_result"
    }
   ],
   "source": [
    "df_signals.tail()"
   ]
  },
  {
   "cell_type": "code",
   "execution_count": 119,
   "metadata": {},
   "outputs": [],
   "source": [
    "# Combine the DataFrames (for the previous years.)\n",
    "dfs_list = [[df_fin_signals_list[i], df_growth_signals_list[i], df_val_signals_list[i]] for i in range(len(df_fin_signals_list))]\n",
    "df_signals_list = [pd.concat(e, axis=1) for e in dfs_list]\n",
    "df_signals_list = [e.loc[tickers].copy() for e in df_signals_list]"
   ]
  },
  {
   "cell_type": "code",
   "execution_count": 120,
   "metadata": {},
   "outputs": [
    {
     "name": "stdout",
     "output_type": "stream",
     "text": [
      "2018 Signals\n"
     ]
    },
    {
     "data": {
      "text/html": [
       "<div>\n",
       "<style scoped>\n",
       "    .dataframe tbody tr th:only-of-type {\n",
       "        vertical-align: middle;\n",
       "    }\n",
       "\n",
       "    .dataframe tbody tr th {\n",
       "        vertical-align: top;\n",
       "    }\n",
       "\n",
       "    .dataframe thead th {\n",
       "        text-align: right;\n",
       "    }\n",
       "</style>\n",
       "<table border=\"1\" class=\"dataframe\">\n",
       "  <thead>\n",
       "    <tr style=\"text-align: right;\">\n",
       "      <th></th>\n",
       "      <th></th>\n",
       "      <th>Current Ratio</th>\n",
       "      <th>Debt Ratio</th>\n",
       "      <th>Gross Profit Margin</th>\n",
       "      <th>Net Profit Margin</th>\n",
       "      <th>Return on Assets</th>\n",
       "      <th>Return on Equity</th>\n",
       "      <th>Earnings Growth</th>\n",
       "      <th>Earnings Growth QOQ</th>\n",
       "      <th>Earnings Growth YOY</th>\n",
       "      <th>FCF Growth</th>\n",
       "      <th>...</th>\n",
       "      <th>Dividend Yield</th>\n",
       "      <th>Earnings Yield</th>\n",
       "      <th>FCF Yield</th>\n",
       "      <th>Market-Cap</th>\n",
       "      <th>P/Book</th>\n",
       "      <th>P/E</th>\n",
       "      <th>P/FCF</th>\n",
       "      <th>P/NCAV</th>\n",
       "      <th>P/NetNet</th>\n",
       "      <th>P/Sales</th>\n",
       "    </tr>\n",
       "    <tr>\n",
       "      <th>Ticker</th>\n",
       "      <th>Date</th>\n",
       "      <th></th>\n",
       "      <th></th>\n",
       "      <th></th>\n",
       "      <th></th>\n",
       "      <th></th>\n",
       "      <th></th>\n",
       "      <th></th>\n",
       "      <th></th>\n",
       "      <th></th>\n",
       "      <th></th>\n",
       "      <th></th>\n",
       "      <th></th>\n",
       "      <th></th>\n",
       "      <th></th>\n",
       "      <th></th>\n",
       "      <th></th>\n",
       "      <th></th>\n",
       "      <th></th>\n",
       "      <th></th>\n",
       "      <th></th>\n",
       "      <th></th>\n",
       "    </tr>\n",
       "  </thead>\n",
       "  <tbody>\n",
       "    <tr>\n",
       "      <td>A</td>\n",
       "      <td>2018-12-31</td>\n",
       "      <td>3.286080</td>\n",
       "      <td>0.210631</td>\n",
       "      <td>0.546805</td>\n",
       "      <td>0.064306</td>\n",
       "      <td>0.037503</td>\n",
       "      <td>0.065357</td>\n",
       "      <td>-0.538012</td>\n",
       "      <td>-0.173729</td>\n",
       "      <td>0.101695</td>\n",
       "      <td>0.277700</td>\n",
       "      <td>...</td>\n",
       "      <td>0.008712</td>\n",
       "      <td>0.014413</td>\n",
       "      <td>0.041552</td>\n",
       "      <td>2.192450e+10</td>\n",
       "      <td>4.796434</td>\n",
       "      <td>69.381329</td>\n",
       "      <td>24.066411</td>\n",
       "      <td>-179.709016</td>\n",
       "      <td>-26.672141</td>\n",
       "      <td>4.461640</td>\n",
       "    </tr>\n",
       "    <tr>\n",
       "      <td>ABBV</td>\n",
       "      <td>2018-12-31</td>\n",
       "      <td>0.982946</td>\n",
       "      <td>0.679168</td>\n",
       "      <td>0.764357</td>\n",
       "      <td>0.173633</td>\n",
       "      <td>0.080341</td>\n",
       "      <td>1.115754</td>\n",
       "      <td>0.071200</td>\n",
       "      <td>-1.664725</td>\n",
       "      <td>-36.115385</td>\n",
       "      <td>0.356060</td>\n",
       "      <td>...</td>\n",
       "      <td>0.039151</td>\n",
       "      <td>0.039902</td>\n",
       "      <td>0.089731</td>\n",
       "      <td>1.425257e+11</td>\n",
       "      <td>-16.874940</td>\n",
       "      <td>25.061674</td>\n",
       "      <td>11.144401</td>\n",
       "      <td>-2.802701</td>\n",
       "      <td>-2.596263</td>\n",
       "      <td>4.351532</td>\n",
       "    </tr>\n",
       "    <tr>\n",
       "      <td>ABC</td>\n",
       "      <td>2018-12-31</td>\n",
       "      <td>0.936102</td>\n",
       "      <td>0.119000</td>\n",
       "      <td>0.027751</td>\n",
       "      <td>0.006885</td>\n",
       "      <td>0.032733</td>\n",
       "      <td>0.414044</td>\n",
       "      <td>0.215621</td>\n",
       "      <td>0.687408</td>\n",
       "      <td>-0.543249</td>\n",
       "      <td>-0.002617</td>\n",
       "      <td>...</td>\n",
       "      <td>0.020597</td>\n",
       "      <td>0.073173</td>\n",
       "      <td>0.094557</td>\n",
       "      <td>1.626553e+10</td>\n",
       "      <td>5.139622</td>\n",
       "      <td>13.666172</td>\n",
       "      <td>10.575583</td>\n",
       "      <td>-1.885447</td>\n",
       "      <td>-0.870825</td>\n",
       "      <td>0.094093</td>\n",
       "    </tr>\n",
       "    <tr>\n",
       "      <td>ABMD</td>\n",
       "      <td>2018-12-31</td>\n",
       "      <td>6.761970</td>\n",
       "      <td>0.022977</td>\n",
       "      <td>0.830593</td>\n",
       "      <td>0.301175</td>\n",
       "      <td>0.308368</td>\n",
       "      <td>0.350843</td>\n",
       "      <td>1.459511</td>\n",
       "      <td>-0.105033</td>\n",
       "      <td>2.336457</td>\n",
       "      <td>0.857328</td>\n",
       "      <td>...</td>\n",
       "      <td>NaN</td>\n",
       "      <td>0.014787</td>\n",
       "      <td>0.012730</td>\n",
       "      <td>1.500702e+10</td>\n",
       "      <td>17.623590</td>\n",
       "      <td>67.629023</td>\n",
       "      <td>78.553900</td>\n",
       "      <td>28.686314</td>\n",
       "      <td>33.008913</td>\n",
       "      <td>20.368187</td>\n",
       "    </tr>\n",
       "    <tr>\n",
       "      <td>ABT</td>\n",
       "      <td>2018-12-31</td>\n",
       "      <td>1.623613</td>\n",
       "      <td>0.291278</td>\n",
       "      <td>0.584472</td>\n",
       "      <td>0.077441</td>\n",
       "      <td>0.031056</td>\n",
       "      <td>0.076146</td>\n",
       "      <td>3.964361</td>\n",
       "      <td>0.161634</td>\n",
       "      <td>-1.789855</td>\n",
       "      <td>0.106201</td>\n",
       "      <td>...</td>\n",
       "      <td>0.015419</td>\n",
       "      <td>0.018497</td>\n",
       "      <td>0.038321</td>\n",
       "      <td>1.280241e+11</td>\n",
       "      <td>4.167180</td>\n",
       "      <td>54.064231</td>\n",
       "      <td>26.095414</td>\n",
       "      <td>-5.867551</td>\n",
       "      <td>-4.816467</td>\n",
       "      <td>4.186804</td>\n",
       "    </tr>\n",
       "  </tbody>\n",
       "</table>\n",
       "<p>5 rows × 25 columns</p>\n",
       "</div>"
      ],
      "text/plain": [
       "                   Current Ratio  Debt Ratio  Gross Profit Margin  \\\n",
       "Ticker Date                                                         \n",
       "A      2018-12-31       3.286080    0.210631             0.546805   \n",
       "ABBV   2018-12-31       0.982946    0.679168             0.764357   \n",
       "ABC    2018-12-31       0.936102    0.119000             0.027751   \n",
       "ABMD   2018-12-31       6.761970    0.022977             0.830593   \n",
       "ABT    2018-12-31       1.623613    0.291278             0.584472   \n",
       "\n",
       "                   Net Profit Margin  Return on Assets  Return on Equity  \\\n",
       "Ticker Date                                                                \n",
       "A      2018-12-31           0.064306          0.037503          0.065357   \n",
       "ABBV   2018-12-31           0.173633          0.080341          1.115754   \n",
       "ABC    2018-12-31           0.006885          0.032733          0.414044   \n",
       "ABMD   2018-12-31           0.301175          0.308368          0.350843   \n",
       "ABT    2018-12-31           0.077441          0.031056          0.076146   \n",
       "\n",
       "                   Earnings Growth  Earnings Growth QOQ  Earnings Growth YOY  \\\n",
       "Ticker Date                                                                    \n",
       "A      2018-12-31        -0.538012            -0.173729             0.101695   \n",
       "ABBV   2018-12-31         0.071200            -1.664725           -36.115385   \n",
       "ABC    2018-12-31         0.215621             0.687408            -0.543249   \n",
       "ABMD   2018-12-31         1.459511            -0.105033             2.336457   \n",
       "ABT    2018-12-31         3.964361             0.161634            -1.789855   \n",
       "\n",
       "                   FCF Growth  ...  Dividend Yield  Earnings Yield  FCF Yield  \\\n",
       "Ticker Date                    ...                                              \n",
       "A      2018-12-31    0.277700  ...        0.008712        0.014413   0.041552   \n",
       "ABBV   2018-12-31    0.356060  ...        0.039151        0.039902   0.089731   \n",
       "ABC    2018-12-31   -0.002617  ...        0.020597        0.073173   0.094557   \n",
       "ABMD   2018-12-31    0.857328  ...             NaN        0.014787   0.012730   \n",
       "ABT    2018-12-31    0.106201  ...        0.015419        0.018497   0.038321   \n",
       "\n",
       "                     Market-Cap     P/Book        P/E      P/FCF      P/NCAV  \\\n",
       "Ticker Date                                                                    \n",
       "A      2018-12-31  2.192450e+10   4.796434  69.381329  24.066411 -179.709016   \n",
       "ABBV   2018-12-31  1.425257e+11 -16.874940  25.061674  11.144401   -2.802701   \n",
       "ABC    2018-12-31  1.626553e+10   5.139622  13.666172  10.575583   -1.885447   \n",
       "ABMD   2018-12-31  1.500702e+10  17.623590  67.629023  78.553900   28.686314   \n",
       "ABT    2018-12-31  1.280241e+11   4.167180  54.064231  26.095414   -5.867551   \n",
       "\n",
       "                    P/NetNet    P/Sales  \n",
       "Ticker Date                              \n",
       "A      2018-12-31 -26.672141   4.461640  \n",
       "ABBV   2018-12-31  -2.596263   4.351532  \n",
       "ABC    2018-12-31  -0.870825   0.094093  \n",
       "ABMD   2018-12-31  33.008913  20.368187  \n",
       "ABT    2018-12-31  -4.816467   4.186804  \n",
       "\n",
       "[5 rows x 25 columns]"
      ]
     },
     "execution_count": 120,
     "metadata": {},
     "output_type": "execute_result"
    }
   ],
   "source": [
    "# Show an example.\n",
    "print(\"2018 Signals\")\n",
    "df_signals_list[7].head()"
   ]
  },
  {
   "cell_type": "code",
   "execution_count": 121,
   "metadata": {},
   "outputs": [
    {
     "data": {
      "text/plain": [
       "(58, 25)"
      ]
     },
     "execution_count": 121,
     "metadata": {},
     "output_type": "execute_result"
    }
   ],
   "source": [
    "df_signals_list[7].shape"
   ]
  },
  {
   "cell_type": "markdown",
   "metadata": {},
   "source": [
    "Output of the previous section are `df_signals` (Signals for latest year) `df_signals_list` (Signals for previous years)\n",
    "\n"
   ]
  },
  {
   "cell_type": "markdown",
   "metadata": {},
   "source": [
    "# Getting Data from Yahoo Finance"
   ]
  },
  {
   "cell_type": "code",
   "execution_count": 122,
   "metadata": {},
   "outputs": [],
   "source": [
    "start_sp = datetime.datetime(2011, 1, 1)\n",
    "end_sp = datetime.datetime(2019, 12, 31)"
   ]
  },
  {
   "cell_type": "code",
   "execution_count": 123,
   "metadata": {},
   "outputs": [],
   "source": [
    "ticker_symbols_list = ['XLV', 'JNJ','UNH','MRK','PFE','ABT','MDT','AMGN','BMY','ABBV','TMO','LLY','CVS','DHR','GILD','CI','ANTM','BDX','ISRG','SYK','AGN','BSX','ZTS','VRTX','BIIB','EW','ILMN','HUM','BAX','HCA','ZBH','REGN','MCK','IQV','ALXN','A','CNC','CERN','RMD','IDXX','ALGN','MTD','LH','INCY','CAH','TFX','WCG','COO','WAT','DGX','HOLX','ABC','XRAY','VAR','UHS','PKI','HSIC','MYL','ABMD','PRGO','DVA','BMY.RT']\n",
    "# create a yearly dataframe with all features, returns (2), nlp, 3 years (2017-2018 on 2019)"
   ]
  },
  {
   "cell_type": "code",
   "execution_count": 124,
   "metadata": {},
   "outputs": [
    {
     "name": "stderr",
     "output_type": "stream",
     "text": [
      "C:\\Users\\jenni\\Anaconda3\\lib\\site-packages\\pandas_datareader\\base.py:270: SymbolWarning: Failed to read symbol: 'BMY.RT', replacing with NaN.\n",
      "  warnings.warn(msg.format(sym), SymbolWarning)\n"
     ]
    }
   ],
   "source": [
    "close_price_df = pdr.get_data_yahoo(ticker_symbols_list, start_sp, end_sp)['Close']"
   ]
  },
  {
   "cell_type": "code",
   "execution_count": 125,
   "metadata": {},
   "outputs": [
    {
     "data": {
      "text/plain": [
       "(2257, 62)"
      ]
     },
     "execution_count": 125,
     "metadata": {},
     "output_type": "execute_result"
    }
   ],
   "source": [
    "close_price_df.shape"
   ]
  },
  {
   "cell_type": "code",
   "execution_count": 126,
   "metadata": {
    "scrolled": true
   },
   "outputs": [
    {
     "data": {
      "text/html": [
       "<div>\n",
       "<style scoped>\n",
       "    .dataframe tbody tr th:only-of-type {\n",
       "        vertical-align: middle;\n",
       "    }\n",
       "\n",
       "    .dataframe tbody tr th {\n",
       "        vertical-align: top;\n",
       "    }\n",
       "\n",
       "    .dataframe thead th {\n",
       "        text-align: right;\n",
       "    }\n",
       "</style>\n",
       "<table border=\"1\" class=\"dataframe\">\n",
       "  <thead>\n",
       "    <tr style=\"text-align: right;\">\n",
       "      <th>Symbols</th>\n",
       "      <th>XLV</th>\n",
       "      <th>JNJ</th>\n",
       "      <th>UNH</th>\n",
       "      <th>MRK</th>\n",
       "      <th>PFE</th>\n",
       "      <th>ABT</th>\n",
       "      <th>MDT</th>\n",
       "      <th>AMGN</th>\n",
       "      <th>BMY</th>\n",
       "      <th>ABBV</th>\n",
       "      <th>...</th>\n",
       "      <th>XRAY</th>\n",
       "      <th>VAR</th>\n",
       "      <th>UHS</th>\n",
       "      <th>PKI</th>\n",
       "      <th>HSIC</th>\n",
       "      <th>MYL</th>\n",
       "      <th>ABMD</th>\n",
       "      <th>PRGO</th>\n",
       "      <th>DVA</th>\n",
       "      <th>BMY.RT</th>\n",
       "    </tr>\n",
       "    <tr>\n",
       "      <th>Date</th>\n",
       "      <th></th>\n",
       "      <th></th>\n",
       "      <th></th>\n",
       "      <th></th>\n",
       "      <th></th>\n",
       "      <th></th>\n",
       "      <th></th>\n",
       "      <th></th>\n",
       "      <th></th>\n",
       "      <th></th>\n",
       "      <th></th>\n",
       "      <th></th>\n",
       "      <th></th>\n",
       "      <th></th>\n",
       "      <th></th>\n",
       "      <th></th>\n",
       "      <th></th>\n",
       "      <th></th>\n",
       "      <th></th>\n",
       "      <th></th>\n",
       "      <th></th>\n",
       "    </tr>\n",
       "  </thead>\n",
       "  <tbody>\n",
       "    <tr>\n",
       "      <td>2011-12-31</td>\n",
       "      <td>NaN</td>\n",
       "      <td>NaN</td>\n",
       "      <td>NaN</td>\n",
       "      <td>NaN</td>\n",
       "      <td>NaN</td>\n",
       "      <td>NaN</td>\n",
       "      <td>NaN</td>\n",
       "      <td>NaN</td>\n",
       "      <td>NaN</td>\n",
       "      <td>NaN</td>\n",
       "      <td>...</td>\n",
       "      <td>NaN</td>\n",
       "      <td>NaN</td>\n",
       "      <td>NaN</td>\n",
       "      <td>NaN</td>\n",
       "      <td>NaN</td>\n",
       "      <td>NaN</td>\n",
       "      <td>NaN</td>\n",
       "      <td>NaN</td>\n",
       "      <td>NaN</td>\n",
       "      <td>NaN</td>\n",
       "    </tr>\n",
       "    <tr>\n",
       "      <td>2012-12-31</td>\n",
       "      <td>0.149611</td>\n",
       "      <td>0.068923</td>\n",
       "      <td>0.070245</td>\n",
       "      <td>0.085942</td>\n",
       "      <td>0.158965</td>\n",
       "      <td>0.164859</td>\n",
       "      <td>0.072418</td>\n",
       "      <td>0.342470</td>\n",
       "      <td>-0.075199</td>\n",
       "      <td>NaN</td>\n",
       "      <td>...</td>\n",
       "      <td>0.132038</td>\n",
       "      <td>0.046328</td>\n",
       "      <td>0.244210</td>\n",
       "      <td>0.587000</td>\n",
       "      <td>0.248176</td>\n",
       "      <td>0.279124</td>\n",
       "      <td>-0.272334</td>\n",
       "      <td>0.069167</td>\n",
       "      <td>0.457987</td>\n",
       "      <td>NaN</td>\n",
       "    </tr>\n",
       "    <tr>\n",
       "      <td>2013-12-31</td>\n",
       "      <td>0.390170</td>\n",
       "      <td>0.306562</td>\n",
       "      <td>0.388274</td>\n",
       "      <td>0.222521</td>\n",
       "      <td>0.221292</td>\n",
       "      <td>0.219656</td>\n",
       "      <td>0.399074</td>\n",
       "      <td>0.323434</td>\n",
       "      <td>0.630868</td>\n",
       "      <td>NaN</td>\n",
       "      <td>...</td>\n",
       "      <td>0.223933</td>\n",
       "      <td>0.106065</td>\n",
       "      <td>0.680662</td>\n",
       "      <td>0.298992</td>\n",
       "      <td>0.420791</td>\n",
       "      <td>0.581056</td>\n",
       "      <td>0.989583</td>\n",
       "      <td>0.475151</td>\n",
       "      <td>0.146657</td>\n",
       "      <td>NaN</td>\n",
       "    </tr>\n",
       "    <tr>\n",
       "      <td>2014-12-31</td>\n",
       "      <td>0.233405</td>\n",
       "      <td>0.141719</td>\n",
       "      <td>0.342497</td>\n",
       "      <td>0.134665</td>\n",
       "      <td>0.016977</td>\n",
       "      <td>0.174537</td>\n",
       "      <td>0.258059</td>\n",
       "      <td>0.396301</td>\n",
       "      <td>0.110630</td>\n",
       "      <td>0.239159</td>\n",
       "      <td>...</td>\n",
       "      <td>0.098804</td>\n",
       "      <td>0.113528</td>\n",
       "      <td>0.369185</td>\n",
       "      <td>0.060635</td>\n",
       "      <td>0.191581</td>\n",
       "      <td>0.298848</td>\n",
       "      <td>0.423336</td>\n",
       "      <td>0.089274</td>\n",
       "      <td>0.195203</td>\n",
       "      <td>NaN</td>\n",
       "    </tr>\n",
       "    <tr>\n",
       "      <td>2015-12-31</td>\n",
       "      <td>0.053378</td>\n",
       "      <td>-0.017691</td>\n",
       "      <td>0.163716</td>\n",
       "      <td>-0.069907</td>\n",
       "      <td>0.036276</td>\n",
       "      <td>-0.002443</td>\n",
       "      <td>0.065374</td>\n",
       "      <td>0.019085</td>\n",
       "      <td>0.165340</td>\n",
       "      <td>-0.094743</td>\n",
       "      <td>...</td>\n",
       "      <td>0.142294</td>\n",
       "      <td>-0.066004</td>\n",
       "      <td>0.073971</td>\n",
       "      <td>0.225017</td>\n",
       "      <td>0.161880</td>\n",
       "      <td>-0.040802</td>\n",
       "      <td>1.372044</td>\n",
       "      <td>-0.134362</td>\n",
       "      <td>-0.079614</td>\n",
       "      <td>NaN</td>\n",
       "    </tr>\n",
       "  </tbody>\n",
       "</table>\n",
       "<p>5 rows × 62 columns</p>\n",
       "</div>"
      ],
      "text/plain": [
       "Symbols          XLV       JNJ       UNH       MRK       PFE       ABT  \\\n",
       "Date                                                                     \n",
       "2011-12-31       NaN       NaN       NaN       NaN       NaN       NaN   \n",
       "2012-12-31  0.149611  0.068923  0.070245  0.085942  0.158965  0.164859   \n",
       "2013-12-31  0.390170  0.306562  0.388274  0.222521  0.221292  0.219656   \n",
       "2014-12-31  0.233405  0.141719  0.342497  0.134665  0.016977  0.174537   \n",
       "2015-12-31  0.053378 -0.017691  0.163716 -0.069907  0.036276 -0.002443   \n",
       "\n",
       "Symbols          MDT      AMGN       BMY      ABBV  ...      XRAY       VAR  \\\n",
       "Date                                                ...                       \n",
       "2011-12-31       NaN       NaN       NaN       NaN  ...       NaN       NaN   \n",
       "2012-12-31  0.072418  0.342470 -0.075199       NaN  ...  0.132038  0.046328   \n",
       "2013-12-31  0.399074  0.323434  0.630868       NaN  ...  0.223933  0.106065   \n",
       "2014-12-31  0.258059  0.396301  0.110630  0.239159  ...  0.098804  0.113528   \n",
       "2015-12-31  0.065374  0.019085  0.165340 -0.094743  ...  0.142294 -0.066004   \n",
       "\n",
       "Symbols          UHS       PKI      HSIC       MYL      ABMD      PRGO  \\\n",
       "Date                                                                     \n",
       "2011-12-31       NaN       NaN       NaN       NaN       NaN       NaN   \n",
       "2012-12-31  0.244210  0.587000  0.248176  0.279124 -0.272334  0.069167   \n",
       "2013-12-31  0.680662  0.298992  0.420791  0.581056  0.989583  0.475151   \n",
       "2014-12-31  0.369185  0.060635  0.191581  0.298848  0.423336  0.089274   \n",
       "2015-12-31  0.073971  0.225017  0.161880 -0.040802  1.372044 -0.134362   \n",
       "\n",
       "Symbols          DVA  BMY.RT  \n",
       "Date                          \n",
       "2011-12-31       NaN     NaN  \n",
       "2012-12-31  0.457987     NaN  \n",
       "2013-12-31  0.146657     NaN  \n",
       "2014-12-31  0.195203     NaN  \n",
       "2015-12-31 -0.079614     NaN  \n",
       "\n",
       "[5 rows x 62 columns]"
      ]
     },
     "execution_count": 126,
     "metadata": {},
     "output_type": "execute_result"
    }
   ],
   "source": [
    "# Yearly returns\n",
    "multpl_stock_yearly_returns = close_price_df.resample('Y').ffill().pct_change()\n",
    "multpl_stock_yearly_returns.head()"
   ]
  },
  {
   "cell_type": "code",
   "execution_count": 127,
   "metadata": {},
   "outputs": [],
   "source": [
    "# Melting yearly returns\n",
    "multpl_stock_yearly_returns = multpl_stock_yearly_returns.reset_index(drop = False)\n",
    "multpl_stock_yearly_returns_melt = multpl_stock_yearly_returns.melt(id_vars=[\"Date\", \"XLV\"], \n",
    "        var_name=\"TickerSymbol\", \n",
    "        value_name=\"YearlyReturn\")"
   ]
  },
  {
   "cell_type": "code",
   "execution_count": 128,
   "metadata": {},
   "outputs": [
    {
     "data": {
      "text/html": [
       "<div>\n",
       "<style scoped>\n",
       "    .dataframe tbody tr th:only-of-type {\n",
       "        vertical-align: middle;\n",
       "    }\n",
       "\n",
       "    .dataframe tbody tr th {\n",
       "        vertical-align: top;\n",
       "    }\n",
       "\n",
       "    .dataframe thead th {\n",
       "        text-align: right;\n",
       "    }\n",
       "</style>\n",
       "<table border=\"1\" class=\"dataframe\">\n",
       "  <thead>\n",
       "    <tr style=\"text-align: right;\">\n",
       "      <th></th>\n",
       "      <th>Date</th>\n",
       "      <th>XLV</th>\n",
       "      <th>TickerSymbol</th>\n",
       "      <th>YearlyReturn</th>\n",
       "    </tr>\n",
       "  </thead>\n",
       "  <tbody>\n",
       "    <tr>\n",
       "      <td>544</td>\n",
       "      <td>2015-12-31</td>\n",
       "      <td>0.053378</td>\n",
       "      <td>BMY.RT</td>\n",
       "      <td>NaN</td>\n",
       "    </tr>\n",
       "    <tr>\n",
       "      <td>545</td>\n",
       "      <td>2016-12-31</td>\n",
       "      <td>-0.042899</td>\n",
       "      <td>BMY.RT</td>\n",
       "      <td>NaN</td>\n",
       "    </tr>\n",
       "    <tr>\n",
       "      <td>546</td>\n",
       "      <td>2017-12-31</td>\n",
       "      <td>0.199304</td>\n",
       "      <td>BMY.RT</td>\n",
       "      <td>NaN</td>\n",
       "    </tr>\n",
       "    <tr>\n",
       "      <td>547</td>\n",
       "      <td>2018-12-31</td>\n",
       "      <td>0.046323</td>\n",
       "      <td>BMY.RT</td>\n",
       "      <td>NaN</td>\n",
       "    </tr>\n",
       "    <tr>\n",
       "      <td>548</td>\n",
       "      <td>2019-12-31</td>\n",
       "      <td>0.183678</td>\n",
       "      <td>BMY.RT</td>\n",
       "      <td>NaN</td>\n",
       "    </tr>\n",
       "  </tbody>\n",
       "</table>\n",
       "</div>"
      ],
      "text/plain": [
       "          Date       XLV TickerSymbol  YearlyReturn\n",
       "544 2015-12-31  0.053378       BMY.RT           NaN\n",
       "545 2016-12-31 -0.042899       BMY.RT           NaN\n",
       "546 2017-12-31  0.199304       BMY.RT           NaN\n",
       "547 2018-12-31  0.046323       BMY.RT           NaN\n",
       "548 2019-12-31  0.183678       BMY.RT           NaN"
      ]
     },
     "execution_count": 128,
     "metadata": {},
     "output_type": "execute_result"
    }
   ],
   "source": [
    "multpl_stock_yearly_returns_melt.tail()"
   ]
  },
  {
   "cell_type": "code",
   "execution_count": 129,
   "metadata": {},
   "outputs": [],
   "source": [
    "# changing XLK returns column name\n",
    "multpl_stock_yearly_returns_melt.rename(columns = {'XLV':'XLV_Return'}, inplace = True)"
   ]
  },
  {
   "cell_type": "code",
   "execution_count": 130,
   "metadata": {},
   "outputs": [
    {
     "data": {
      "text/html": [
       "<div>\n",
       "<style scoped>\n",
       "    .dataframe tbody tr th:only-of-type {\n",
       "        vertical-align: middle;\n",
       "    }\n",
       "\n",
       "    .dataframe tbody tr th {\n",
       "        vertical-align: top;\n",
       "    }\n",
       "\n",
       "    .dataframe thead th {\n",
       "        text-align: right;\n",
       "    }\n",
       "</style>\n",
       "<table border=\"1\" class=\"dataframe\">\n",
       "  <thead>\n",
       "    <tr style=\"text-align: right;\">\n",
       "      <th></th>\n",
       "      <th>Date</th>\n",
       "      <th>XLV_Return</th>\n",
       "      <th>TickerSymbol</th>\n",
       "      <th>YearlyReturn</th>\n",
       "    </tr>\n",
       "  </thead>\n",
       "  <tbody>\n",
       "    <tr>\n",
       "      <td>0</td>\n",
       "      <td>2011-12-31</td>\n",
       "      <td>NaN</td>\n",
       "      <td>JNJ</td>\n",
       "      <td>NaN</td>\n",
       "    </tr>\n",
       "    <tr>\n",
       "      <td>1</td>\n",
       "      <td>2012-12-31</td>\n",
       "      <td>0.149611</td>\n",
       "      <td>JNJ</td>\n",
       "      <td>0.068923</td>\n",
       "    </tr>\n",
       "    <tr>\n",
       "      <td>2</td>\n",
       "      <td>2013-12-31</td>\n",
       "      <td>0.390170</td>\n",
       "      <td>JNJ</td>\n",
       "      <td>0.306562</td>\n",
       "    </tr>\n",
       "    <tr>\n",
       "      <td>3</td>\n",
       "      <td>2014-12-31</td>\n",
       "      <td>0.233405</td>\n",
       "      <td>JNJ</td>\n",
       "      <td>0.141719</td>\n",
       "    </tr>\n",
       "    <tr>\n",
       "      <td>4</td>\n",
       "      <td>2015-12-31</td>\n",
       "      <td>0.053378</td>\n",
       "      <td>JNJ</td>\n",
       "      <td>-0.017691</td>\n",
       "    </tr>\n",
       "  </tbody>\n",
       "</table>\n",
       "</div>"
      ],
      "text/plain": [
       "        Date  XLV_Return TickerSymbol  YearlyReturn\n",
       "0 2011-12-31         NaN          JNJ           NaN\n",
       "1 2012-12-31    0.149611          JNJ      0.068923\n",
       "2 2013-12-31    0.390170          JNJ      0.306562\n",
       "3 2014-12-31    0.233405          JNJ      0.141719\n",
       "4 2015-12-31    0.053378          JNJ     -0.017691"
      ]
     },
     "execution_count": 130,
     "metadata": {},
     "output_type": "execute_result"
    }
   ],
   "source": [
    "multpl_stock_yearly_returns_melt.head()"
   ]
  },
  {
   "cell_type": "code",
   "execution_count": 131,
   "metadata": {},
   "outputs": [],
   "source": [
    "threshold = 0.05 \n",
    "delta_value = threshold * multpl_stock_yearly_returns_melt['YearlyReturn']\n",
    "win = np.where(multpl_stock_yearly_returns_melt['XLV_Return'] - multpl_stock_yearly_returns_melt['YearlyReturn'] >= delta_value, 0, 1)"
   ]
  },
  {
   "cell_type": "code",
   "execution_count": 132,
   "metadata": {},
   "outputs": [],
   "source": [
    "multpl_stock_yearly_returns_melt['win'] = win"
   ]
  },
  {
   "cell_type": "code",
   "execution_count": 133,
   "metadata": {
    "scrolled": true
   },
   "outputs": [
    {
     "data": {
      "text/html": [
       "<div>\n",
       "<style scoped>\n",
       "    .dataframe tbody tr th:only-of-type {\n",
       "        vertical-align: middle;\n",
       "    }\n",
       "\n",
       "    .dataframe tbody tr th {\n",
       "        vertical-align: top;\n",
       "    }\n",
       "\n",
       "    .dataframe thead th {\n",
       "        text-align: right;\n",
       "    }\n",
       "</style>\n",
       "<table border=\"1\" class=\"dataframe\">\n",
       "  <thead>\n",
       "    <tr style=\"text-align: right;\">\n",
       "      <th></th>\n",
       "      <th>Date</th>\n",
       "      <th>XLV_Return</th>\n",
       "      <th>TickerSymbol</th>\n",
       "      <th>YearlyReturn</th>\n",
       "      <th>win</th>\n",
       "    </tr>\n",
       "  </thead>\n",
       "  <tbody>\n",
       "    <tr>\n",
       "      <td>431</td>\n",
       "      <td>2019-12-31</td>\n",
       "      <td>0.183678</td>\n",
       "      <td>WAT</td>\n",
       "      <td>0.229102</td>\n",
       "      <td>1</td>\n",
       "    </tr>\n",
       "    <tr>\n",
       "      <td>413</td>\n",
       "      <td>2019-12-31</td>\n",
       "      <td>0.183678</td>\n",
       "      <td>WCG</td>\n",
       "      <td>0.384769</td>\n",
       "      <td>1</td>\n",
       "    </tr>\n",
       "    <tr>\n",
       "      <td>467</td>\n",
       "      <td>2019-12-31</td>\n",
       "      <td>0.183678</td>\n",
       "      <td>XRAY</td>\n",
       "      <td>0.544477</td>\n",
       "      <td>1</td>\n",
       "    </tr>\n",
       "    <tr>\n",
       "      <td>269</td>\n",
       "      <td>2019-12-31</td>\n",
       "      <td>0.183678</td>\n",
       "      <td>ZBH</td>\n",
       "      <td>0.434632</td>\n",
       "      <td>1</td>\n",
       "    </tr>\n",
       "    <tr>\n",
       "      <td>197</td>\n",
       "      <td>2019-12-31</td>\n",
       "      <td>0.183678</td>\n",
       "      <td>ZTS</td>\n",
       "      <td>0.505027</td>\n",
       "      <td>1</td>\n",
       "    </tr>\n",
       "  </tbody>\n",
       "</table>\n",
       "</div>"
      ],
      "text/plain": [
       "          Date  XLV_Return TickerSymbol  YearlyReturn  win\n",
       "431 2019-12-31    0.183678          WAT      0.229102    1\n",
       "413 2019-12-31    0.183678          WCG      0.384769    1\n",
       "467 2019-12-31    0.183678         XRAY      0.544477    1\n",
       "269 2019-12-31    0.183678          ZBH      0.434632    1\n",
       "197 2019-12-31    0.183678          ZTS      0.505027    1"
      ]
     },
     "execution_count": 133,
     "metadata": {},
     "output_type": "execute_result"
    }
   ],
   "source": [
    "multpl_stock_yearly_returns_melt = multpl_stock_yearly_returns_melt.sort_values(by=['Date','TickerSymbol'])\n",
    "multpl_stock_yearly_returns_melt.tail()"
   ]
  },
  {
   "cell_type": "code",
   "execution_count": 134,
   "metadata": {},
   "outputs": [
    {
     "data": {
      "text/html": [
       "<div>\n",
       "<style scoped>\n",
       "    .dataframe tbody tr th:only-of-type {\n",
       "        vertical-align: middle;\n",
       "    }\n",
       "\n",
       "    .dataframe tbody tr th {\n",
       "        vertical-align: top;\n",
       "    }\n",
       "\n",
       "    .dataframe thead th {\n",
       "        text-align: right;\n",
       "    }\n",
       "</style>\n",
       "<table border=\"1\" class=\"dataframe\">\n",
       "  <thead>\n",
       "    <tr style=\"text-align: right;\">\n",
       "      <th></th>\n",
       "      <th>Date</th>\n",
       "      <th>XLV_Return</th>\n",
       "      <th>TickerSymbol</th>\n",
       "      <th>YearlyReturn</th>\n",
       "      <th>win</th>\n",
       "    </tr>\n",
       "  </thead>\n",
       "  <tbody>\n",
       "    <tr>\n",
       "      <td>0</td>\n",
       "      <td>2011-12-31</td>\n",
       "      <td>NaN</td>\n",
       "      <td>A</td>\n",
       "      <td>NaN</td>\n",
       "      <td>1</td>\n",
       "    </tr>\n",
       "    <tr>\n",
       "      <td>1</td>\n",
       "      <td>2011-12-31</td>\n",
       "      <td>NaN</td>\n",
       "      <td>ABBV</td>\n",
       "      <td>NaN</td>\n",
       "      <td>1</td>\n",
       "    </tr>\n",
       "    <tr>\n",
       "      <td>2</td>\n",
       "      <td>2011-12-31</td>\n",
       "      <td>NaN</td>\n",
       "      <td>ABC</td>\n",
       "      <td>NaN</td>\n",
       "      <td>1</td>\n",
       "    </tr>\n",
       "    <tr>\n",
       "      <td>3</td>\n",
       "      <td>2011-12-31</td>\n",
       "      <td>NaN</td>\n",
       "      <td>ABMD</td>\n",
       "      <td>NaN</td>\n",
       "      <td>1</td>\n",
       "    </tr>\n",
       "    <tr>\n",
       "      <td>4</td>\n",
       "      <td>2011-12-31</td>\n",
       "      <td>NaN</td>\n",
       "      <td>ABT</td>\n",
       "      <td>NaN</td>\n",
       "      <td>1</td>\n",
       "    </tr>\n",
       "  </tbody>\n",
       "</table>\n",
       "</div>"
      ],
      "text/plain": [
       "        Date  XLV_Return TickerSymbol  YearlyReturn  win\n",
       "0 2011-12-31         NaN            A           NaN    1\n",
       "1 2011-12-31         NaN         ABBV           NaN    1\n",
       "2 2011-12-31         NaN          ABC           NaN    1\n",
       "3 2011-12-31         NaN         ABMD           NaN    1\n",
       "4 2011-12-31         NaN          ABT           NaN    1"
      ]
     },
     "execution_count": 134,
     "metadata": {},
     "output_type": "execute_result"
    }
   ],
   "source": [
    "multpl_stock_yearly_returns_melt = multpl_stock_yearly_returns_melt.reset_index(drop = True)\n",
    "multpl_stock_yearly_returns_melt.head()"
   ]
  },
  {
   "cell_type": "code",
   "execution_count": 135,
   "metadata": {},
   "outputs": [
    {
     "name": "stdout",
     "output_type": "stream",
     "text": [
      "(55, 25)\n",
      "(55, 25)\n",
      "(58, 25)\n",
      "(58, 25)\n",
      "(58, 25)\n",
      "(58, 25)\n",
      "(58, 25)\n",
      "(58, 25)\n"
     ]
    }
   ],
   "source": [
    "for e in df_signals_list:\n",
    "    print(e.shape)"
   ]
  },
  {
   "cell_type": "code",
   "execution_count": 136,
   "metadata": {},
   "outputs": [],
   "source": [
    "# Replacing NaNs with median of columns\n",
    "for e in df_signals_list:\n",
    "    for col in e:\n",
    "        e[col] = e[col].fillna(e[col].median())"
   ]
  },
  {
   "cell_type": "code",
   "execution_count": 137,
   "metadata": {},
   "outputs": [],
   "source": [
    "# appending signals dfs\n",
    "all_years_signals = df_signals_list[0]\n",
    "for i in range(1, len(df_signals_list)):\n",
    "    all_years_signals = all_years_signals.append(df_signals_list[i])"
   ]
  },
  {
   "cell_type": "code",
   "execution_count": 138,
   "metadata": {},
   "outputs": [
    {
     "data": {
      "text/html": [
       "<div>\n",
       "<style scoped>\n",
       "    .dataframe tbody tr th:only-of-type {\n",
       "        vertical-align: middle;\n",
       "    }\n",
       "\n",
       "    .dataframe tbody tr th {\n",
       "        vertical-align: top;\n",
       "    }\n",
       "\n",
       "    .dataframe thead th {\n",
       "        text-align: right;\n",
       "    }\n",
       "</style>\n",
       "<table border=\"1\" class=\"dataframe\">\n",
       "  <thead>\n",
       "    <tr style=\"text-align: right;\">\n",
       "      <th></th>\n",
       "      <th></th>\n",
       "      <th>Current Ratio</th>\n",
       "      <th>Debt Ratio</th>\n",
       "      <th>Gross Profit Margin</th>\n",
       "      <th>Net Profit Margin</th>\n",
       "      <th>Return on Assets</th>\n",
       "      <th>Return on Equity</th>\n",
       "      <th>Earnings Growth</th>\n",
       "      <th>Earnings Growth QOQ</th>\n",
       "      <th>Earnings Growth YOY</th>\n",
       "      <th>FCF Growth</th>\n",
       "      <th>...</th>\n",
       "      <th>Dividend Yield</th>\n",
       "      <th>Earnings Yield</th>\n",
       "      <th>FCF Yield</th>\n",
       "      <th>Market-Cap</th>\n",
       "      <th>P/Book</th>\n",
       "      <th>P/E</th>\n",
       "      <th>P/FCF</th>\n",
       "      <th>P/NCAV</th>\n",
       "      <th>P/NetNet</th>\n",
       "      <th>P/Sales</th>\n",
       "    </tr>\n",
       "    <tr>\n",
       "      <th>Ticker</th>\n",
       "      <th>Date</th>\n",
       "      <th></th>\n",
       "      <th></th>\n",
       "      <th></th>\n",
       "      <th></th>\n",
       "      <th></th>\n",
       "      <th></th>\n",
       "      <th></th>\n",
       "      <th></th>\n",
       "      <th></th>\n",
       "      <th></th>\n",
       "      <th></th>\n",
       "      <th></th>\n",
       "      <th></th>\n",
       "      <th></th>\n",
       "      <th></th>\n",
       "      <th></th>\n",
       "      <th></th>\n",
       "      <th></th>\n",
       "      <th></th>\n",
       "      <th></th>\n",
       "      <th></th>\n",
       "    </tr>\n",
       "  </thead>\n",
       "  <tbody>\n",
       "    <tr>\n",
       "      <td>VRTX</td>\n",
       "      <td>2018-12-31</td>\n",
       "      <td>3.430453</td>\n",
       "      <td>0.004719</td>\n",
       "      <td>0.865619</td>\n",
       "      <td>0.688049</td>\n",
       "      <td>0.591339</td>\n",
       "      <td>1.026730</td>\n",
       "      <td>6.958343</td>\n",
       "      <td>11.043302</td>\n",
       "      <td>14.399934</td>\n",
       "      <td>1.006353</td>\n",
       "      <td>...</td>\n",
       "      <td>0.015419</td>\n",
       "      <td>0.048822</td>\n",
       "      <td>0.027352</td>\n",
       "      <td>4.294955e+10</td>\n",
       "      <td>9.683784</td>\n",
       "      <td>20.482440</td>\n",
       "      <td>36.560211</td>\n",
       "      <td>21.132282</td>\n",
       "      <td>24.869554</td>\n",
       "      <td>14.092922</td>\n",
       "    </tr>\n",
       "    <tr>\n",
       "      <td>WAT</td>\n",
       "      <td>2018-12-31</td>\n",
       "      <td>5.932232</td>\n",
       "      <td>0.308081</td>\n",
       "      <td>0.589838</td>\n",
       "      <td>0.245377</td>\n",
       "      <td>0.111524</td>\n",
       "      <td>0.265824</td>\n",
       "      <td>28.235094</td>\n",
       "      <td>0.313004</td>\n",
       "      <td>-1.524254</td>\n",
       "      <td>-0.162723</td>\n",
       "      <td>...</td>\n",
       "      <td>0.015419</td>\n",
       "      <td>0.040552</td>\n",
       "      <td>0.034718</td>\n",
       "      <td>1.464264e+10</td>\n",
       "      <td>9.342837</td>\n",
       "      <td>24.659454</td>\n",
       "      <td>28.803277</td>\n",
       "      <td>29.110897</td>\n",
       "      <td>99.557279</td>\n",
       "      <td>6.050853</td>\n",
       "    </tr>\n",
       "    <tr>\n",
       "      <td>WCG</td>\n",
       "      <td>2018-12-31</td>\n",
       "      <td>1.362230</td>\n",
       "      <td>0.249335</td>\n",
       "      <td>0.153688</td>\n",
       "      <td>0.021544</td>\n",
       "      <td>0.052579</td>\n",
       "      <td>0.181984</td>\n",
       "      <td>0.176880</td>\n",
       "      <td>-0.571975</td>\n",
       "      <td>-0.079077</td>\n",
       "      <td>-0.863824</td>\n",
       "      <td>...</td>\n",
       "      <td>0.015419</td>\n",
       "      <td>0.039338</td>\n",
       "      <td>0.011225</td>\n",
       "      <td>1.117993e+10</td>\n",
       "      <td>2.636777</td>\n",
       "      <td>25.420492</td>\n",
       "      <td>89.083127</td>\n",
       "      <td>-16.148971</td>\n",
       "      <td>-3.676763</td>\n",
       "      <td>0.547657</td>\n",
       "    </tr>\n",
       "    <tr>\n",
       "      <td>XRAY</td>\n",
       "      <td>2018-12-31</td>\n",
       "      <td>1.863219</td>\n",
       "      <td>0.190779</td>\n",
       "      <td>0.518727</td>\n",
       "      <td>-0.253619</td>\n",
       "      <td>-0.097450</td>\n",
       "      <td>-0.152537</td>\n",
       "      <td>-0.347742</td>\n",
       "      <td>-0.935714</td>\n",
       "      <td>-1.002768</td>\n",
       "      <td>-0.299585</td>\n",
       "      <td>...</td>\n",
       "      <td>0.009417</td>\n",
       "      <td>-0.121133</td>\n",
       "      <td>0.038461</td>\n",
       "      <td>8.346203e+09</td>\n",
       "      <td>1.625989</td>\n",
       "      <td>-8.255394</td>\n",
       "      <td>26.000632</td>\n",
       "      <td>-5.009726</td>\n",
       "      <td>-3.450948</td>\n",
       "      <td>2.093722</td>\n",
       "    </tr>\n",
       "    <tr>\n",
       "      <td>ZTS</td>\n",
       "      <td>2018-12-31</td>\n",
       "      <td>3.596893</td>\n",
       "      <td>0.598682</td>\n",
       "      <td>0.671931</td>\n",
       "      <td>0.245150</td>\n",
       "      <td>0.166317</td>\n",
       "      <td>0.799552</td>\n",
       "      <td>0.652778</td>\n",
       "      <td>-0.005764</td>\n",
       "      <td>3.259259</td>\n",
       "      <td>0.301122</td>\n",
       "      <td>...</td>\n",
       "      <td>0.005834</td>\n",
       "      <td>0.034286</td>\n",
       "      <td>0.036207</td>\n",
       "      <td>4.164925e+10</td>\n",
       "      <td>19.061444</td>\n",
       "      <td>29.166145</td>\n",
       "      <td>27.618869</td>\n",
       "      <td>-9.933044</td>\n",
       "      <td>-7.686492</td>\n",
       "      <td>7.150087</td>\n",
       "    </tr>\n",
       "  </tbody>\n",
       "</table>\n",
       "<p>5 rows × 25 columns</p>\n",
       "</div>"
      ],
      "text/plain": [
       "                   Current Ratio  Debt Ratio  Gross Profit Margin  \\\n",
       "Ticker Date                                                         \n",
       "VRTX   2018-12-31       3.430453    0.004719             0.865619   \n",
       "WAT    2018-12-31       5.932232    0.308081             0.589838   \n",
       "WCG    2018-12-31       1.362230    0.249335             0.153688   \n",
       "XRAY   2018-12-31       1.863219    0.190779             0.518727   \n",
       "ZTS    2018-12-31       3.596893    0.598682             0.671931   \n",
       "\n",
       "                   Net Profit Margin  Return on Assets  Return on Equity  \\\n",
       "Ticker Date                                                                \n",
       "VRTX   2018-12-31           0.688049          0.591339          1.026730   \n",
       "WAT    2018-12-31           0.245377          0.111524          0.265824   \n",
       "WCG    2018-12-31           0.021544          0.052579          0.181984   \n",
       "XRAY   2018-12-31          -0.253619         -0.097450         -0.152537   \n",
       "ZTS    2018-12-31           0.245150          0.166317          0.799552   \n",
       "\n",
       "                   Earnings Growth  Earnings Growth QOQ  Earnings Growth YOY  \\\n",
       "Ticker Date                                                                    \n",
       "VRTX   2018-12-31         6.958343            11.043302            14.399934   \n",
       "WAT    2018-12-31        28.235094             0.313004            -1.524254   \n",
       "WCG    2018-12-31         0.176880            -0.571975            -0.079077   \n",
       "XRAY   2018-12-31        -0.347742            -0.935714            -1.002768   \n",
       "ZTS    2018-12-31         0.652778            -0.005764             3.259259   \n",
       "\n",
       "                   FCF Growth  ...  Dividend Yield  Earnings Yield  FCF Yield  \\\n",
       "Ticker Date                    ...                                              \n",
       "VRTX   2018-12-31    1.006353  ...        0.015419        0.048822   0.027352   \n",
       "WAT    2018-12-31   -0.162723  ...        0.015419        0.040552   0.034718   \n",
       "WCG    2018-12-31   -0.863824  ...        0.015419        0.039338   0.011225   \n",
       "XRAY   2018-12-31   -0.299585  ...        0.009417       -0.121133   0.038461   \n",
       "ZTS    2018-12-31    0.301122  ...        0.005834        0.034286   0.036207   \n",
       "\n",
       "                     Market-Cap     P/Book        P/E      P/FCF     P/NCAV  \\\n",
       "Ticker Date                                                                   \n",
       "VRTX   2018-12-31  4.294955e+10   9.683784  20.482440  36.560211  21.132282   \n",
       "WAT    2018-12-31  1.464264e+10   9.342837  24.659454  28.803277  29.110897   \n",
       "WCG    2018-12-31  1.117993e+10   2.636777  25.420492  89.083127 -16.148971   \n",
       "XRAY   2018-12-31  8.346203e+09   1.625989  -8.255394  26.000632  -5.009726   \n",
       "ZTS    2018-12-31  4.164925e+10  19.061444  29.166145  27.618869  -9.933044   \n",
       "\n",
       "                    P/NetNet    P/Sales  \n",
       "Ticker Date                              \n",
       "VRTX   2018-12-31  24.869554  14.092922  \n",
       "WAT    2018-12-31  99.557279   6.050853  \n",
       "WCG    2018-12-31  -3.676763   0.547657  \n",
       "XRAY   2018-12-31  -3.450948   2.093722  \n",
       "ZTS    2018-12-31  -7.686492   7.150087  \n",
       "\n",
       "[5 rows x 25 columns]"
      ]
     },
     "execution_count": 138,
     "metadata": {},
     "output_type": "execute_result"
    }
   ],
   "source": [
    "all_years_signals.tail()"
   ]
  },
  {
   "cell_type": "code",
   "execution_count": 139,
   "metadata": {},
   "outputs": [],
   "source": [
    "all_years_signals = all_years_signals.reset_index(drop = True)"
   ]
  },
  {
   "cell_type": "code",
   "execution_count": 140,
   "metadata": {},
   "outputs": [
    {
     "data": {
      "text/html": [
       "<div>\n",
       "<style scoped>\n",
       "    .dataframe tbody tr th:only-of-type {\n",
       "        vertical-align: middle;\n",
       "    }\n",
       "\n",
       "    .dataframe tbody tr th {\n",
       "        vertical-align: top;\n",
       "    }\n",
       "\n",
       "    .dataframe thead th {\n",
       "        text-align: right;\n",
       "    }\n",
       "</style>\n",
       "<table border=\"1\" class=\"dataframe\">\n",
       "  <thead>\n",
       "    <tr style=\"text-align: right;\">\n",
       "      <th></th>\n",
       "      <th>Current Ratio</th>\n",
       "      <th>Debt Ratio</th>\n",
       "      <th>Gross Profit Margin</th>\n",
       "      <th>Net Profit Margin</th>\n",
       "      <th>Return on Assets</th>\n",
       "      <th>Return on Equity</th>\n",
       "      <th>Earnings Growth</th>\n",
       "      <th>Earnings Growth QOQ</th>\n",
       "      <th>Earnings Growth YOY</th>\n",
       "      <th>FCF Growth</th>\n",
       "      <th>...</th>\n",
       "      <th>Dividend Yield</th>\n",
       "      <th>Earnings Yield</th>\n",
       "      <th>FCF Yield</th>\n",
       "      <th>Market-Cap</th>\n",
       "      <th>P/Book</th>\n",
       "      <th>P/E</th>\n",
       "      <th>P/FCF</th>\n",
       "      <th>P/NCAV</th>\n",
       "      <th>P/NetNet</th>\n",
       "      <th>P/Sales</th>\n",
       "    </tr>\n",
       "  </thead>\n",
       "  <tbody>\n",
       "    <tr>\n",
       "      <td>453</td>\n",
       "      <td>3.430453</td>\n",
       "      <td>0.004719</td>\n",
       "      <td>0.865619</td>\n",
       "      <td>0.688049</td>\n",
       "      <td>0.591339</td>\n",
       "      <td>1.026730</td>\n",
       "      <td>6.958343</td>\n",
       "      <td>11.043302</td>\n",
       "      <td>14.399934</td>\n",
       "      <td>1.006353</td>\n",
       "      <td>...</td>\n",
       "      <td>0.015419</td>\n",
       "      <td>0.048822</td>\n",
       "      <td>0.027352</td>\n",
       "      <td>4.294955e+10</td>\n",
       "      <td>9.683784</td>\n",
       "      <td>20.482440</td>\n",
       "      <td>36.560211</td>\n",
       "      <td>21.132282</td>\n",
       "      <td>24.869554</td>\n",
       "      <td>14.092922</td>\n",
       "    </tr>\n",
       "    <tr>\n",
       "      <td>454</td>\n",
       "      <td>5.932232</td>\n",
       "      <td>0.308081</td>\n",
       "      <td>0.589838</td>\n",
       "      <td>0.245377</td>\n",
       "      <td>0.111524</td>\n",
       "      <td>0.265824</td>\n",
       "      <td>28.235094</td>\n",
       "      <td>0.313004</td>\n",
       "      <td>-1.524254</td>\n",
       "      <td>-0.162723</td>\n",
       "      <td>...</td>\n",
       "      <td>0.015419</td>\n",
       "      <td>0.040552</td>\n",
       "      <td>0.034718</td>\n",
       "      <td>1.464264e+10</td>\n",
       "      <td>9.342837</td>\n",
       "      <td>24.659454</td>\n",
       "      <td>28.803277</td>\n",
       "      <td>29.110897</td>\n",
       "      <td>99.557279</td>\n",
       "      <td>6.050853</td>\n",
       "    </tr>\n",
       "    <tr>\n",
       "      <td>455</td>\n",
       "      <td>1.362230</td>\n",
       "      <td>0.249335</td>\n",
       "      <td>0.153688</td>\n",
       "      <td>0.021544</td>\n",
       "      <td>0.052579</td>\n",
       "      <td>0.181984</td>\n",
       "      <td>0.176880</td>\n",
       "      <td>-0.571975</td>\n",
       "      <td>-0.079077</td>\n",
       "      <td>-0.863824</td>\n",
       "      <td>...</td>\n",
       "      <td>0.015419</td>\n",
       "      <td>0.039338</td>\n",
       "      <td>0.011225</td>\n",
       "      <td>1.117993e+10</td>\n",
       "      <td>2.636777</td>\n",
       "      <td>25.420492</td>\n",
       "      <td>89.083127</td>\n",
       "      <td>-16.148971</td>\n",
       "      <td>-3.676763</td>\n",
       "      <td>0.547657</td>\n",
       "    </tr>\n",
       "    <tr>\n",
       "      <td>456</td>\n",
       "      <td>1.863219</td>\n",
       "      <td>0.190779</td>\n",
       "      <td>0.518727</td>\n",
       "      <td>-0.253619</td>\n",
       "      <td>-0.097450</td>\n",
       "      <td>-0.152537</td>\n",
       "      <td>-0.347742</td>\n",
       "      <td>-0.935714</td>\n",
       "      <td>-1.002768</td>\n",
       "      <td>-0.299585</td>\n",
       "      <td>...</td>\n",
       "      <td>0.009417</td>\n",
       "      <td>-0.121133</td>\n",
       "      <td>0.038461</td>\n",
       "      <td>8.346203e+09</td>\n",
       "      <td>1.625989</td>\n",
       "      <td>-8.255394</td>\n",
       "      <td>26.000632</td>\n",
       "      <td>-5.009726</td>\n",
       "      <td>-3.450948</td>\n",
       "      <td>2.093722</td>\n",
       "    </tr>\n",
       "    <tr>\n",
       "      <td>457</td>\n",
       "      <td>3.596893</td>\n",
       "      <td>0.598682</td>\n",
       "      <td>0.671931</td>\n",
       "      <td>0.245150</td>\n",
       "      <td>0.166317</td>\n",
       "      <td>0.799552</td>\n",
       "      <td>0.652778</td>\n",
       "      <td>-0.005764</td>\n",
       "      <td>3.259259</td>\n",
       "      <td>0.301122</td>\n",
       "      <td>...</td>\n",
       "      <td>0.005834</td>\n",
       "      <td>0.034286</td>\n",
       "      <td>0.036207</td>\n",
       "      <td>4.164925e+10</td>\n",
       "      <td>19.061444</td>\n",
       "      <td>29.166145</td>\n",
       "      <td>27.618869</td>\n",
       "      <td>-9.933044</td>\n",
       "      <td>-7.686492</td>\n",
       "      <td>7.150087</td>\n",
       "    </tr>\n",
       "  </tbody>\n",
       "</table>\n",
       "<p>5 rows × 25 columns</p>\n",
       "</div>"
      ],
      "text/plain": [
       "     Current Ratio  Debt Ratio  Gross Profit Margin  Net Profit Margin  \\\n",
       "453       3.430453    0.004719             0.865619           0.688049   \n",
       "454       5.932232    0.308081             0.589838           0.245377   \n",
       "455       1.362230    0.249335             0.153688           0.021544   \n",
       "456       1.863219    0.190779             0.518727          -0.253619   \n",
       "457       3.596893    0.598682             0.671931           0.245150   \n",
       "\n",
       "     Return on Assets  Return on Equity  Earnings Growth  Earnings Growth QOQ  \\\n",
       "453          0.591339          1.026730         6.958343            11.043302   \n",
       "454          0.111524          0.265824        28.235094             0.313004   \n",
       "455          0.052579          0.181984         0.176880            -0.571975   \n",
       "456         -0.097450         -0.152537        -0.347742            -0.935714   \n",
       "457          0.166317          0.799552         0.652778            -0.005764   \n",
       "\n",
       "     Earnings Growth YOY  FCF Growth  ...  Dividend Yield  Earnings Yield  \\\n",
       "453            14.399934    1.006353  ...        0.015419        0.048822   \n",
       "454            -1.524254   -0.162723  ...        0.015419        0.040552   \n",
       "455            -0.079077   -0.863824  ...        0.015419        0.039338   \n",
       "456            -1.002768   -0.299585  ...        0.009417       -0.121133   \n",
       "457             3.259259    0.301122  ...        0.005834        0.034286   \n",
       "\n",
       "     FCF Yield    Market-Cap     P/Book        P/E      P/FCF     P/NCAV  \\\n",
       "453   0.027352  4.294955e+10   9.683784  20.482440  36.560211  21.132282   \n",
       "454   0.034718  1.464264e+10   9.342837  24.659454  28.803277  29.110897   \n",
       "455   0.011225  1.117993e+10   2.636777  25.420492  89.083127 -16.148971   \n",
       "456   0.038461  8.346203e+09   1.625989  -8.255394  26.000632  -5.009726   \n",
       "457   0.036207  4.164925e+10  19.061444  29.166145  27.618869  -9.933044   \n",
       "\n",
       "      P/NetNet    P/Sales  \n",
       "453  24.869554  14.092922  \n",
       "454  99.557279   6.050853  \n",
       "455  -3.676763   0.547657  \n",
       "456  -3.450948   2.093722  \n",
       "457  -7.686492   7.150087  \n",
       "\n",
       "[5 rows x 25 columns]"
      ]
     },
     "execution_count": 140,
     "metadata": {},
     "output_type": "execute_result"
    }
   ],
   "source": [
    "all_years_signals.tail()"
   ]
  },
  {
   "cell_type": "code",
   "execution_count": 141,
   "metadata": {},
   "outputs": [
    {
     "name": "stdout",
     "output_type": "stream",
     "text": [
      "(549, 5)\n",
      "(458, 25)\n"
     ]
    }
   ],
   "source": [
    "print(multpl_stock_yearly_returns_melt.shape)\n",
    "print(all_years_signals.shape)"
   ]
  },
  {
   "cell_type": "code",
   "execution_count": 142,
   "metadata": {},
   "outputs": [],
   "source": [
    "# Separating latest data\n",
    "# multpl_stock_yearly_returns_melt['Date'] = pd.to_datetime(multpl_stock_yearly_returns_melt['Date'])\n",
    "yearly_returns_latest_df = multpl_stock_yearly_returns_melt[multpl_stock_yearly_returns_melt['Date'].dt.year == 2019]\n",
    "yearly_returns_df = multpl_stock_yearly_returns_melt[multpl_stock_yearly_returns_melt['Date'].dt.year != 2019]"
   ]
  },
  {
   "cell_type": "code",
   "execution_count": 143,
   "metadata": {},
   "outputs": [
    {
     "name": "stdout",
     "output_type": "stream",
     "text": [
      "(488, 5)\n",
      "(61, 5)\n"
     ]
    }
   ],
   "source": [
    "print(yearly_returns_df.shape)\n",
    "print(yearly_returns_latest_df.shape)"
   ]
  },
  {
   "cell_type": "code",
   "execution_count": 144,
   "metadata": {},
   "outputs": [],
   "source": [
    "yearly_returns_df = yearly_returns_df.drop(columns = [\"TickerSymbol\", \"Date\"])\n",
    "yearly_returns_latest_df = yearly_returns_latest_df.drop(columns = [\"TickerSymbol\", \"Date\"])"
   ]
  },
  {
   "cell_type": "code",
   "execution_count": 145,
   "metadata": {},
   "outputs": [],
   "source": [
    "yearly_returns_df = yearly_returns_df.reset_index(drop = True)\n",
    "yearly_returns_latest_df = yearly_returns_latest_df.reset_index(drop = True)"
   ]
  },
  {
   "cell_type": "code",
   "execution_count": 146,
   "metadata": {
    "scrolled": true
   },
   "outputs": [
    {
     "name": "stdout",
     "output_type": "stream",
     "text": [
      "(488, 3)\n",
      "(458, 25)\n"
     ]
    }
   ],
   "source": [
    "print(yearly_returns_df.shape)\n",
    "print(all_years_signals.shape)"
   ]
  },
  {
   "cell_type": "code",
   "execution_count": 147,
   "metadata": {},
   "outputs": [],
   "source": [
    "final_df = pd.concat([yearly_returns_df, all_years_signals], axis=1)"
   ]
  },
  {
   "cell_type": "code",
   "execution_count": 148,
   "metadata": {},
   "outputs": [
    {
     "data": {
      "text/html": [
       "<div>\n",
       "<style scoped>\n",
       "    .dataframe tbody tr th:only-of-type {\n",
       "        vertical-align: middle;\n",
       "    }\n",
       "\n",
       "    .dataframe tbody tr th {\n",
       "        vertical-align: top;\n",
       "    }\n",
       "\n",
       "    .dataframe thead th {\n",
       "        text-align: right;\n",
       "    }\n",
       "</style>\n",
       "<table border=\"1\" class=\"dataframe\">\n",
       "  <thead>\n",
       "    <tr style=\"text-align: right;\">\n",
       "      <th></th>\n",
       "      <th>XLV_Return</th>\n",
       "      <th>YearlyReturn</th>\n",
       "      <th>win</th>\n",
       "      <th>Current Ratio</th>\n",
       "      <th>Debt Ratio</th>\n",
       "      <th>Gross Profit Margin</th>\n",
       "      <th>Net Profit Margin</th>\n",
       "      <th>Return on Assets</th>\n",
       "      <th>Return on Equity</th>\n",
       "      <th>Earnings Growth</th>\n",
       "      <th>...</th>\n",
       "      <th>Dividend Yield</th>\n",
       "      <th>Earnings Yield</th>\n",
       "      <th>FCF Yield</th>\n",
       "      <th>Market-Cap</th>\n",
       "      <th>P/Book</th>\n",
       "      <th>P/E</th>\n",
       "      <th>P/FCF</th>\n",
       "      <th>P/NCAV</th>\n",
       "      <th>P/NetNet</th>\n",
       "      <th>P/Sales</th>\n",
       "    </tr>\n",
       "  </thead>\n",
       "  <tbody>\n",
       "    <tr>\n",
       "      <td>473</td>\n",
       "      <td>0.046323</td>\n",
       "      <td>-0.555415</td>\n",
       "      <td>0</td>\n",
       "      <td>NaN</td>\n",
       "      <td>NaN</td>\n",
       "      <td>NaN</td>\n",
       "      <td>NaN</td>\n",
       "      <td>NaN</td>\n",
       "      <td>NaN</td>\n",
       "      <td>NaN</td>\n",
       "      <td>...</td>\n",
       "      <td>NaN</td>\n",
       "      <td>NaN</td>\n",
       "      <td>NaN</td>\n",
       "      <td>NaN</td>\n",
       "      <td>NaN</td>\n",
       "      <td>NaN</td>\n",
       "      <td>NaN</td>\n",
       "      <td>NaN</td>\n",
       "      <td>NaN</td>\n",
       "      <td>NaN</td>\n",
       "    </tr>\n",
       "    <tr>\n",
       "      <td>474</td>\n",
       "      <td>0.046323</td>\n",
       "      <td>-0.006543</td>\n",
       "      <td>0</td>\n",
       "      <td>NaN</td>\n",
       "      <td>NaN</td>\n",
       "      <td>NaN</td>\n",
       "      <td>NaN</td>\n",
       "      <td>NaN</td>\n",
       "      <td>NaN</td>\n",
       "      <td>NaN</td>\n",
       "      <td>...</td>\n",
       "      <td>NaN</td>\n",
       "      <td>NaN</td>\n",
       "      <td>NaN</td>\n",
       "      <td>NaN</td>\n",
       "      <td>NaN</td>\n",
       "      <td>NaN</td>\n",
       "      <td>NaN</td>\n",
       "      <td>NaN</td>\n",
       "      <td>NaN</td>\n",
       "      <td>NaN</td>\n",
       "    </tr>\n",
       "    <tr>\n",
       "      <td>475</td>\n",
       "      <td>0.046323</td>\n",
       "      <td>0.344551</td>\n",
       "      <td>1</td>\n",
       "      <td>NaN</td>\n",
       "      <td>NaN</td>\n",
       "      <td>NaN</td>\n",
       "      <td>NaN</td>\n",
       "      <td>NaN</td>\n",
       "      <td>NaN</td>\n",
       "      <td>NaN</td>\n",
       "      <td>...</td>\n",
       "      <td>NaN</td>\n",
       "      <td>NaN</td>\n",
       "      <td>NaN</td>\n",
       "      <td>NaN</td>\n",
       "      <td>NaN</td>\n",
       "      <td>NaN</td>\n",
       "      <td>NaN</td>\n",
       "      <td>NaN</td>\n",
       "      <td>NaN</td>\n",
       "      <td>NaN</td>\n",
       "    </tr>\n",
       "    <tr>\n",
       "      <td>476</td>\n",
       "      <td>0.046323</td>\n",
       "      <td>0.012335</td>\n",
       "      <td>0</td>\n",
       "      <td>NaN</td>\n",
       "      <td>NaN</td>\n",
       "      <td>NaN</td>\n",
       "      <td>NaN</td>\n",
       "      <td>NaN</td>\n",
       "      <td>NaN</td>\n",
       "      <td>NaN</td>\n",
       "      <td>...</td>\n",
       "      <td>NaN</td>\n",
       "      <td>NaN</td>\n",
       "      <td>NaN</td>\n",
       "      <td>NaN</td>\n",
       "      <td>NaN</td>\n",
       "      <td>NaN</td>\n",
       "      <td>NaN</td>\n",
       "      <td>NaN</td>\n",
       "      <td>NaN</td>\n",
       "      <td>NaN</td>\n",
       "    </tr>\n",
       "    <tr>\n",
       "      <td>477</td>\n",
       "      <td>0.046323</td>\n",
       "      <td>0.038823</td>\n",
       "      <td>0</td>\n",
       "      <td>NaN</td>\n",
       "      <td>NaN</td>\n",
       "      <td>NaN</td>\n",
       "      <td>NaN</td>\n",
       "      <td>NaN</td>\n",
       "      <td>NaN</td>\n",
       "      <td>NaN</td>\n",
       "      <td>...</td>\n",
       "      <td>NaN</td>\n",
       "      <td>NaN</td>\n",
       "      <td>NaN</td>\n",
       "      <td>NaN</td>\n",
       "      <td>NaN</td>\n",
       "      <td>NaN</td>\n",
       "      <td>NaN</td>\n",
       "      <td>NaN</td>\n",
       "      <td>NaN</td>\n",
       "      <td>NaN</td>\n",
       "    </tr>\n",
       "    <tr>\n",
       "      <td>478</td>\n",
       "      <td>0.046323</td>\n",
       "      <td>0.178586</td>\n",
       "      <td>1</td>\n",
       "      <td>NaN</td>\n",
       "      <td>NaN</td>\n",
       "      <td>NaN</td>\n",
       "      <td>NaN</td>\n",
       "      <td>NaN</td>\n",
       "      <td>NaN</td>\n",
       "      <td>NaN</td>\n",
       "      <td>...</td>\n",
       "      <td>NaN</td>\n",
       "      <td>NaN</td>\n",
       "      <td>NaN</td>\n",
       "      <td>NaN</td>\n",
       "      <td>NaN</td>\n",
       "      <td>NaN</td>\n",
       "      <td>NaN</td>\n",
       "      <td>NaN</td>\n",
       "      <td>NaN</td>\n",
       "      <td>NaN</td>\n",
       "    </tr>\n",
       "    <tr>\n",
       "      <td>479</td>\n",
       "      <td>0.046323</td>\n",
       "      <td>0.028319</td>\n",
       "      <td>0</td>\n",
       "      <td>NaN</td>\n",
       "      <td>NaN</td>\n",
       "      <td>NaN</td>\n",
       "      <td>NaN</td>\n",
       "      <td>NaN</td>\n",
       "      <td>NaN</td>\n",
       "      <td>NaN</td>\n",
       "      <td>...</td>\n",
       "      <td>NaN</td>\n",
       "      <td>NaN</td>\n",
       "      <td>NaN</td>\n",
       "      <td>NaN</td>\n",
       "      <td>NaN</td>\n",
       "      <td>NaN</td>\n",
       "      <td>NaN</td>\n",
       "      <td>NaN</td>\n",
       "      <td>NaN</td>\n",
       "      <td>NaN</td>\n",
       "    </tr>\n",
       "    <tr>\n",
       "      <td>480</td>\n",
       "      <td>0.046323</td>\n",
       "      <td>0.130001</td>\n",
       "      <td>1</td>\n",
       "      <td>NaN</td>\n",
       "      <td>NaN</td>\n",
       "      <td>NaN</td>\n",
       "      <td>NaN</td>\n",
       "      <td>NaN</td>\n",
       "      <td>NaN</td>\n",
       "      <td>NaN</td>\n",
       "      <td>...</td>\n",
       "      <td>NaN</td>\n",
       "      <td>NaN</td>\n",
       "      <td>NaN</td>\n",
       "      <td>NaN</td>\n",
       "      <td>NaN</td>\n",
       "      <td>NaN</td>\n",
       "      <td>NaN</td>\n",
       "      <td>NaN</td>\n",
       "      <td>NaN</td>\n",
       "      <td>NaN</td>\n",
       "    </tr>\n",
       "    <tr>\n",
       "      <td>481</td>\n",
       "      <td>0.046323</td>\n",
       "      <td>0.019433</td>\n",
       "      <td>0</td>\n",
       "      <td>NaN</td>\n",
       "      <td>NaN</td>\n",
       "      <td>NaN</td>\n",
       "      <td>NaN</td>\n",
       "      <td>NaN</td>\n",
       "      <td>NaN</td>\n",
       "      <td>NaN</td>\n",
       "      <td>...</td>\n",
       "      <td>NaN</td>\n",
       "      <td>NaN</td>\n",
       "      <td>NaN</td>\n",
       "      <td>NaN</td>\n",
       "      <td>NaN</td>\n",
       "      <td>NaN</td>\n",
       "      <td>NaN</td>\n",
       "      <td>NaN</td>\n",
       "      <td>NaN</td>\n",
       "      <td>NaN</td>\n",
       "    </tr>\n",
       "    <tr>\n",
       "      <td>482</td>\n",
       "      <td>0.046323</td>\n",
       "      <td>0.105765</td>\n",
       "      <td>1</td>\n",
       "      <td>NaN</td>\n",
       "      <td>NaN</td>\n",
       "      <td>NaN</td>\n",
       "      <td>NaN</td>\n",
       "      <td>NaN</td>\n",
       "      <td>NaN</td>\n",
       "      <td>NaN</td>\n",
       "      <td>...</td>\n",
       "      <td>NaN</td>\n",
       "      <td>NaN</td>\n",
       "      <td>NaN</td>\n",
       "      <td>NaN</td>\n",
       "      <td>NaN</td>\n",
       "      <td>NaN</td>\n",
       "      <td>NaN</td>\n",
       "      <td>NaN</td>\n",
       "      <td>NaN</td>\n",
       "      <td>NaN</td>\n",
       "    </tr>\n",
       "    <tr>\n",
       "      <td>483</td>\n",
       "      <td>0.046323</td>\n",
       "      <td>-0.023500</td>\n",
       "      <td>0</td>\n",
       "      <td>NaN</td>\n",
       "      <td>NaN</td>\n",
       "      <td>NaN</td>\n",
       "      <td>NaN</td>\n",
       "      <td>NaN</td>\n",
       "      <td>NaN</td>\n",
       "      <td>NaN</td>\n",
       "      <td>...</td>\n",
       "      <td>NaN</td>\n",
       "      <td>NaN</td>\n",
       "      <td>NaN</td>\n",
       "      <td>NaN</td>\n",
       "      <td>NaN</td>\n",
       "      <td>NaN</td>\n",
       "      <td>NaN</td>\n",
       "      <td>NaN</td>\n",
       "      <td>NaN</td>\n",
       "      <td>NaN</td>\n",
       "    </tr>\n",
       "    <tr>\n",
       "      <td>484</td>\n",
       "      <td>0.046323</td>\n",
       "      <td>0.173935</td>\n",
       "      <td>1</td>\n",
       "      <td>NaN</td>\n",
       "      <td>NaN</td>\n",
       "      <td>NaN</td>\n",
       "      <td>NaN</td>\n",
       "      <td>NaN</td>\n",
       "      <td>NaN</td>\n",
       "      <td>NaN</td>\n",
       "      <td>...</td>\n",
       "      <td>NaN</td>\n",
       "      <td>NaN</td>\n",
       "      <td>NaN</td>\n",
       "      <td>NaN</td>\n",
       "      <td>NaN</td>\n",
       "      <td>NaN</td>\n",
       "      <td>NaN</td>\n",
       "      <td>NaN</td>\n",
       "      <td>NaN</td>\n",
       "      <td>NaN</td>\n",
       "    </tr>\n",
       "    <tr>\n",
       "      <td>485</td>\n",
       "      <td>0.046323</td>\n",
       "      <td>-0.434756</td>\n",
       "      <td>0</td>\n",
       "      <td>NaN</td>\n",
       "      <td>NaN</td>\n",
       "      <td>NaN</td>\n",
       "      <td>NaN</td>\n",
       "      <td>NaN</td>\n",
       "      <td>NaN</td>\n",
       "      <td>NaN</td>\n",
       "      <td>...</td>\n",
       "      <td>NaN</td>\n",
       "      <td>NaN</td>\n",
       "      <td>NaN</td>\n",
       "      <td>NaN</td>\n",
       "      <td>NaN</td>\n",
       "      <td>NaN</td>\n",
       "      <td>NaN</td>\n",
       "      <td>NaN</td>\n",
       "      <td>NaN</td>\n",
       "      <td>NaN</td>\n",
       "    </tr>\n",
       "    <tr>\n",
       "      <td>486</td>\n",
       "      <td>0.046323</td>\n",
       "      <td>-0.140466</td>\n",
       "      <td>0</td>\n",
       "      <td>NaN</td>\n",
       "      <td>NaN</td>\n",
       "      <td>NaN</td>\n",
       "      <td>NaN</td>\n",
       "      <td>NaN</td>\n",
       "      <td>NaN</td>\n",
       "      <td>NaN</td>\n",
       "      <td>...</td>\n",
       "      <td>NaN</td>\n",
       "      <td>NaN</td>\n",
       "      <td>NaN</td>\n",
       "      <td>NaN</td>\n",
       "      <td>NaN</td>\n",
       "      <td>NaN</td>\n",
       "      <td>NaN</td>\n",
       "      <td>NaN</td>\n",
       "      <td>NaN</td>\n",
       "      <td>NaN</td>\n",
       "    </tr>\n",
       "    <tr>\n",
       "      <td>487</td>\n",
       "      <td>0.046323</td>\n",
       "      <td>0.187396</td>\n",
       "      <td>1</td>\n",
       "      <td>NaN</td>\n",
       "      <td>NaN</td>\n",
       "      <td>NaN</td>\n",
       "      <td>NaN</td>\n",
       "      <td>NaN</td>\n",
       "      <td>NaN</td>\n",
       "      <td>NaN</td>\n",
       "      <td>...</td>\n",
       "      <td>NaN</td>\n",
       "      <td>NaN</td>\n",
       "      <td>NaN</td>\n",
       "      <td>NaN</td>\n",
       "      <td>NaN</td>\n",
       "      <td>NaN</td>\n",
       "      <td>NaN</td>\n",
       "      <td>NaN</td>\n",
       "      <td>NaN</td>\n",
       "      <td>NaN</td>\n",
       "    </tr>\n",
       "  </tbody>\n",
       "</table>\n",
       "<p>15 rows × 28 columns</p>\n",
       "</div>"
      ],
      "text/plain": [
       "     XLV_Return  YearlyReturn  win  Current Ratio  Debt Ratio  \\\n",
       "473    0.046323     -0.555415    0            NaN         NaN   \n",
       "474    0.046323     -0.006543    0            NaN         NaN   \n",
       "475    0.046323      0.344551    1            NaN         NaN   \n",
       "476    0.046323      0.012335    0            NaN         NaN   \n",
       "477    0.046323      0.038823    0            NaN         NaN   \n",
       "478    0.046323      0.178586    1            NaN         NaN   \n",
       "479    0.046323      0.028319    0            NaN         NaN   \n",
       "480    0.046323      0.130001    1            NaN         NaN   \n",
       "481    0.046323      0.019433    0            NaN         NaN   \n",
       "482    0.046323      0.105765    1            NaN         NaN   \n",
       "483    0.046323     -0.023500    0            NaN         NaN   \n",
       "484    0.046323      0.173935    1            NaN         NaN   \n",
       "485    0.046323     -0.434756    0            NaN         NaN   \n",
       "486    0.046323     -0.140466    0            NaN         NaN   \n",
       "487    0.046323      0.187396    1            NaN         NaN   \n",
       "\n",
       "     Gross Profit Margin  Net Profit Margin  Return on Assets  \\\n",
       "473                  NaN                NaN               NaN   \n",
       "474                  NaN                NaN               NaN   \n",
       "475                  NaN                NaN               NaN   \n",
       "476                  NaN                NaN               NaN   \n",
       "477                  NaN                NaN               NaN   \n",
       "478                  NaN                NaN               NaN   \n",
       "479                  NaN                NaN               NaN   \n",
       "480                  NaN                NaN               NaN   \n",
       "481                  NaN                NaN               NaN   \n",
       "482                  NaN                NaN               NaN   \n",
       "483                  NaN                NaN               NaN   \n",
       "484                  NaN                NaN               NaN   \n",
       "485                  NaN                NaN               NaN   \n",
       "486                  NaN                NaN               NaN   \n",
       "487                  NaN                NaN               NaN   \n",
       "\n",
       "     Return on Equity  Earnings Growth  ...  Dividend Yield  Earnings Yield  \\\n",
       "473               NaN              NaN  ...             NaN             NaN   \n",
       "474               NaN              NaN  ...             NaN             NaN   \n",
       "475               NaN              NaN  ...             NaN             NaN   \n",
       "476               NaN              NaN  ...             NaN             NaN   \n",
       "477               NaN              NaN  ...             NaN             NaN   \n",
       "478               NaN              NaN  ...             NaN             NaN   \n",
       "479               NaN              NaN  ...             NaN             NaN   \n",
       "480               NaN              NaN  ...             NaN             NaN   \n",
       "481               NaN              NaN  ...             NaN             NaN   \n",
       "482               NaN              NaN  ...             NaN             NaN   \n",
       "483               NaN              NaN  ...             NaN             NaN   \n",
       "484               NaN              NaN  ...             NaN             NaN   \n",
       "485               NaN              NaN  ...             NaN             NaN   \n",
       "486               NaN              NaN  ...             NaN             NaN   \n",
       "487               NaN              NaN  ...             NaN             NaN   \n",
       "\n",
       "     FCF Yield  Market-Cap  P/Book  P/E  P/FCF  P/NCAV  P/NetNet  P/Sales  \n",
       "473        NaN         NaN     NaN  NaN    NaN     NaN       NaN      NaN  \n",
       "474        NaN         NaN     NaN  NaN    NaN     NaN       NaN      NaN  \n",
       "475        NaN         NaN     NaN  NaN    NaN     NaN       NaN      NaN  \n",
       "476        NaN         NaN     NaN  NaN    NaN     NaN       NaN      NaN  \n",
       "477        NaN         NaN     NaN  NaN    NaN     NaN       NaN      NaN  \n",
       "478        NaN         NaN     NaN  NaN    NaN     NaN       NaN      NaN  \n",
       "479        NaN         NaN     NaN  NaN    NaN     NaN       NaN      NaN  \n",
       "480        NaN         NaN     NaN  NaN    NaN     NaN       NaN      NaN  \n",
       "481        NaN         NaN     NaN  NaN    NaN     NaN       NaN      NaN  \n",
       "482        NaN         NaN     NaN  NaN    NaN     NaN       NaN      NaN  \n",
       "483        NaN         NaN     NaN  NaN    NaN     NaN       NaN      NaN  \n",
       "484        NaN         NaN     NaN  NaN    NaN     NaN       NaN      NaN  \n",
       "485        NaN         NaN     NaN  NaN    NaN     NaN       NaN      NaN  \n",
       "486        NaN         NaN     NaN  NaN    NaN     NaN       NaN      NaN  \n",
       "487        NaN         NaN     NaN  NaN    NaN     NaN       NaN      NaN  \n",
       "\n",
       "[15 rows x 28 columns]"
      ]
     },
     "execution_count": 148,
     "metadata": {},
     "output_type": "execute_result"
    }
   ],
   "source": [
    "final_df.tail(15)"
   ]
  },
  {
   "cell_type": "code",
   "execution_count": 149,
   "metadata": {},
   "outputs": [
    {
     "data": {
      "text/plain": [
       "(488, 28)"
      ]
     },
     "execution_count": 149,
     "metadata": {},
     "output_type": "execute_result"
    }
   ],
   "source": [
    "final_df.shape"
   ]
  },
  {
   "cell_type": "code",
   "execution_count": 150,
   "metadata": {},
   "outputs": [],
   "source": [
    "df_signals = df_signals.reset_index(drop = True)"
   ]
  },
  {
   "cell_type": "code",
   "execution_count": 151,
   "metadata": {
    "scrolled": true
   },
   "outputs": [
    {
     "name": "stdout",
     "output_type": "stream",
     "text": [
      "(61, 3)\n",
      "(58, 25)\n"
     ]
    }
   ],
   "source": [
    "print(yearly_returns_latest_df.shape)\n",
    "print(df_signals.shape)"
   ]
  },
  {
   "cell_type": "code",
   "execution_count": 152,
   "metadata": {},
   "outputs": [
    {
     "data": {
      "text/html": [
       "<div>\n",
       "<style scoped>\n",
       "    .dataframe tbody tr th:only-of-type {\n",
       "        vertical-align: middle;\n",
       "    }\n",
       "\n",
       "    .dataframe tbody tr th {\n",
       "        vertical-align: top;\n",
       "    }\n",
       "\n",
       "    .dataframe thead th {\n",
       "        text-align: right;\n",
       "    }\n",
       "</style>\n",
       "<table border=\"1\" class=\"dataframe\">\n",
       "  <thead>\n",
       "    <tr style=\"text-align: right;\">\n",
       "      <th></th>\n",
       "      <th>Current Ratio</th>\n",
       "      <th>Debt Ratio</th>\n",
       "      <th>Gross Profit Margin</th>\n",
       "      <th>Net Profit Margin</th>\n",
       "      <th>Return on Assets</th>\n",
       "      <th>Return on Equity</th>\n",
       "      <th>Earnings Growth</th>\n",
       "      <th>Earnings Growth QOQ</th>\n",
       "      <th>Earnings Growth YOY</th>\n",
       "      <th>FCF Growth</th>\n",
       "      <th>...</th>\n",
       "      <th>Dividend Yield</th>\n",
       "      <th>Earnings Yield</th>\n",
       "      <th>FCF Yield</th>\n",
       "      <th>Market-Cap</th>\n",
       "      <th>P/Book</th>\n",
       "      <th>P/E</th>\n",
       "      <th>P/FCF</th>\n",
       "      <th>P/NCAV</th>\n",
       "      <th>P/NetNet</th>\n",
       "      <th>P/Sales</th>\n",
       "    </tr>\n",
       "  </thead>\n",
       "  <tbody>\n",
       "    <tr>\n",
       "      <td>0</td>\n",
       "      <td>3.409660</td>\n",
       "      <td>0.210631</td>\n",
       "      <td>0.547121</td>\n",
       "      <td>0.222554</td>\n",
       "      <td>0.127163</td>\n",
       "      <td>0.241932</td>\n",
       "      <td>3.713080</td>\n",
       "      <td>-0.638889</td>\n",
       "      <td>-0.112195</td>\n",
       "      <td>0.076364</td>\n",
       "      <td>...</td>\n",
       "      <td>0.007856</td>\n",
       "      <td>0.044098</td>\n",
       "      <td>0.035057</td>\n",
       "      <td>2.533005e+10</td>\n",
       "      <td>4.942449</td>\n",
       "      <td>22.676858</td>\n",
       "      <td>28.524831</td>\n",
       "      <td>-298.000588</td>\n",
       "      <td>-31.692274</td>\n",
       "      <td>5.046832</td>\n",
       "    </tr>\n",
       "    <tr>\n",
       "      <td>1</td>\n",
       "      <td>0.891329</td>\n",
       "      <td>0.652060</td>\n",
       "      <td>0.774093</td>\n",
       "      <td>0.126226</td>\n",
       "      <td>0.066806</td>\n",
       "      <td>-1.220148</td>\n",
       "      <td>-0.361451</td>\n",
       "      <td>-0.698290</td>\n",
       "      <td>-0.626324</td>\n",
       "      <td>0.179677</td>\n",
       "      <td>...</td>\n",
       "      <td>0.047074</td>\n",
       "      <td>0.031821</td>\n",
       "      <td>0.098677</td>\n",
       "      <td>1.294123e+11</td>\n",
       "      <td>-15.107669</td>\n",
       "      <td>31.426005</td>\n",
       "      <td>10.134087</td>\n",
       "      <td>-2.557151</td>\n",
       "      <td>-2.343025</td>\n",
       "      <td>3.966782</td>\n",
       "    </tr>\n",
       "    <tr>\n",
       "      <td>2</td>\n",
       "      <td>0.951818</td>\n",
       "      <td>0.117106</td>\n",
       "      <td>0.028131</td>\n",
       "      <td>0.005394</td>\n",
       "      <td>0.024955</td>\n",
       "      <td>0.291836</td>\n",
       "      <td>-0.115218</td>\n",
       "      <td>10.128027</td>\n",
       "      <td>0.094812</td>\n",
       "      <td>0.131540</td>\n",
       "      <td>...</td>\n",
       "      <td>0.017857</td>\n",
       "      <td>0.050638</td>\n",
       "      <td>0.106873</td>\n",
       "      <td>1.887962e+10</td>\n",
       "      <td>6.076093</td>\n",
       "      <td>19.747852</td>\n",
       "      <td>9.356874</td>\n",
       "      <td>-2.368965</td>\n",
       "      <td>-1.063274</td>\n",
       "      <td>0.106515</td>\n",
       "    </tr>\n",
       "    <tr>\n",
       "      <td>3</td>\n",
       "      <td>5.768848</td>\n",
       "      <td>0.022977</td>\n",
       "      <td>0.828339</td>\n",
       "      <td>0.269196</td>\n",
       "      <td>0.248902</td>\n",
       "      <td>0.278474</td>\n",
       "      <td>0.159230</td>\n",
       "      <td>-0.853008</td>\n",
       "      <td>-0.739242</td>\n",
       "      <td>0.567834</td>\n",
       "      <td>...</td>\n",
       "      <td>NaN</td>\n",
       "      <td>0.025677</td>\n",
       "      <td>0.028213</td>\n",
       "      <td>8.599706e+09</td>\n",
       "      <td>8.673807</td>\n",
       "      <td>38.944946</td>\n",
       "      <td>35.444143</td>\n",
       "      <td>16.713355</td>\n",
       "      <td>20.077959</td>\n",
       "      <td>10.483816</td>\n",
       "    </tr>\n",
       "    <tr>\n",
       "      <td>4</td>\n",
       "      <td>1.581148</td>\n",
       "      <td>0.281822</td>\n",
       "      <td>0.583407</td>\n",
       "      <td>0.085343</td>\n",
       "      <td>0.036977</td>\n",
       "      <td>0.082972</td>\n",
       "      <td>4.508403</td>\n",
       "      <td>0.027523</td>\n",
       "      <td>0.607656</td>\n",
       "      <td>-0.103907</td>\n",
       "      <td>...</td>\n",
       "      <td>0.013805</td>\n",
       "      <td>0.017674</td>\n",
       "      <td>0.029997</td>\n",
       "      <td>1.483499e+11</td>\n",
       "      <td>4.765649</td>\n",
       "      <td>56.578906</td>\n",
       "      <td>33.337054</td>\n",
       "      <td>-6.721180</td>\n",
       "      <td>-5.460313</td>\n",
       "      <td>4.828626</td>\n",
       "    </tr>\n",
       "  </tbody>\n",
       "</table>\n",
       "<p>5 rows × 25 columns</p>\n",
       "</div>"
      ],
      "text/plain": [
       "   Current Ratio  Debt Ratio  Gross Profit Margin  Net Profit Margin  \\\n",
       "0       3.409660    0.210631             0.547121           0.222554   \n",
       "1       0.891329    0.652060             0.774093           0.126226   \n",
       "2       0.951818    0.117106             0.028131           0.005394   \n",
       "3       5.768848    0.022977             0.828339           0.269196   \n",
       "4       1.581148    0.281822             0.583407           0.085343   \n",
       "\n",
       "   Return on Assets  Return on Equity  Earnings Growth  Earnings Growth QOQ  \\\n",
       "0          0.127163          0.241932         3.713080            -0.638889   \n",
       "1          0.066806         -1.220148        -0.361451            -0.698290   \n",
       "2          0.024955          0.291836        -0.115218            10.128027   \n",
       "3          0.248902          0.278474         0.159230            -0.853008   \n",
       "4          0.036977          0.082972         4.508403             0.027523   \n",
       "\n",
       "   Earnings Growth YOY  FCF Growth  ...  Dividend Yield  Earnings Yield  \\\n",
       "0            -0.112195    0.076364  ...        0.007856        0.044098   \n",
       "1            -0.626324    0.179677  ...        0.047074        0.031821   \n",
       "2             0.094812    0.131540  ...        0.017857        0.050638   \n",
       "3            -0.739242    0.567834  ...             NaN        0.025677   \n",
       "4             0.607656   -0.103907  ...        0.013805        0.017674   \n",
       "\n",
       "   FCF Yield    Market-Cap     P/Book        P/E      P/FCF      P/NCAV  \\\n",
       "0   0.035057  2.533005e+10   4.942449  22.676858  28.524831 -298.000588   \n",
       "1   0.098677  1.294123e+11 -15.107669  31.426005  10.134087   -2.557151   \n",
       "2   0.106873  1.887962e+10   6.076093  19.747852   9.356874   -2.368965   \n",
       "3   0.028213  8.599706e+09   8.673807  38.944946  35.444143   16.713355   \n",
       "4   0.029997  1.483499e+11   4.765649  56.578906  33.337054   -6.721180   \n",
       "\n",
       "    P/NetNet    P/Sales  \n",
       "0 -31.692274   5.046832  \n",
       "1  -2.343025   3.966782  \n",
       "2  -1.063274   0.106515  \n",
       "3  20.077959  10.483816  \n",
       "4  -5.460313   4.828626  \n",
       "\n",
       "[5 rows x 25 columns]"
      ]
     },
     "execution_count": 152,
     "metadata": {},
     "output_type": "execute_result"
    }
   ],
   "source": [
    "df_signals.head()"
   ]
  },
  {
   "cell_type": "code",
   "execution_count": 153,
   "metadata": {
    "scrolled": true
   },
   "outputs": [
    {
     "data": {
      "text/plain": [
       "(61, 28)"
      ]
     },
     "execution_count": 153,
     "metadata": {},
     "output_type": "execute_result"
    }
   ],
   "source": [
    "final_test_df= pd.concat([yearly_returns_latest_df, df_signals], axis=1)\n",
    "final_test_df.shape\n",
    "# df_signals.head()"
   ]
  },
  {
   "cell_type": "markdown",
   "metadata": {},
   "source": [
    "Output of the previous section are `final_df` (for train data) `final_test_df` (for test data), both including `win` column"
   ]
  },
  {
   "cell_type": "code",
   "execution_count": 154,
   "metadata": {},
   "outputs": [],
   "source": [
    "# final_df.isnull().sum()"
   ]
  },
  {
   "cell_type": "code",
   "execution_count": 155,
   "metadata": {},
   "outputs": [],
   "source": [
    "# df_signals_list[5].isnull().sum()"
   ]
  },
  {
   "cell_type": "markdown",
   "metadata": {},
   "source": [
    "# Add additional features"
   ]
  },
  {
   "cell_type": "code",
   "execution_count": 156,
   "metadata": {},
   "outputs": [],
   "source": [
    "# NLP, FRED"
   ]
  },
  {
   "cell_type": "code",
   "execution_count": null,
   "metadata": {},
   "outputs": [],
   "source": []
  },
  {
   "cell_type": "markdown",
   "metadata": {},
   "source": [
    "# Data discovery and visualizations"
   ]
  },
  {
   "cell_type": "code",
   "execution_count": 157,
   "metadata": {},
   "outputs": [],
   "source": [
    "master_df = pd.concat([final_df, final_test_df], axis = 0)\n",
    "# master_df.shape"
   ]
  },
  {
   "cell_type": "code",
   "execution_count": 158,
   "metadata": {},
   "outputs": [
    {
     "data": {
      "text/plain": [
       "XLV_Return             61\n",
       "YearlyReturn           75\n",
       "win                     0\n",
       "Current Ratio          37\n",
       "Debt Ratio             39\n",
       "Gross Profit Margin    37\n",
       "Net Profit Margin      37\n",
       "Return on Assets       37\n",
       "Return on Equity       37\n",
       "Earnings Growth        37\n",
       "Earnings Growth QOQ    38\n",
       "Earnings Growth YOY    39\n",
       "FCF Growth             37\n",
       "FCF Growth QOQ         38\n",
       "FCF Growth YOY         39\n",
       "Sales Growth           37\n",
       "Sales Growth QOQ       38\n",
       "Sales Growth YOY       39\n",
       "Dividend Yield         59\n",
       "Earnings Yield         37\n",
       "FCF Yield              37\n",
       "Market-Cap             37\n",
       "P/Book                 37\n",
       "P/E                    37\n",
       "P/FCF                  37\n",
       "P/NCAV                 37\n",
       "P/NetNet               37\n",
       "P/Sales                37\n",
       "dtype: int64"
      ]
     },
     "execution_count": 158,
     "metadata": {},
     "output_type": "execute_result"
    }
   ],
   "source": [
    "master_df.isnull().sum()"
   ]
  },
  {
   "cell_type": "code",
   "execution_count": 159,
   "metadata": {},
   "outputs": [],
   "source": [
    "# master_df.describe()"
   ]
  },
  {
   "cell_type": "code",
   "execution_count": 160,
   "metadata": {},
   "outputs": [],
   "source": [
    "# correlations = master_df.corr()"
   ]
  },
  {
   "cell_type": "code",
   "execution_count": 161,
   "metadata": {},
   "outputs": [],
   "source": [
    "# fig = pyplot.figure()\n",
    "# ax = fig.add_subplot(111)\n",
    "# cax = ax.matshow(correlations, vmin=-1, vmax=1)\n",
    "# fig.colorbar(cax)\n",
    "# pyplot.show()"
   ]
  },
  {
   "cell_type": "markdown",
   "metadata": {},
   "source": [
    "# Feature Engineering  "
   ]
  },
  {
   "cell_type": "code",
   "execution_count": 162,
   "metadata": {},
   "outputs": [],
   "source": [
    "# Feature selection - Univariate, recursive feature elimination, PCA and feature importance"
   ]
  },
  {
   "cell_type": "code",
   "execution_count": 163,
   "metadata": {},
   "outputs": [],
   "source": [
    "# master_df = master_df[~master_df.isin([np.nan, np.inf, -np.inf]).any(1)]\n",
    "# master_df.shape # 550*25\n",
    "# X = master_df.iloc[:,1:]\n",
    "# Y = master_df['win']"
   ]
  },
  {
   "cell_type": "code",
   "execution_count": 164,
   "metadata": {},
   "outputs": [],
   "source": [
    "# from sklearn.ensemble import ExtraTreesClassifier\n",
    "# import matplotlib.pyplot as plt\n",
    "\n",
    "# model = ExtraTreesClassifier()\n",
    "# model.fit(X,Y)\n",
    "# print(model.feature_importances_) #use inbuilt class feature_importances of tree based classifiers\n",
    "# #plot graph of feature importances for better visualization\n",
    "# feat_importances = pd.Series(model.feature_importances_, index=X.columns)\n",
    "# feat_importances.nlargest(10).plot(kind='barh')\n",
    "# plt.show()"
   ]
  },
  {
   "cell_type": "code",
   "execution_count": 165,
   "metadata": {},
   "outputs": [],
   "source": [
    "# univariate - non-negative input\n",
    "# test = SelectKBest(score_func=chi2, k=4)\n",
    "# fit = test.fit(X, Y)\n",
    "# set_printoptions(precision=3)\n",
    "# print(fit.scores_)\n",
    "# features = fit.transform(X)\n",
    "# # summarize selected features\n",
    "# print(features[0:5,:])"
   ]
  },
  {
   "cell_type": "code",
   "execution_count": 166,
   "metadata": {},
   "outputs": [],
   "source": [
    "# PCA\n",
    "# pca = PCA(n_components=3)\n",
    "# fit = pca.fit(X)"
   ]
  },
  {
   "cell_type": "code",
   "execution_count": 167,
   "metadata": {},
   "outputs": [],
   "source": [
    "# feature extraction\n",
    "# model = LogisticRegression()\n",
    "# rfe = RFE(model, 3)\n",
    "# fit = rfe.fit(X, Y)\n",
    "# print(\"Num Features: %d\") % fit.n_features_\n",
    "# print(\"Selected Features: %s\") % fit.support_\n",
    "# print(\"Feature Ranking: %s\") % fit.ranking_"
   ]
  },
  {
   "cell_type": "markdown",
   "metadata": {},
   "source": [
    "# Create target and features for train and test"
   ]
  },
  {
   "cell_type": "code",
   "execution_count": 168,
   "metadata": {},
   "outputs": [
    {
     "name": "stdout",
     "output_type": "stream",
     "text": [
      "(488, 28)\n",
      "(61, 28)\n"
     ]
    }
   ],
   "source": [
    "print(final_df.shape)\n",
    "print(final_test_df.shape)"
   ]
  },
  {
   "cell_type": "code",
   "execution_count": 169,
   "metadata": {},
   "outputs": [],
   "source": [
    "names = list(final_df.columns)\n",
    "names[0], names[2] = names[2], names[0]\n",
    "final_df = final_df.reindex(names, axis=1)\n",
    "\n",
    "names = list(final_test_df.columns)\n",
    "names[0], names[2] = names[2], names[0]\n",
    "final_test_df = final_test_df.reindex(names, axis=1)"
   ]
  },
  {
   "cell_type": "code",
   "execution_count": 170,
   "metadata": {
    "scrolled": true
   },
   "outputs": [
    {
     "data": {
      "text/html": [
       "<div>\n",
       "<style scoped>\n",
       "    .dataframe tbody tr th:only-of-type {\n",
       "        vertical-align: middle;\n",
       "    }\n",
       "\n",
       "    .dataframe tbody tr th {\n",
       "        vertical-align: top;\n",
       "    }\n",
       "\n",
       "    .dataframe thead th {\n",
       "        text-align: right;\n",
       "    }\n",
       "</style>\n",
       "<table border=\"1\" class=\"dataframe\">\n",
       "  <thead>\n",
       "    <tr style=\"text-align: right;\">\n",
       "      <th></th>\n",
       "      <th>win</th>\n",
       "      <th>YearlyReturn</th>\n",
       "      <th>XLV_Return</th>\n",
       "      <th>Current Ratio</th>\n",
       "      <th>Debt Ratio</th>\n",
       "      <th>Gross Profit Margin</th>\n",
       "      <th>Net Profit Margin</th>\n",
       "      <th>Return on Assets</th>\n",
       "      <th>Return on Equity</th>\n",
       "      <th>Earnings Growth</th>\n",
       "      <th>...</th>\n",
       "      <th>Dividend Yield</th>\n",
       "      <th>Earnings Yield</th>\n",
       "      <th>FCF Yield</th>\n",
       "      <th>Market-Cap</th>\n",
       "      <th>P/Book</th>\n",
       "      <th>P/E</th>\n",
       "      <th>P/FCF</th>\n",
       "      <th>P/NCAV</th>\n",
       "      <th>P/NetNet</th>\n",
       "      <th>P/Sales</th>\n",
       "    </tr>\n",
       "  </thead>\n",
       "  <tbody>\n",
       "    <tr>\n",
       "      <td>0</td>\n",
       "      <td>1</td>\n",
       "      <td>0.252742</td>\n",
       "      <td>0.183678</td>\n",
       "      <td>3.409660</td>\n",
       "      <td>0.210631</td>\n",
       "      <td>0.547121</td>\n",
       "      <td>0.222554</td>\n",
       "      <td>0.127163</td>\n",
       "      <td>0.241932</td>\n",
       "      <td>3.713080</td>\n",
       "      <td>...</td>\n",
       "      <td>0.007856</td>\n",
       "      <td>0.044098</td>\n",
       "      <td>0.035057</td>\n",
       "      <td>2.533005e+10</td>\n",
       "      <td>4.942449</td>\n",
       "      <td>22.676858</td>\n",
       "      <td>28.524831</td>\n",
       "      <td>-298.000588</td>\n",
       "      <td>-31.692274</td>\n",
       "      <td>5.046832</td>\n",
       "    </tr>\n",
       "    <tr>\n",
       "      <td>1</td>\n",
       "      <td>0</td>\n",
       "      <td>-0.037097</td>\n",
       "      <td>0.183678</td>\n",
       "      <td>0.891329</td>\n",
       "      <td>0.652060</td>\n",
       "      <td>0.774093</td>\n",
       "      <td>0.126226</td>\n",
       "      <td>0.066806</td>\n",
       "      <td>-1.220148</td>\n",
       "      <td>-0.361451</td>\n",
       "      <td>...</td>\n",
       "      <td>0.047074</td>\n",
       "      <td>0.031821</td>\n",
       "      <td>0.098677</td>\n",
       "      <td>1.294123e+11</td>\n",
       "      <td>-15.107669</td>\n",
       "      <td>31.426005</td>\n",
       "      <td>10.134087</td>\n",
       "      <td>-2.557151</td>\n",
       "      <td>-2.343025</td>\n",
       "      <td>3.966782</td>\n",
       "    </tr>\n",
       "    <tr>\n",
       "      <td>2</td>\n",
       "      <td>0</td>\n",
       "      <td>0.126344</td>\n",
       "      <td>0.183678</td>\n",
       "      <td>0.951818</td>\n",
       "      <td>0.117106</td>\n",
       "      <td>0.028131</td>\n",
       "      <td>0.005394</td>\n",
       "      <td>0.024955</td>\n",
       "      <td>0.291836</td>\n",
       "      <td>-0.115218</td>\n",
       "      <td>...</td>\n",
       "      <td>0.017857</td>\n",
       "      <td>0.050638</td>\n",
       "      <td>0.106873</td>\n",
       "      <td>1.887962e+10</td>\n",
       "      <td>6.076093</td>\n",
       "      <td>19.747852</td>\n",
       "      <td>9.356874</td>\n",
       "      <td>-2.368965</td>\n",
       "      <td>-1.063274</td>\n",
       "      <td>0.106515</td>\n",
       "    </tr>\n",
       "    <tr>\n",
       "      <td>3</td>\n",
       "      <td>0</td>\n",
       "      <td>-0.478741</td>\n",
       "      <td>0.183678</td>\n",
       "      <td>5.768848</td>\n",
       "      <td>0.022977</td>\n",
       "      <td>0.828339</td>\n",
       "      <td>0.269196</td>\n",
       "      <td>0.248902</td>\n",
       "      <td>0.278474</td>\n",
       "      <td>0.159230</td>\n",
       "      <td>...</td>\n",
       "      <td>NaN</td>\n",
       "      <td>0.025677</td>\n",
       "      <td>0.028213</td>\n",
       "      <td>8.599706e+09</td>\n",
       "      <td>8.673807</td>\n",
       "      <td>38.944946</td>\n",
       "      <td>35.444143</td>\n",
       "      <td>16.713355</td>\n",
       "      <td>20.077959</td>\n",
       "      <td>10.483816</td>\n",
       "    </tr>\n",
       "    <tr>\n",
       "      <td>4</td>\n",
       "      <td>1</td>\n",
       "      <td>0.207659</td>\n",
       "      <td>0.183678</td>\n",
       "      <td>1.581148</td>\n",
       "      <td>0.281822</td>\n",
       "      <td>0.583407</td>\n",
       "      <td>0.085343</td>\n",
       "      <td>0.036977</td>\n",
       "      <td>0.082972</td>\n",
       "      <td>4.508403</td>\n",
       "      <td>...</td>\n",
       "      <td>0.013805</td>\n",
       "      <td>0.017674</td>\n",
       "      <td>0.029997</td>\n",
       "      <td>1.483499e+11</td>\n",
       "      <td>4.765649</td>\n",
       "      <td>56.578906</td>\n",
       "      <td>33.337054</td>\n",
       "      <td>-6.721180</td>\n",
       "      <td>-5.460313</td>\n",
       "      <td>4.828626</td>\n",
       "    </tr>\n",
       "  </tbody>\n",
       "</table>\n",
       "<p>5 rows × 28 columns</p>\n",
       "</div>"
      ],
      "text/plain": [
       "   win  YearlyReturn  XLV_Return  Current Ratio  Debt Ratio  \\\n",
       "0    1      0.252742    0.183678       3.409660    0.210631   \n",
       "1    0     -0.037097    0.183678       0.891329    0.652060   \n",
       "2    0      0.126344    0.183678       0.951818    0.117106   \n",
       "3    0     -0.478741    0.183678       5.768848    0.022977   \n",
       "4    1      0.207659    0.183678       1.581148    0.281822   \n",
       "\n",
       "   Gross Profit Margin  Net Profit Margin  Return on Assets  Return on Equity  \\\n",
       "0             0.547121           0.222554          0.127163          0.241932   \n",
       "1             0.774093           0.126226          0.066806         -1.220148   \n",
       "2             0.028131           0.005394          0.024955          0.291836   \n",
       "3             0.828339           0.269196          0.248902          0.278474   \n",
       "4             0.583407           0.085343          0.036977          0.082972   \n",
       "\n",
       "   Earnings Growth  ...  Dividend Yield  Earnings Yield  FCF Yield  \\\n",
       "0         3.713080  ...        0.007856        0.044098   0.035057   \n",
       "1        -0.361451  ...        0.047074        0.031821   0.098677   \n",
       "2        -0.115218  ...        0.017857        0.050638   0.106873   \n",
       "3         0.159230  ...             NaN        0.025677   0.028213   \n",
       "4         4.508403  ...        0.013805        0.017674   0.029997   \n",
       "\n",
       "     Market-Cap     P/Book        P/E      P/FCF      P/NCAV   P/NetNet  \\\n",
       "0  2.533005e+10   4.942449  22.676858  28.524831 -298.000588 -31.692274   \n",
       "1  1.294123e+11 -15.107669  31.426005  10.134087   -2.557151  -2.343025   \n",
       "2  1.887962e+10   6.076093  19.747852   9.356874   -2.368965  -1.063274   \n",
       "3  8.599706e+09   8.673807  38.944946  35.444143   16.713355  20.077959   \n",
       "4  1.483499e+11   4.765649  56.578906  33.337054   -6.721180  -5.460313   \n",
       "\n",
       "     P/Sales  \n",
       "0   5.046832  \n",
       "1   3.966782  \n",
       "2   0.106515  \n",
       "3  10.483816  \n",
       "4   4.828626  \n",
       "\n",
       "[5 rows x 28 columns]"
      ]
     },
     "execution_count": 170,
     "metadata": {},
     "output_type": "execute_result"
    }
   ],
   "source": [
    "final_test_df.head()"
   ]
  },
  {
   "cell_type": "code",
   "execution_count": 171,
   "metadata": {},
   "outputs": [],
   "source": [
    "# drop the yearly returns and market-cap\n",
    "final_df = final_df.drop(columns = [\"YearlyReturn\", \"XLV_Return\", \"Market-Cap\"])\n",
    "final_test_df = final_test_df.drop(columns = [\"YearlyReturn\", \"XLV_Return\", \"Market-Cap\"])"
   ]
  },
  {
   "cell_type": "code",
   "execution_count": 172,
   "metadata": {},
   "outputs": [],
   "source": [
    "train_array = final_df.values\n",
    "test_array = final_test_df.values"
   ]
  },
  {
   "cell_type": "code",
   "execution_count": 173,
   "metadata": {},
   "outputs": [],
   "source": [
    "Y_train = train_array[0:,0]\n",
    "Y_test = test_array[0:,0]"
   ]
  },
  {
   "cell_type": "code",
   "execution_count": 174,
   "metadata": {},
   "outputs": [],
   "source": [
    "X_train = train_array[0:,1:]\n",
    "X_test = test_array[0:,1:]"
   ]
  },
  {
   "cell_type": "code",
   "execution_count": 175,
   "metadata": {
    "scrolled": true
   },
   "outputs": [
    {
     "name": "stdout",
     "output_type": "stream",
     "text": [
      "(488, 24)\n",
      "(61, 24)\n"
     ]
    }
   ],
   "source": [
    "# np.savetxt(\"foo.csv\", array, delimiter=\",\")\n",
    "print(X_train.shape)\n",
    "print(X_test.shape)"
   ]
  },
  {
   "cell_type": "code",
   "execution_count": 176,
   "metadata": {
    "scrolled": true
   },
   "outputs": [
    {
     "data": {
      "text/plain": [
       "array([1., 0., 0., 0., 1., 1., 1., 0., 1., 0., 1., 1., 0., 1., 1., 1., 0.,\n",
       "       1., 0., 0., 1., 0., 1., 1., 1., 1., 0., 0., 1., 0., 1., 1., 0., 1.,\n",
       "       1., 1., 0., 1., 0., 1., 1., 1., 1., 0., 0., 1., 1., 0., 1., 1., 1.,\n",
       "       1., 1., 1., 1., 1., 1., 1., 1., 1., 1.])"
      ]
     },
     "execution_count": 176,
     "metadata": {},
     "output_type": "execute_result"
    }
   ],
   "source": [
    "Y_test"
   ]
  },
  {
   "cell_type": "code",
   "execution_count": 177,
   "metadata": {},
   "outputs": [],
   "source": [
    "# mask = ~np.any(np.isnan(X_train), axis=1)\n",
    "# mask_test = ~np.any(np.isnan(X_test), axis=1)\n",
    "\n",
    "# X_train = X_train[mask]\n",
    "# Y_train = Y_train[mask]\n",
    "\n",
    "# X_test = X_test[mask_test]\n",
    "# Y_test = Y_test[mask_test]"
   ]
  },
  {
   "cell_type": "code",
   "execution_count": 178,
   "metadata": {},
   "outputs": [],
   "source": [
    "## The one we use\n",
    "X_train[np.where(np.isnan(X_train))] = np.take(np.nanmedian(X_train, axis=0), np.where(np.isnan(X_train))[1])\n",
    "X_test[np.where(np.isnan(X_test))] = np.take(np.nanmedian(X_test, axis=0), np.where(np.isnan(X_test))[1])"
   ]
  },
  {
   "cell_type": "code",
   "execution_count": 179,
   "metadata": {},
   "outputs": [],
   "source": [
    "# replace posinf with max value\n",
    "X_train[np.where(np.isposinf(X_train))] = np.NINF\n",
    "X_train[np.where(np.isneginf(X_train))] = np.take(np.max(X_train, axis=0), np.where(np.isneginf(X_train))[1])"
   ]
  },
  {
   "cell_type": "code",
   "execution_count": 180,
   "metadata": {},
   "outputs": [
    {
     "data": {
      "text/plain": [
       "False"
      ]
     },
     "execution_count": 180,
     "metadata": {},
     "output_type": "execute_result"
    }
   ],
   "source": [
    "np.any(np.isnan(X_train))"
   ]
  },
  {
   "cell_type": "code",
   "execution_count": 181,
   "metadata": {},
   "outputs": [
    {
     "data": {
      "text/plain": [
       "False"
      ]
     },
     "execution_count": 181,
     "metadata": {},
     "output_type": "execute_result"
    }
   ],
   "source": [
    "np.any(np.isinf(X_train))"
   ]
  },
  {
   "cell_type": "code",
   "execution_count": 182,
   "metadata": {},
   "outputs": [],
   "source": [
    "# X_train= preprocessing.normalize(X_train, norm='l2')\n",
    "# X_test = preprocessing.normalize(X_test, norm='l2')"
   ]
  },
  {
   "cell_type": "code",
   "execution_count": 183,
   "metadata": {
    "scrolled": true
   },
   "outputs": [
    {
     "name": "stdout",
     "output_type": "stream",
     "text": [
      "(488, 24)\n",
      "(61, 24)\n"
     ]
    }
   ],
   "source": [
    "print(X_train.shape)\n",
    "print(X_test.shape)"
   ]
  },
  {
   "cell_type": "code",
   "execution_count": 184,
   "metadata": {},
   "outputs": [],
   "source": [
    "# Creating X and Y \n",
    "# X = np.append(X_train, X_test, axis=0)\n",
    "# Y = np.append(Y_train, Y_test, axis=0)\n",
    "X = X_train\n",
    "Y = Y_train"
   ]
  },
  {
   "cell_type": "markdown",
   "metadata": {},
   "source": [
    "# Model Pre-processing: Scale, standardize, normalize or binarize"
   ]
  },
  {
   "cell_type": "code",
   "execution_count": 185,
   "metadata": {},
   "outputs": [],
   "source": [
    "# Scale\n",
    "# scaler = MinMaxScaler(feature_range=(0, 1))\n",
    "# rescaledX = scaler.fit_transform(X)\n",
    "# # summarize transformed data\n",
    "# set_printoptions(precision=3)"
   ]
  },
  {
   "cell_type": "code",
   "execution_count": 186,
   "metadata": {},
   "outputs": [
    {
     "name": "stdout",
     "output_type": "stream",
     "text": [
      "[[ 5.709e-01 -2.420e-01 -1.738e-01  2.617e-01  1.349e-01  4.600e-02\n",
      "  -9.668e-02 -3.953e-02 -5.507e-03  3.317e-02 -5.764e-03 -2.063e-02\n",
      "  -2.263e-01 -2.512e-01 -4.640e-02  1.441e-03  7.504e-02  9.420e-02\n",
      "  -1.081e-01 -1.590e-01 -1.753e-02 -4.050e-02 -3.593e-01 -5.207e-01]\n",
      " [-9.960e-01 -1.152e+00 -2.338e+00 -7.154e-01  1.349e-01  4.600e-02\n",
      "  -9.668e-02 -5.919e-02 -5.748e-03  3.317e-02  6.296e-02 -5.101e-02\n",
      "  -2.263e-01 -6.703e-01 -5.640e-02 -3.820e-03  4.951e-02  1.059e-01\n",
      "  -4.656e-02 -1.454e-01 -2.022e-02 -7.070e-02 -5.136e-02 -9.168e-01]\n",
      " [-1.863e-01 -5.026e-01  6.981e-02  6.407e-02  1.349e-01  4.600e-02\n",
      "  -9.668e-02 -1.450e-01 -5.507e-03  3.317e-02 -1.734e-01 -2.063e-02\n",
      "  -2.263e-01  2.506e-01 -4.640e-02  1.441e-03  3.631e-02  7.284e-02\n",
      "  -1.290e-01 -1.378e-01 -1.209e-02 -5.779e-02 -5.134e-02 -4.523e-01]\n",
      " [-6.391e-01 -4.606e-03  7.117e-02  2.687e-02 -6.539e-02  1.034e-01\n",
      "  -9.675e-02 -3.953e-02 -5.507e-03  6.628e-02 -5.764e-03 -2.063e-02\n",
      "   6.908e-02 -2.512e-01 -4.640e-02  1.233e-01  1.251e-01  2.210e-01\n",
      "  -2.057e-01 -1.760e-01 -3.197e-02 -5.988e-02 -5.113e-02 -6.964e-01]\n",
      " [-1.863e-01 -5.026e-01  6.981e-02  6.407e-02  1.349e-01  4.600e-02\n",
      "  -9.668e-02 -3.953e-02 -5.507e-03  3.317e-02 -5.764e-03 -2.063e-02\n",
      "  -2.263e-01 -2.512e-01 -4.640e-02  1.441e-03  3.631e-02  7.284e-02\n",
      "  -1.290e-01 -1.378e-01 -1.209e-02 -5.779e-02 -5.134e-02 -4.523e-01]]\n"
     ]
    }
   ],
   "source": [
    "# Standardize\n",
    "scaler = StandardScaler().fit(X)\n",
    "rescaledX = scaler.transform(X)\n",
    "# summarize transformed data\n",
    "set_printoptions(precision=3)\n",
    "print(rescaledX[0:5,:])"
   ]
  },
  {
   "cell_type": "code",
   "execution_count": 187,
   "metadata": {},
   "outputs": [],
   "source": [
    "# Normalize\n",
    "# scaler = Normalizer().fit(X)\n",
    "# normalizedX = scaler.transform(X)\n",
    "# # summarize transformed data\n",
    "# set_printoptions(precision=3)\n",
    "# print(normalizedX[0:5,:])"
   ]
  },
  {
   "cell_type": "code",
   "execution_count": 188,
   "metadata": {},
   "outputs": [],
   "source": [
    "# Binarize\n",
    "# binarizer = Binarizer(threshold=0.0).fit(X)\n",
    "# binaryX = binarizer.transform(X)\n",
    "# # summarize transformed data\n",
    "# set_printoptions(precision=3)\n",
    "# print(binaryX[0:5,:])"
   ]
  },
  {
   "cell_type": "code",
   "execution_count": 189,
   "metadata": {},
   "outputs": [],
   "source": [
    "X = rescaledX"
   ]
  },
  {
   "cell_type": "markdown",
   "metadata": {},
   "source": [
    "# Classification algorithms"
   ]
  },
  {
   "cell_type": "code",
   "execution_count": 190,
   "metadata": {},
   "outputs": [],
   "source": [
    "# Classification: Logisitc, LDA, k-nearest neighbors, Naive bayes, classification and regression trees, & SVM"
   ]
  },
  {
   "cell_type": "code",
   "execution_count": 191,
   "metadata": {
    "scrolled": true
   },
   "outputs": [
    {
     "name": "stdout",
     "output_type": "stream",
     "text": [
      "LR: 0.624575 (0.135651)\n",
      "LDA: 0.624575 (0.138047)\n",
      "KNN: 0.560927 (0.105438)\n",
      "CART: 0.573257 (0.137388)\n",
      "NB: 0.381633 (0.121413)\n",
      "SVM: 0.622406 (0.144494)\n"
     ]
    }
   ],
   "source": [
    "models = []\n",
    "models.append(('LR', LogisticRegression()))\n",
    "models.append(('LDA', LinearDiscriminantAnalysis()))\n",
    "models.append(('KNN', KNeighborsClassifier()))\n",
    "models.append(('CART', DecisionTreeClassifier()))\n",
    "models.append(('NB', GaussianNB()))\n",
    "models.append(('SVM', SVC()))\n",
    "# evaluate each model in turn\n",
    "results = []\n",
    "names = []\n",
    "scoring = 'accuracy'\n",
    "best = -np.inf\n",
    "best_model = None\n",
    "for name, model in models:\n",
    "    kfold = KFold(n_splits=10, random_state=7)\n",
    "    cv_results = cross_val_score(model, X, Y, cv=kfold, scoring=scoring)\n",
    "    results.append(cv_results)\n",
    "    names.append(name)\n",
    "    if cv_results.mean() > best:\n",
    "        best = cv_results.mean()\n",
    "        best_model = model\n",
    "    msg = \"%s: %f (%f)\" % (name, cv_results.mean(), cv_results.std())\n",
    "    print(msg)"
   ]
  },
  {
   "cell_type": "code",
   "execution_count": 192,
   "metadata": {},
   "outputs": [
    {
     "data": {
      "text/plain": [
       "0.6245748299319728"
      ]
     },
     "execution_count": 192,
     "metadata": {},
     "output_type": "execute_result"
    }
   ],
   "source": [
    "best"
   ]
  },
  {
   "cell_type": "code",
   "execution_count": 193,
   "metadata": {},
   "outputs": [
    {
     "data": {
      "image/png": "[encoded data removed]",
      "text/plain": [
       "<Figure size 432x288 with 1 Axes>"
      ]
     },
     "metadata": {},
     "output_type": "display_data"
    }
   ],
   "source": [
    "# boxplot algorithm comparison\n",
    "fig = pyplot.figure()\n",
    "fig.suptitle('Algorithm Comparison')\n",
    "ax = fig.add_subplot(111)\n",
    "pyplot.boxplot(results)\n",
    "ax.set_xticklabels(names)\n",
    "pyplot.show()"
   ]
  },
  {
   "cell_type": "markdown",
   "metadata": {},
   "source": [
    "# Improve performance with Ensemble models"
   ]
  },
  {
   "cell_type": "code",
   "execution_count": 194,
   "metadata": {},
   "outputs": [],
   "source": [
    "# bagging (bag decision trees, random forest, extra trees), boosting (adaBoost, gradient), voting (combine multiple)"
   ]
  },
  {
   "cell_type": "code",
   "execution_count": 195,
   "metadata": {},
   "outputs": [
    {
     "name": "stdout",
     "output_type": "stream",
     "text": [
      "0.622534013605442\n"
     ]
    }
   ],
   "source": [
    "# Bagged decision trees\n",
    "seed = 7\n",
    "kfold = KFold(n_splits=10, random_state=seed)\n",
    "cart = best_model\n",
    "num_trees = 100\n",
    "model = BaggingClassifier(base_estimator=cart, n_estimators=num_trees, random_state=seed)\n",
    "results = cross_val_score(model, X, Y, cv=kfold)\n",
    "print(results.mean())"
   ]
  },
  {
   "cell_type": "code",
   "execution_count": 196,
   "metadata": {},
   "outputs": [
    {
     "name": "stdout",
     "output_type": "stream",
     "text": [
      "0.6224489795918366\n"
     ]
    }
   ],
   "source": [
    "# Random forest\n",
    "num_trees = 100\n",
    "max_features = 3\n",
    "kfold = KFold(n_splits=10, random_state=7)\n",
    "model = RandomForestClassifier(n_estimators=num_trees, max_features=max_features)\n",
    "results = cross_val_score(model, X, Y, cv=kfold)\n",
    "print(results.mean())"
   ]
  },
  {
   "cell_type": "code",
   "execution_count": 197,
   "metadata": {},
   "outputs": [
    {
     "name": "stdout",
     "output_type": "stream",
     "text": [
      "0.6164115646258504\n"
     ]
    }
   ],
   "source": [
    "# Extra trees\n",
    "num_trees = 100\n",
    "max_features = 7\n",
    "kfold = KFold(n_splits=10, random_state=7)\n",
    "model = ExtraTreesClassifier(n_estimators=num_trees, max_features=max_features)\n",
    "results = cross_val_score(model, X, Y, cv=kfold)\n",
    "print(results.mean())"
   ]
  },
  {
   "cell_type": "code",
   "execution_count": 198,
   "metadata": {},
   "outputs": [
    {
     "name": "stdout",
     "output_type": "stream",
     "text": [
      "0.5550170068027211\n"
     ]
    }
   ],
   "source": [
    "# AdaBoost\n",
    "num_trees = 30\n",
    "seed=7\n",
    "kfold = KFold(n_splits=10, random_state=seed)\n",
    "model = AdaBoostClassifier(n_estimators=num_trees, random_state=seed)\n",
    "results = cross_val_score(model, X, Y, cv=kfold)\n",
    "print(results.mean())"
   ]
  },
  {
   "cell_type": "code",
   "execution_count": 199,
   "metadata": {},
   "outputs": [
    {
     "name": "stdout",
     "output_type": "stream",
     "text": [
      "0.6202806122448979\n"
     ]
    }
   ],
   "source": [
    "# Stochastic gradient\n",
    "seed = 7\n",
    "num_trees = 100\n",
    "kfold = KFold(n_splits=10, random_state=seed)\n",
    "model = GradientBoostingClassifier(n_estimators=num_trees, random_state=seed)\n",
    "results = cross_val_score(model, X, Y, cv=kfold)\n",
    "print(results.mean())"
   ]
  },
  {
   "cell_type": "code",
   "execution_count": 200,
   "metadata": {},
   "outputs": [
    {
     "name": "stdout",
     "output_type": "stream",
     "text": [
      "0.6142857142857142\n"
     ]
    }
   ],
   "source": [
    "# Voting\n",
    "kfold = KFold(n_splits=10, random_state=7)\n",
    "# create the sub models\n",
    "estimators = []\n",
    "model1 = LogisticRegression()\n",
    "estimators.append(('logistic', model1))\n",
    "model2 = GaussianNB()\n",
    "estimators.append(('cart', model2))\n",
    "model3 = SVC()\n",
    "estimators.append(('svm', model3))\n",
    "# create the ensemble model\n",
    "ensemble = VotingClassifier(estimators)\n",
    "results = cross_val_score(ensemble, X, Y, cv=kfold)\n",
    "print(results.mean())"
   ]
  },
  {
   "cell_type": "markdown",
   "metadata": {},
   "source": [
    "# Improve performance with Algorithm tunning"
   ]
  },
  {
   "cell_type": "code",
   "execution_count": 201,
   "metadata": {},
   "outputs": [],
   "source": [
    "# Using grid search and random search"
   ]
  },
  {
   "cell_type": "code",
   "execution_count": 202,
   "metadata": {},
   "outputs": [],
   "source": [
    "# param_grid = {\n",
    "#     'base_estimator__max_depth' : [1, 2, 3, 4, 5],\n",
    "#     'max_samples' : [0.05, 0.1, 0.2, 0.5]\n",
    "# }\n",
    "\n",
    "# clf = GridSearchCV(BaggingClassifier(DecisionTreeClassifier(),\n",
    "#                                      n_estimators = 100, max_features = 0.5),\n",
    "#                    param_grid, scoring = 'accuracy')\n",
    "# clf.fit(X_train, Y_train)"
   ]
  },
  {
   "cell_type": "code",
   "execution_count": 203,
   "metadata": {},
   "outputs": [],
   "source": [
    "# # Grid Search for Algorithm Tuning\n",
    "# alphas = numpy.array([1,0.1,0.01,0.001,0.0001,0])\n",
    "# param_grid = dict(alpha=alphas)\n",
    "# model = Ridge()\n",
    "# grid = GridSearchCV(estimator=model, param_grid=param_grid)\n",
    "# grid.fit(X, Y)\n",
    "# print(grid.best_score_)\n",
    "# print(grid.best_estimator_.alpha)"
   ]
  },
  {
   "cell_type": "markdown",
   "metadata": {},
   "source": [
    "# Save, load and score"
   ]
  },
  {
   "cell_type": "code",
   "execution_count": 204,
   "metadata": {
    "scrolled": true
   },
   "outputs": [
    {
     "name": "stdout",
     "output_type": "stream",
     "text": [
      "0.6721311475409836\n"
     ]
    }
   ],
   "source": [
    "model = best_model\n",
    "model.fit(X_train, Y_train)\n",
    "\n",
    "# save the model to disk\n",
    "filename = 'finalized_model.sav'\n",
    "dump(model, open(filename, 'wb'))\n",
    "\n",
    "# load the model from disk and score\n",
    "loaded_model = load(open(filename, 'rb'))\n",
    "result = loaded_model.score(X_test, Y_test)\n",
    "print(result)"
   ]
  },
  {
   "cell_type": "markdown",
   "metadata": {},
   "source": [
    "# Predictions"
   ]
  },
  {
   "cell_type": "code",
   "execution_count": 205,
   "metadata": {},
   "outputs": [],
   "source": [
    "# Make predictions from the x test dataset\n",
    "predictions = loaded_model.predict(X_test)"
   ]
  },
  {
   "cell_type": "code",
   "execution_count": 206,
   "metadata": {},
   "outputs": [
    {
     "data": {
      "text/plain": [
       "array([1., 1., 0., 1., 1., 0., 1., 1., 1., 1., 1., 0., 1., 1., 1., 0., 1.,\n",
       "       1., 1., 1., 1., 1., 1., 1., 1., 1., 1., 1., 1., 1., 1., 1., 1., 1.,\n",
       "       1., 1., 0., 1., 1., 1., 1., 1., 1., 1., 1., 1., 1., 1., 1., 1., 1.,\n",
       "       1., 1., 1., 1., 1., 1., 1., 1., 1., 1.])"
      ]
     },
     "execution_count": 206,
     "metadata": {},
     "output_type": "execute_result"
    }
   ],
   "source": [
    "predictions"
   ]
  },
  {
   "cell_type": "code",
   "execution_count": 207,
   "metadata": {},
   "outputs": [
    {
     "data": {
      "text/plain": [
       "61"
      ]
     },
     "execution_count": 207,
     "metadata": {},
     "output_type": "execute_result"
    }
   ],
   "source": [
    "len(predictions)"
   ]
  },
  {
   "cell_type": "code",
   "execution_count": 208,
   "metadata": {},
   "outputs": [
    {
     "name": "stdout",
     "output_type": "stream",
     "text": [
      "Classification Report\n",
      "              precision    recall  f1-score   support\n",
      "\n",
      "         0.0       0.40      0.11      0.17        19\n",
      "         1.0       0.70      0.93      0.80        42\n",
      "\n",
      "    accuracy                           0.67        61\n",
      "   macro avg       0.55      0.52      0.48        61\n",
      "weighted avg       0.60      0.67      0.60        61\n",
      "\n"
     ]
    }
   ],
   "source": [
    "# Print the classification report\n",
    "results = (classification_report(Y_test, predictions))\n",
    "print(\"Classification Report\")\n",
    "print(results)"
   ]
  },
  {
   "cell_type": "code",
   "execution_count": 212,
   "metadata": {},
   "outputs": [],
   "source": [
    "# Calculating the confusion matrix\n",
    "cm = confusion_matrix(Y_test, predictions)\n",
    "cm_df = pd.DataFrame(\n",
    "    cm, index=[\"Actual 0\", \"Actual 1\"], columns=[\"Predicted 0\", \"Predicted 1\"]\n",
    ")\n",
    "\n",
    "# Calculating the accuracy score\n",
    "acc_score = round(accuracy_score(Y_test, predictions),2)*100"
   ]
  },
  {
   "cell_type": "code",
   "execution_count": 210,
   "metadata": {},
   "outputs": [
    {
     "data": {
      "text/html": [
       "<div>\n",
       "<style scoped>\n",
       "    .dataframe tbody tr th:only-of-type {\n",
       "        vertical-align: middle;\n",
       "    }\n",
       "\n",
       "    .dataframe tbody tr th {\n",
       "        vertical-align: top;\n",
       "    }\n",
       "\n",
       "    .dataframe thead th {\n",
       "        text-align: right;\n",
       "    }\n",
       "</style>\n",
       "<table border=\"1\" class=\"dataframe\">\n",
       "  <thead>\n",
       "    <tr style=\"text-align: right;\">\n",
       "      <th></th>\n",
       "      <th>Predicted 0</th>\n",
       "      <th>Predicted 1</th>\n",
       "    </tr>\n",
       "  </thead>\n",
       "  <tbody>\n",
       "    <tr>\n",
       "      <td>Actual 0</td>\n",
       "      <td>2</td>\n",
       "      <td>17</td>\n",
       "    </tr>\n",
       "    <tr>\n",
       "      <td>Actual 1</td>\n",
       "      <td>3</td>\n",
       "      <td>39</td>\n",
       "    </tr>\n",
       "  </tbody>\n",
       "</table>\n",
       "</div>"
      ],
      "text/plain": [
       "          Predicted 0  Predicted 1\n",
       "Actual 0            2           17\n",
       "Actual 1            3           39"
      ]
     },
     "execution_count": 210,
     "metadata": {},
     "output_type": "execute_result"
    }
   ],
   "source": [
    "cm_df"
   ]
  },
  {
   "cell_type": "code",
   "execution_count": 214,
   "metadata": {},
   "outputs": [
    {
     "name": "stdout",
     "output_type": "stream",
     "text": [
      "Accuracy Score: 67.0%\n"
     ]
    }
   ],
   "source": [
    "print(f\"Accuracy Score: {acc_score}%\")"
   ]
  },
  {
   "cell_type": "code",
   "execution_count": null,
   "metadata": {},
   "outputs": [],
   "source": []
  }
 ],
 "metadata": {
  "kernelspec": {
   "display_name": "Python 3",
   "language": "python",
   "name": "python3"
  },
  "language_info": {
   "codemirror_mode": {
    "name": "ipython",
    "version": 3
   },
   "file_extension": ".py",
   "mimetype": "text/x-python",
   "name": "python",
   "nbconvert_exporter": "python",
   "pygments_lexer": "ipython3",
   "version": "3.7.3"
  }
 },
 "nbformat": 4,
 "nbformat_minor": 4
}
