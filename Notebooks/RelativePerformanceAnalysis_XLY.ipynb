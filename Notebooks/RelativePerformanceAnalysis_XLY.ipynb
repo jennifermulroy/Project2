{
 "cells": [
  {
   "cell_type": "markdown",
   "metadata": {},
   "source": [
    "## Consumer Discretionary Stock Selection Portfolio vs Sector (XLY ETF)"
   ]
  },
  {
   "cell_type": "code",
   "execution_count": 22,
   "metadata": {},
   "outputs": [],
   "source": [
    "from yahoofinancials import YahooFinancials\n",
    "import numpy as np\n",
    "import datetime\n",
    "import hvplot.pandas\n",
    "from pathlib import Path\n",
    "from pandas_datareader import data as pdr\n",
    "import pandas as pd\n",
    "\n",
    "import matplotlib \n",
    "%matplotlib inline\n",
    "\n"
   ]
  },
  {
   "cell_type": "code",
   "execution_count": 24,
   "metadata": {},
   "outputs": [],
   "source": [
    "start_sp = datetime.datetime(2018, 12, 31)\n",
    "end_sp = datetime.datetime(2019, 12, 31)\n",
    "\n",
    "ticker_symbols_list = ['AMZN','HD','MCD','SBUX','BKNG','TJX','TGT','ROST','F','ORLY','YUM','AZO','EBAY',\n",
    "'APTV','RCL','CMG','LVS','DHI','CCL','GPC','TIF','DRI','EXPE','ULTA','HAS','NVR','NCLH','TSCO',\n",
    "'AAP','LKQ','MHK','TPR','PVH','LEG','CPRI','RL']\n",
    "\n",
    "close_price_df = pdr.get_data_yahoo(ticker_symbols_list, start_sp, end_sp)['Close']\n",
    "XLY_price_df = pdr.get_data_yahoo('XLY', start_sp, end_sp)['Close']\n",
    "\n",
    "multpl_stock_returns = close_price_df.pct_change()\n",
    "XLY_returns = pd.DataFrame(XLY_price_df).pct_change()\n",
    "\n"
   ]
  },
  {
   "cell_type": "code",
   "execution_count": 26,
   "metadata": {},
   "outputs": [
    {
     "data": {
      "text/html": [
       "<div>\n",
       "<style scoped>\n",
       "    .dataframe tbody tr th:only-of-type {\n",
       "        vertical-align: middle;\n",
       "    }\n",
       "\n",
       "    .dataframe tbody tr th {\n",
       "        vertical-align: top;\n",
       "    }\n",
       "\n",
       "    .dataframe thead th {\n",
       "        text-align: right;\n",
       "    }\n",
       "</style>\n",
       "<table border=\"1\" class=\"dataframe\">\n",
       "  <thead>\n",
       "    <tr style=\"text-align: right;\">\n",
       "      <th></th>\n",
       "      <th>Portfolio_Returns</th>\n",
       "    </tr>\n",
       "    <tr>\n",
       "      <th>Date</th>\n",
       "      <th></th>\n",
       "    </tr>\n",
       "  </thead>\n",
       "  <tbody>\n",
       "    <tr>\n",
       "      <td>2018-12-31</td>\n",
       "      <td>NaN</td>\n",
       "    </tr>\n",
       "    <tr>\n",
       "      <td>2019-01-02</td>\n",
       "      <td>0.006459</td>\n",
       "    </tr>\n",
       "    <tr>\n",
       "      <td>2019-01-03</td>\n",
       "      <td>-0.021486</td>\n",
       "    </tr>\n",
       "    <tr>\n",
       "      <td>2019-01-04</td>\n",
       "      <td>0.031853</td>\n",
       "    </tr>\n",
       "    <tr>\n",
       "      <td>2019-01-07</td>\n",
       "      <td>0.021070</td>\n",
       "    </tr>\n",
       "  </tbody>\n",
       "</table>\n",
       "</div>"
      ],
      "text/plain": [
       "            Portfolio_Returns\n",
       "Date                         \n",
       "2018-12-31                NaN\n",
       "2019-01-02           0.006459\n",
       "2019-01-03          -0.021486\n",
       "2019-01-04           0.031853\n",
       "2019-01-07           0.021070"
      ]
     },
     "execution_count": 26,
     "metadata": {},
     "output_type": "execute_result"
    }
   ],
   "source": [
    "multpl_stock_returns.head()\n",
    "# Set weights, use the `dot` function to multiply each weight by the corresponding stock daily return\n",
    "weights = [0.028,0.028,0.028,0.028,0.028,0.028,0.028,0.028,0.028,0.028,0.028,0.028,0.028,0.028,0.028,0.028,0.028,0.028,0.028,0.028,0.028,0.028,0.028,0.028,0.028,0.028,0.028,0.028,0.028,0.028,0.028,0.028,0.028,0.028,0.028,0.028]\n",
    "portfolio_returns =  multpl_stock_returns.dot(weights)\n",
    "portfolio_returns = pd.DataFrame(portfolio_returns)\n",
    "portfolio_returns = portfolio_returns.rename(columns={0:\"Portfolio_Returns\"}) \n",
    "portfolio_returns.head()\n"
   ]
  },
  {
   "cell_type": "code",
   "execution_count": 27,
   "metadata": {},
   "outputs": [
    {
     "data": {
      "text/html": [
       "<div>\n",
       "<style scoped>\n",
       "    .dataframe tbody tr th:only-of-type {\n",
       "        vertical-align: middle;\n",
       "    }\n",
       "\n",
       "    .dataframe tbody tr th {\n",
       "        vertical-align: top;\n",
       "    }\n",
       "\n",
       "    .dataframe thead th {\n",
       "        text-align: right;\n",
       "    }\n",
       "</style>\n",
       "<table border=\"1\" class=\"dataframe\">\n",
       "  <thead>\n",
       "    <tr style=\"text-align: right;\">\n",
       "      <th></th>\n",
       "      <th>XLY_Returns</th>\n",
       "    </tr>\n",
       "    <tr>\n",
       "      <th>Date</th>\n",
       "      <th></th>\n",
       "    </tr>\n",
       "  </thead>\n",
       "  <tbody>\n",
       "    <tr>\n",
       "      <td>2018-12-31</td>\n",
       "      <td>NaN</td>\n",
       "    </tr>\n",
       "    <tr>\n",
       "      <td>2019-01-02</td>\n",
       "      <td>0.007575</td>\n",
       "    </tr>\n",
       "    <tr>\n",
       "      <td>2019-01-03</td>\n",
       "      <td>-0.021652</td>\n",
       "    </tr>\n",
       "    <tr>\n",
       "      <td>2019-01-04</td>\n",
       "      <td>0.033094</td>\n",
       "    </tr>\n",
       "    <tr>\n",
       "      <td>2019-01-07</td>\n",
       "      <td>0.022612</td>\n",
       "    </tr>\n",
       "  </tbody>\n",
       "</table>\n",
       "</div>"
      ],
      "text/plain": [
       "            XLY_Returns\n",
       "Date                   \n",
       "2018-12-31          NaN\n",
       "2019-01-02     0.007575\n",
       "2019-01-03    -0.021652\n",
       "2019-01-04     0.033094\n",
       "2019-01-07     0.022612"
      ]
     },
     "execution_count": 27,
     "metadata": {},
     "output_type": "execute_result"
    }
   ],
   "source": [
    "XLY_df = XLY_returns.rename(columns={'Close':\"XLY_Returns\"}) \n",
    "XLY_df.head()"
   ]
  },
  {
   "cell_type": "code",
   "execution_count": 28,
   "metadata": {},
   "outputs": [
    {
     "name": "stdout",
     "output_type": "stream",
     "text": [
      "Date\n",
      "2019-12-31    0.288024\n",
      "Freq: A-DEC, dtype: float64\n",
      "Date\n",
      "2019-12-31    0.258812\n",
      "Freq: A-DEC, Name: Close, dtype: float64\n"
     ]
    }
   ],
   "source": [
    "stock_returns = close_price_df.resample('Y').ffill().pct_change().dropna()\n",
    "XLY_return = XLY_price_df.resample('Y').ffill().pct_change().dropna()\n",
    "\n",
    "weights = [0.028,0.028,0.028,0.028,0.028,0.028,0.028,0.028,0.028,0.028,0.028,0.028,0.028,0.028,0.028,0.028,0.028,0.028,0.028,0.028,0.028,0.028,0.028,0.028,0.028,0.028,0.028,0.028,0.028,0.028,0.028,0.028,0.028,0.028,0.028,0.028]\n",
    "portfolio_return =  stock_returns.dot(weights)\n",
    "print(portfolio_return)\n",
    "print(XLY_return)"
   ]
  },
  {
   "cell_type": "code",
   "execution_count": 29,
   "metadata": {},
   "outputs": [
    {
     "data": {
      "text/html": [
       "<div>\n",
       "<style scoped>\n",
       "    .dataframe tbody tr th:only-of-type {\n",
       "        vertical-align: middle;\n",
       "    }\n",
       "\n",
       "    .dataframe tbody tr th {\n",
       "        vertical-align: top;\n",
       "    }\n",
       "\n",
       "    .dataframe thead th {\n",
       "        text-align: right;\n",
       "    }\n",
       "</style>\n",
       "<table border=\"1\" class=\"dataframe\">\n",
       "  <thead>\n",
       "    <tr style=\"text-align: right;\">\n",
       "      <th></th>\n",
       "      <th>Portfolio_Returns</th>\n",
       "      <th>XLY_Returns</th>\n",
       "      <th>Active_Return</th>\n",
       "    </tr>\n",
       "    <tr>\n",
       "      <th>Date</th>\n",
       "      <th></th>\n",
       "      <th></th>\n",
       "      <th></th>\n",
       "    </tr>\n",
       "  </thead>\n",
       "  <tbody>\n",
       "    <tr>\n",
       "      <td>2019-01-02</td>\n",
       "      <td>0.006459</td>\n",
       "      <td>0.007575</td>\n",
       "      <td>-0.001116</td>\n",
       "    </tr>\n",
       "    <tr>\n",
       "      <td>2019-01-03</td>\n",
       "      <td>-0.021486</td>\n",
       "      <td>-0.021652</td>\n",
       "      <td>0.000166</td>\n",
       "    </tr>\n",
       "    <tr>\n",
       "      <td>2019-01-04</td>\n",
       "      <td>0.031853</td>\n",
       "      <td>0.033094</td>\n",
       "      <td>-0.001241</td>\n",
       "    </tr>\n",
       "    <tr>\n",
       "      <td>2019-01-07</td>\n",
       "      <td>0.021070</td>\n",
       "      <td>0.022612</td>\n",
       "      <td>-0.001542</td>\n",
       "    </tr>\n",
       "    <tr>\n",
       "      <td>2019-01-08</td>\n",
       "      <td>0.012580</td>\n",
       "      <td>0.011056</td>\n",
       "      <td>0.001523</td>\n",
       "    </tr>\n",
       "  </tbody>\n",
       "</table>\n",
       "</div>"
      ],
      "text/plain": [
       "            Portfolio_Returns  XLY_Returns  Active_Return\n",
       "Date                                                     \n",
       "2019-01-02           0.006459     0.007575      -0.001116\n",
       "2019-01-03          -0.021486    -0.021652       0.000166\n",
       "2019-01-04           0.031853     0.033094      -0.001241\n",
       "2019-01-07           0.021070     0.022612      -0.001542\n",
       "2019-01-08           0.012580     0.011056       0.001523"
      ]
     },
     "execution_count": 29,
     "metadata": {},
     "output_type": "execute_result"
    }
   ],
   "source": [
    "combined_df = pd.concat([portfolio_returns, XLY_df],axis='columns', join='inner')\n",
    "combined_df['Active_Return']=combined_df['Portfolio_Returns'] - combined_df['XLY_Returns']\n",
    "combined_df = combined_df.dropna()\n",
    "combined_df.head()"
   ]
  },
  {
   "cell_type": "markdown",
   "metadata": {},
   "source": [
    "### Calculating `tracking error` "
   ]
  },
  {
   "cell_type": "code",
   "execution_count": 30,
   "metadata": {},
   "outputs": [
    {
     "name": "stdout",
     "output_type": "stream",
     "text": [
      "Tracking Error: 0.36%\n"
     ]
    }
   ],
   "source": [
    "active_list = combined_df['Active_Return']\n",
    "temp_ = []\n",
    "count = 0 \n",
    "\n",
    "for i in range(len(active_list)):\n",
    "    x = active_list[i]**2\n",
    "    active_return = i \n",
    "    temp_.append(x)\n",
    "    count = 0 + i \n",
    "tracking_error = round(np.sqrt(sum(temp_)/(count-1))*100,2)\n",
    "print(f\"Tracking Error: {tracking_error}%\")\n",
    "\n",
    "#information_ratio = round((combined_df['Active_Return'].mean() * 252) / (tracking_error),2)\n",
    "#print(f\"Information Ratio: {information_ratio}\")"
   ]
  },
  {
   "cell_type": "code",
   "execution_count": 31,
   "metadata": {},
   "outputs": [
    {
     "name": "stdout",
     "output_type": "stream",
     "text": [
      "Portfolio YTD return: 30.4%\n",
      "XLY YTD return: 25.88%\n"
     ]
    }
   ],
   "source": [
    "portfolio_cumulative_returns = (1+combined_df['Portfolio_Returns']).cumprod()\n",
    "XLY_cumulative_returns = (1+combined_df['XLY_Returns']).cumprod()\n",
    "port_return = round((portfolio_cumulative_returns[-1]-1)*100,2)\n",
    "XLY_return = round((XLY_cumulative_returns[-1]-1)*100,2)\n",
    "\n",
    "print(f'Portfolio YTD return: {port_return}%')\n",
    "print(f'XLY YTD return: {XLY_return}%')"
   ]
  },
  {
   "cell_type": "code",
   "execution_count": 32,
   "metadata": {},
   "outputs": [
    {
     "name": "stdout",
     "output_type": "stream",
     "text": [
      "Consumer Discretionary Portfolio Relative Performance YTD: 4.52%\n"
     ]
    },
    {
     "data": {
      "text/plain": [
       "<matplotlib.axes._subplots.AxesSubplot at 0x12c24fbc2e8>"
      ]
     },
     "execution_count": 32,
     "metadata": {},
     "output_type": "execute_result"
    },
    {
     "data": {
      "image/png": "[encoded data removed]",
      "text/plain": [
       "<Figure size 432x288 with 1 Axes>"
      ]
     },
     "metadata": {
      "needs_background": "light"
     },
     "output_type": "display_data"
    }
   ],
   "source": [
    "active_cumulative_returns = ((1+combined_df['Active_Return']).cumprod()-1)*100\n",
    "performance = round(port_return - XLY_return, 2)\n",
    "print(f\"Consumer Discretionary Portfolio Relative Performance YTD: {performance}%\")\n",
    "mc = active_cumulative_returns.plot(title='Consumer Discretionary Portfolio Relative Performance')\n",
    "mc"
   ]
  },
  {
   "cell_type": "code",
   "execution_count": 33,
   "metadata": {},
   "outputs": [
    {
     "data": {
      "text/plain": [
       "<matplotlib.axes._subplots.AxesSubplot at 0x12c259efe48>"
      ]
     },
     "execution_count": 33,
     "metadata": {},
     "output_type": "execute_result"
    },
    {
     "data": {
      "image/png": "[encoded data removed]",
      "text/plain": [
       "<Figure size 432x288 with 1 Axes>"
      ]
     },
     "metadata": {
      "needs_background": "light"
     },
     "output_type": "display_data"
    }
   ],
   "source": [
    "# Plot the returns of the portfolio in terms of money\n",
    "initial_investment = 10000\n",
    "portfolio_cumulative_profit = initial_investment * portfolio_cumulative_returns\n",
    "XLY_cumulative_profit = initial_investment * XLY_cumulative_returns\n",
    "\n",
    "XLY_cumulative_profit.plot(title='Portfolio and XLY Value', legend=True)\n",
    "portfolio_cumulative_profit.plot(title='Portfolio and XLY Value', legend=True)\n"
   ]
  },
  {
   "cell_type": "code",
   "execution_count": 14,
   "metadata": {},
   "outputs": [
    {
     "data": {
      "text/plain": [
       "<matplotlib.axes._subplots.AxesSubplot at 0x12c25239208>"
      ]
     },
     "execution_count": 14,
     "metadata": {},
     "output_type": "execute_result"
    },
    {
     "data": {
      "image/png": "[encoded data removed]",
      "text/plain": [
       "<Figure size 432x288 with 1 Axes>"
      ]
     },
     "metadata": {
      "needs_background": "light"
     },
     "output_type": "display_data"
    }
   ],
   "source": [
    "    rolling_covariance_port =  combined_df[\"Portfolio_Returns\"].rolling(window=60).cov(combined_df[\"XLY_Returns\"])\n",
    "    rolling_variance =  combined_df[\"XLY_Returns\"].rolling(window=60).var()\n",
    "    rolling_portfolio_beta = rolling_covariance_port / rolling_variance\n",
    "    mc = rolling_portfolio_beta.plot(x='Date', y='0', title='Rolling 60-Day Beta vs XLY ETF')\n",
    "    mc"
   ]
  },
  {
   "cell_type": "code",
   "execution_count": 15,
   "metadata": {},
   "outputs": [],
   "source": [
    "import math\n",
    "import numpy\n",
    "import numpy.random as nrand\n",
    "\n",
    "port_returns = portfolio_returns['Portfolio_Returns']\n",
    "\n",
    "def prices(returns, base):\n",
    "    # Converts returns into prices\n",
    "    s = [base]\n",
    "    for i in range(len(returns)):\n",
    "        s.append(base * (1 + returns[i]))\n",
    "    return numpy.array(s)\n",
    "\n",
    "def dd(returns, tau):\n",
    "    # Returns the draw-down given time period tau\n",
    "    values = prices(returns, 100)\n",
    "    pos = len(values) - 1\n",
    "    pre = pos - tau\n",
    "    drawdown = float('+inf')\n",
    "    # Find the maximum drawdown given tau\n",
    "    while pre >= 0:\n",
    "        dd_i = (values[pos] / values[pre]) - 1\n",
    "        if dd_i < drawdown:\n",
    "            drawdown = dd_i\n",
    "        pos, pre = pos - 1, pre - 1\n",
    "    # Drawdown should be positive\n",
    "    return abs(drawdown)\n",
    "\n",
    "\n",
    "def max_dd(returns):\n",
    "    # Returns the maximum draw-down for any tau in (0, T) where T is the length of the return series\n",
    "    max_drawdown = float('-inf')\n",
    "    for i in range(0, len(returns)):\n",
    "        drawdown_i = dd(returns, i)\n",
    "        if drawdown_i > max_drawdown:\n",
    "            max_drawdown = drawdown_i\n",
    "    # Max draw-down should be positive\n",
    "    return abs(max_drawdown)"
   ]
  },
  {
   "cell_type": "code",
   "execution_count": 16,
   "metadata": {},
   "outputs": [
    {
     "name": "stdout",
     "output_type": "stream",
     "text": [
      "Maximum Drawdown: 7.0%\n"
     ]
    }
   ],
   "source": [
    "max_drawdown = round(max_dd(port_returns)*100,2)\n",
    "print(f\"Maximum Drawdown: {max_drawdown}%\")"
   ]
  },
  {
   "cell_type": "code",
   "execution_count": null,
   "metadata": {},
   "outputs": [],
   "source": []
  }
 ],
 "metadata": {
  "kernelspec": {
   "display_name": "Python 3",
   "language": "python",
   "name": "python3"
  },
  "language_info": {
   "codemirror_mode": {
    "name": "ipython",
    "version": 3
   },
   "file_extension": ".py",
   "mimetype": "text/x-python",
   "name": "python",
   "nbconvert_exporter": "python",
   "pygments_lexer": "ipython3",
   "version": "3.7.3"
  }
 },
 "nbformat": 4,
 "nbformat_minor": 4
}
